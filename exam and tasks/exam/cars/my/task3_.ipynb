{
 "cells": [
  {
   "cell_type": "code",
   "execution_count": 21,
   "metadata": {},
   "outputs": [],
   "source": [
    "import pandas as pd\n",
    "import matplotlib.pyplot as plt\n",
    "import ipywidgets as widgets\n",
    "from IPython.display import display"
   ]
  },
  {
   "cell_type": "code",
   "execution_count": 22,
   "metadata": {},
   "outputs": [],
   "source": [
    "df_cars = pd.read_csv('C:/Users/Anastasiia/Desktop/homework_kvs_python/exam/cars/cars.csv')\n",
    "df_details = pd.read_csv('C:/Users/Anastasiia/Desktop/homework_kvs_python/exam/cars/details.csv')\n",
    "df_operations = pd.read_csv('C:/Users/Anastasiia/Desktop/homework_kvs_python/exam/cars/operations.csv')\n",
    "df_kvit = pd.read_csv('C:/Users/Anastasiia/Desktop/homework_kvs_python/exam/cars/kvitantions.csv')"
   ]
  },
  {
   "cell_type": "code",
   "execution_count": 23,
   "metadata": {},
   "outputs": [],
   "source": [
    "merge_df = pd.merge(df_kvit, df_operations, on='operations_id', how='left')\n",
    "merge_df = pd.merge(merge_df, df_details, left_on='detail', right_on='detail', how='left')\n",
    "merge_df = pd.merge(merge_df, df_cars, on='car_id', how='left')"
   ]
  },
  {
   "cell_type": "code",
   "execution_count": 24,
   "metadata": {},
   "outputs": [
    {
     "data": {
      "text/html": [
       "<div>\n",
       "<style scoped>\n",
       "    .dataframe tbody tr th:only-of-type {\n",
       "        vertical-align: middle;\n",
       "    }\n",
       "\n",
       "    .dataframe tbody tr th {\n",
       "        vertical-align: top;\n",
       "    }\n",
       "\n",
       "    .dataframe thead th {\n",
       "        text-align: right;\n",
       "    }\n",
       "</style>\n",
       "<table border=\"1\" class=\"dataframe\">\n",
       "  <thead>\n",
       "    <tr style=\"text-align: right;\">\n",
       "      <th></th>\n",
       "      <th>car_id</th>\n",
       "      <th>operations_id</th>\n",
       "      <th>num_of_details</th>\n",
       "      <th>name_operation</th>\n",
       "      <th>price_operation</th>\n",
       "      <th>detail</th>\n",
       "      <th>price_detail</th>\n",
       "      <th>brand</th>\n",
       "      <th>date</th>\n",
       "    </tr>\n",
       "  </thead>\n",
       "  <tbody>\n",
       "    <tr>\n",
       "      <th>0</th>\n",
       "      <td>1</td>\n",
       "      <td>1</td>\n",
       "      <td>0</td>\n",
       "      <td>Cleaning</td>\n",
       "      <td>1000</td>\n",
       "      <td>0</td>\n",
       "      <td>0</td>\n",
       "      <td>Brand1</td>\n",
       "      <td>2023-12-12</td>\n",
       "    </tr>\n",
       "    <tr>\n",
       "      <th>1</th>\n",
       "      <td>2</td>\n",
       "      <td>1</td>\n",
       "      <td>0</td>\n",
       "      <td>Cleaning</td>\n",
       "      <td>1000</td>\n",
       "      <td>0</td>\n",
       "      <td>0</td>\n",
       "      <td>Brand2</td>\n",
       "      <td>2023-12-11</td>\n",
       "    </tr>\n",
       "    <tr>\n",
       "      <th>2</th>\n",
       "      <td>2</td>\n",
       "      <td>1</td>\n",
       "      <td>0</td>\n",
       "      <td>Cleaning</td>\n",
       "      <td>1000</td>\n",
       "      <td>0</td>\n",
       "      <td>0</td>\n",
       "      <td>Brand2</td>\n",
       "      <td>2023-12-11</td>\n",
       "    </tr>\n",
       "    <tr>\n",
       "      <th>3</th>\n",
       "      <td>2</td>\n",
       "      <td>2</td>\n",
       "      <td>0</td>\n",
       "      <td>Washing</td>\n",
       "      <td>1200</td>\n",
       "      <td>0</td>\n",
       "      <td>0</td>\n",
       "      <td>Brand2</td>\n",
       "      <td>2023-12-11</td>\n",
       "    </tr>\n",
       "    <tr>\n",
       "      <th>4</th>\n",
       "      <td>3</td>\n",
       "      <td>3</td>\n",
       "      <td>2</td>\n",
       "      <td>Replace_detail</td>\n",
       "      <td>3000</td>\n",
       "      <td>1</td>\n",
       "      <td>12000</td>\n",
       "      <td>Brand3</td>\n",
       "      <td>2023-12-11</td>\n",
       "    </tr>\n",
       "    <tr>\n",
       "      <th>5</th>\n",
       "      <td>4</td>\n",
       "      <td>4</td>\n",
       "      <td>1</td>\n",
       "      <td>Replace_detail</td>\n",
       "      <td>3000</td>\n",
       "      <td>2</td>\n",
       "      <td>13000</td>\n",
       "      <td>Brand1</td>\n",
       "      <td>2023-12-13</td>\n",
       "    </tr>\n",
       "    <tr>\n",
       "      <th>6</th>\n",
       "      <td>5</td>\n",
       "      <td>5</td>\n",
       "      <td>4</td>\n",
       "      <td>Replace_detail</td>\n",
       "      <td>3000</td>\n",
       "      <td>3</td>\n",
       "      <td>25000</td>\n",
       "      <td>Brand3</td>\n",
       "      <td>2023-12-10</td>\n",
       "    </tr>\n",
       "  </tbody>\n",
       "</table>\n",
       "</div>"
      ],
      "text/plain": [
       "   car_id  operations_id  num_of_details  name_operation  price_operation  \\\n",
       "0       1              1               0        Cleaning             1000   \n",
       "1       2              1               0        Cleaning             1000   \n",
       "2       2              1               0        Cleaning             1000   \n",
       "3       2              2               0         Washing             1200   \n",
       "4       3              3               2  Replace_detail             3000   \n",
       "5       4              4               1  Replace_detail             3000   \n",
       "6       5              5               4  Replace_detail             3000   \n",
       "\n",
       "   detail  price_detail   brand        date  \n",
       "0       0             0  Brand1  2023-12-12  \n",
       "1       0             0  Brand2  2023-12-11  \n",
       "2       0             0  Brand2  2023-12-11  \n",
       "3       0             0  Brand2  2023-12-11  \n",
       "4       1         12000  Brand3  2023-12-11  \n",
       "5       2         13000  Brand1  2023-12-13  \n",
       "6       3         25000  Brand3  2023-12-10  "
      ]
     },
     "execution_count": 24,
     "metadata": {},
     "output_type": "execute_result"
    }
   ],
   "source": [
    "merge_df"
   ]
  },
  {
   "cell_type": "code",
   "execution_count": 25,
   "metadata": {},
   "outputs": [],
   "source": [
    "merge_df['date'] = pd.to_datetime(merge_df['date'])"
   ]
  },
  {
   "cell_type": "code",
   "execution_count": 26,
   "metadata": {},
   "outputs": [
    {
     "name": "stdout",
     "output_type": "stream",
     "text": [
      "Загальна вартість за оплату всіх операцій: 150200.00\n"
     ]
    }
   ],
   "source": [
    "total_coast = ((merge_df['price_operation'] + merge_df['price_detail'] * merge_df['num_of_details'])).sum()\n",
    "print(f\"Загальна вартість за оплату всіх операцій: {total_coast:.2f}\")"
   ]
  },
  {
   "cell_type": "code",
   "execution_count": 27,
   "metadata": {},
   "outputs": [
    {
     "data": {
      "text/plain": [
       "name_operation\n",
       "Cleaning          3000\n",
       "Replace_detail    9000\n",
       "Washing           1200\n",
       "Name: price_operation, dtype: int64"
      ]
     },
     "execution_count": 27,
     "metadata": {},
     "output_type": "execute_result"
    }
   ],
   "source": [
    "oplata = merge_df.groupby('name_operation')['price_operation'].sum()\n",
    "\n",
    "oplata.head()"
   ]
  },
  {
   "cell_type": "code",
   "execution_count": 28,
   "metadata": {},
   "outputs": [
    {
     "data": {
      "image/png": "[encoded data removed]",
      "text/plain": [
       "<Figure size 1000x600 with 1 Axes>"
      ]
     },
     "metadata": {},
     "output_type": "display_data"
    }
   ],
   "source": [
    "plt.figure(figsize=(10, 6))\n",
    "oplata.plot(kind='bar', color='red')\n",
    "#oplata.plot(kind='pie', autopct='%1.1f%%', startangle=90, colors=['red', 'green', 'blue', 'yellow'])  # Замінено kind='bar' на kind='pie' КУРГОВА ДІАГРАММА \n",
    "plt.title('Діаграма вартості операцій')\n",
    "plt.title('Діаграма вартості операцій')\n",
    "plt.xlabel('Назва')\n",
    "plt.ylabel('Вартість')\n",
    "\n",
    "plt.show()"
   ]
  },
  {
   "cell_type": "code",
   "execution_count": 29,
   "metadata": {},
   "outputs": [],
   "source": [
    "merge_df['brand'] = merge_df['brand'].fillna('Unknown')"
   ]
  },
  {
   "cell_type": "code",
   "execution_count": 30,
   "metadata": {},
   "outputs": [
    {
     "data": {
      "application/vnd.jupyter.widget-view+json": {
       "model_id": "3e648ea0ce96422484f31d6389ba33f7",
       "version_major": 2,
       "version_minor": 0
      },
      "text/plain": [
       "Dropdown(description='Choose operations', options=('Cleaning', 'Washing', 'Replace_detail'), value='Cleaning')"
      ]
     },
     "metadata": {},
     "output_type": "display_data"
    },
    {
     "data": {
      "application/vnd.jupyter.widget-view+json": {
       "model_id": "3a6b0142d30e4f8f88d3583f06ff1f2b",
       "version_major": 2,
       "version_minor": 0
      },
      "text/plain": [
       "Output()"
      ]
     },
     "metadata": {},
     "output_type": "display_data"
    }
   ],
   "source": [
    "operations_options = list(merge_df['name_operation'].unique())\n",
    "\n",
    "operations_dropdown = widgets.Dropdown(options=operations_options, description='Choose operations')\n",
    "\n",
    "output = widgets.Output()\n",
    "\n",
    "def calculate_cars(selected_operation):\n",
    "    total_cars_df = merge_df.groupby('brand').size().reset_index(name='total_cars')\n",
    "    selected_cars = merge_df[merge_df['name_operation'] == selected_operation]\n",
    "    result_df = pd.merge(selected_cars, total_cars_df, on='brand', how='inner')\n",
    "\n",
    "    result_per_brand = result_df.groupby('brand').size()\n",
    "\n",
    "    with output:\n",
    "        output.clear_output()\n",
    "        print(f'Кількість машин для операції {selected_operation}:\\n{result_per_brand}')\n",
    "\n",
    "widgets.interactive(calculate_cars, selected_operation=operations_dropdown)\n",
    "\n",
    "display(operations_dropdown)\n",
    "display(output)\n"
   ]
  }
 ],
 "metadata": {
  "kernelspec": {
   "display_name": "Python 3",
   "language": "python",
   "name": "python3"
  },
  "language_info": {
   "codemirror_mode": {
    "name": "ipython",
    "version": 3
   },
   "file_extension": ".py",
   "mimetype": "text/x-python",
   "name": "python",
   "nbconvert_exporter": "python",
   "pygments_lexer": "ipython3",
   "version": "3.12.0"
  }
 },
 "nbformat": 4,
 "nbformat_minor": 2
}
