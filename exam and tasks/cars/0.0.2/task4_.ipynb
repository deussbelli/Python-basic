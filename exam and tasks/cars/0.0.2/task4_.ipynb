{
 "cells": [
  {
   "cell_type": "code",
   "execution_count": 381,
   "metadata": {},
   "outputs": [],
   "source": [
    "import pandas as pd\n",
    "import matplotlib.pyplot as plt \n",
    "import ipywidgets as widgets\n",
    "from IPython.display import display "
   ]
  },
  {
   "cell_type": "code",
   "execution_count": 382,
   "metadata": {},
   "outputs": [],
   "source": [
    "cars_df = pd.read_csv('C:/Users/Anastasiia/Desktop/homework_kvs_python/exam/cars/0.0.2/cars.csv')\n",
    "oper1_df = pd.read_csv('C:/Users/Anastasiia/Desktop/homework_kvs_python/exam/cars/0.0.2/operations.csv')\n",
    "oper2_replace_df = pd.read_csv('C:/Users/Anastasiia/Desktop/homework_kvs_python/exam/cars/0.0.2/operations.replace.csv')\n",
    "kvit1_df = pd.read_csv('C:/Users/Anastasiia/Desktop/homework_kvs_python/exam/cars/0.0.2/kvitantions.csv')\n",
    "kvit2_replace_df = pd.read_csv('C:/Users/Anastasiia/Desktop/homework_kvs_python/exam/cars/0.0.2/kvitantion2.csv')\n"
   ]
  },
  {
   "cell_type": "code",
   "execution_count": 383,
   "metadata": {},
   "outputs": [
    {
     "data": {
      "text/html": [
       "<div>\n",
       "<style scoped>\n",
       "    .dataframe tbody tr th:only-of-type {\n",
       "        vertical-align: middle;\n",
       "    }\n",
       "\n",
       "    .dataframe tbody tr th {\n",
       "        vertical-align: top;\n",
       "    }\n",
       "\n",
       "    .dataframe thead th {\n",
       "        text-align: right;\n",
       "    }\n",
       "</style>\n",
       "<table border=\"1\" class=\"dataframe\">\n",
       "  <thead>\n",
       "    <tr style=\"text-align: right;\">\n",
       "      <th></th>\n",
       "      <th>car_id</th>\n",
       "      <th>brand</th>\n",
       "      <th>date_ex</th>\n",
       "      <th>operation_id</th>\n",
       "      <th>name</th>\n",
       "      <th>price</th>\n",
       "    </tr>\n",
       "  </thead>\n",
       "  <tbody>\n",
       "    <tr>\n",
       "      <th>0</th>\n",
       "      <td>1</td>\n",
       "      <td>Mitsubishi</td>\n",
       "      <td>2023-12-01</td>\n",
       "      <td>1</td>\n",
       "      <td>Washing</td>\n",
       "      <td>1000</td>\n",
       "    </tr>\n",
       "    <tr>\n",
       "      <th>1</th>\n",
       "      <td>2</td>\n",
       "      <td>BMV</td>\n",
       "      <td>2023-12-02</td>\n",
       "      <td>2</td>\n",
       "      <td>Cleaning</td>\n",
       "      <td>2000</td>\n",
       "    </tr>\n",
       "    <tr>\n",
       "      <th>2</th>\n",
       "      <td>3</td>\n",
       "      <td>Toyota</td>\n",
       "      <td>2023-12-03</td>\n",
       "      <td>3</td>\n",
       "      <td>Brending</td>\n",
       "      <td>3000</td>\n",
       "    </tr>\n",
       "    <tr>\n",
       "      <th>3</th>\n",
       "      <td>4</td>\n",
       "      <td>Lada</td>\n",
       "      <td>2023-12-04</td>\n",
       "      <td>4</td>\n",
       "      <td>Stulishing</td>\n",
       "      <td>4000</td>\n",
       "    </tr>\n",
       "    <tr>\n",
       "      <th>4</th>\n",
       "      <td>5</td>\n",
       "      <td>Honda</td>\n",
       "      <td>2023-12-05</td>\n",
       "      <td>1</td>\n",
       "      <td>Washing</td>\n",
       "      <td>1000</td>\n",
       "    </tr>\n",
       "  </tbody>\n",
       "</table>\n",
       "</div>"
      ],
      "text/plain": [
       "   car_id       brand     date_ex  operation_id        name  price\n",
       "0       1  Mitsubishi  2023-12-01             1     Washing   1000\n",
       "1       2         BMV  2023-12-02             2    Cleaning   2000\n",
       "2       3      Toyota  2023-12-03             3    Brending   3000\n",
       "3       4        Lada  2023-12-04             4  Stulishing   4000\n",
       "4       5       Honda  2023-12-05             1     Washing   1000"
      ]
     },
     "execution_count": 383,
     "metadata": {},
     "output_type": "execute_result"
    }
   ],
   "source": [
    "merge_df = pd.merge(cars_df, kvit1_df, on='car_id')\n",
    "merge_df = pd.merge(merge_df, oper1_df, on = 'operation_id', how ='left' )\n",
    "merge_df"
   ]
  },
  {
   "cell_type": "code",
   "execution_count": 384,
   "metadata": {},
   "outputs": [
    {
     "data": {
      "text/plain": [
       "11000"
      ]
     },
     "execution_count": 384,
     "metadata": {},
     "output_type": "execute_result"
    }
   ],
   "source": [
    "total_without_replace = merge_df['price'].sum()\n",
    "total_without_replace"
   ]
  },
  {
   "cell_type": "code",
   "execution_count": 385,
   "metadata": {},
   "outputs": [
    {
     "data": {
      "text/html": [
       "<div>\n",
       "<style scoped>\n",
       "    .dataframe tbody tr th:only-of-type {\n",
       "        vertical-align: middle;\n",
       "    }\n",
       "\n",
       "    .dataframe tbody tr th {\n",
       "        vertical-align: top;\n",
       "    }\n",
       "\n",
       "    .dataframe thead th {\n",
       "        text-align: right;\n",
       "    }\n",
       "</style>\n",
       "<table border=\"1\" class=\"dataframe\">\n",
       "  <thead>\n",
       "    <tr style=\"text-align: right;\">\n",
       "      <th></th>\n",
       "      <th>car_id</th>\n",
       "      <th>brand</th>\n",
       "      <th>date_ex</th>\n",
       "      <th>operation_id</th>\n",
       "      <th>num_detail</th>\n",
       "      <th>name</th>\n",
       "      <th>price</th>\n",
       "      <th>price_detail</th>\n",
       "    </tr>\n",
       "  </thead>\n",
       "  <tbody>\n",
       "    <tr>\n",
       "      <th>0</th>\n",
       "      <td>1</td>\n",
       "      <td>Mitsubishi</td>\n",
       "      <td>2023-12-01</td>\n",
       "      <td>5</td>\n",
       "      <td>1</td>\n",
       "      <td>Replace detail</td>\n",
       "      <td>5000</td>\n",
       "      <td>1000</td>\n",
       "    </tr>\n",
       "    <tr>\n",
       "      <th>1</th>\n",
       "      <td>2</td>\n",
       "      <td>BMV</td>\n",
       "      <td>2023-12-02</td>\n",
       "      <td>6</td>\n",
       "      <td>2</td>\n",
       "      <td>Replace detail</td>\n",
       "      <td>5000</td>\n",
       "      <td>3000</td>\n",
       "    </tr>\n",
       "    <tr>\n",
       "      <th>2</th>\n",
       "      <td>3</td>\n",
       "      <td>Toyota</td>\n",
       "      <td>2023-12-03</td>\n",
       "      <td>7</td>\n",
       "      <td>3</td>\n",
       "      <td>Replace detail</td>\n",
       "      <td>5000</td>\n",
       "      <td>5000</td>\n",
       "    </tr>\n",
       "    <tr>\n",
       "      <th>3</th>\n",
       "      <td>4</td>\n",
       "      <td>Lada</td>\n",
       "      <td>2023-12-04</td>\n",
       "      <td>8</td>\n",
       "      <td>4</td>\n",
       "      <td>Replace detail</td>\n",
       "      <td>5000</td>\n",
       "      <td>7000</td>\n",
       "    </tr>\n",
       "    <tr>\n",
       "      <th>4</th>\n",
       "      <td>5</td>\n",
       "      <td>Honda</td>\n",
       "      <td>2023-12-05</td>\n",
       "      <td>9</td>\n",
       "      <td>5</td>\n",
       "      <td>Replace detail</td>\n",
       "      <td>5000</td>\n",
       "      <td>9000</td>\n",
       "    </tr>\n",
       "  </tbody>\n",
       "</table>\n",
       "</div>"
      ],
      "text/plain": [
       "   car_id       brand     date_ex  operation_id  num_detail            name  \\\n",
       "0       1  Mitsubishi  2023-12-01             5           1  Replace detail   \n",
       "1       2         BMV  2023-12-02             6           2  Replace detail   \n",
       "2       3      Toyota  2023-12-03             7           3  Replace detail   \n",
       "3       4        Lada  2023-12-04             8           4  Replace detail   \n",
       "4       5       Honda  2023-12-05             9           5  Replace detail   \n",
       "\n",
       "   price  price_detail  \n",
       "0   5000          1000  \n",
       "1   5000          3000  \n",
       "2   5000          5000  \n",
       "3   5000          7000  \n",
       "4   5000          9000  "
      ]
     },
     "execution_count": 385,
     "metadata": {},
     "output_type": "execute_result"
    }
   ],
   "source": [
    "merge_with_replace_df = pd.merge(cars_df, kvit2_replace_df, on='car_id')\n",
    "merge_with_replace_df = pd.merge(merge_with_replace_df, oper2_replace_df, on = 'operation_id', how ='left' )\n",
    "merge_with_replace_df"
   ]
  },
  {
   "cell_type": "code",
   "execution_count": 386,
   "metadata": {},
   "outputs": [
    {
     "data": {
      "text/plain": [
       "25000"
      ]
     },
     "execution_count": 386,
     "metadata": {},
     "output_type": "execute_result"
    }
   ],
   "source": [
    "total_with_replace = merge_with_replace_df['price'].sum()\n",
    "total_with_replace"
   ]
  },
  {
   "cell_type": "code",
   "execution_count": 387,
   "metadata": {},
   "outputs": [
    {
     "data": {
      "text/html": [
       "<div>\n",
       "<style scoped>\n",
       "    .dataframe tbody tr th:only-of-type {\n",
       "        vertical-align: middle;\n",
       "    }\n",
       "\n",
       "    .dataframe tbody tr th {\n",
       "        vertical-align: top;\n",
       "    }\n",
       "\n",
       "    .dataframe thead th {\n",
       "        text-align: right;\n",
       "    }\n",
       "</style>\n",
       "<table border=\"1\" class=\"dataframe\">\n",
       "  <thead>\n",
       "    <tr style=\"text-align: right;\">\n",
       "      <th></th>\n",
       "      <th>car_id</th>\n",
       "      <th>brand</th>\n",
       "      <th>date_ex</th>\n",
       "      <th>operation_id</th>\n",
       "      <th>num_detail</th>\n",
       "      <th>name</th>\n",
       "      <th>price</th>\n",
       "      <th>price_detail</th>\n",
       "    </tr>\n",
       "  </thead>\n",
       "  <tbody>\n",
       "    <tr>\n",
       "      <th>0</th>\n",
       "      <td>1</td>\n",
       "      <td>Mitsubishi</td>\n",
       "      <td>2023-12-01</td>\n",
       "      <td>5</td>\n",
       "      <td>1.0</td>\n",
       "      <td>Replace detail</td>\n",
       "      <td>5000</td>\n",
       "      <td>1000.0</td>\n",
       "    </tr>\n",
       "    <tr>\n",
       "      <th>1</th>\n",
       "      <td>2</td>\n",
       "      <td>BMV</td>\n",
       "      <td>2023-12-02</td>\n",
       "      <td>6</td>\n",
       "      <td>2.0</td>\n",
       "      <td>Replace detail</td>\n",
       "      <td>5000</td>\n",
       "      <td>3000.0</td>\n",
       "    </tr>\n",
       "    <tr>\n",
       "      <th>2</th>\n",
       "      <td>3</td>\n",
       "      <td>Toyota</td>\n",
       "      <td>2023-12-03</td>\n",
       "      <td>7</td>\n",
       "      <td>3.0</td>\n",
       "      <td>Replace detail</td>\n",
       "      <td>5000</td>\n",
       "      <td>5000.0</td>\n",
       "    </tr>\n",
       "    <tr>\n",
       "      <th>3</th>\n",
       "      <td>4</td>\n",
       "      <td>Lada</td>\n",
       "      <td>2023-12-04</td>\n",
       "      <td>8</td>\n",
       "      <td>4.0</td>\n",
       "      <td>Replace detail</td>\n",
       "      <td>5000</td>\n",
       "      <td>7000.0</td>\n",
       "    </tr>\n",
       "    <tr>\n",
       "      <th>4</th>\n",
       "      <td>5</td>\n",
       "      <td>Honda</td>\n",
       "      <td>2023-12-05</td>\n",
       "      <td>9</td>\n",
       "      <td>5.0</td>\n",
       "      <td>Replace detail</td>\n",
       "      <td>5000</td>\n",
       "      <td>9000.0</td>\n",
       "    </tr>\n",
       "    <tr>\n",
       "      <th>5</th>\n",
       "      <td>1</td>\n",
       "      <td>Mitsubishi</td>\n",
       "      <td>2023-12-01</td>\n",
       "      <td>1</td>\n",
       "      <td>NaN</td>\n",
       "      <td>Washing</td>\n",
       "      <td>1000</td>\n",
       "      <td>NaN</td>\n",
       "    </tr>\n",
       "    <tr>\n",
       "      <th>6</th>\n",
       "      <td>2</td>\n",
       "      <td>BMV</td>\n",
       "      <td>2023-12-02</td>\n",
       "      <td>2</td>\n",
       "      <td>NaN</td>\n",
       "      <td>Cleaning</td>\n",
       "      <td>2000</td>\n",
       "      <td>NaN</td>\n",
       "    </tr>\n",
       "    <tr>\n",
       "      <th>7</th>\n",
       "      <td>3</td>\n",
       "      <td>Toyota</td>\n",
       "      <td>2023-12-03</td>\n",
       "      <td>3</td>\n",
       "      <td>NaN</td>\n",
       "      <td>Brending</td>\n",
       "      <td>3000</td>\n",
       "      <td>NaN</td>\n",
       "    </tr>\n",
       "    <tr>\n",
       "      <th>8</th>\n",
       "      <td>4</td>\n",
       "      <td>Lada</td>\n",
       "      <td>2023-12-04</td>\n",
       "      <td>4</td>\n",
       "      <td>NaN</td>\n",
       "      <td>Stulishing</td>\n",
       "      <td>4000</td>\n",
       "      <td>NaN</td>\n",
       "    </tr>\n",
       "    <tr>\n",
       "      <th>9</th>\n",
       "      <td>5</td>\n",
       "      <td>Honda</td>\n",
       "      <td>2023-12-05</td>\n",
       "      <td>1</td>\n",
       "      <td>NaN</td>\n",
       "      <td>Washing</td>\n",
       "      <td>1000</td>\n",
       "      <td>NaN</td>\n",
       "    </tr>\n",
       "  </tbody>\n",
       "</table>\n",
       "</div>"
      ],
      "text/plain": [
       "   car_id       brand     date_ex  operation_id  num_detail            name  \\\n",
       "0       1  Mitsubishi  2023-12-01             5         1.0  Replace detail   \n",
       "1       2         BMV  2023-12-02             6         2.0  Replace detail   \n",
       "2       3      Toyota  2023-12-03             7         3.0  Replace detail   \n",
       "3       4        Lada  2023-12-04             8         4.0  Replace detail   \n",
       "4       5       Honda  2023-12-05             9         5.0  Replace detail   \n",
       "5       1  Mitsubishi  2023-12-01             1         NaN         Washing   \n",
       "6       2         BMV  2023-12-02             2         NaN        Cleaning   \n",
       "7       3      Toyota  2023-12-03             3         NaN        Brending   \n",
       "8       4        Lada  2023-12-04             4         NaN      Stulishing   \n",
       "9       5       Honda  2023-12-05             1         NaN         Washing   \n",
       "\n",
       "   price  price_detail  \n",
       "0   5000        1000.0  \n",
       "1   5000        3000.0  \n",
       "2   5000        5000.0  \n",
       "3   5000        7000.0  \n",
       "4   5000        9000.0  \n",
       "5   1000           NaN  \n",
       "6   2000           NaN  \n",
       "7   3000           NaN  \n",
       "8   4000           NaN  \n",
       "9   1000           NaN  "
      ]
     },
     "execution_count": 387,
     "metadata": {},
     "output_type": "execute_result"
    }
   ],
   "source": [
    "merge_all_df = pd.concat([merge_with_replace_df, merge_df], ignore_index=True)\n",
    "merge_all_df"
   ]
  },
  {
   "cell_type": "code",
   "execution_count": 388,
   "metadata": {},
   "outputs": [
    {
     "data": {
      "text/html": [
       "<div>\n",
       "<style scoped>\n",
       "    .dataframe tbody tr th:only-of-type {\n",
       "        vertical-align: middle;\n",
       "    }\n",
       "\n",
       "    .dataframe tbody tr th {\n",
       "        vertical-align: top;\n",
       "    }\n",
       "\n",
       "    .dataframe thead th {\n",
       "        text-align: right;\n",
       "    }\n",
       "</style>\n",
       "<table border=\"1\" class=\"dataframe\">\n",
       "  <thead>\n",
       "    <tr style=\"text-align: right;\">\n",
       "      <th></th>\n",
       "      <th>brand</th>\n",
       "      <th>price</th>\n",
       "    </tr>\n",
       "  </thead>\n",
       "  <tbody>\n",
       "    <tr>\n",
       "      <th>0</th>\n",
       "      <td>BMV</td>\n",
       "      <td>7000</td>\n",
       "    </tr>\n",
       "    <tr>\n",
       "      <th>1</th>\n",
       "      <td>Honda</td>\n",
       "      <td>6000</td>\n",
       "    </tr>\n",
       "    <tr>\n",
       "      <th>2</th>\n",
       "      <td>Lada</td>\n",
       "      <td>9000</td>\n",
       "    </tr>\n",
       "    <tr>\n",
       "      <th>3</th>\n",
       "      <td>Mitsubishi</td>\n",
       "      <td>6000</td>\n",
       "    </tr>\n",
       "    <tr>\n",
       "      <th>4</th>\n",
       "      <td>Toyota</td>\n",
       "      <td>8000</td>\n",
       "    </tr>\n",
       "  </tbody>\n",
       "</table>\n",
       "</div>"
      ],
      "text/plain": [
       "        brand  price\n",
       "0         BMV   7000\n",
       "1       Honda   6000\n",
       "2        Lada   9000\n",
       "3  Mitsubishi   6000\n",
       "4      Toyota   8000"
      ]
     },
     "execution_count": 388,
     "metadata": {},
     "output_type": "execute_result"
    }
   ],
   "source": [
    "for_mark = merge_all_df.groupby('brand')['price'].sum().reset_index()\n",
    "for_mark\n"
   ]
  },
  {
   "cell_type": "code",
   "execution_count": 389,
   "metadata": {},
   "outputs": [
    {
     "data": {
      "text/plain": [
       "<Figure size 640x480 with 0 Axes>"
      ]
     },
     "metadata": {},
     "output_type": "display_data"
    },
    {
     "data": {
      "image/png": "[encoded data removed]",
      "text/plain": [
       "<Figure size 640x480 with 1 Axes>"
      ]
     },
     "metadata": {},
     "output_type": "display_data"
    }
   ],
   "source": [
    "plt.figure()\n",
    "for_mark.plot(kind='bar', color='red')\n",
    "plt.title('')\n",
    "plt.xlabel('')\n",
    "plt.ylabel('')\n",
    "\n",
    "plt.show()"
   ]
  },
  {
   "cell_type": "code",
   "execution_count": 390,
   "metadata": {},
   "outputs": [
    {
     "data": {
      "application/vnd.jupyter.widget-view+json": {
       "model_id": "91f57c51309d426bb75b8e6f907e6ab4",
       "version_major": 2,
       "version_minor": 0
      },
      "text/plain": [
       "Dropdown(description='Choose', options=('Mitsubishi', 'BMV', 'Toyota', 'Lada', 'Honda'), value='Mitsubishi')"
      ]
     },
     "metadata": {},
     "output_type": "display_data"
    }
   ],
   "source": [
    "all_mark = list(merge_all_df['brand'].unique())\n",
    "mark_dropdown = widgets.Dropdown(options=all_mark, description='Choose')\n",
    "display(mark_dropdown)\n",
    "\n",
    "output = widgets.Output()"
   ]
  },
  {
   "cell_type": "code",
   "execution_count": 391,
   "metadata": {},
   "outputs": [],
   "source": [
    "def count_car(choosed):\n",
    "    with output:\n",
    "        output.clear_output(wait=True) \n",
    "        choosed = mark_dropdown.value\n",
    "        result_df = merge_all_df[merge_all_df['brand'] == choosed].groupby(['brand', 'name']).agg(count=('name', 'count')).reset_index()\n",
    "        display(result_df)\n",
    "\n",
    "# result_df = merge_all_df.groupby(['brand', 'name']).agg(count=('name', 'count')).reset_index()\n",
    "# result_df"
   ]
  },
  {
   "cell_type": "code",
   "execution_count": 392,
   "metadata": {},
   "outputs": [
    {
     "data": {
      "application/vnd.jupyter.widget-view+json": {
       "model_id": "b228d82dd78f4f8d955df2ff04fff769",
       "version_major": 2,
       "version_minor": 0
      },
      "text/plain": [
       "Output()"
      ]
     },
     "execution_count": 392,
     "metadata": {},
     "output_type": "execute_result"
    }
   ],
   "source": [
    "widgets.interactive(count_car, choosed=mark_dropdown)\n",
    "output"
   ]
  }
 ],
 "metadata": {
  "kernelspec": {
   "display_name": "Python 3",
   "language": "python",
   "name": "python3"
  },
  "language_info": {
   "codemirror_mode": {
    "name": "ipython",
    "version": 3
   },
   "file_extension": ".py",
   "mimetype": "text/x-python",
   "name": "python",
   "nbconvert_exporter": "python",
   "pygments_lexer": "ipython3",
   "version": "3.12.0"
  }
 },
 "nbformat": 4,
 "nbformat_minor": 2
}
