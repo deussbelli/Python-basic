{
 "cells": [
  {
   "cell_type": "code",
   "execution_count": 17,
   "metadata": {},
   "outputs": [],
   "source": [
    "import pandas as pd\n",
    "import matplotlib.pyplot as plt\n",
    "import ipywidgets as widgets\n",
    "from IPython.display import display\n"
   ]
  },
  {
   "cell_type": "code",
   "execution_count": 18,
   "metadata": {},
   "outputs": [],
   "source": [
    "\n",
    "# Загрузка данных из CSV-файлов\n",
    "cars_df = pd.read_csv(\"C:/Users/Anastasiia/Desktop/homework_kvs_python/exam/cars/0.0.1/cars.csv\")\n",
    "operations_no_replace_df = pd.read_csv(\"C:/Users/Anastasiia/Desktop/homework_kvs_python/exam/cars/0.0.1/operations_no_replace.csv\")\n",
    "operations_with_replace_df = pd.read_csv(\"C:/Users/Anastasiia/Desktop/homework_kvs_python/exam/cars/0.0.1/operations_with_replace.csv\")\n",
    "receipts_no_replace_df = pd.read_csv(\"C:/Users/Anastasiia/Desktop/homework_kvs_python/exam/cars/0.0.1/receipts_no_replace.csv\")\n",
    "receipts_with_replace_df = pd.read_csv(\"C:/Users/Anastasiia/Desktop/homework_kvs_python/exam/cars/0.0.1/receipts_with_replace.csv\")\n"
   ]
  },
  {
   "cell_type": "code",
   "execution_count": 19,
   "metadata": {},
   "outputs": [],
   "source": [
    "\n",
    "# Объединение данных\n",
    "merged_no_replace_df = pd.merge(receipts_no_replace_df, operations_no_replace_df, how=\"left\", on=\"operation_number\")\n",
    "merged_with_replace_df = pd.merge(receipts_with_replace_df, operations_with_replace_df, how=\"left\", on=\"operation_number\")\n"
   ]
  },
  {
   "cell_type": "code",
   "execution_count": 20,
   "metadata": {},
   "outputs": [],
   "source": [
    "\n",
    "# Общая сумма оплаты за все операции\n",
    "total_payment = merged_no_replace_df['payment'].sum() + merged_with_replace_df['payment'].sum()\n"
   ]
  },
  {
   "cell_type": "code",
   "execution_count": 21,
   "metadata": {},
   "outputs": [],
   "source": [
    "\n",
    "# Суммарные оплаты по каждой операции\n",
    "total_payment_per_operation = pd.concat([merged_no_replace_df, merged_with_replace_df]) \\\n",
    "    .groupby('operation_number')['payment'].sum().reset_index()\n"
   ]
  },
  {
   "cell_type": "code",
   "execution_count": 22,
   "metadata": {},
   "outputs": [
    {
     "data": {
      "image/png": "[encoded data removed]",
      "text/plain": [
       "<Figure size 1000x600 with 1 Axes>"
      ]
     },
     "metadata": {},
     "output_type": "display_data"
    }
   ],
   "source": [
    "\n",
    "# (в) Диаграмма сумм в соответствии с предыдущим пунктом\n",
    "plt.figure(figsize=(10, 6))\n",
    "plt.bar(total_payment_per_operation['operation_number'], total_payment_per_operation['payment'])\n",
    "plt.xlabel('Номер операції')\n",
    "plt.ylabel('Сумарна оплата')\n",
    "plt.title('Оплати по кожній операції')\n",
    "plt.show()\n"
   ]
  },
  {
   "cell_type": "code",
   "execution_count": 23,
   "metadata": {},
   "outputs": [
    {
     "data": {
      "application/vnd.jupyter.widget-view+json": {
       "model_id": "cfe12eac37164d008fcf3b0dd1633200",
       "version_major": 2,
       "version_minor": 0
      },
      "text/plain": [
       "Dropdown(description='Оберіть номер операції:', options=(1, 2, 3, 4, 5), value=1)"
      ]
     },
     "metadata": {},
     "output_type": "display_data"
    }
   ],
   "source": [
    "\n",
    "# (г) Виджет для выбора операции из выпадающего списка\n",
    "operation_options = total_payment_per_operation['operation_number'].unique()\n",
    "operation_dropdown = widgets.Dropdown(options=operation_options, description='Оберіть номер операції:')\n",
    "display(operation_dropdown)"
   ]
  },
  {
   "cell_type": "code",
   "execution_count": 24,
   "metadata": {},
   "outputs": [
    {
     "data": {
      "application/vnd.jupyter.widget-view+json": {
       "model_id": "2b32bb3033144fde8240c9bb5e859d5a",
       "version_major": 2,
       "version_minor": 0
      },
      "text/plain": [
       "Output()"
      ]
     },
     "metadata": {},
     "output_type": "display_data"
    }
   ],
   "source": [
    "# Виджет для вывода результатов\n",
    "output = widgets.Output()\n",
    "display(output)\n",
    "\n",
    "# Функция для отображения количества автомобилей для выбранной операции, разделенных по маркам\n",
    "def display_cars_count(selected_operation):\n",
    "    selected_operation = operation_dropdown.value\n",
    "    cars_count_by_brand_no_replace = pd.merge(cars_df, receipts_no_replace_df[receipts_no_replace_df['operation_number'] == selected_operation], how='inner', on='car_number')['brand'].value_counts()\n",
    "    cars_count_by_brand_with_replace = pd.merge(cars_df, receipts_with_replace_df[receipts_with_replace_df['operation_number'] == selected_operation], how='inner', on='car_number')['brand'].value_counts()\n",
    "\n",
    "    # Объединяем результаты\n",
    "    cars_count_by_brand = cars_count_by_brand_no_replace.add(cars_count_by_brand_with_replace, fill_value=0)\n",
    "    \n",
    "    with output:        \n",
    "        output.clear_output()\n",
    "        print(f\"Кількість машин за маркою для яких виконувалась операція {selected_operation}:\")\n",
    "        display(pd.DataFrame(cars_count_by_brand.reset_index().rename(columns={'index': 'id', 'brand': 'Марка', 'count': 'Кількість'})).head())\n",
    "   \n",
    "# Привязываем функцию к изменению значения выпадающего списка\n",
    "operation_dropdown.observe(display_cars_count, names='value')"
   ]
  }
 ],
 "metadata": {
  "kernelspec": {
   "display_name": "Python 3",
   "language": "python",
   "name": "python3"
  },
  "language_info": {
   "codemirror_mode": {
    "name": "ipython",
    "version": 3
   },
   "file_extension": ".py",
   "mimetype": "text/x-python",
   "name": "python",
   "nbconvert_exporter": "python",
   "pygments_lexer": "ipython3",
   "version": "3.12.0"
  }
 },
 "nbformat": 4,
 "nbformat_minor": 2
}
