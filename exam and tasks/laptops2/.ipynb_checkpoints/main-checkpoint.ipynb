{
 "cells": [
  {
   "cell_type": "code",
   "execution_count": 3,
   "id": "cfc8d110-6d02-4e6f-96ea-46a7850c8cc8",
   "metadata": {},
   "outputs": [],
   "source": [
    "from datetime import *\n",
    "import pandas as pd\n",
    "import matplotlib.pyplot as plt\n",
    "import ipywidgets as widgets"
   ]
  },
  {
   "cell_type": "code",
   "execution_count": 4,
   "id": "6dfc965c-8d0e-407f-a9bf-331cba0e8024",
   "metadata": {},
   "outputs": [],
   "source": [
    "df_pc = pd.read_csv('pc_data.csv')\n",
    "df_os = pd.read_csv('os_data.csv')\n",
    "df_receipt1 = pd.read_csv('receipt_1.csv')\n",
    "df_receipt2 = pd.read_csv('receipt_2.csv')"
   ]
  },
  {
   "cell_type": "code",
   "execution_count": 5,
   "id": "43108782-586f-4e92-9fff-c798d2aebca1",
   "metadata": {},
   "outputs": [],
   "source": [
    "df_all_receipts = pd.concat([df_receipt1,df_receipt2], ignore_index=True)"
   ]
  },
  {
   "cell_type": "code",
   "execution_count": 6,
   "id": "b96a52a6-e673-4a4d-8761-1a2d8cf9e4f9",
   "metadata": {},
   "outputs": [],
   "source": [
    "df_merged = df_all_receipts.merge(df_pc, how='right')\n",
    "df_merged = df_merged.merge(df_os, how='right')"
   ]
  },
  {
   "cell_type": "code",
   "execution_count": 7,
   "id": "76109512-0872-4335-8346-effe8d965a54",
   "metadata": {},
   "outputs": [
    {
     "data": {
      "text/html": [
       "<div>\n",
       "<style scoped>\n",
       "    .dataframe tbody tr th:only-of-type {\n",
       "        vertical-align: middle;\n",
       "    }\n",
       "\n",
       "    .dataframe tbody tr th {\n",
       "        vertical-align: top;\n",
       "    }\n",
       "\n",
       "    .dataframe thead th {\n",
       "        text-align: right;\n",
       "    }\n",
       "</style>\n",
       "<table border=\"1\" class=\"dataframe\">\n",
       "  <thead>\n",
       "    <tr style=\"text-align: right;\">\n",
       "      <th></th>\n",
       "      <th>date</th>\n",
       "      <th>pc_id</th>\n",
       "      <th>os_id</th>\n",
       "      <th>sold</th>\n",
       "      <th>pc_name</th>\n",
       "      <th>pc_price</th>\n",
       "      <th>os_name</th>\n",
       "      <th>os_price</th>\n",
       "      <th>general_price</th>\n",
       "    </tr>\n",
       "  </thead>\n",
       "  <tbody>\n",
       "    <tr>\n",
       "      <th>0</th>\n",
       "      <td>2022/09/17</td>\n",
       "      <td>2</td>\n",
       "      <td>0</td>\n",
       "      <td>8</td>\n",
       "      <td>razer</td>\n",
       "      <td>299.0</td>\n",
       "      <td>default</td>\n",
       "      <td>0.0</td>\n",
       "      <td>2392.0</td>\n",
       "    </tr>\n",
       "    <tr>\n",
       "      <th>1</th>\n",
       "      <td>2020/12/21</td>\n",
       "      <td>5</td>\n",
       "      <td>0</td>\n",
       "      <td>6</td>\n",
       "      <td>mac</td>\n",
       "      <td>400.0</td>\n",
       "      <td>default</td>\n",
       "      <td>0.0</td>\n",
       "      <td>2400.0</td>\n",
       "    </tr>\n",
       "    <tr>\n",
       "      <th>2</th>\n",
       "      <td>2022/6/14</td>\n",
       "      <td>6</td>\n",
       "      <td>0</td>\n",
       "      <td>10</td>\n",
       "      <td>xiaomi mi</td>\n",
       "      <td>200.0</td>\n",
       "      <td>default</td>\n",
       "      <td>0.0</td>\n",
       "      <td>2000.0</td>\n",
       "    </tr>\n",
       "    <tr>\n",
       "      <th>3</th>\n",
       "      <td>2022/09/12</td>\n",
       "      <td>1</td>\n",
       "      <td>1</td>\n",
       "      <td>12</td>\n",
       "      <td>lenovo</td>\n",
       "      <td>259.0</td>\n",
       "      <td>windows</td>\n",
       "      <td>20.0</td>\n",
       "      <td>3348.0</td>\n",
       "    </tr>\n",
       "    <tr>\n",
       "      <th>4</th>\n",
       "      <td>2021/09/12</td>\n",
       "      <td>1</td>\n",
       "      <td>1</td>\n",
       "      <td>2</td>\n",
       "      <td>lenovo</td>\n",
       "      <td>259.0</td>\n",
       "      <td>windows</td>\n",
       "      <td>20.0</td>\n",
       "      <td>558.0</td>\n",
       "    </tr>\n",
       "    <tr>\n",
       "      <th>5</th>\n",
       "      <td>2021/09/20</td>\n",
       "      <td>2</td>\n",
       "      <td>1</td>\n",
       "      <td>8</td>\n",
       "      <td>razer</td>\n",
       "      <td>299.0</td>\n",
       "      <td>windows</td>\n",
       "      <td>20.0</td>\n",
       "      <td>2552.0</td>\n",
       "    </tr>\n",
       "    <tr>\n",
       "      <th>6</th>\n",
       "      <td>2021/09/12</td>\n",
       "      <td>2</td>\n",
       "      <td>1</td>\n",
       "      <td>8</td>\n",
       "      <td>razer</td>\n",
       "      <td>299.0</td>\n",
       "      <td>windows</td>\n",
       "      <td>20.0</td>\n",
       "      <td>2552.0</td>\n",
       "    </tr>\n",
       "    <tr>\n",
       "      <th>7</th>\n",
       "      <td>2021/09/12</td>\n",
       "      <td>1</td>\n",
       "      <td>2</td>\n",
       "      <td>2</td>\n",
       "      <td>lenovo</td>\n",
       "      <td>259.0</td>\n",
       "      <td>linux</td>\n",
       "      <td>40.0</td>\n",
       "      <td>598.0</td>\n",
       "    </tr>\n",
       "    <tr>\n",
       "      <th>8</th>\n",
       "      <td>2020/02/5</td>\n",
       "      <td>2</td>\n",
       "      <td>2</td>\n",
       "      <td>9</td>\n",
       "      <td>razer</td>\n",
       "      <td>299.0</td>\n",
       "      <td>linux</td>\n",
       "      <td>40.0</td>\n",
       "      <td>3051.0</td>\n",
       "    </tr>\n",
       "    <tr>\n",
       "      <th>9</th>\n",
       "      <td>2020/10/09</td>\n",
       "      <td>4</td>\n",
       "      <td>2</td>\n",
       "      <td>8</td>\n",
       "      <td>hp</td>\n",
       "      <td>239.9</td>\n",
       "      <td>linux</td>\n",
       "      <td>40.0</td>\n",
       "      <td>2239.2</td>\n",
       "    </tr>\n",
       "    <tr>\n",
       "      <th>10</th>\n",
       "      <td>2021/12/11</td>\n",
       "      <td>5</td>\n",
       "      <td>2</td>\n",
       "      <td>6</td>\n",
       "      <td>mac</td>\n",
       "      <td>400.0</td>\n",
       "      <td>linux</td>\n",
       "      <td>40.0</td>\n",
       "      <td>2640.0</td>\n",
       "    </tr>\n",
       "    <tr>\n",
       "      <th>11</th>\n",
       "      <td>2021/09/12</td>\n",
       "      <td>1</td>\n",
       "      <td>3</td>\n",
       "      <td>4</td>\n",
       "      <td>lenovo</td>\n",
       "      <td>259.0</td>\n",
       "      <td>ubuntu</td>\n",
       "      <td>19.9</td>\n",
       "      <td>1115.6</td>\n",
       "    </tr>\n",
       "    <tr>\n",
       "      <th>12</th>\n",
       "      <td>2022/01/22</td>\n",
       "      <td>3</td>\n",
       "      <td>3</td>\n",
       "      <td>12</td>\n",
       "      <td>asus</td>\n",
       "      <td>213.0</td>\n",
       "      <td>ubuntu</td>\n",
       "      <td>19.9</td>\n",
       "      <td>2794.8</td>\n",
       "    </tr>\n",
       "    <tr>\n",
       "      <th>13</th>\n",
       "      <td>2020/01/22</td>\n",
       "      <td>3</td>\n",
       "      <td>3</td>\n",
       "      <td>10</td>\n",
       "      <td>asus</td>\n",
       "      <td>213.0</td>\n",
       "      <td>ubuntu</td>\n",
       "      <td>19.9</td>\n",
       "      <td>2329.0</td>\n",
       "    </tr>\n",
       "    <tr>\n",
       "      <th>14</th>\n",
       "      <td>2021/11/19</td>\n",
       "      <td>4</td>\n",
       "      <td>3</td>\n",
       "      <td>8</td>\n",
       "      <td>hp</td>\n",
       "      <td>239.9</td>\n",
       "      <td>ubuntu</td>\n",
       "      <td>19.9</td>\n",
       "      <td>2078.4</td>\n",
       "    </tr>\n",
       "    <tr>\n",
       "      <th>15</th>\n",
       "      <td>2020/06/11</td>\n",
       "      <td>6</td>\n",
       "      <td>3</td>\n",
       "      <td>10</td>\n",
       "      <td>xiaomi mi</td>\n",
       "      <td>200.0</td>\n",
       "      <td>ubuntu</td>\n",
       "      <td>19.9</td>\n",
       "      <td>2199.0</td>\n",
       "    </tr>\n",
       "  </tbody>\n",
       "</table>\n",
       "</div>"
      ],
      "text/plain": [
       "          date  pc_id  os_id  sold    pc_name  pc_price  os_name  os_price  \\\n",
       "0   2022/09/17      2      0     8      razer     299.0  default       0.0   \n",
       "1   2020/12/21      5      0     6        mac     400.0  default       0.0   \n",
       "2    2022/6/14      6      0    10  xiaomi mi     200.0  default       0.0   \n",
       "3   2022/09/12      1      1    12     lenovo     259.0  windows      20.0   \n",
       "4   2021/09/12      1      1     2     lenovo     259.0  windows      20.0   \n",
       "5   2021/09/20      2      1     8      razer     299.0  windows      20.0   \n",
       "6   2021/09/12      2      1     8      razer     299.0  windows      20.0   \n",
       "7   2021/09/12      1      2     2     lenovo     259.0    linux      40.0   \n",
       "8    2020/02/5      2      2     9      razer     299.0    linux      40.0   \n",
       "9   2020/10/09      4      2     8         hp     239.9    linux      40.0   \n",
       "10  2021/12/11      5      2     6        mac     400.0    linux      40.0   \n",
       "11  2021/09/12      1      3     4     lenovo     259.0   ubuntu      19.9   \n",
       "12  2022/01/22      3      3    12       asus     213.0   ubuntu      19.9   \n",
       "13  2020/01/22      3      3    10       asus     213.0   ubuntu      19.9   \n",
       "14  2021/11/19      4      3     8         hp     239.9   ubuntu      19.9   \n",
       "15  2020/06/11      6      3    10  xiaomi mi     200.0   ubuntu      19.9   \n",
       "\n",
       "    general_price  \n",
       "0          2392.0  \n",
       "1          2400.0  \n",
       "2          2000.0  \n",
       "3          3348.0  \n",
       "4           558.0  \n",
       "5          2552.0  \n",
       "6          2552.0  \n",
       "7           598.0  \n",
       "8          3051.0  \n",
       "9          2239.2  \n",
       "10         2640.0  \n",
       "11         1115.6  \n",
       "12         2794.8  \n",
       "13         2329.0  \n",
       "14         2078.4  \n",
       "15         2199.0  "
      ]
     },
     "execution_count": 7,
     "metadata": {},
     "output_type": "execute_result"
    }
   ],
   "source": [
    "df_merged['general_price'] = df_merged['sold']*(df_merged['pc_price'] + df_merged['os_price'])\n",
    "df_merged"
   ]
  },
  {
   "cell_type": "code",
   "execution_count": 8,
   "id": "53469a5a-6649-42e6-8fb4-8ca753faffc0",
   "metadata": {},
   "outputs": [
    {
     "name": "stdout",
     "output_type": "stream",
     "text": [
      "General price of machinery: \n"
     ]
    },
    {
     "data": {
      "text/plain": [
       "34847.0"
      ]
     },
     "execution_count": 8,
     "metadata": {},
     "output_type": "execute_result"
    }
   ],
   "source": [
    "# сумарна вартість проданої за весь час техніки\n",
    "print('General price of machinery: ')\n",
    "df_merged['general_price'].sum()"
   ]
  },
  {
   "cell_type": "code",
   "execution_count": 9,
   "id": "b36a199f-9e29-411e-b8fe-7a82c2454019",
   "metadata": {
    "tags": []
   },
   "outputs": [],
   "source": [
    "# вартість комп'ютерної техніки проданої кожного дня\n",
    "df_group_by_date = df_merged.groupby('date').sum()\n",
    "df_group_by_date = df_group_by_date['general_price']"
   ]
  },
  {
   "cell_type": "code",
   "execution_count": 10,
   "id": "31a95f81-67f7-4e22-94e2-272fdfb7c010",
   "metadata": {},
   "outputs": [
    {
     "data": {
      "text/plain": [
       "date\n",
       "2020/01/22    2329.0\n",
       "2020/02/5     3051.0\n",
       "2020/06/11    2199.0\n",
       "2020/10/09    2239.2\n",
       "2020/12/21    2400.0\n",
       "2021/09/12    4823.6\n",
       "2021/09/20    2552.0\n",
       "2021/11/19    2078.4\n",
       "2021/12/11    2640.0\n",
       "2022/01/22    2794.8\n",
       "2022/09/12    3348.0\n",
       "2022/09/17    2392.0\n",
       "2022/6/14     2000.0\n",
       "Name: general_price, dtype: float64"
      ]
     },
     "execution_count": 10,
     "metadata": {},
     "output_type": "execute_result"
    }
   ],
   "source": [
    "df_group_by_date"
   ]
  },
  {
   "cell_type": "code",
   "execution_count": 15,
   "id": "26b10449-e934-4068-983b-b8a793c1220f",
   "metadata": {},
   "outputs": [
    {
     "data": {
      "text/plain": [
       "<AxesSubplot:xlabel='date'>"
      ]
     },
     "execution_count": 15,
     "metadata": {},
     "output_type": "execute_result"
    },
    {
     "data": {
      "image/png": "[encoded data removed]",
      "text/plain": [
       "<Figure size 640x480 with 1 Axes>"
      ]
     },
     "metadata": {},
     "output_type": "display_data"
    }
   ],
   "source": [
    "# графік до попереднього пункту\n",
    "df_group_by_date.plot(kind='bar')"
   ]
  },
  {
   "cell_type": "code",
   "execution_count": 12,
   "id": "d196eb62-6d3e-44f4-88d8-96c662b1a66d",
   "metadata": {},
   "outputs": [
    {
     "data": {
      "text/plain": [
       "<AxesSubplot:ylabel='general_price'>"
      ]
     },
     "execution_count": 12,
     "metadata": {},
     "output_type": "execute_result"
    },
    {
     "data": {
      "image/png": "[encoded data removed]",
      "text/plain": [
       "<Figure size 640x480 with 1 Axes>"
      ]
     },
     "metadata": {},
     "output_type": "display_data"
    }
   ],
   "source": [
    "df_group_by_date.plot(kind='pie')"
   ]
  },
  {
   "cell_type": "code",
   "execution_count": 13,
   "id": "cd18d2cb-8d0f-4ee4-8ad4-26d5ea8eaa34",
   "metadata": {},
   "outputs": [],
   "source": [
    "# для конкретної системи сумарна вартість проданої техніки\n",
    "def paid_sum(os = 'windows'):\n",
    "    df_new = df_merged.groupby(['os_name', 'pc_name']).sum()\n",
    "    df_new = df_new.loc[os, 'general_price']\n",
    "    display(df_new)\n",
    "    df_new.plot(kind = 'bar', label='da')"
   ]
  },
  {
   "cell_type": "code",
   "execution_count": 14,
   "id": "447b19ee-8d87-4ef9-9568-64a38175e996",
   "metadata": {},
   "outputs": [
    {
     "data": {
      "application/vnd.jupyter.widget-view+json": {
       "model_id": "259009a6065a4ba9bdc9d29233c0e71c",
       "version_major": 2,
       "version_minor": 0
      },
      "text/plain": [
       "interactive(children=(Dropdown(description='os', index=1, options=('default', 'windows', 'ubuntu', 'linux'), v…"
      ]
     },
     "metadata": {},
     "output_type": "display_data"
    },
    {
     "data": {
      "text/plain": [
       "<function __main__.paid_sum(os='windows')>"
      ]
     },
     "execution_count": 14,
     "metadata": {},
     "output_type": "execute_result"
    }
   ],
   "source": [
    "widgets.interact(paid_sum, os=['default', 'windows', 'ubuntu', 'linux'])"
   ]
  }
 ],
 "metadata": {
  "kernelspec": {
   "display_name": "Python 3 (ipykernel)",
   "language": "python",
   "name": "python3"
  },
  "language_info": {
   "codemirror_mode": {
    "name": "ipython",
    "version": 3
   },
   "file_extension": ".py",
   "mimetype": "text/x-python",
   "name": "python",
   "nbconvert_exporter": "python",
   "pygments_lexer": "ipython3",
   "version": "3.9.13"
  }
 },
 "nbformat": 4,
 "nbformat_minor": 5
}
