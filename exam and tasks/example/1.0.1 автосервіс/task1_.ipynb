{
 "cells": [
  {
   "cell_type": "code",
   "execution_count": 22,
   "metadata": {},
   "outputs": [],
   "source": [
    "import pandas as pd\n",
    "import matplotlib.pyplot as plt\n",
    "import ipywidgets as widgets\n",
    "from IPython.display import display"
   ]
  },
  {
   "cell_type": "code",
   "execution_count": 23,
   "metadata": {},
   "outputs": [],
   "source": [
    "workers_df = pd.read_csv(\"C:/Users/Anastasiia/Desktop/homework_kvs_python/exam/example/1.0.1/workers.csv\")\n",
    "crews_df = pd.read_csv(\"C:/Users/Anastasiia/Desktop/homework_kvs_python/exam/example/1.0.1/crew.csv\")\n",
    "orders_df = pd.read_csv(\"C:/Users/Anastasiia/Desktop/homework_kvs_python/exam/example/1.0.1/orders.csv\")"
   ]
  },
  {
   "cell_type": "code",
   "execution_count": 24,
   "metadata": {},
   "outputs": [],
   "source": [
    "merged_df = pd.merge(orders_df, workers_df, how=\"left\", on=\"worker_id\")\n",
    "merged_df = pd.merge(merged_df, crews_df, how=\"left\", on=\"crew_id\")\n"
   ]
  },
  {
   "cell_type": "code",
   "execution_count": 25,
   "metadata": {},
   "outputs": [],
   "source": [
    "# (а) Таблица для каждой бригады сочтены заработанные средства за все время\n",
    "earnings_by_crew = merged_df.groupby('crew_id')['payment'].sum().reset_index()\n"
   ]
  },
  {
   "cell_type": "code",
   "execution_count": 26,
   "metadata": {},
   "outputs": [
    {
     "data": {
      "image/png": "[encoded data removed]",
      "text/plain": [
       "<Figure size 1000x600 with 1 Axes>"
      ]
     },
     "metadata": {},
     "output_type": "display_data"
    }
   ],
   "source": [
    "# (б) Диаграмма к предыдущему пункту\n",
    "plt.figure(figsize=(10, 6))\n",
    "plt.bar(earnings_by_crew['crew_id'], earnings_by_crew['payment'])\n",
    "plt.xlabel('Бригада')\n",
    "plt.ylabel('Заработанные средства')\n",
    "plt.title('Заработанные средства для каждой бригады')\n",
    "plt.show()\n"
   ]
  },
  {
   "cell_type": "code",
   "execution_count": 27,
   "metadata": {},
   "outputs": [
    {
     "data": {
      "application/vnd.jupyter.widget-view+json": {
       "model_id": "e8edd53830ea49438c6c7a9d1efe07c7",
       "version_major": 2,
       "version_minor": 0
      },
      "text/plain": [
       "DatePicker(value=Timestamp('2023-01-05 00:00:00'), description='Начальная дата', step=1)"
      ]
     },
     "metadata": {},
     "output_type": "display_data"
    },
    {
     "data": {
      "application/vnd.jupyter.widget-view+json": {
       "model_id": "72ad81b8bc1149ae984d84703fd8d17c",
       "version_major": 2,
       "version_minor": 0
      },
      "text/plain": [
       "DatePicker(value=Timestamp('2023-01-18 00:00:00'), description='Конечная дата', step=1)"
      ]
     },
     "metadata": {},
     "output_type": "display_data"
    },
    {
     "data": {
      "text/html": [
       "<div>\n",
       "<style scoped>\n",
       "    .dataframe tbody tr th:only-of-type {\n",
       "        vertical-align: middle;\n",
       "    }\n",
       "\n",
       "    .dataframe tbody tr th {\n",
       "        vertical-align: top;\n",
       "    }\n",
       "\n",
       "    .dataframe thead th {\n",
       "        text-align: right;\n",
       "    }\n",
       "</style>\n",
       "<table border=\"1\" class=\"dataframe\">\n",
       "  <thead>\n",
       "    <tr style=\"text-align: right;\">\n",
       "      <th></th>\n",
       "      <th>worker_id</th>\n",
       "      <th>payment</th>\n",
       "    </tr>\n",
       "  </thead>\n",
       "  <tbody>\n",
       "    <tr>\n",
       "      <th>0</th>\n",
       "      <td>1</td>\n",
       "      <td>100</td>\n",
       "    </tr>\n",
       "    <tr>\n",
       "      <th>1</th>\n",
       "      <td>2</td>\n",
       "      <td>110</td>\n",
       "    </tr>\n",
       "    <tr>\n",
       "      <th>2</th>\n",
       "      <td>3</td>\n",
       "      <td>80</td>\n",
       "    </tr>\n",
       "  </tbody>\n",
       "</table>\n",
       "</div>"
      ],
      "text/plain": [
       "   worker_id  payment\n",
       "0          1      100\n",
       "1          2      110\n",
       "2          3       80"
      ]
     },
     "execution_count": 27,
     "metadata": {},
     "output_type": "execute_result"
    }
   ],
   "source": [
    "\n",
    "# (в) Виджеты для выбора периода времени\n",
    "start_date_widget = widgets.DatePicker(description='Начальная дата', value=pd.to_datetime(merged_df['date'].min()))\n",
    "end_date_widget = widgets.DatePicker(description='Конечная дата', value=pd.to_datetime(merged_df['date'].max()))\n",
    "display(start_date_widget, end_date_widget)\n",
    "\n",
    "# Фильтрация данных по выбранному периоду времени\n",
    "merged_df['date'] = pd.to_datetime(merged_df['date'])\n",
    "filtered_df = merged_df[(merged_df['date'] >= start_date_widget.value) & (merged_df['date'] <= end_date_widget.value)]\n",
    "\n",
    "# Таблица для каждого работника посчитаны средства за производимые им за период времени\n",
    "earnings_by_worker = filtered_df.groupby('worker_id')['payment'].sum().reset_index()\n",
    "earnings_by_worker.head()"
   ]
  },
  {
   "cell_type": "code",
   "execution_count": 28,
   "metadata": {},
   "outputs": [
    {
     "data": {
      "text/html": [
       "<div>\n",
       "<style scoped>\n",
       "    .dataframe tbody tr th:only-of-type {\n",
       "        vertical-align: middle;\n",
       "    }\n",
       "\n",
       "    .dataframe tbody tr th {\n",
       "        vertical-align: top;\n",
       "    }\n",
       "\n",
       "    .dataframe thead th {\n",
       "        text-align: right;\n",
       "    }\n",
       "</style>\n",
       "<table border=\"1\" class=\"dataframe\">\n",
       "  <thead>\n",
       "    <tr style=\"text-align: right;\">\n",
       "      <th></th>\n",
       "      <th>car_brand</th>\n",
       "      <th>payment</th>\n",
       "    </tr>\n",
       "  </thead>\n",
       "  <tbody>\n",
       "    <tr>\n",
       "      <th>1</th>\n",
       "      <td>Ford</td>\n",
       "      <td>120</td>\n",
       "    </tr>\n",
       "    <tr>\n",
       "      <th>3</th>\n",
       "      <td>Toyota</td>\n",
       "      <td>80</td>\n",
       "    </tr>\n",
       "    <tr>\n",
       "      <th>0</th>\n",
       "      <td>Chevrolet</td>\n",
       "      <td>50</td>\n",
       "    </tr>\n",
       "    <tr>\n",
       "      <th>2</th>\n",
       "      <td>Honda</td>\n",
       "      <td>40</td>\n",
       "    </tr>\n",
       "  </tbody>\n",
       "</table>\n",
       "</div>"
      ],
      "text/plain": [
       "   car_brand  payment\n",
       "1       Ford      120\n",
       "3     Toyota       80\n",
       "0  Chevrolet       50\n",
       "2      Honda       40"
      ]
     },
     "execution_count": 28,
     "metadata": {},
     "output_type": "execute_result"
    }
   ],
   "source": [
    "# (г) Таблица, представляющая заработанные средства на каждой марке автомобилей\n",
    "earnings_by_car_brand = merged_df.groupby('car_brand')['payment'].sum().reset_index()\n",
    "earnings_by_car_brand = earnings_by_car_brand.sort_values(by='payment', ascending=False)\n",
    "\n",
    "earnings_by_car_brand.head()"
   ]
  }
 ],
 "metadata": {
  "kernelspec": {
   "display_name": "Python 3",
   "language": "python",
   "name": "python3"
  },
  "language_info": {
   "codemirror_mode": {
    "name": "ipython",
    "version": 3
   },
   "file_extension": ".py",
   "mimetype": "text/x-python",
   "name": "python",
   "nbconvert_exporter": "python",
   "pygments_lexer": "ipython3",
   "version": "3.12.0"
  }
 },
 "nbformat": 4,
 "nbformat_minor": 2
}
