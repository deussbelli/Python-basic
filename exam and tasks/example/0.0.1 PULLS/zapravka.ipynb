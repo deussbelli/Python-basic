{
 "cells": [
  {
   "cell_type": "markdown",
   "id": "94193fd0-3001-4dfa-9207-8a0fe4324c2c",
   "metadata": {},
   "source": [
    "1. Розробити засоби для обліку розрахунків у мережі автозаправок, використовуючи засоби pandas.\n",
    "Кожна заправка характеризується ідентифікаційним номером і назвою селища-міста, дані усіх за- правок задано окремим csv-файлом. Також в окремому файлі задано ціну кожного виду пального (за 1 л).\n",
    "Дані про обслуговування задано кількома csv-файлами. Кожен запис про обслуговування містить номер заправки, дату, вид пального, кількість пального в літрах.\n",
    "Згідно акції, за кожен літр пального PULLS_95 чи PULLS_Diesel 1 грн зараховується на окремий рахунок для закупівлі дронів ШАРК."
   ]
  },
  {
   "cell_type": "markdown",
   "id": "ac9658d8-b074-4cd1-b3ad-4234db0825db",
   "metadata": {
    "tags": []
   },
   "source": [
    "2. Вивести:\n",
    "    \n",
    "(а) для кожної заправки виручену суму за весь час, вказуючи у переліку номер заправки та її місцезнаходження:\n",
    "    \n",
    "(б) діаграму сум відповідно до попереднього пункту;\n",
    "\n",
    "(в) виручені суми за кожен вид пального усіма заправками (сумарно) селища-міста, обраного за допомогою віджету, за задану дату;\n",
    "\n",
    "(г) на основі усіх даних суму грошей, зараховану на закупівлю дронів."
   ]
  },
  {
   "cell_type": "code",
   "execution_count": 3,
   "id": "f321c9be-2219-4505-9f3f-4b0b6d4e0102",
   "metadata": {
    "tags": []
   },
   "outputs": [],
   "source": [
    "import pandas as pd\n",
    "import matplotlib.pyplot as plt\n",
    "from ipywidgets import widgets"
   ]
  },
  {
   "cell_type": "code",
   "execution_count": 4,
   "id": "5f2a966e-8569-4551-b129-21a1a17bc54f",
   "metadata": {
    "tags": []
   },
   "outputs": [],
   "source": [
    "zap_df = pd.read_csv('zapr.csv')\n",
    "palne_df = pd.read_csv('price_palne.csv')\n",
    "obs1 = pd.read_csv('obslugovuvannya1.csv')\n",
    "obs2 = pd.read_csv('obslugovuvannya2.csv')"
   ]
  },
  {
   "cell_type": "code",
   "execution_count": 5,
   "id": "20d51836-9adb-4439-a936-3cc237f158b2",
   "metadata": {},
   "outputs": [],
   "source": [
    "obs_df = pd.concat([obs1, obs2], ignore_index=True)"
   ]
  },
  {
   "cell_type": "markdown",
   "id": "7ef85ad1-8e88-4809-885c-701663db1cd6",
   "metadata": {},
   "source": [
    "для кожної заправки виручену суму за весь час, вказуючи у переліку номер заправки та її місцезнаходження:"
   ]
  },
  {
   "cell_type": "code",
   "execution_count": 6,
   "id": "31ff63d9-9257-4994-a5fd-8e42dec262c5",
   "metadata": {
    "tags": []
   },
   "outputs": [
    {
     "data": {
      "text/html": [
       "<div>\n",
       "<style scoped>\n",
       "    .dataframe tbody tr th:only-of-type {\n",
       "        vertical-align: middle;\n",
       "    }\n",
       "\n",
       "    .dataframe tbody tr th {\n",
       "        vertical-align: top;\n",
       "    }\n",
       "\n",
       "    .dataframe thead th {\n",
       "        text-align: right;\n",
       "    }\n",
       "</style>\n",
       "<table border=\"1\" class=\"dataframe\">\n",
       "  <thead>\n",
       "    <tr style=\"text-align: right;\">\n",
       "      <th></th>\n",
       "      <th>id_zap</th>\n",
       "      <th>vilage</th>\n",
       "      <th>date</th>\n",
       "      <th>palne</th>\n",
       "      <th>count_litr</th>\n",
       "      <th>price_litr</th>\n",
       "    </tr>\n",
       "  </thead>\n",
       "  <tbody>\n",
       "    <tr>\n",
       "      <th>0</th>\n",
       "      <td>10</td>\n",
       "      <td>Lviv</td>\n",
       "      <td>15.08.2023</td>\n",
       "      <td>PULLS_95</td>\n",
       "      <td>8</td>\n",
       "      <td>55</td>\n",
       "    </tr>\n",
       "    <tr>\n",
       "      <th>1</th>\n",
       "      <td>10</td>\n",
       "      <td>Lviv</td>\n",
       "      <td>17.09.2023</td>\n",
       "      <td>PULLS_100</td>\n",
       "      <td>19</td>\n",
       "      <td>56</td>\n",
       "    </tr>\n",
       "    <tr>\n",
       "      <th>2</th>\n",
       "      <td>11</td>\n",
       "      <td>Nykoncovychi</td>\n",
       "      <td>15.08.2023</td>\n",
       "      <td>PULLS_100</td>\n",
       "      <td>40</td>\n",
       "      <td>56</td>\n",
       "    </tr>\n",
       "    <tr>\n",
       "      <th>3</th>\n",
       "      <td>22</td>\n",
       "      <td>Kopachivka</td>\n",
       "      <td>23.09.2023</td>\n",
       "      <td>PULLS_100</td>\n",
       "      <td>20</td>\n",
       "      <td>56</td>\n",
       "    </tr>\n",
       "    <tr>\n",
       "      <th>4</th>\n",
       "      <td>20</td>\n",
       "      <td>Lutsk</td>\n",
       "      <td>19.08.2023</td>\n",
       "      <td>PULLS_Diesel</td>\n",
       "      <td>30</td>\n",
       "      <td>58</td>\n",
       "    </tr>\n",
       "  </tbody>\n",
       "</table>\n",
       "</div>"
      ],
      "text/plain": [
       "   id_zap        vilage        date         palne  count_litr  price_litr\n",
       "0      10          Lviv  15.08.2023      PULLS_95           8          55\n",
       "1      10          Lviv  17.09.2023     PULLS_100          19          56\n",
       "2      11  Nykoncovychi  15.08.2023     PULLS_100          40          56\n",
       "3      22    Kopachivka  23.09.2023     PULLS_100          20          56\n",
       "4      20         Lutsk  19.08.2023  PULLS_Diesel          30          58"
      ]
     },
     "execution_count": 6,
     "metadata": {},
     "output_type": "execute_result"
    }
   ],
   "source": [
    "df = zap_df.merge(obs_df, on = 'id_zap')\n",
    "df = df.merge(palne_df, on = 'palne')\n",
    "df"
   ]
  },
  {
   "cell_type": "code",
   "execution_count": 7,
   "id": "f4e6b823-8c21-4d1e-bd23-689d9433908f",
   "metadata": {
    "tags": []
   },
   "outputs": [
    {
     "data": {
      "text/html": [
       "<div>\n",
       "<style scoped>\n",
       "    .dataframe tbody tr th:only-of-type {\n",
       "        vertical-align: middle;\n",
       "    }\n",
       "\n",
       "    .dataframe tbody tr th {\n",
       "        vertical-align: top;\n",
       "    }\n",
       "\n",
       "    .dataframe thead th {\n",
       "        text-align: right;\n",
       "    }\n",
       "</style>\n",
       "<table border=\"1\" class=\"dataframe\">\n",
       "  <thead>\n",
       "    <tr style=\"text-align: right;\">\n",
       "      <th></th>\n",
       "      <th>id_zap</th>\n",
       "      <th>vilage</th>\n",
       "      <th>date</th>\n",
       "      <th>palne</th>\n",
       "      <th>count_litr</th>\n",
       "      <th>price_litr</th>\n",
       "      <th>all_money</th>\n",
       "    </tr>\n",
       "  </thead>\n",
       "  <tbody>\n",
       "    <tr>\n",
       "      <th>0</th>\n",
       "      <td>10</td>\n",
       "      <td>Lviv</td>\n",
       "      <td>15.08.2023</td>\n",
       "      <td>PULLS_95</td>\n",
       "      <td>8</td>\n",
       "      <td>55</td>\n",
       "      <td>440</td>\n",
       "    </tr>\n",
       "    <tr>\n",
       "      <th>1</th>\n",
       "      <td>10</td>\n",
       "      <td>Lviv</td>\n",
       "      <td>17.09.2023</td>\n",
       "      <td>PULLS_100</td>\n",
       "      <td>19</td>\n",
       "      <td>56</td>\n",
       "      <td>1064</td>\n",
       "    </tr>\n",
       "    <tr>\n",
       "      <th>2</th>\n",
       "      <td>11</td>\n",
       "      <td>Nykoncovychi</td>\n",
       "      <td>15.08.2023</td>\n",
       "      <td>PULLS_100</td>\n",
       "      <td>40</td>\n",
       "      <td>56</td>\n",
       "      <td>2240</td>\n",
       "    </tr>\n",
       "    <tr>\n",
       "      <th>3</th>\n",
       "      <td>22</td>\n",
       "      <td>Kopachivka</td>\n",
       "      <td>23.09.2023</td>\n",
       "      <td>PULLS_100</td>\n",
       "      <td>20</td>\n",
       "      <td>56</td>\n",
       "      <td>1120</td>\n",
       "    </tr>\n",
       "    <tr>\n",
       "      <th>4</th>\n",
       "      <td>20</td>\n",
       "      <td>Lutsk</td>\n",
       "      <td>19.08.2023</td>\n",
       "      <td>PULLS_Diesel</td>\n",
       "      <td>30</td>\n",
       "      <td>58</td>\n",
       "      <td>1740</td>\n",
       "    </tr>\n",
       "  </tbody>\n",
       "</table>\n",
       "</div>"
      ],
      "text/plain": [
       "   id_zap        vilage        date         palne  count_litr  price_litr  \\\n",
       "0      10          Lviv  15.08.2023      PULLS_95           8          55   \n",
       "1      10          Lviv  17.09.2023     PULLS_100          19          56   \n",
       "2      11  Nykoncovychi  15.08.2023     PULLS_100          40          56   \n",
       "3      22    Kopachivka  23.09.2023     PULLS_100          20          56   \n",
       "4      20         Lutsk  19.08.2023  PULLS_Diesel          30          58   \n",
       "\n",
       "   all_money  \n",
       "0        440  \n",
       "1       1064  \n",
       "2       2240  \n",
       "3       1120  \n",
       "4       1740  "
      ]
     },
     "execution_count": 7,
     "metadata": {},
     "output_type": "execute_result"
    }
   ],
   "source": [
    "df['all_money'] = df['count_litr'] * df['price_litr']\n",
    "df"
   ]
  },
  {
   "cell_type": "code",
   "execution_count": 8,
   "id": "a6baff88-776d-4471-9040-1bd083c3e53c",
   "metadata": {
    "tags": []
   },
   "outputs": [
    {
     "data": {
      "text/html": [
       "<div>\n",
       "<style scoped>\n",
       "    .dataframe tbody tr th:only-of-type {\n",
       "        vertical-align: middle;\n",
       "    }\n",
       "\n",
       "    .dataframe tbody tr th {\n",
       "        vertical-align: top;\n",
       "    }\n",
       "\n",
       "    .dataframe thead th {\n",
       "        text-align: right;\n",
       "    }\n",
       "</style>\n",
       "<table border=\"1\" class=\"dataframe\">\n",
       "  <thead>\n",
       "    <tr style=\"text-align: right;\">\n",
       "      <th></th>\n",
       "      <th>Total_salary</th>\n",
       "      <th>vilage</th>\n",
       "    </tr>\n",
       "    <tr>\n",
       "      <th>id_zap</th>\n",
       "      <th></th>\n",
       "      <th></th>\n",
       "    </tr>\n",
       "  </thead>\n",
       "  <tbody>\n",
       "    <tr>\n",
       "      <th>10</th>\n",
       "      <td>1504</td>\n",
       "      <td>Lviv</td>\n",
       "    </tr>\n",
       "    <tr>\n",
       "      <th>11</th>\n",
       "      <td>2240</td>\n",
       "      <td>Nykoncovychi</td>\n",
       "    </tr>\n",
       "    <tr>\n",
       "      <th>20</th>\n",
       "      <td>1740</td>\n",
       "      <td>Lutsk</td>\n",
       "    </tr>\n",
       "    <tr>\n",
       "      <th>22</th>\n",
       "      <td>1120</td>\n",
       "      <td>Kopachivka</td>\n",
       "    </tr>\n",
       "  </tbody>\n",
       "</table>\n",
       "</div>"
      ],
      "text/plain": [
       "        Total_salary        vilage\n",
       "id_zap                            \n",
       "10              1504          Lviv\n",
       "11              2240  Nykoncovychi\n",
       "20              1740         Lutsk\n",
       "22              1120    Kopachivka"
      ]
     },
     "execution_count": 8,
     "metadata": {},
     "output_type": "execute_result"
    }
   ],
   "source": [
    "# group1 = df.groupby('id_zap')['all_money'].sum()\n",
    "# group2 = df.groupby('vilage')['all_money'].sum()\n",
    "# group3 = pd.DataFrame({'id_zap': group1.index, 'vilage':group2.index})\n",
    "# group3['money'] = group2.values\n",
    "# group3\n",
    "group1 = df.groupby('id_zap')['all_money'].sum()\n",
    "gg_df = pd.DataFrame({'Total_salary': group1})\n",
    "gg_df['vilage'] = df.groupby('id_zap')['vilage'].first()\n",
    "gg_df"
   ]
  },
  {
   "cell_type": "markdown",
   "id": "ea504615-bd31-4eb1-8ad6-7bc072bd8535",
   "metadata": {},
   "source": [
    "(б) діаграму сум відповідно до попереднього пункту;"
   ]
  },
  {
   "cell_type": "code",
   "execution_count": 9,
   "id": "7d4be447-26ba-4bba-ac22-6a1f9a902a35",
   "metadata": {
    "tags": []
   },
   "outputs": [
    {
     "data": {
      "image/png": "[encoded data removed]",
      "text/plain": [
       "<Figure size 640x480 with 1 Axes>"
      ]
     },
     "metadata": {},
     "output_type": "display_data"
    }
   ],
   "source": [
    "plt.bar(gg_df.index, gg_df['Total_salary'])\n",
    "plt.xticks(gg_df.index, gg_df.index)\n",
    "plt.title(\"Salary for every zapravka\")\n",
    "plt.show()"
   ]
  },
  {
   "cell_type": "markdown",
   "id": "9b62b99c-7778-4576-be54-d836d2c8478d",
   "metadata": {},
   "source": [
    "виручені суми за кожен вид пального усіма заправками (сумарно) селища-міста, обраного за допомогою віджету, за задану дату;"
   ]
  },
  {
   "cell_type": "code",
   "execution_count": null,
   "id": "a2f3671b-479f-4315-91e0-f4d4cf74b371",
   "metadata": {
    "tags": []
   },
   "outputs": [],
   "source": [
    "def sum_palne(date):\n",
    "    sum_df = pd.DataFrame(df[df['date'] == date])\n",
    "    pay_df = sum_df.groupby('palne')['all_money'].sum()\n",
    "    # pay_df = pay_df.sum()\n",
    "    print(pay_df)\n",
    "            "
   ]
  },
  {
   "cell_type": "code",
   "execution_count": 17,
   "id": "ab535946-12f4-4008-810b-4170148b0904",
   "metadata": {
    "tags": []
   },
   "outputs": [
    {
     "data": {
      "application/vnd.jupyter.widget-view+json": {
       "model_id": "cbb1894310e04cc9997e0aadb8e33fad",
       "version_major": 2,
       "version_minor": 0
      },
      "text/plain": [
       "interactive(children=(Dropdown(description='date', options=('15.08.2023', '17.09.2023', '23.09.2023', '19.08.2…"
      ]
     },
     "metadata": {},
     "output_type": "display_data"
    },
    {
     "name": "stdout",
     "output_type": "stream",
     "text": [
      "\n"
     ]
    }
   ],
   "source": [
    "widgets.interact(sum_palne, date = df['date'].unique() )\n",
    "print()"
   ]
  },
  {
   "cell_type": "markdown",
   "id": "0c63c086-74cc-49e5-bd3f-028b3a95de1e",
   "metadata": {},
   "source": [
    "на основі усіх даних суму грошей, зараховану на закупівлю дронів."
   ]
  },
  {
   "cell_type": "code",
   "execution_count": 12,
   "id": "915031ab-8024-43a6-97de-d7f68123d811",
   "metadata": {
    "tags": []
   },
   "outputs": [
    {
     "data": {
      "text/html": [
       "<div>\n",
       "<style scoped>\n",
       "    .dataframe tbody tr th:only-of-type {\n",
       "        vertical-align: middle;\n",
       "    }\n",
       "\n",
       "    .dataframe tbody tr th {\n",
       "        vertical-align: top;\n",
       "    }\n",
       "\n",
       "    .dataframe thead th {\n",
       "        text-align: right;\n",
       "    }\n",
       "</style>\n",
       "<table border=\"1\" class=\"dataframe\">\n",
       "  <thead>\n",
       "    <tr style=\"text-align: right;\">\n",
       "      <th></th>\n",
       "      <th>id_zap</th>\n",
       "      <th>vilage</th>\n",
       "      <th>date</th>\n",
       "      <th>palne</th>\n",
       "      <th>count_litr</th>\n",
       "      <th>price_litr</th>\n",
       "      <th>all_money</th>\n",
       "    </tr>\n",
       "  </thead>\n",
       "  <tbody>\n",
       "    <tr>\n",
       "      <th>0</th>\n",
       "      <td>10</td>\n",
       "      <td>Lviv</td>\n",
       "      <td>15.08.2023</td>\n",
       "      <td>PULLS_95</td>\n",
       "      <td>8</td>\n",
       "      <td>55</td>\n",
       "      <td>440</td>\n",
       "    </tr>\n",
       "    <tr>\n",
       "      <th>4</th>\n",
       "      <td>20</td>\n",
       "      <td>Lutsk</td>\n",
       "      <td>19.08.2023</td>\n",
       "      <td>PULLS_Diesel</td>\n",
       "      <td>30</td>\n",
       "      <td>58</td>\n",
       "      <td>1740</td>\n",
       "    </tr>\n",
       "  </tbody>\n",
       "</table>\n",
       "</div>"
      ],
      "text/plain": [
       "   id_zap vilage        date         palne  count_litr  price_litr  all_money\n",
       "0      10   Lviv  15.08.2023      PULLS_95           8          55        440\n",
       "4      20  Lutsk  19.08.2023  PULLS_Diesel          30          58       1740"
      ]
     },
     "execution_count": 12,
     "metadata": {},
     "output_type": "execute_result"
    }
   ],
   "source": [
    "dron_df = df[(df['palne'] == 'PULLS_95') | (df['palne'] == 'PULLS_Diesel')]\n",
    "dron_df"
   ]
  },
  {
   "cell_type": "code",
   "execution_count": 13,
   "id": "562a7a2d-ee71-453d-b9c9-41900b2be491",
   "metadata": {
    "tags": []
   },
   "outputs": [
    {
     "data": {
      "text/plain": [
       "38"
      ]
     },
     "execution_count": 13,
     "metadata": {},
     "output_type": "execute_result"
    }
   ],
   "source": [
    "dron = dron_df.groupby('palne')['count_litr'].sum()\n",
    "dron = dron.sum()\n",
    "dron"
   ]
  },
  {
   "cell_type": "code",
   "execution_count": null,
   "id": "56414128-c48c-48ea-8a2c-872e765a3a45",
   "metadata": {},
   "outputs": [],
   "source": []
  }
 ],
 "metadata": {
  "kernelspec": {
   "display_name": "Python 3 (ipykernel)",
   "language": "python",
   "name": "python3"
  },
  "language_info": {
   "codemirror_mode": {
    "name": "ipython",
    "version": 3
   },
   "file_extension": ".py",
   "mimetype": "text/x-python",
   "name": "python",
   "nbconvert_exporter": "python",
   "pygments_lexer": "ipython3",
   "version": "3.12.0"
  }
 },
 "nbformat": 4,
 "nbformat_minor": 5
}
