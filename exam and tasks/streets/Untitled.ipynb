{
 "cells": [
  {
   "cell_type": "code",
   "execution_count": 37,
   "id": "da0e2fd4-a945-47a2-9f69-0538ec7ad027",
   "metadata": {},
   "outputs": [],
   "source": [
    "from datetime import *\n",
    "import pandas as pd\n",
    "import matplotlib.pyplot as plt\n",
    "import ipywidgets as widgets"
   ]
  },
  {
   "cell_type": "code",
   "execution_count": 38,
   "id": "ed70a85b-7a84-4dea-95f9-0d31f052cc3b",
   "metadata": {},
   "outputs": [],
   "source": [
    "df_communal = pd.read_csv('communal_service.csv')\n",
    "df_employee = pd.read_csv('employee.csv')\n",
    "df_report1 = pd.read_csv('report1.csv')\n",
    "df_report2 = pd.read_csv('report2.csv')"
   ]
  },
  {
   "cell_type": "code",
   "execution_count": 39,
   "id": "b5ac0a0e-a385-4bda-b779-93b3627415db",
   "metadata": {},
   "outputs": [],
   "source": [
    "df_all_reports = pd.concat([df_report1,df_report2], ignore_index=True)"
   ]
  },
  {
   "cell_type": "code",
   "execution_count": 40,
   "id": "2026ebca-0a82-4fa3-9765-69eb7ebee7dd",
   "metadata": {},
   "outputs": [],
   "source": [
    "tariff = {\n",
    "    'tariff_num' : [1, 2, 3, 4],\n",
    "    'payment_p_h' : [23, 21, 22, 21],\n",
    "}\n",
    "df_tariff = pd.DataFrame(tariff)"
   ]
  },
  {
   "cell_type": "code",
   "execution_count": 41,
   "id": "d255922e-b836-4836-94fc-2bd24ee61713",
   "metadata": {},
   "outputs": [],
   "source": [
    "df_merged = df_all_reports.merge(df_communal, how='right')\n",
    "df_merged = df_merged.merge(df_employee, how='right')\n",
    "df_merged = df_merged.merge(df_tariff, how='right')"
   ]
  },
  {
   "cell_type": "code",
   "execution_count": 46,
   "id": "a930bd07-bd89-4794-ae1b-6ae785a07705",
   "metadata": {},
   "outputs": [],
   "source": [
    "df_merged.fillna(0, inplace=True)"
   ]
  },
  {
   "cell_type": "code",
   "execution_count": null,
   "id": "0b572899-fb00-4417-9092-26b06bc314f6",
   "metadata": {},
   "outputs": [
    {
     "data": {
      "text/html": [
       "<div>\n",
       "<style scoped>\n",
       "    .dataframe tbody tr th:only-of-type {\n",
       "        vertical-align: middle;\n",
       "    }\n",
       "\n",
       "    .dataframe tbody tr th {\n",
       "        vertical-align: top;\n",
       "    }\n",
       "\n",
       "    .dataframe thead th {\n",
       "        text-align: right;\n",
       "    }\n",
       "</style>\n",
       "<table border=\"1\" class=\"dataframe\">\n",
       "  <thead>\n",
       "    <tr style=\"text-align: right;\">\n",
       "      <th></th>\n",
       "      <th>date</th>\n",
       "      <th>com_id</th>\n",
       "      <th>em_id</th>\n",
       "      <th>hours</th>\n",
       "      <th>litters</th>\n",
       "      <th>com_name</th>\n",
       "      <th>last_name</th>\n",
       "      <th>tariff_num</th>\n",
       "      <th>payment_p_h</th>\n",
       "      <th>general_sum</th>\n",
       "    </tr>\n",
       "  </thead>\n",
       "  <tbody>\n",
       "    <tr>\n",
       "      <th>0</th>\n",
       "      <td>2022/08/11</td>\n",
       "      <td>1</td>\n",
       "      <td>1</td>\n",
       "      <td>8</td>\n",
       "      <td>1.0</td>\n",
       "      <td>Міжнародний аеропорт «Харків»</td>\n",
       "      <td>Savka</td>\n",
       "      <td>1</td>\n",
       "      <td>23</td>\n",
       "      <td>184</td>\n",
       "    </tr>\n",
       "    <tr>\n",
       "      <th>1</th>\n",
       "      <td>2022/11/26</td>\n",
       "      <td>1</td>\n",
       "      <td>1</td>\n",
       "      <td>1</td>\n",
       "      <td>7.0</td>\n",
       "      <td>Міжнародний аеропорт «Харків»</td>\n",
       "      <td>Savka</td>\n",
       "      <td>1</td>\n",
       "      <td>23</td>\n",
       "      <td>23</td>\n",
       "    </tr>\n",
       "    <tr>\n",
       "      <th>2</th>\n",
       "      <td>2022/02/25</td>\n",
       "      <td>1</td>\n",
       "      <td>2</td>\n",
       "      <td>10</td>\n",
       "      <td>0.0</td>\n",
       "      <td>Міжнародний аеропорт «Харків»</td>\n",
       "      <td>Salo</td>\n",
       "      <td>2</td>\n",
       "      <td>21</td>\n",
       "      <td>210</td>\n",
       "    </tr>\n",
       "    <tr>\n",
       "      <th>3</th>\n",
       "      <td>2022/03/23</td>\n",
       "      <td>1</td>\n",
       "      <td>2</td>\n",
       "      <td>2</td>\n",
       "      <td>0.0</td>\n",
       "      <td>Міжнародний аеропорт «Харків»</td>\n",
       "      <td>Salo</td>\n",
       "      <td>2</td>\n",
       "      <td>21</td>\n",
       "      <td>42</td>\n",
       "    </tr>\n",
       "    <tr>\n",
       "      <th>4</th>\n",
       "      <td>2022/09/12</td>\n",
       "      <td>2</td>\n",
       "      <td>2</td>\n",
       "      <td>9</td>\n",
       "      <td>0.0</td>\n",
       "      <td>Київпастранс</td>\n",
       "      <td>Salo</td>\n",
       "      <td>2</td>\n",
       "      <td>21</td>\n",
       "      <td>189</td>\n",
       "    </tr>\n",
       "    <tr>\n",
       "      <th>5</th>\n",
       "      <td>2022/06/15</td>\n",
       "      <td>2</td>\n",
       "      <td>2</td>\n",
       "      <td>2</td>\n",
       "      <td>2.0</td>\n",
       "      <td>Київпастранс</td>\n",
       "      <td>Salo</td>\n",
       "      <td>2</td>\n",
       "      <td>21</td>\n",
       "      <td>42</td>\n",
       "    </tr>\n",
       "    <tr>\n",
       "      <th>6</th>\n",
       "      <td>2022/5/28</td>\n",
       "      <td>2</td>\n",
       "      <td>2</td>\n",
       "      <td>3</td>\n",
       "      <td>9.0</td>\n",
       "      <td>Київпастранс</td>\n",
       "      <td>Salo</td>\n",
       "      <td>2</td>\n",
       "      <td>21</td>\n",
       "      <td>63</td>\n",
       "    </tr>\n",
       "    <tr>\n",
       "      <th>7</th>\n",
       "      <td>2022/05/10</td>\n",
       "      <td>3</td>\n",
       "      <td>3</td>\n",
       "      <td>7</td>\n",
       "      <td>0.0</td>\n",
       "      <td>ОСК «Металіст»</td>\n",
       "      <td>Gorbal</td>\n",
       "      <td>3</td>\n",
       "      <td>22</td>\n",
       "      <td>154</td>\n",
       "    </tr>\n",
       "    <tr>\n",
       "      <th>8</th>\n",
       "      <td>2022/04/18</td>\n",
       "      <td>3</td>\n",
       "      <td>3</td>\n",
       "      <td>2</td>\n",
       "      <td>4.0</td>\n",
       "      <td>ОСК «Металіст»</td>\n",
       "      <td>Gorbal</td>\n",
       "      <td>3</td>\n",
       "      <td>22</td>\n",
       "      <td>44</td>\n",
       "    </tr>\n",
       "    <tr>\n",
       "      <th>9</th>\n",
       "      <td>2022/01/12</td>\n",
       "      <td>4</td>\n",
       "      <td>4</td>\n",
       "      <td>9</td>\n",
       "      <td>0.0</td>\n",
       "      <td>КП «Криворіжкнига»</td>\n",
       "      <td>Petrishin</td>\n",
       "      <td>4</td>\n",
       "      <td>21</td>\n",
       "      <td>189</td>\n",
       "    </tr>\n",
       "    <tr>\n",
       "      <th>10</th>\n",
       "      <td>2022/12/11</td>\n",
       "      <td>4</td>\n",
       "      <td>4</td>\n",
       "      <td>8</td>\n",
       "      <td>0.0</td>\n",
       "      <td>КП «Криворіжкнига»</td>\n",
       "      <td>Petrishin</td>\n",
       "      <td>4</td>\n",
       "      <td>21</td>\n",
       "      <td>168</td>\n",
       "    </tr>\n",
       "    <tr>\n",
       "      <th>11</th>\n",
       "      <td>2022/12/22</td>\n",
       "      <td>4</td>\n",
       "      <td>4</td>\n",
       "      <td>2</td>\n",
       "      <td>3.0</td>\n",
       "      <td>КП «Криворіжкнига»</td>\n",
       "      <td>Petrishin</td>\n",
       "      <td>4</td>\n",
       "      <td>21</td>\n",
       "      <td>42</td>\n",
       "    </tr>\n",
       "  </tbody>\n",
       "</table>\n",
       "</div>"
      ],
      "text/plain": [
       "          date  com_id  em_id  hours  litters                       com_name  \\\n",
       "0   2022/08/11       1      1      8      1.0  Міжнародний аеропорт «Харків»   \n",
       "1   2022/11/26       1      1      1      7.0  Міжнародний аеропорт «Харків»   \n",
       "2   2022/02/25       1      2     10      0.0  Міжнародний аеропорт «Харків»   \n",
       "3   2022/03/23       1      2      2      0.0  Міжнародний аеропорт «Харків»   \n",
       "4   2022/09/12       2      2      9      0.0                   Київпастранс   \n",
       "5   2022/06/15       2      2      2      2.0                   Київпастранс   \n",
       "6    2022/5/28       2      2      3      9.0                   Київпастранс   \n",
       "7   2022/05/10       3      3      7      0.0                 ОСК «Металіст»   \n",
       "8   2022/04/18       3      3      2      4.0                 ОСК «Металіст»   \n",
       "9   2022/01/12       4      4      9      0.0             КП «Криворіжкнига»   \n",
       "10  2022/12/11       4      4      8      0.0             КП «Криворіжкнига»   \n",
       "11  2022/12/22       4      4      2      3.0             КП «Криворіжкнига»   \n",
       "\n",
       "    last_name  tariff_num  payment_p_h  general_sum  \n",
       "0       Savka           1           23          184  \n",
       "1       Savka           1           23           23  \n",
       "2        Salo           2           21          210  \n",
       "3        Salo           2           21           42  \n",
       "4        Salo           2           21          189  \n",
       "5        Salo           2           21           42  \n",
       "6        Salo           2           21           63  \n",
       "7      Gorbal           3           22          154  \n",
       "8      Gorbal           3           22           44  \n",
       "9   Petrishin           4           21          189  \n",
       "10  Petrishin           4           21          168  \n",
       "11  Petrishin           4           21           42  "
      ]
     },
     "execution_count": 47,
     "metadata": {},
     "output_type": "execute_result"
    }
   ],
   "source": []
  },
  {
   "cell_type": "code",
   "execution_count": 43,
   "id": "762cf5b0-7f72-44f2-9bac-f3964a0276e1",
   "metadata": {},
   "outputs": [
    {
     "name": "stdout",
     "output_type": "stream",
     "text": [
      "General payment for all employee:  1350\n"
     ]
    }
   ],
   "source": [
    "df_merged['general_sum'] = df_merged['hours']*df_merged['payment_p_h']\n",
    "print('General payment for all employee: ', df_merged['general_sum'].sum())"
   ]
  },
  {
   "cell_type": "code",
   "execution_count": 44,
   "id": "1706da6f-6f51-4500-8bbe-928dd47c0d9d",
   "metadata": {},
   "outputs": [],
   "source": [
    "with_spec_tech = df_merged['litters'] != 0 \n",
    "without_spec_tech = df_merged['litters'] == 0 "
   ]
  },
  {
   "cell_type": "code",
   "execution_count": 45,
   "id": "977f73df-a088-4345-9721-d04197141b5a",
   "metadata": {},
   "outputs": [
    {
     "data": {
      "text/plain": [
       "date\n",
       "2022/04/18     44\n",
       "2022/06/15     42\n",
       "2022/08/11    184\n",
       "2022/11/26     23\n",
       "2022/12/22     42\n",
       "2022/5/28      63\n",
       "Name: general_sum, dtype: int64"
      ]
     },
     "execution_count": 45,
     "metadata": {},
     "output_type": "execute_result"
    }
   ],
   "source": [
    "df_by_date1 = df_merged[with_spec_tech].groupby('date').sum()\n",
    "df_by_date1['general_sum']"
   ]
  },
  {
   "cell_type": "code",
   "execution_count": 36,
   "id": "41fb7d2e-4c05-44fa-9e48-f078a5acbc5d",
   "metadata": {},
   "outputs": [
    {
     "data": {
      "text/plain": [
       "<AxesSubplot:xlabel='payment for workers who used spec. tech'>"
      ]
     },
     "execution_count": 36,
     "metadata": {},
     "output_type": "execute_result"
    },
    {
     "data": {
      "image/png": "[encoded data removed]",
      "text/plain": [
       "<Figure size 640x480 with 1 Axes>"
      ]
     },
     "metadata": {},
     "output_type": "display_data"
    }
   ],
   "source": [
    "df_by_date1['general_sum'].plot(kind = 'bar', xlabel='payment for workers who used spec. tech')"
   ]
  },
  {
   "cell_type": "code",
   "execution_count": 32,
   "id": "d6948ba8-3103-4392-bcac-022a31020d8f",
   "metadata": {},
   "outputs": [
    {
     "data": {
      "text/plain": [
       "date\n",
       "2022/01/12    189\n",
       "2022/02/25    210\n",
       "2022/03/23     42\n",
       "2022/05/10    154\n",
       "2022/09/12    189\n",
       "2022/12/11    168\n",
       "Name: general_sum, dtype: int64"
      ]
     },
     "execution_count": 32,
     "metadata": {},
     "output_type": "execute_result"
    }
   ],
   "source": [
    "df_by_date2 = df_merged[without_spec_tech].groupby('date').sum()\n",
    "df_by_date2['general_sum']"
   ]
  },
  {
   "cell_type": "code",
   "execution_count": 33,
   "id": "d4c3994a-236d-444c-9338-457c5802b118",
   "metadata": {},
   "outputs": [
    {
     "data": {
      "text/plain": [
       "<AxesSubplot:xlabel='payment for workers who didnt use spec. tech'>"
      ]
     },
     "execution_count": 33,
     "metadata": {},
     "output_type": "execute_result"
    },
    {
     "data": {
      "image/png": "[encoded data removed]",
      "text/plain": [
       "<Figure size 640x480 with 1 Axes>"
      ]
     },
     "metadata": {},
     "output_type": "display_data"
    }
   ],
   "source": [
    "df_by_date2['general_sum'].plot(kind = 'bar', xlabel='payment for workers who didnt use spec. tech')"
   ]
  },
  {
   "cell_type": "code",
   "execution_count": 54,
   "id": "1bbb5371-b7ae-4d1e-9e8d-f33bdb9d3033",
   "metadata": {},
   "outputs": [
    {
     "data": {
      "text/html": [
       "<div>\n",
       "<style scoped>\n",
       "    .dataframe tbody tr th:only-of-type {\n",
       "        vertical-align: middle;\n",
       "    }\n",
       "\n",
       "    .dataframe tbody tr th {\n",
       "        vertical-align: top;\n",
       "    }\n",
       "\n",
       "    .dataframe thead th {\n",
       "        text-align: right;\n",
       "    }\n",
       "</style>\n",
       "<table border=\"1\" class=\"dataframe\">\n",
       "  <thead>\n",
       "    <tr style=\"text-align: right;\">\n",
       "      <th></th>\n",
       "      <th>com_id</th>\n",
       "      <th>em_id</th>\n",
       "      <th>hours</th>\n",
       "      <th>litters</th>\n",
       "      <th>tariff_num</th>\n",
       "      <th>payment_p_h</th>\n",
       "      <th>general_sum</th>\n",
       "    </tr>\n",
       "    <tr>\n",
       "      <th>last_name</th>\n",
       "      <th></th>\n",
       "      <th></th>\n",
       "      <th></th>\n",
       "      <th></th>\n",
       "      <th></th>\n",
       "      <th></th>\n",
       "      <th></th>\n",
       "    </tr>\n",
       "  </thead>\n",
       "  <tbody>\n",
       "    <tr>\n",
       "      <th>Gorbal</th>\n",
       "      <td>6</td>\n",
       "      <td>6</td>\n",
       "      <td>9</td>\n",
       "      <td>4.0</td>\n",
       "      <td>6</td>\n",
       "      <td>44</td>\n",
       "      <td>198</td>\n",
       "    </tr>\n",
       "    <tr>\n",
       "      <th>Petrishin</th>\n",
       "      <td>12</td>\n",
       "      <td>12</td>\n",
       "      <td>19</td>\n",
       "      <td>3.0</td>\n",
       "      <td>12</td>\n",
       "      <td>63</td>\n",
       "      <td>399</td>\n",
       "    </tr>\n",
       "    <tr>\n",
       "      <th>Salo</th>\n",
       "      <td>8</td>\n",
       "      <td>10</td>\n",
       "      <td>26</td>\n",
       "      <td>11.0</td>\n",
       "      <td>10</td>\n",
       "      <td>105</td>\n",
       "      <td>546</td>\n",
       "    </tr>\n",
       "    <tr>\n",
       "      <th>Savka</th>\n",
       "      <td>2</td>\n",
       "      <td>2</td>\n",
       "      <td>9</td>\n",
       "      <td>8.0</td>\n",
       "      <td>2</td>\n",
       "      <td>46</td>\n",
       "      <td>207</td>\n",
       "    </tr>\n",
       "  </tbody>\n",
       "</table>\n",
       "</div>"
      ],
      "text/plain": [
       "           com_id  em_id  hours  litters  tariff_num  payment_p_h  general_sum\n",
       "last_name                                                                     \n",
       "Gorbal          6      6      9      4.0           6           44          198\n",
       "Petrishin      12     12     19      3.0          12           63          399\n",
       "Salo            8     10     26     11.0          10          105          546\n",
       "Savka           2      2      9      8.0           2           46          207"
      ]
     },
     "execution_count": 54,
     "metadata": {},
     "output_type": "execute_result"
    }
   ],
   "source": [
    "df_new = df_merged.groupby(['last_name']).sum()\n",
    "# def paid_sum(last):\n",
    "#     df_new = df_merged.groupby(['last_name']).sum()\n",
    "#     df_new = df_new.loc[last, 'general_sum']\n",
    "#     display(df_new)\n",
    "#     df_new.plot(kind = 'bar', xlabel=f'general payment for: {last}')"
   ]
  },
  {
   "cell_type": "code",
   "execution_count": 52,
   "id": "52b2e810-3046-4057-8f40-cea048bbacab",
   "metadata": {},
   "outputs": [
    {
     "data": {
      "application/vnd.jupyter.widget-view+json": {
       "model_id": "a1c47c6c35064838bebd5ba103f51cdd",
       "version_major": 2,
       "version_minor": 0
      },
      "text/plain": [
       "interactive(children=(Dropdown(description='last', options=('Savka', 'Salo', 'Gorbal', 'Petrishin'), value='Sa…"
      ]
     },
     "metadata": {},
     "output_type": "display_data"
    },
    {
     "data": {
      "text/plain": [
       "<function __main__.paid_sum(last)>"
      ]
     },
     "execution_count": 52,
     "metadata": {},
     "output_type": "execute_result"
    }
   ],
   "source": [
    "widgets.interact(paid_sum, last=['Savka', 'Salo', 'Gorbal', 'Petrishin'])"
   ]
  },
  {
   "cell_type": "code",
   "execution_count": null,
   "id": "b3228fc1-3586-4dc3-9717-d81dd7d16fbf",
   "metadata": {},
   "outputs": [],
   "source": []
  }
 ],
 "metadata": {
  "kernelspec": {
   "display_name": "Python 3 (ipykernel)",
   "language": "python",
   "name": "python3"
  },
  "language_info": {
   "codemirror_mode": {
    "name": "ipython",
    "version": 3
   },
   "file_extension": ".py",
   "mimetype": "text/x-python",
   "name": "python",
   "nbconvert_exporter": "python",
   "pygments_lexer": "ipython3",
   "version": "3.9.13"
  }
 },
 "nbformat": 4,
 "nbformat_minor": 5
}
