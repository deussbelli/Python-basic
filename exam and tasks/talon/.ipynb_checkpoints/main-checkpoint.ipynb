{
 "cells": [
  {
   "cell_type": "code",
   "execution_count": 77,
   "id": "080d1957-e42d-4266-944e-05b0eefe1f83",
   "metadata": {},
   "outputs": [],
   "source": [
    "# імпорт бібліотек час, пандас, графіки, віджети\n",
    "from datetime import *\n",
    "import pandas as pd\n",
    "import matplotlib.pyplot as plt\n",
    "import ipywidgets as widgets"
   ]
  },
  {
   "cell_type": "code",
   "execution_count": 78,
   "id": "826b9d22-9d1e-4a1c-bc21-238784e54fb8",
   "metadata": {},
   "outputs": [],
   "source": [
    "# зчитування датафреймів з csv файлів\n",
    "\n",
    "df_stations = pd.read_csv('gas_stations.csv')\n",
    "df_fuel = pd.read_csv('fuel.csv')\n",
    "df_service_data1 = pd.read_csv('service_data1.csv')\n",
    "df_service_data2 = pd.read_csv('service_data2.csv')"
   ]
  },
  {
   "cell_type": "code",
   "execution_count": 79,
   "id": "36295560-3cc3-4924-9b3a-935492427b89",
   "metadata": {},
   "outputs": [],
   "source": [
    "# об'єднання двох чеків в один \"великий\" чек(датафрейм)\n",
    "\n",
    "df_conc_data = pd.concat([df_service_data1, df_service_data2], ignore_index=True)"
   ]
  },
  {
   "cell_type": "code",
   "execution_count": 80,
   "id": "6e9e47ca-7e95-4382-9f00-c8223a4d13f9",
   "metadata": {},
   "outputs": [
    {
     "data": {
      "text/html": [
       "<div>\n",
       "<style scoped>\n",
       "    .dataframe tbody tr th:only-of-type {\n",
       "        vertical-align: middle;\n",
       "    }\n",
       "\n",
       "    .dataframe tbody tr th {\n",
       "        vertical-align: top;\n",
       "    }\n",
       "\n",
       "    .dataframe thead th {\n",
       "        text-align: right;\n",
       "    }\n",
       "</style>\n",
       "<table border=\"1\" class=\"dataframe\">\n",
       "  <thead>\n",
       "    <tr style=\"text-align: right;\">\n",
       "      <th></th>\n",
       "      <th>id</th>\n",
       "      <th>date</th>\n",
       "      <th>fuel_type</th>\n",
       "      <th>fuel_amount</th>\n",
       "      <th>location</th>\n",
       "      <th>price</th>\n",
       "    </tr>\n",
       "  </thead>\n",
       "  <tbody>\n",
       "    <tr>\n",
       "      <th>0</th>\n",
       "      <td>1</td>\n",
       "      <td>14/04/2022</td>\n",
       "      <td>gasoline</td>\n",
       "      <td>1000</td>\n",
       "      <td>Lviv</td>\n",
       "      <td>30</td>\n",
       "    </tr>\n",
       "    <tr>\n",
       "      <th>1</th>\n",
       "      <td>2</td>\n",
       "      <td>30/03/2022</td>\n",
       "      <td>gasoline</td>\n",
       "      <td>800</td>\n",
       "      <td>Kyiv</td>\n",
       "      <td>30</td>\n",
       "    </tr>\n",
       "    <tr>\n",
       "      <th>2</th>\n",
       "      <td>4</td>\n",
       "      <td>22/04/2022</td>\n",
       "      <td>gasoline</td>\n",
       "      <td>815</td>\n",
       "      <td>Dnipro</td>\n",
       "      <td>30</td>\n",
       "    </tr>\n",
       "    <tr>\n",
       "      <th>3</th>\n",
       "      <td>1</td>\n",
       "      <td>28/05/2023</td>\n",
       "      <td>pulls_diesel</td>\n",
       "      <td>999</td>\n",
       "      <td>Lviv</td>\n",
       "      <td>35</td>\n",
       "    </tr>\n",
       "    <tr>\n",
       "      <th>4</th>\n",
       "      <td>3</td>\n",
       "      <td>1/07/2022</td>\n",
       "      <td>pulls_diesel</td>\n",
       "      <td>1300</td>\n",
       "      <td>Kharkiv</td>\n",
       "      <td>35</td>\n",
       "    </tr>\n",
       "    <tr>\n",
       "      <th>5</th>\n",
       "      <td>4</td>\n",
       "      <td>16/01/2023</td>\n",
       "      <td>pulls_diesel</td>\n",
       "      <td>1250</td>\n",
       "      <td>Dnipro</td>\n",
       "      <td>35</td>\n",
       "    </tr>\n",
       "    <tr>\n",
       "      <th>6</th>\n",
       "      <td>1</td>\n",
       "      <td>29/07/2022</td>\n",
       "      <td>bio-diesel</td>\n",
       "      <td>500</td>\n",
       "      <td>Lviv</td>\n",
       "      <td>45</td>\n",
       "    </tr>\n",
       "    <tr>\n",
       "      <th>7</th>\n",
       "      <td>4</td>\n",
       "      <td>12/06/2022</td>\n",
       "      <td>bio-diesel</td>\n",
       "      <td>1000</td>\n",
       "      <td>Dnipro</td>\n",
       "      <td>45</td>\n",
       "    </tr>\n",
       "    <tr>\n",
       "      <th>8</th>\n",
       "      <td>2</td>\n",
       "      <td>13/03/2022</td>\n",
       "      <td>ethanol</td>\n",
       "      <td>1015</td>\n",
       "      <td>Kyiv</td>\n",
       "      <td>29</td>\n",
       "    </tr>\n",
       "    <tr>\n",
       "      <th>9</th>\n",
       "      <td>3</td>\n",
       "      <td>17/02/2023</td>\n",
       "      <td>ethanol</td>\n",
       "      <td>980</td>\n",
       "      <td>Kharkiv</td>\n",
       "      <td>29</td>\n",
       "    </tr>\n",
       "    <tr>\n",
       "      <th>10</th>\n",
       "      <td>5</td>\n",
       "      <td>10/05/2022</td>\n",
       "      <td>pulls_95</td>\n",
       "      <td>900</td>\n",
       "      <td>Vinnitsa</td>\n",
       "      <td>33</td>\n",
       "    </tr>\n",
       "    <tr>\n",
       "      <th>11</th>\n",
       "      <td>5</td>\n",
       "      <td>15/02/2022</td>\n",
       "      <td>pulls_95</td>\n",
       "      <td>1010</td>\n",
       "      <td>Vinnitsa</td>\n",
       "      <td>33</td>\n",
       "    </tr>\n",
       "  </tbody>\n",
       "</table>\n",
       "</div>"
      ],
      "text/plain": [
       "    id        date     fuel_type  fuel_amount  location  price\n",
       "0    1  14/04/2022      gasoline         1000      Lviv     30\n",
       "1    2  30/03/2022      gasoline          800      Kyiv     30\n",
       "2    4  22/04/2022      gasoline          815    Dnipro     30\n",
       "3    1  28/05/2023  pulls_diesel          999      Lviv     35\n",
       "4    3   1/07/2022  pulls_diesel         1300   Kharkiv     35\n",
       "5    4  16/01/2023  pulls_diesel         1250    Dnipro     35\n",
       "6    1  29/07/2022    bio-diesel          500      Lviv     45\n",
       "7    4  12/06/2022    bio-diesel         1000    Dnipro     45\n",
       "8    2  13/03/2022       ethanol         1015      Kyiv     29\n",
       "9    3  17/02/2023       ethanol          980   Kharkiv     29\n",
       "10   5  10/05/2022      pulls_95          900  Vinnitsa     33\n",
       "11   5  15/02/2022      pulls_95         1010  Vinnitsa     33"
      ]
     },
     "execution_count": 80,
     "metadata": {},
     "output_type": "execute_result"
    }
   ],
   "source": [
    "# зклеювання \"великого\" чеку з даними\n",
    "\n",
    "df_merged = df_conc_data.merge(df_stations, how='right')\n",
    "df_merged = df_merged.merge(df_fuel, how='right')\n",
    "df_merged"
   ]
  },
  {
   "cell_type": "code",
   "execution_count": 81,
   "id": "d244bc2a-8480-46e8-8156-8b6877e70506",
   "metadata": {},
   "outputs": [
    {
     "data": {
      "text/html": [
       "<div>\n",
       "<style scoped>\n",
       "    .dataframe tbody tr th:only-of-type {\n",
       "        vertical-align: middle;\n",
       "    }\n",
       "\n",
       "    .dataframe tbody tr th {\n",
       "        vertical-align: top;\n",
       "    }\n",
       "\n",
       "    .dataframe thead th {\n",
       "        text-align: right;\n",
       "    }\n",
       "</style>\n",
       "<table border=\"1\" class=\"dataframe\">\n",
       "  <thead>\n",
       "    <tr style=\"text-align: right;\">\n",
       "      <th></th>\n",
       "      <th>fuel_amount</th>\n",
       "      <th>price</th>\n",
       "      <th>general_price</th>\n",
       "      <th>location</th>\n",
       "    </tr>\n",
       "    <tr>\n",
       "      <th>id</th>\n",
       "      <th></th>\n",
       "      <th></th>\n",
       "      <th></th>\n",
       "      <th></th>\n",
       "    </tr>\n",
       "  </thead>\n",
       "  <tbody>\n",
       "    <tr>\n",
       "      <th>1</th>\n",
       "      <td>2499</td>\n",
       "      <td>110</td>\n",
       "      <td>87465</td>\n",
       "      <td>Lviv</td>\n",
       "    </tr>\n",
       "    <tr>\n",
       "      <th>2</th>\n",
       "      <td>1815</td>\n",
       "      <td>59</td>\n",
       "      <td>53435</td>\n",
       "      <td>Kyiv</td>\n",
       "    </tr>\n",
       "    <tr>\n",
       "      <th>3</th>\n",
       "      <td>2280</td>\n",
       "      <td>64</td>\n",
       "      <td>73920</td>\n",
       "      <td>Kharkiv</td>\n",
       "    </tr>\n",
       "    <tr>\n",
       "      <th>4</th>\n",
       "      <td>3065</td>\n",
       "      <td>110</td>\n",
       "      <td>113200</td>\n",
       "      <td>Dnipro</td>\n",
       "    </tr>\n",
       "    <tr>\n",
       "      <th>5</th>\n",
       "      <td>1910</td>\n",
       "      <td>66</td>\n",
       "      <td>63030</td>\n",
       "      <td>Vinnitsa</td>\n",
       "    </tr>\n",
       "  </tbody>\n",
       "</table>\n",
       "</div>"
      ],
      "text/plain": [
       "    fuel_amount  price  general_price  location\n",
       "id                                             \n",
       "1          2499    110          87465      Lviv\n",
       "2          1815     59          53435      Kyiv\n",
       "3          2280     64          73920   Kharkiv\n",
       "4          3065    110         113200    Dnipro\n",
       "5          1910     66          63030  Vinnitsa"
      ]
     },
     "execution_count": 81,
     "metadata": {},
     "output_type": "execute_result"
    }
   ],
   "source": [
    "# Завдання 1\n",
    "# обрахування ціни\n",
    "df_merged['general_price'] = df_merged['fuel_amount']*df_merged['price']\n",
    "df_grouped = df_merged.groupby('id').sum()\n",
    "# видалення лишньо колонки\n",
    "df_grouped.drop(columns=['price'])\n",
    "\n",
    "df_stations.index += 1 \n",
    "df_grouped['location'] = df_stations['location']\n",
    "df_grouped"
   ]
  },
  {
   "cell_type": "code",
   "execution_count": 82,
   "id": "fb5f8fc9-20cb-4736-9d69-dce9374fb5b0",
   "metadata": {},
   "outputs": [
    {
     "data": {
      "text/plain": [
       "<AxesSubplot:xlabel='id'>"
      ]
     },
     "execution_count": 82,
     "metadata": {},
     "output_type": "execute_result"
    },
    {
     "data": {
      "image/png": "[encoded data removed]",
      "text/plain": [
       "<Figure size 640x480 with 1 Axes>"
      ]
     },
     "metadata": {},
     "output_type": "display_data"
    }
   ],
   "source": [
    "# Завдання 2\n",
    "#графік\n",
    "df_grouped['general_price'].plot(kind='bar')"
   ]
  },
  {
   "cell_type": "code",
   "execution_count": 83,
   "id": "ce1755a8-248c-45f0-bcee-a36f0bd9746d",
   "metadata": {},
   "outputs": [],
   "source": [
    "# Завдання 3\n",
    "# функція для віджета\n",
    "def paid_sum(fuel):\n",
    "    df_new = df_merged.groupby(['fuel_type', 'date']).sum()\n",
    "    df_new = df_new.loc[fuel, 'general_price']\n",
    "    display(df_new)\n",
    "    df_new.plot(kind = 'bar', label='da')"
   ]
  },
  {
   "cell_type": "code",
   "execution_count": 84,
   "id": "f31672dd-3dbc-4d63-a416-bdbd60a1486b",
   "metadata": {},
   "outputs": [
    {
     "data": {
      "application/vnd.jupyter.widget-view+json": {
       "model_id": "21d51898698642f59e1c3e7e718e31e0",
       "version_major": 2,
       "version_minor": 0
      },
      "text/plain": [
       "interactive(children=(Dropdown(description='fuel', options=('gasoline', 'pulls_diesel', 'bio-diesel', 'ethanol…"
      ]
     },
     "metadata": {},
     "output_type": "display_data"
    },
    {
     "data": {
      "text/plain": [
       "<function __main__.paid_sum(fuel)>"
      ]
     },
     "execution_count": 84,
     "metadata": {},
     "output_type": "execute_result"
    }
   ],
   "source": [
    "# віджет\n",
    "widgets.interact(paid_sum, fuel=df_fuel['fuel_type'])"
   ]
  },
  {
   "cell_type": "code",
   "execution_count": 85,
   "id": "93362602-28f2-4e59-b5f4-4a3754aadbb1",
   "metadata": {},
   "outputs": [
    {
     "data": {
      "text/html": [
       "<div>\n",
       "<style scoped>\n",
       "    .dataframe tbody tr th:only-of-type {\n",
       "        vertical-align: middle;\n",
       "    }\n",
       "\n",
       "    .dataframe tbody tr th {\n",
       "        vertical-align: top;\n",
       "    }\n",
       "\n",
       "    .dataframe thead th {\n",
       "        text-align: right;\n",
       "    }\n",
       "</style>\n",
       "<table border=\"1\" class=\"dataframe\">\n",
       "  <thead>\n",
       "    <tr style=\"text-align: right;\">\n",
       "      <th></th>\n",
       "      <th>id</th>\n",
       "      <th>fuel_amount</th>\n",
       "      <th>price</th>\n",
       "      <th>general_price</th>\n",
       "    </tr>\n",
       "    <tr>\n",
       "      <th>fuel_type</th>\n",
       "      <th></th>\n",
       "      <th></th>\n",
       "      <th></th>\n",
       "      <th></th>\n",
       "    </tr>\n",
       "  </thead>\n",
       "  <tbody>\n",
       "    <tr>\n",
       "      <th>bio-diesel</th>\n",
       "      <td>5</td>\n",
       "      <td>1500</td>\n",
       "      <td>90</td>\n",
       "      <td>67500</td>\n",
       "    </tr>\n",
       "    <tr>\n",
       "      <th>ethanol</th>\n",
       "      <td>5</td>\n",
       "      <td>1995</td>\n",
       "      <td>58</td>\n",
       "      <td>57855</td>\n",
       "    </tr>\n",
       "    <tr>\n",
       "      <th>gasoline</th>\n",
       "      <td>7</td>\n",
       "      <td>2615</td>\n",
       "      <td>90</td>\n",
       "      <td>78450</td>\n",
       "    </tr>\n",
       "    <tr>\n",
       "      <th>pulls_95</th>\n",
       "      <td>10</td>\n",
       "      <td>1910</td>\n",
       "      <td>66</td>\n",
       "      <td>63030</td>\n",
       "    </tr>\n",
       "    <tr>\n",
       "      <th>pulls_diesel</th>\n",
       "      <td>8</td>\n",
       "      <td>3549</td>\n",
       "      <td>105</td>\n",
       "      <td>124215</td>\n",
       "    </tr>\n",
       "  </tbody>\n",
       "</table>\n",
       "</div>"
      ],
      "text/plain": [
       "              id  fuel_amount  price  general_price\n",
       "fuel_type                                          \n",
       "bio-diesel     5         1500     90          67500\n",
       "ethanol        5         1995     58          57855\n",
       "gasoline       7         2615     90          78450\n",
       "pulls_95      10         1910     66          63030\n",
       "pulls_diesel   8         3549    105         124215"
      ]
     },
     "execution_count": 85,
     "metadata": {},
     "output_type": "execute_result"
    }
   ],
   "source": [
    "# Завдання 4\n",
    "# групую за типом пального\n",
    "df_grouped_by_fuel = df_merged.groupby('fuel_type').sum()\n",
    "df_grouped_by_fuel"
   ]
  },
  {
   "cell_type": "code",
   "execution_count": 86,
   "id": "3ba2e501-a040-4ef1-aad8-5e091c274587",
   "metadata": {},
   "outputs": [
    {
     "data": {
      "text/plain": [
       "5459"
      ]
     },
     "execution_count": 86,
     "metadata": {},
     "output_type": "execute_result"
    }
   ],
   "source": [
    "# обчислюю суму літрів дизелю пульс + 95 пульс ( це сума акційних грошей на дрони)\n",
    "money_for_drones = df_grouped_by_fuel.loc['pulls_95','fuel_amount'] + df_grouped_by_fuel.loc['pulls_diesel','fuel_amount']\n",
    "money_for_drones"
   ]
  }
 ],
 "metadata": {
  "kernelspec": {
   "display_name": "Python 3 (ipykernel)",
   "language": "python",
   "name": "python3"
  },
  "language_info": {
   "codemirror_mode": {
    "name": "ipython",
    "version": 3
   },
   "file_extension": ".py",
   "mimetype": "text/x-python",
   "name": "python",
   "nbconvert_exporter": "python",
   "pygments_lexer": "ipython3",
   "version": "3.9.13"
  }
 },
 "nbformat": 4,
 "nbformat_minor": 5
}
