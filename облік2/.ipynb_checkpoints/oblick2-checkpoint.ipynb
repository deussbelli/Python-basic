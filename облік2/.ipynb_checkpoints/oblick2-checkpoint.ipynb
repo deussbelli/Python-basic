{
 "cells": [
  {
   "cell_type": "markdown",
   "id": "8ee426b2-8f17-49e8-a491-5cdcf1926ef9",
   "metadata": {},
   "source": [
    "Розробити вказані типи 1. Розробити засоби для обліку робіт, які виконують бригади стосовно побудови та обслуговування автотраси. Бригада характеризується власним числовим ідентифікатором, назвою і прізвищем керівника. Робота характеризується назвою, числовим ідкентифікатором і тарифом оплати праці за виконання роботи на 1 км траси. Наряд на роботу містить дату, ідентифікатор бригади, ідентифікатор роботи і довжину ділянки траси, на якій була виконана робота. VMwa: Наряди подані кількома (не менше 2) окремими csv-файлами, також окремими файлами подано дані Worksta про бригади та види робіт. 2. \n",
    "Вивести: \n",
    "\n",
    "(а) таблицю, в якій для кожної бригади пораховано зароблені нею кошти за весь час; результати впорядкувати за спаданням коштів; \n",
    "\n",
    "(б) діаграму до попереднього пункту;\n",
    "\n",
    "(в) для роботи, назва якої вибирається з випадаючого списку, знайти назви бригад, які мають найбільшу сумарну довжину траси, на якій ця робота \n",
    "виконувалася за весь MaC, \n",
    "\n",
    "(г) таблицю, в якій для кожного виду робіт вказано сумарну довжину траси, на якій працювали усі бригади, за період часу, визначений віджетами для задання дат."
   ]
  },
  {
   "cell_type": "code",
   "execution_count": 1,
   "id": "c4e575e4-bc57-45bd-8f4d-3d0eacfbd756",
   "metadata": {
    "tags": []
   },
   "outputs": [],
   "source": [
    "import pandas as pd\n",
    "import matplotlib.pyplot as plt\n",
    "from ipywidgets import widgets"
   ]
  },
  {
   "cell_type": "code",
   "execution_count": 2,
   "id": "f88f151e-5aa4-45de-8814-3f758fc1ca1a",
   "metadata": {
    "tags": []
   },
   "outputs": [],
   "source": [
    "brygada_df = pd.read_csv('brygada.csv')\n",
    "work_df = pd.read_csv('work.csv')\n",
    "nar1 = pd.read_csv('nar1.csv')\n",
    "nar2 = pd.read_csv('nar2.csv')"
   ]
  },
  {
   "cell_type": "code",
   "execution_count": 3,
   "id": "e92fe27a-1b9b-4da3-a9c8-7deae20c01ff",
   "metadata": {
    "tags": []
   },
   "outputs": [],
   "source": [
    "naryad_df = pd.concat([nar1, nar2], ignore_index=True)"
   ]
  },
  {
   "cell_type": "markdown",
   "id": "f63d54eb-896d-4735-a6e7-f028d98ada2d",
   "metadata": {},
   "source": [
    " таблицю, в якій для кожної бригади пораховано зароблені нею кошти за весь час; результати впорядкувати за спаданням коштів; "
   ]
  },
  {
   "cell_type": "code",
   "execution_count": 4,
   "id": "ec238201-fab7-4423-a4cd-1f403fe5e1c9",
   "metadata": {
    "tags": []
   },
   "outputs": [
    {
     "data": {
      "text/html": [
       "<div>\n",
       "<style scoped>\n",
       "    .dataframe tbody tr th:only-of-type {\n",
       "        vertical-align: middle;\n",
       "    }\n",
       "\n",
       "    .dataframe tbody tr th {\n",
       "        vertical-align: top;\n",
       "    }\n",
       "\n",
       "    .dataframe thead th {\n",
       "        text-align: right;\n",
       "    }\n",
       "</style>\n",
       "<table border=\"1\" class=\"dataframe\">\n",
       "  <thead>\n",
       "    <tr style=\"text-align: right;\">\n",
       "      <th></th>\n",
       "      <th>date</th>\n",
       "      <th>id_brygada</th>\n",
       "      <th>id_work</th>\n",
       "      <th>km</th>\n",
       "      <th>name_brygada</th>\n",
       "      <th>lastname_boss</th>\n",
       "      <th>work_nam</th>\n",
       "      <th>taryf</th>\n",
       "    </tr>\n",
       "  </thead>\n",
       "  <tbody>\n",
       "    <tr>\n",
       "      <th>0</th>\n",
       "      <td>17.09.2023</td>\n",
       "      <td>11</td>\n",
       "      <td>1111</td>\n",
       "      <td>67</td>\n",
       "      <td>malyary</td>\n",
       "      <td>Rudenko</td>\n",
       "      <td>mitannya</td>\n",
       "      <td>5</td>\n",
       "    </tr>\n",
       "    <tr>\n",
       "      <th>1</th>\n",
       "      <td>20.08.2023</td>\n",
       "      <td>11</td>\n",
       "      <td>2222</td>\n",
       "      <td>69</td>\n",
       "      <td>malyary</td>\n",
       "      <td>Rudenko</td>\n",
       "      <td>liplennua</td>\n",
       "      <td>6</td>\n",
       "    </tr>\n",
       "    <tr>\n",
       "      <th>2</th>\n",
       "      <td>18.09.2023</td>\n",
       "      <td>22</td>\n",
       "      <td>3333</td>\n",
       "      <td>43</td>\n",
       "      <td>brydanyky</td>\n",
       "      <td>Gudysh</td>\n",
       "      <td>skladannya</td>\n",
       "      <td>7</td>\n",
       "    </tr>\n",
       "    <tr>\n",
       "      <th>3</th>\n",
       "      <td>18.09.2023</td>\n",
       "      <td>33</td>\n",
       "      <td>3333</td>\n",
       "      <td>21</td>\n",
       "      <td>lisnyky</td>\n",
       "      <td>Kolomoyski</td>\n",
       "      <td>skladannya</td>\n",
       "      <td>7</td>\n",
       "    </tr>\n",
       "  </tbody>\n",
       "</table>\n",
       "</div>"
      ],
      "text/plain": [
       "         date  id_brygada  id_work  km name_brygada lastname_boss    work_nam  \\\n",
       "0  17.09.2023          11     1111  67      malyary       Rudenko    mitannya   \n",
       "1  20.08.2023          11     2222  69      malyary       Rudenko   liplennua   \n",
       "2  18.09.2023          22     3333  43    brydanyky        Gudysh  skladannya   \n",
       "3  18.09.2023          33     3333  21      lisnyky    Kolomoyski  skladannya   \n",
       "\n",
       "   taryf  \n",
       "0      5  \n",
       "1      6  \n",
       "2      7  \n",
       "3      7  "
      ]
     },
     "execution_count": 4,
     "metadata": {},
     "output_type": "execute_result"
    }
   ],
   "source": [
    "df = naryad_df.merge(brygada_df, on='id_brygada')\n",
    "df = df.merge(work_df, on='id_work')\n",
    "df"
   ]
  },
  {
   "cell_type": "code",
   "execution_count": 5,
   "id": "5fb55a6e-e17d-401f-b8af-04e6f2c6a783",
   "metadata": {
    "tags": []
   },
   "outputs": [
    {
     "data": {
      "text/html": [
       "<div>\n",
       "<style scoped>\n",
       "    .dataframe tbody tr th:only-of-type {\n",
       "        vertical-align: middle;\n",
       "    }\n",
       "\n",
       "    .dataframe tbody tr th {\n",
       "        vertical-align: top;\n",
       "    }\n",
       "\n",
       "    .dataframe thead th {\n",
       "        text-align: right;\n",
       "    }\n",
       "</style>\n",
       "<table border=\"1\" class=\"dataframe\">\n",
       "  <thead>\n",
       "    <tr style=\"text-align: right;\">\n",
       "      <th></th>\n",
       "      <th>date</th>\n",
       "      <th>id_brygada</th>\n",
       "      <th>id_work</th>\n",
       "      <th>km</th>\n",
       "      <th>name_brygada</th>\n",
       "      <th>lastname_boss</th>\n",
       "      <th>work_nam</th>\n",
       "      <th>taryf</th>\n",
       "      <th>all_money</th>\n",
       "    </tr>\n",
       "  </thead>\n",
       "  <tbody>\n",
       "    <tr>\n",
       "      <th>0</th>\n",
       "      <td>17.09.2023</td>\n",
       "      <td>11</td>\n",
       "      <td>1111</td>\n",
       "      <td>67</td>\n",
       "      <td>malyary</td>\n",
       "      <td>Rudenko</td>\n",
       "      <td>mitannya</td>\n",
       "      <td>5</td>\n",
       "      <td>335</td>\n",
       "    </tr>\n",
       "    <tr>\n",
       "      <th>1</th>\n",
       "      <td>20.08.2023</td>\n",
       "      <td>11</td>\n",
       "      <td>2222</td>\n",
       "      <td>69</td>\n",
       "      <td>malyary</td>\n",
       "      <td>Rudenko</td>\n",
       "      <td>liplennua</td>\n",
       "      <td>6</td>\n",
       "      <td>414</td>\n",
       "    </tr>\n",
       "    <tr>\n",
       "      <th>2</th>\n",
       "      <td>18.09.2023</td>\n",
       "      <td>22</td>\n",
       "      <td>3333</td>\n",
       "      <td>43</td>\n",
       "      <td>brydanyky</td>\n",
       "      <td>Gudysh</td>\n",
       "      <td>skladannya</td>\n",
       "      <td>7</td>\n",
       "      <td>301</td>\n",
       "    </tr>\n",
       "    <tr>\n",
       "      <th>3</th>\n",
       "      <td>18.09.2023</td>\n",
       "      <td>33</td>\n",
       "      <td>3333</td>\n",
       "      <td>21</td>\n",
       "      <td>lisnyky</td>\n",
       "      <td>Kolomoyski</td>\n",
       "      <td>skladannya</td>\n",
       "      <td>7</td>\n",
       "      <td>147</td>\n",
       "    </tr>\n",
       "  </tbody>\n",
       "</table>\n",
       "</div>"
      ],
      "text/plain": [
       "         date  id_brygada  id_work  km name_brygada lastname_boss    work_nam  \\\n",
       "0  17.09.2023          11     1111  67      malyary       Rudenko    mitannya   \n",
       "1  20.08.2023          11     2222  69      malyary       Rudenko   liplennua   \n",
       "2  18.09.2023          22     3333  43    brydanyky        Gudysh  skladannya   \n",
       "3  18.09.2023          33     3333  21      lisnyky    Kolomoyski  skladannya   \n",
       "\n",
       "   taryf  all_money  \n",
       "0      5        335  \n",
       "1      6        414  \n",
       "2      7        301  \n",
       "3      7        147  "
      ]
     },
     "execution_count": 5,
     "metadata": {},
     "output_type": "execute_result"
    }
   ],
   "source": [
    "df['all_money'] = df['km'] * df['taryf']\n",
    "df"
   ]
  },
  {
   "cell_type": "code",
   "execution_count": 6,
   "id": "8c29e630-971d-4047-be62-b395e8a8da4f",
   "metadata": {
    "tags": []
   },
   "outputs": [
    {
     "data": {
      "text/plain": [
       "name_brygada\n",
       "malyary      749\n",
       "brydanyky    301\n",
       "lisnyky      147\n",
       "Name: all_money, dtype: int64"
      ]
     },
     "execution_count": 6,
     "metadata": {},
     "output_type": "execute_result"
    }
   ],
   "source": [
    "bri_group = df.groupby('name_brygada')['all_money'].sum()\n",
    "bri_group = bri_group.sort_values(ascending = False)\n",
    "bri_group\n",
    "                              "
   ]
  },
  {
   "cell_type": "markdown",
   "id": "c6774704-714b-41d1-b2f5-98853ab0f40e",
   "metadata": {},
   "source": [
    ") діаграму до попереднього пункту;"
   ]
  },
  {
   "cell_type": "code",
   "execution_count": 7,
   "id": "ff396d0a-76cc-4eb2-bb7f-739bc6d96bfe",
   "metadata": {
    "tags": []
   },
   "outputs": [
    {
     "data": {
      "image/png": "[encoded data removed]",
      "text/plain": [
       "<Figure size 640x480 with 1 Axes>"
      ]
     },
     "metadata": {},
     "output_type": "display_data"
    }
   ],
   "source": [
    "plt.bar(bri_group.index, bri_group.values)\n",
    "plt.title(\"Заробіток бригад\")\n",
    "plt.show()"
   ]
  },
  {
   "cell_type": "markdown",
   "id": "e368ce8e-b41f-4c85-ad02-af9815a8b4b3",
   "metadata": {
    "tags": []
   },
   "source": [
    "для роботи, назва якої вибирається з випадаючого списку, знайти назви бригад, які мають найбільшу сумарну довжину траси, на якій ця робота \n",
    "виконувалася за весь час"
   ]
  },
  {
   "cell_type": "code",
   "execution_count": 8,
   "id": "785c20b2-91ed-4357-94d8-100aaf8098c3",
   "metadata": {
    "tags": []
   },
   "outputs": [],
   "source": [
    "def search_brygada(work):\n",
    "    br_df = df[df['work_nam'] == work]\n",
    "    gr = br_df.groupby('name_brygada')['km'].sum()\n",
    "    gr = gr.sort_values(ascending = False)\n",
    "    grr = gr.index.tolist()\n",
    "    print(grr)"
   ]
  },
  {
   "cell_type": "code",
   "execution_count": 9,
   "id": "44281a24-2545-4186-b90f-293d223fd415",
   "metadata": {
    "tags": []
   },
   "outputs": [
    {
     "data": {
      "application/vnd.jupyter.widget-view+json": {
       "model_id": "90b3e8537ac04402ae8abac3d9010eb6",
       "version_major": 2,
       "version_minor": 0
      },
      "text/plain": [
       "interactive(children=(Dropdown(description='work', options=('mitannya', 'liplennua', 'skladannya'), value='mit…"
      ]
     },
     "metadata": {},
     "output_type": "display_data"
    },
    {
     "name": "stdout",
     "output_type": "stream",
     "text": [
      "\n"
     ]
    }
   ],
   "source": [
    "widgets.interact(search_brygada, work = work_df['work_nam'])\n",
    "print()"
   ]
  },
  {
   "cell_type": "markdown",
   "id": "1569e3cc-e1ee-4a46-b8d9-ba2ca8fcd724",
   "metadata": {},
   "source": [
    "таблицю, в якій для кожного виду робіт вказано сумарну довжину траси, на якій працювали усі бригади, за період часу, визначений віджетами для задання дат."
   ]
  },
  {
   "cell_type": "code",
   "execution_count": 10,
   "id": "60278260-b8f5-447a-aa06-3ac8586d1550",
   "metadata": {
    "tags": []
   },
   "outputs": [],
   "source": [
    "def sum_km(start_date, final_date):\n",
    "    start_date = pd.to_datetime(start_date, format = '%d.%m.%Y')\n",
    "    final_date = pd.to_datetime(final_date, format = '%d.%m.%Y')\n",
    "    df['date'] = pd.to_datetime(df['date'], format = '%d.%m.%Y')\n",
    "    \n",
    "    km_df = df[(df['date'] >= start_date) & (df['date'] <= final_date)]\n",
    "    group = km_df.groupby('work_nam')['km'].sum()\n",
    "    print(group)"
   ]
  },
  {
   "cell_type": "code",
   "execution_count": 11,
   "id": "32fbbe84-218a-49e6-b420-5bed0bed97f4",
   "metadata": {
    "tags": []
   },
   "outputs": [
    {
     "data": {
      "application/vnd.jupyter.widget-view+json": {
       "model_id": "5c6231daf38e46cca51658e8571ddd15",
       "version_major": 2,
       "version_minor": 0
      },
      "text/plain": [
       "interactive(children=(Dropdown(description='start_date', options=('17.09.2023', '20.08.2023', '18.09.2023'), v…"
      ]
     },
     "metadata": {},
     "output_type": "display_data"
    },
    {
     "name": "stdout",
     "output_type": "stream",
     "text": [
      "\n"
     ]
    }
   ],
   "source": [
    "widgets.interact(sum_km, start_date = df['date'].unique(), final_date =  df['date'].unique())\n",
    "print()"
   ]
  },
  {
   "cell_type": "code",
   "execution_count": 15,
   "id": "05adf588-0d31-4d84-a6f3-6fc12e371253",
   "metadata": {
    "tags": []
   },
   "outputs": [
    {
     "name": "stdout",
     "output_type": "stream",
     "text": [
      "Work name: litaty\n",
      "ID: 222\n",
      "Taryf: 67\n"
     ]
    }
   ],
   "source": [
    "class Work:\n",
    "    def __init__(self, name, id, taryf):\n",
    "        self.__name = name\n",
    "        self.__id = id\n",
    "        self.__taryf = taryf\n",
    "        \n",
    "    @property\n",
    "    def name(self):\n",
    "        return self.__name\n",
    "    \n",
    "    @name.setter\n",
    "    def name(self,n):\n",
    "        self.__name = n\n",
    "    \n",
    "    @property\n",
    "    def id(self):\n",
    "        return self.__id\n",
    "    \n",
    "    @id.setter\n",
    "    def id(self,n):\n",
    "        self.__id = n\n",
    "        \n",
    "    @property\n",
    "    def taryf(self):\n",
    "        return self.__taryf\n",
    "    \n",
    "    @taryf.setter\n",
    "    def taryf(self,n):\n",
    "        self.__taryf = n\n",
    "        \n",
    "    def __str__(self):\n",
    "        return f\"Work name: {self.name}\\nID: {self.id}\\nTaryf: {self.taryf}\"\n",
    "        \n",
    "        \n",
    "c = Work('litaty', 222, 67)\n",
    "print(c)\n",
    "    "
   ]
  },
  {
   "cell_type": "code",
   "execution_count": null,
   "id": "b2d625f2-c7e6-4ac4-ae93-798d342de384",
   "metadata": {},
   "outputs": [],
   "source": []
  }
 ],
 "metadata": {
  "kernelspec": {
   "display_name": "Python 3 (ipykernel)",
   "language": "python",
   "name": "python3"
  },
  "language_info": {
   "codemirror_mode": {
    "name": "ipython",
    "version": 3
   },
   "file_extension": ".py",
   "mimetype": "text/x-python",
   "name": "python",
   "nbconvert_exporter": "python",
   "pygments_lexer": "ipython3",
   "version": "3.11.4"
  }
 },
 "nbformat": 4,
 "nbformat_minor": 5
}
