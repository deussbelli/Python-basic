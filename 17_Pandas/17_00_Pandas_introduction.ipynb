{
 "cells": [
  {
   "cell_type": "markdown",
   "metadata": {},
   "source": [
    "## [**``Pandas``**](https://pandas.pydata.org/) -- **Pan**el **da**ta **s**ets -- framework for multi-dimensional data sets\n",
    "_____________________________\n",
    "\n",
    "* A powerful data analysis and manipulation (an open-source) library for Python providing fast, flexible, and expressive **data structures** designed to make working with \"relational\" or \"labeled\" data both easy and intuitive\n",
    "\n",
    "* The fundamental high-level building block for doing practical, **real world** data analysis in Python\n"
   ]
  },
  {
   "cell_type": "markdown",
   "metadata": {},
   "source": [
    "0. [A guide to many pandas tutorials](http://pandas.pydata.org/pandas-docs/version/0.15/tutorials.html)\n",
    "\n",
    "1. [Yufeng: Wrangling Data with Pandas (AI Adventures)](https://www.youtube.com/watch?v=XDAnFZqJDvI)\n",
    "\n",
    "2. [Python Pandas Tutorial 1. What is Pandas python? Introduction](https://www.youtube.com/watch?v=CmorAWRsCAw) from\n",
    "[codebasics](https://github.com/codebasics/py/tree/master/pandas)\n",
    "\n",
    "3. [Kevin Markham: Best practices with pandas](https://www.youtube.com/playlist?list=PL5-da3qGB5IBITZj_dYSFqnd_15JgqwA6)\n",
    "\n",
    "4. [Jake VanderPlas: Python Data Science Handbook, chapt.3](https://github.com/jakevdp/PythonDataScienceHandbook)\n",
    "\n",
    "5. [Corey Schafer: **Python Pandas Tutorial** (Part 1): Getting Started with Data Analysis - Installation and Loading Data](https://www.youtube.com/watch?v=ZyhVh-qRZPA&list=PL-osiE80TeTsWmV9i9c58mdDCSskIFdDS&ab_channel=CoreySchafer)\n",
    "\n",
    "6. [pandas.kaggle](https://www.kaggle.com/learn/pandas)"
   ]
  },
  {
   "cell_type": "code",
   "execution_count": null,
   "metadata": {
    "tags": []
   },
   "outputs": [],
   "source": [
    "import pandas as pd"
   ]
  },
  {
   "cell_type": "markdown",
   "metadata": {},
   "source": [
    "* ``DataFrame`` is the most important part of the Pandas\n",
    "* ``DataFrame`` holds the type of data you might think of as a **table**. This is similar to a sheet in Excel, or a table in a SQL database.\n"
   ]
  },
  {
   "cell_type": "code",
   "execution_count": null,
   "metadata": {
    "scrolled": true
   },
   "outputs": [],
   "source": [
    "df = pd.read_csv('nyc_weather.csv')"
   ]
  },
  {
   "cell_type": "code",
   "execution_count": null,
   "metadata": {},
   "outputs": [],
   "source": [
    "dir(df)\n"
   ]
  },
  {
   "cell_type": "code",
   "execution_count": null,
   "metadata": {},
   "outputs": [],
   "source": [
    "help(df.to_dict)"
   ]
  },
  {
   "cell_type": "code",
   "execution_count": null,
   "metadata": {
    "scrolled": true
   },
   "outputs": [],
   "source": [
    "# what does each row represent? \n",
    "df"
   ]
  },
  {
   "cell_type": "code",
   "execution_count": null,
   "metadata": {},
   "outputs": [],
   "source": [
    "df.shape"
   ]
  },
  {
   "cell_type": "code",
   "execution_count": null,
   "metadata": {},
   "outputs": [],
   "source": [
    "import matplotlib.pyplot as plt\n",
    "%matplotlib widget\n",
    "#%matplotlib inline\n",
    "#df['Temperature'].plot(kind = 'bar');\n",
    "df['Temperature'].plot();\n",
    "df['Humidity'].plot();"
   ]
  },
  {
   "cell_type": "code",
   "execution_count": null,
   "metadata": {
    "scrolled": true
   },
   "outputs": [],
   "source": [
    "df['EST'][df['Events']=='Rain']"
   ]
  },
  {
   "cell_type": "code",
   "execution_count": null,
   "metadata": {},
   "outputs": [],
   "source": [
    "df.fillna(0, inplace=True)\n",
    "df['WindSpeedMPH'].mean()"
   ]
  },
  {
   "cell_type": "code",
   "execution_count": null,
   "metadata": {},
   "outputs": [],
   "source": [
    "df"
   ]
  },
  {
   "cell_type": "code",
   "execution_count": null,
   "metadata": {},
   "outputs": [],
   "source": [
    "df.describe()"
   ]
  },
  {
   "cell_type": "code",
   "execution_count": null,
   "metadata": {},
   "outputs": [],
   "source": [
    "df.PrecipitationIn.sum()"
   ]
  },
  {
   "cell_type": "code",
   "execution_count": null,
   "metadata": {},
   "outputs": [],
   "source": [
    "# Maximum value in the data set\n",
    "maxValue = df['Temperature'].max()\n",
    "print(maxValue)"
   ]
  },
  {
   "cell_type": "code",
   "execution_count": null,
   "metadata": {},
   "outputs": [],
   "source": [
    "print(\"The most warm days\")\n",
    "df[df['Temperature'] == maxValue]\n",
    "#df[df['Temperature'] == df['Temperature'].max()]"
   ]
  },
  {
   "cell_type": "markdown",
   "metadata": {},
   "source": [
    "#### Main features\n",
    "__________________________\n",
    "\n",
    "  - Easy handling of missing data in floating point as well as non-floating\n",
    "    point data\n",
    "  - Size mutability: columns can be inserted and deleted from DataFrame \n",
    "  - Automatic and explicit data alignment: objects can  be explicitly aligned\n",
    "    to a set of labels, or the user can simply ignore the labels and let\n",
    "    `Series`, `DataFrame`, etc. automatically align the data for computations\n",
    "  - Powerful, flexible group by functionality to perform split-apply-combine\n",
    "    operations on data sets, for both aggregating and transforming data\n",
    "  - Make it easy to convert ragged, differently-indexed data in other Python\n",
    "    and NumPy data structures into DataFrame objects\n",
    "  - Intelligent label-based slicing, fancy indexing, and subsetting of large\n",
    "    data sets\n",
    "  - Intuitive merging and joining data sets\n",
    "  - Flexible reshaping and pivoting of data sets\n",
    "  - Hierarchical labeling of axes (possible to have multiple labels per tick)\n",
    "  - Robust IO tools for loading data from flat files (CSV and delimited),\n",
    "    Excel files, databases, and saving/loading data from the ultrafast HDF5\n",
    "    format\n",
    "  - Time series-specific functionality: date range generation and frequency\n",
    "    conversion, moving window statistics, moving window linear regressions,\n",
    "    date shifting and lagging, "
   ]
  },
  {
   "cell_type": "markdown",
   "metadata": {},
   "source": [
    "###  Dataset: Stanford Open Policing Project  ([video](https://www.youtube.com/watch?v=hl-TGI4550M&list=PL5-da3qGB5IBITZj_dYSFqnd_15JgqwA6&index=1))\n",
    "\n",
    "https://openpolicing.stanford.edu/\n"
   ]
  },
  {
   "cell_type": "code",
   "execution_count": null,
   "metadata": {},
   "outputs": [],
   "source": [
    "# ri stands for Rhode Island\n",
    "ri = pd.read_csv('police.csv')"
   ]
  },
  {
   "cell_type": "code",
   "execution_count": null,
   "metadata": {
    "scrolled": true
   },
   "outputs": [],
   "source": [
    "# what does each row represent?\n",
    "#ri\n",
    "ri.head()"
   ]
  },
  {
   "cell_type": "code",
   "execution_count": null,
   "metadata": {},
   "outputs": [],
   "source": [
    "ri.shape"
   ]
  },
  {
   "cell_type": "code",
   "execution_count": null,
   "metadata": {},
   "outputs": [],
   "source": [
    "# make sure you create this column\n",
    "combined = ri.stop_date.str.cat(ri.stop_time, sep=' ')\n",
    "type(combined)"
   ]
  },
  {
   "cell_type": "code",
   "execution_count": null,
   "metadata": {},
   "outputs": [],
   "source": [
    "ri['stop_datetime'] = pd.to_datetime(combined)\n",
    "ri.groupby(ri.stop_datetime.dt.hour).stop_date.count()\n",
    "#ri.groupby(ri.stop_datetime.dt.hour).stop_date.count().plot()"
   ]
  },
  {
   "cell_type": "code",
   "execution_count": null,
   "metadata": {},
   "outputs": [],
   "source": [
    "ri.shape"
   ]
  },
  {
   "cell_type": "code",
   "execution_count": null,
   "metadata": {
    "scrolled": true
   },
   "outputs": [],
   "source": [
    "ri.head()"
   ]
  },
  {
   "cell_type": "code",
   "execution_count": null,
   "metadata": {},
   "outputs": [],
   "source": []
  }
 ],
 "metadata": {
  "anaconda-cloud": {},
  "kernelspec": {
   "display_name": "Python 3 (ipykernel)",
   "language": "python",
   "name": "python3"
  },
  "language_info": {
   "codemirror_mode": {
    "name": "ipython",
    "version": 3
   },
   "file_extension": ".py",
   "mimetype": "text/x-python",
   "name": "python",
   "nbconvert_exporter": "python",
   "pygments_lexer": "ipython3",
   "version": "3.9.7"
  }
 },
 "nbformat": 4,
 "nbformat_minor": 4
}
