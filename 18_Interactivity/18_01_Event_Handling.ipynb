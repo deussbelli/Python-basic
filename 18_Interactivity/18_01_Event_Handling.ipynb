{
 "cells": [
  {
   "cell_type": "markdown",
   "metadata": {},
   "source": [
    "## Introduction to `matplotlib` interactivity"
   ]
  },
  {
   "cell_type": "markdown",
   "metadata": {},
   "source": [
    "[Corey Schafer: Matplotlib Tutorial](https://www.youtube.com/playlist?list=PL-osiE80TeTvipOqomVEeZ1HRrcEvtZB_)\n",
    "\n",
    "[Interactive plots](https://matplotlib.org/users/interactive.html)\n",
    "\n",
    "[Jupyter Widgets](https://ipywidgets.readthedocs.io/en/latest/)\n",
    "\n",
    "[UI with PyQt](https://realpython.com/python-menus-toolbars/#building-python-menu-bars-menus-and-toolbars-in-pyqt)"
   ]
  },
  {
   "cell_type": "markdown",
   "metadata": {
    "tags": []
   },
   "source": [
    "## 1. Interactive and non-interactive backends\n",
    "_____________________\n",
    "*  Interactive (user interface) backends for use in PyQt/PySide, PyGObject, Tkinter, wxPython, or macOS/Cocoa \n",
    "*  Non-interactive (hardcopy) backends to make image files (PNG, SVG, PDF, PS)"
   ]
  },
  {
   "cell_type": "markdown",
   "metadata": {},
   "source": [
    "\n",
    "``ipympl`` provides \n",
    "* a **frontend** (in javascript) which handles: \n",
    "    * displaying the plots \n",
    "    * handling interaction events\n",
    "\n",
    "* a **backend** (in python) that renders the plots and interfaces with user code. \n",
    "\n",
    "These two parts need to be able to communicate with each other for everything to work. \n",
    "\n",
    "``ipympl`` enables using the interactive features of matplotlib in Jupyter Notebooks, Jupyter Lab, Google Colab, VSCode notebooks."
   ]
  },
  {
   "cell_type": "markdown",
   "metadata": {},
   "source": [
    "#### 1.1. `%matplotlib` magic command parameters for backend setup:\n",
    "_____________________\n",
    "* `ipympl` --  for using  **`ipympl`** backend, which enables the interactive features of matplotlib in Jupyter Notebooks, Jupyter Lab, Google Colab, VSCode notebooks (explicit ``plt.show()``)\n",
    "* `widget` --  for using  **`ipympl`** backend \n",
    "* `notebook` -- for using  **`nbagg`** backend to enable interactive figures in notebook \n",
    "* `inline` -- for displaying ``matplotlib`` figures inline"
   ]
  },
  {
   "cell_type": "code",
   "execution_count": 1,
   "metadata": {},
   "outputs": [],
   "source": [
    "import matplotlib.pyplot as plt\n",
    "import numpy as np"
   ]
  },
  {
   "cell_type": "markdown",
   "metadata": {},
   "source": [
    "#### 1.2. Default interactive GUI-elements of the figure\n",
    "____________________\n",
    "\n",
    "\n",
    "* title bar across top\n",
    "* navigation toolbar -- a series of buttons along the bottom left edge which provides the majority of backend interactivity\n",
    "* a pair of `x` and `y` coordinates at the bottom right edge of the plot (as soon as the cursor enters the figure); this readout updates the actual values of a particular data point in the graph with every movement of the mouse  "
   ]
  },
  {
   "cell_type": "markdown",
   "metadata": {},
   "source": [
    "**Example 1:**  a simple plot of some random, normally distributed data onto a 2-dimensional scatterplot"
   ]
  },
  {
   "cell_type": "code",
   "execution_count": 2,
   "metadata": {},
   "outputs": [
    {
     "data": {
      "image/png": "[encoded data removed]",
      "text/plain": [
       "<Figure size 640x480 with 1 Axes>"
      ]
     },
     "metadata": {},
     "output_type": "display_data"
    }
   ],
   "source": [
    "plt.scatter(np.random.randn(100), np.random.randn(100));"
   ]
  },
  {
   "cell_type": "code",
   "execution_count": 3,
   "metadata": {},
   "outputs": [],
   "source": [
    "plt.close('all')"
   ]
  },
  {
   "cell_type": "markdown",
   "metadata": {},
   "source": [
    "## 2. Event Handling\n",
    "_____________\n",
    "\n",
    "* hooking code into the **event loop** \n",
    "* call the `mpl_connect()` method from the current figure's canvas object and pass in the name of an event and a **callback function** \n",
    "* when the specified event occurs, this callback function will be called and it will be passed one of several objects specific to the type of event this callback function is handling."
   ]
  },
  {
   "cell_type": "markdown",
   "metadata": {},
   "source": [
    "#### ``mpl_connect(s, func)`` \n",
    "\n",
    "Connect event with string `s` to `func`\n",
    "\n",
    "* ``def func(event)`` -- where ``event`` is an instance of the class derived from ``matplotlib.backend_bases.Event`` \n",
    "* return value of `mpl_connect()` is a connection `id` that can be used with `mpl_disconnect()`\n",
    "\n",
    "## 3. Available events:\n",
    "_________________\n",
    "\n",
    "* `'button_press_event'`\n",
    "* `'button_release_event'`\n",
    "* `'draw_event'`\n",
    "* `'key_press_event'`\n",
    "* `'key_release_event'`\n",
    "* `'motion_notify_event'`\n",
    "* `'pick_event'`\n",
    "* `'resize_event'`\n",
    "* `'scroll_event'`\n",
    "* `'figure_enter_event'`\n",
    "* `'figure_leave_event'`\n",
    "* `'axes_enter_event'`\n",
    "* `'axes_leave_event'`\n",
    "* `'close_event'`"
   ]
  },
  {
   "cell_type": "markdown",
   "metadata": {},
   "source": [
    "## 4. Handling mouse buttons events\n",
    "______________________\n",
    "\n",
    "#### 4.1. Checking if the left mouse button was clicked\n",
    "__________________\n",
    "**Example 2:** using the x and y coordinates where the user clicked to plot a handful of normally distributed, random data points; "
   ]
  },
  {
   "cell_type": "code",
   "execution_count": 4,
   "metadata": {},
   "outputs": [],
   "source": [
    "def button_press_handler(event):\n",
    "    if event.button == 1:\n",
    "        sigma = 0.05\n",
    "        n = 10\n",
    "        xs = sigma * np.random.randn(n) + event.xdata\n",
    "        ys = sigma * np.random.randn(n) + event.ydata\n",
    "        plt.plot(xs, ys, 'bo')"
   ]
  },
  {
   "cell_type": "code",
   "execution_count": 5,
   "metadata": {},
   "outputs": [
    {
     "data": {
      "image/png": "[encoded data removed]",
      "text/plain": [
       "<Figure size 600x400 with 1 Axes>"
      ]
     },
     "metadata": {},
     "output_type": "display_data"
    }
   ],
   "source": [
    "fig = plt.figure(figsize=(6, 4))# create a new Figure object\n",
    "ax = fig.gca()            # grab figure's axes object\n",
    "#ax.grid('off')\n",
    "ax.grid('on')\n",
    "ax.set_autoscale_on(False)# True -- rescaling to fit all of data points as tightly as possible"
   ]
  },
  {
   "cell_type": "code",
   "execution_count": 6,
   "metadata": {},
   "outputs": [],
   "source": [
    "# Connect the event listeners  \n",
    "fig.canvas.mpl_connect('button_press_event', button_press_handler);"
   ]
  },
  {
   "cell_type": "markdown",
   "metadata": {},
   "source": [
    "Major problem with the figure above: click on the one of built-in interactivity buttons doesn't stop plotting new points. "
   ]
  },
  {
   "cell_type": "markdown",
   "metadata": {},
   "source": [
    "#### 4.2. Ignoring mouse events outside of normal mode (== no mode)\n",
    "______________________\n",
    "\n",
    "1. grab a reference to the toolbar\n",
    "2. check the current mode \n"
   ]
  },
  {
   "cell_type": "code",
   "execution_count": 7,
   "metadata": {},
   "outputs": [],
   "source": [
    "def button_press_handler(event):\n",
    "    # Get the toolbar and make sure that we are not in zoom or pan mode. \n",
    "    # If we are, just exit without doing anything\n",
    "    toolbar = plt.get_current_fig_manager().toolbar\n",
    "    if toolbar.mode != \"\":\n",
    "        pass\n",
    "    elif event.button == 1:\n",
    "        sigma = 0.05\n",
    "        n = 10\n",
    "        xs = sigma * np.random.randn(n) + event.xdata\n",
    "        ys = sigma * np.random.randn(n) + event.ydata\n",
    "        plt.plot(xs, ys, 'bo')"
   ]
  },
  {
   "cell_type": "markdown",
   "metadata": {},
   "source": [
    "## 5. Handling key press events\n",
    "__________________\n",
    "\n",
    "#### 5.1.Handler function for key press events:\n",
    "_____________________\n",
    "checking if the user has pressed the 'r' key (for regression), and if so:\n",
    "* gather all of the data points from the axes object\n",
    "* perform a linear regression on the data points\n",
    "* plot the resultant line"
   ]
  },
  {
   "cell_type": "code",
   "execution_count": 8,
   "metadata": {},
   "outputs": [],
   "source": [
    "def key_press_handler(event):\n",
    "    if event.key.lower() == 'r':\n",
    "        ax = plt.gca()\n",
    "        xs = [x for l in ax.lines for x in l.get_xdata()]\n",
    "        ys = [y for l in ax.lines for y in l.get_ydata()]\n",
    "        m, b = np.polyfit(xs, ys, 1)\n",
    "        xs = np.linspace(*plt.xlim(), num=2)\n",
    "        plt.plot(xs, m*xs+b, 'r--')"
   ]
  },
  {
   "cell_type": "markdown",
   "metadata": {},
   "source": [
    "#### 5.2. Connecting both event handlers to their respective events:\n",
    "________________________"
   ]
  },
  {
   "cell_type": "code",
   "execution_count": 9,
   "metadata": {
    "tags": []
   },
   "outputs": [
    {
     "data": {
      "image/png": "[encoded data removed]",
      "text/plain": [
       "<Figure size 600x400 with 1 Axes>"
      ]
     },
     "metadata": {},
     "output_type": "display_data"
    }
   ],
   "source": [
    "fig = plt.figure(figsize=(6, 4))\n",
    "\n",
    "ax = fig.gca()\n",
    "ax.grid('off')\n",
    "ax.set_autoscale_on(False)\n",
    "\n",
    "# Connect the event listeners \n",
    "fig.canvas.mpl_connect('button_press_event', button_press_handler)\n",
    "fig.canvas.mpl_connect('key_press_event', key_press_handler)\n",
    "\n",
    "plt.show()"
   ]
  },
  {
   "cell_type": "markdown",
   "metadata": {},
   "source": [
    "#### Closing all of the figures"
   ]
  },
  {
   "cell_type": "code",
   "execution_count": 10,
   "metadata": {},
   "outputs": [],
   "source": [
    "plt.close('all')"
   ]
  },
  {
   "cell_type": "code",
   "execution_count": null,
   "metadata": {},
   "outputs": [],
   "source": []
  }
 ],
 "metadata": {
  "kernelspec": {
   "display_name": "Python 3 (ipykernel)",
   "language": "python",
   "name": "python3"
  },
  "language_info": {
   "codemirror_mode": {
    "name": "ipython",
    "version": 3
   },
   "file_extension": ".py",
   "mimetype": "text/x-python",
   "name": "python",
   "nbconvert_exporter": "python",
   "pygments_lexer": "ipython3",
   "version": "3.12.0"
  }
 },
 "nbformat": 4,
 "nbformat_minor": 4
}
