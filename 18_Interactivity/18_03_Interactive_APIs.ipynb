{
 "cells": [
  {
   "cell_type": "markdown",
   "metadata": {},
   "source": [
    "## [Interactive APIs :](https://ipywidgets.readthedocs.io/en/latest/examples/Using%20Interact.html)\n",
    "\n",
    "* ``interact``\n",
    "* ``interactive``\n",
    "* ``interact_manual``\n",
    "* ``interact_output``"
   ]
  },
  {
   "cell_type": "code",
   "execution_count": 1,
   "metadata": {},
   "outputs": [],
   "source": [
    "\n",
    "from ipywidgets import interact, interactive, interact_manual, interactive_output, IntSlider, FloatSlider, fixed\n",
    "import ipywidgets as widgets"
   ]
  },
  {
   "cell_type": "markdown",
   "metadata": {},
   "source": [
    "## 1. ``interact`` API \n",
    "__________________________________\n",
    "\n",
    "* an interactive widget is created for each keyword argument (a valid widget abbreviation)\n",
    "* returns **function** with interactive widget attached to it\n",
    "* can be used as a decorator:\n",
    "    * autogenerates UI controls for function arguments\n",
    "    * calls the function with those arguments when you manipulate the controls interactively"
   ]
  },
  {
   "cell_type": "markdown",
   "metadata": {
    "tags": []
   },
   "source": [
    "#### 1.1. ``interact`` as ``_InteractFactory``\n",
    "__________________________________"
   ]
  },
  {
   "cell_type": "code",
   "execution_count": 2,
   "metadata": {},
   "outputs": [
    {
     "data": {
      "text/plain": [
       "ipywidgets.widgets.interaction._InteractFactory"
      ]
     },
     "execution_count": 2,
     "metadata": {},
     "output_type": "execute_result"
    }
   ],
   "source": [
    "type(interact)"
   ]
  },
  {
   "cell_type": "markdown",
   "metadata": {},
   "source": [
    "```python\n",
    "class _InteractFactory\n",
    "```\n",
    "Factory for instances of `class interactive`\n",
    "* Defines\n",
    "```python\n",
    " __call__(self, _interact_f=None, **kwargs)\n",
    "```\n",
    "* Makes the given function ``_interact_f`` interactive by adding and displaying\n",
    "the  widget corresponding `class interactive`:\n",
    "    * expects the first argument to be a function\n",
    "    * parameters to ``_interact_f`` are widget abbreviations passed in as keyword arguments     \n",
    "* Can be used as a decorator "
   ]
  },
  {
   "cell_type": "code",
   "execution_count": 3,
   "metadata": {},
   "outputs": [
    {
     "name": "stdout",
     "output_type": "stream",
     "text": [
      "Help on _InteractFactory in module ipywidgets.widgets.interaction object:\n",
      "\n",
      "class _InteractFactory(builtins.object)\n",
      " |  _InteractFactory(cls, options, kwargs={})\n",
      " |\n",
      " |  Factory for instances of :class:`interactive`.\n",
      " |\n",
      " |  This class is needed to support options like::\n",
      " |\n",
      " |      >>> @interact.options(manual=True)\n",
      " |      ... def greeting(text=\"World\"):\n",
      " |      ...     print(\"Hello {}\".format(text))\n",
      " |\n",
      " |  Parameters\n",
      " |  ----------\n",
      " |  cls : class\n",
      " |      The subclass of :class:`interactive` to construct.\n",
      " |  options : dict\n",
      " |      A dict of options used to construct the interactive\n",
      " |      function. By default, this is returned by\n",
      " |      ``cls.default_options()``.\n",
      " |  kwargs : dict\n",
      " |      A dict of **kwargs to use for widgets.\n",
      " |\n",
      " |  Methods defined here:\n",
      " |\n",
      " |  __call__(self, _InteractFactory__interact_f=None, **kwargs)\n",
      " |      Make the given function interactive by adding and displaying\n",
      " |      the corresponding :class:`interactive` widget.\n",
      " |\n",
      " |      Expects the first argument to be a function. Parameters to this\n",
      " |      function are widget abbreviations passed in as keyword arguments\n",
      " |      (``**kwargs``). Can be used as a decorator (see examples).\n",
      " |\n",
      " |      Returns\n",
      " |      -------\n",
      " |      f : __interact_f with interactive widget attached to it.\n",
      " |\n",
      " |      Parameters\n",
      " |      ----------\n",
      " |      __interact_f : function\n",
      " |          The function to which the interactive widgets are tied. The `**kwargs`\n",
      " |          should match the function signature. Passed to :func:`interactive()`\n",
      " |      **kwargs : various, optional\n",
      " |          An interactive widget is created for each keyword argument that is a\n",
      " |          valid widget abbreviation. Passed to :func:`interactive()`\n",
      " |\n",
      " |      Examples\n",
      " |      --------\n",
      " |      Render an interactive text field that shows the greeting with the passed in\n",
      " |      text::\n",
      " |\n",
      " |          # 1. Using interact as a function\n",
      " |          def greeting(text=\"World\"):\n",
      " |              print(\"Hello {}\".format(text))\n",
      " |          interact(greeting, text=\"Jupyter Widgets\")\n",
      " |\n",
      " |          # 2. Using interact as a decorator\n",
      " |          @interact\n",
      " |          def greeting(text=\"World\"):\n",
      " |              print(\"Hello {}\".format(text))\n",
      " |\n",
      " |          # 3. Using interact as a decorator with named parameters\n",
      " |          @interact(text=\"Jupyter Widgets\")\n",
      " |          def greeting(text=\"World\"):\n",
      " |              print(\"Hello {}\".format(text))\n",
      " |\n",
      " |      Render an interactive slider widget and prints square of number::\n",
      " |\n",
      " |          # 1. Using interact as a function\n",
      " |          def square(num=1):\n",
      " |              print(\"{} squared is {}\".format(num, num*num))\n",
      " |          interact(square, num=5)\n",
      " |\n",
      " |          # 2. Using interact as a decorator\n",
      " |          @interact\n",
      " |          def square(num=2):\n",
      " |              print(\"{} squared is {}\".format(num, num*num))\n",
      " |\n",
      " |          # 3. Using interact as a decorator with named parameters\n",
      " |          @interact(num=5)\n",
      " |          def square(num=2):\n",
      " |              print(\"{} squared is {}\".format(num, num*num))\n",
      " |\n",
      " |  __init__(self, cls, options, kwargs={})\n",
      " |      Initialize self.  See help(type(self)) for accurate signature.\n",
      " |\n",
      " |  options(self, **kwds)\n",
      " |      Change options for interactive functions.\n",
      " |\n",
      " |      Returns\n",
      " |      -------\n",
      " |      A new :class:`_InteractFactory` which will apply the\n",
      " |      options when called.\n",
      " |\n",
      " |  widget(self, f)\n",
      " |      Return an interactive function widget for the given function.\n",
      " |\n",
      " |      The widget is only constructed, not displayed nor attached to\n",
      " |      the function.\n",
      " |\n",
      " |      Returns\n",
      " |      -------\n",
      " |      An instance of ``self.cls`` (typically :class:`interactive`).\n",
      " |\n",
      " |      Parameters\n",
      " |      ----------\n",
      " |      f : function\n",
      " |          The function to which the interactive widgets are tied.\n",
      " |\n",
      " |  ----------------------------------------------------------------------\n",
      " |  Data descriptors defined here:\n",
      " |\n",
      " |  __dict__\n",
      " |      dictionary for instance variables (if defined)\n",
      " |\n",
      " |  __weakref__\n",
      " |      list of weak references to the object (if defined)\n",
      "\n"
     ]
    }
   ],
   "source": [
    "help(interact)"
   ]
  },
  {
   "cell_type": "code",
   "execution_count": 4,
   "metadata": {},
   "outputs": [
    {
     "data": {
      "application/vnd.jupyter.widget-view+json": {
       "model_id": "e34fbb38e8154a2eb0209bb88fc2de79",
       "version_major": 2,
       "version_minor": 0
      },
      "text/plain": [
       "interactive(children=(IntSlider(value=2, description='num', max=6, min=-2), Output()), _dom_classes=('widget-i…"
      ]
     },
     "metadata": {},
     "output_type": "display_data"
    }
   ],
   "source": [
    "@interact\n",
    "def square(num=2):\n",
    "    print(f\"{num} squared is {num*num}\")"
   ]
  },
  {
   "cell_type": "code",
   "execution_count": 5,
   "metadata": {},
   "outputs": [
    {
     "data": {
      "application/vnd.jupyter.widget-view+json": {
       "model_id": "cda6e70e528d4b8f904d124e5984ddb3",
       "version_major": 2,
       "version_minor": 0
      },
      "text/plain": [
       "interactive(children=(IntSlider(value=5, description='num', max=15, min=-5), Output()), _dom_classes=('widget-…"
      ]
     },
     "metadata": {},
     "output_type": "display_data"
    }
   ],
   "source": [
    "@interact(num=5)\n",
    "def square(num=2):\n",
    "    print(f\"{num} squared is {num*num}\")"
   ]
  },
  {
   "cell_type": "code",
   "execution_count": 6,
   "metadata": {},
   "outputs": [
    {
     "name": "stdout",
     "output_type": "stream",
     "text": [
      "4 squared is 16\n"
     ]
    }
   ],
   "source": [
    "square(4)"
   ]
  },
  {
   "cell_type": "code",
   "execution_count": 7,
   "metadata": {
    "tags": []
   },
   "outputs": [
    {
     "data": {
      "application/vnd.jupyter.widget-view+json": {
       "model_id": "ac9f1a99f2384ecbb0675b6d5fe44447",
       "version_major": 2,
       "version_minor": 0
      },
      "text/plain": [
       "interactive(children=(IntSlider(value=10, description='x', max=30, min=-10), Output()), _dom_classes=('widget-…"
      ]
     },
     "metadata": {},
     "output_type": "display_data"
    }
   ],
   "source": [
    "@interact(x=10)\n",
    "def f(x):\n",
    "    return x"
   ]
  },
  {
   "cell_type": "code",
   "execution_count": 8,
   "metadata": {},
   "outputs": [
    {
     "data": {
      "application/vnd.jupyter.widget-view+json": {
       "model_id": "84b4453ccec846a9860595d6be94cf59",
       "version_major": 2,
       "version_minor": 0
      },
      "text/plain": [
       "interactive(children=(IntSlider(value=10, description='x', max=30, min=-10), Output()), _dom_classes=('widget-…"
      ]
     },
     "metadata": {},
     "output_type": "display_data"
    }
   ],
   "source": [
    "fw=interact(f, x=10)"
   ]
  },
  {
   "cell_type": "code",
   "execution_count": 9,
   "metadata": {},
   "outputs": [
    {
     "data": {
      "text/plain": [
       "function"
      ]
     },
     "execution_count": 9,
     "metadata": {},
     "output_type": "execute_result"
    }
   ],
   "source": [
    "type (fw)"
   ]
  },
  {
   "cell_type": "code",
   "execution_count": 10,
   "metadata": {},
   "outputs": [
    {
     "data": {
      "text/plain": [
       "'f'"
      ]
     },
     "execution_count": 10,
     "metadata": {},
     "output_type": "execute_result"
    }
   ],
   "source": [
    "fw.__name__"
   ]
  },
  {
   "cell_type": "code",
   "execution_count": 11,
   "metadata": {},
   "outputs": [
    {
     "data": {
      "text/plain": [
       "5"
      ]
     },
     "execution_count": 11,
     "metadata": {},
     "output_type": "execute_result"
    }
   ],
   "source": [
    "fw(5)"
   ]
  },
  {
   "cell_type": "code",
   "execution_count": 12,
   "metadata": {},
   "outputs": [
    {
     "data": {
      "application/vnd.jupyter.widget-view+json": {
       "model_id": "13ac0a7dd24240549f0d41f9f942dd07",
       "version_major": 2,
       "version_minor": 0
      },
      "text/plain": [
       "interactive(children=(Checkbox(value=True, description='x'), Output()), _dom_classes=('widget-interact',))"
      ]
     },
     "metadata": {},
     "output_type": "display_data"
    }
   ],
   "source": [
    "interact(f, x=True);"
   ]
  },
  {
   "cell_type": "code",
   "execution_count": 13,
   "metadata": {
    "scrolled": true
   },
   "outputs": [
    {
     "data": {
      "application/vnd.jupyter.widget-view+json": {
       "model_id": "a96ec3e31d904194bebc0fceb7aba896",
       "version_major": 2,
       "version_minor": 0
      },
      "text/plain": [
       "interactive(children=(Text(value='Hi there!', description='x'), Output()), _dom_classes=('widget-interact',))"
      ]
     },
     "metadata": {},
     "output_type": "display_data"
    }
   ],
   "source": [
    "interact(f, x='Hi there!');"
   ]
  },
  {
   "cell_type": "code",
   "execution_count": 14,
   "metadata": {},
   "outputs": [
    {
     "data": {
      "application/vnd.jupyter.widget-view+json": {
       "model_id": "12d8cd8bd3f14b40a74f36c3c8117213",
       "version_major": 2,
       "version_minor": 0
      },
      "text/plain": [
       "interactive(children=(Checkbox(value=True, description='x'), FloatSlider(value=1.0, description='y', max=3.0, …"
      ]
     },
     "metadata": {},
     "output_type": "display_data"
    }
   ],
   "source": [
    "@interact(x=True, y=1.0)\n",
    "def g(x, y):\n",
    "    return (x, y)"
   ]
  },
  {
   "cell_type": "code",
   "execution_count": 15,
   "metadata": {},
   "outputs": [],
   "source": [
    "def h(p, q):\n",
    "    return (p, q)"
   ]
  },
  {
   "cell_type": "code",
   "execution_count": 16,
   "metadata": {},
   "outputs": [
    {
     "data": {
      "application/vnd.jupyter.widget-view+json": {
       "model_id": "c4a23dd1406b450e9a4ea7c57d53115e",
       "version_major": 2,
       "version_minor": 0
      },
      "text/plain": [
       "interactive(children=(IntSlider(value=5, description='p', max=15, min=-5), Output()), _dom_classes=('widget-in…"
      ]
     },
     "metadata": {},
     "output_type": "display_data"
    }
   ],
   "source": [
    "interact(h, p=5, q=fixed(20));"
   ]
  },
  {
   "cell_type": "markdown",
   "metadata": {},
   "source": [
    "#### 1.2. Widget abbreviations\n",
    "___________________"
   ]
  },
  {
   "cell_type": "code",
   "execution_count": 17,
   "metadata": {},
   "outputs": [
    {
     "data": {
      "application/vnd.jupyter.widget-view+json": {
       "model_id": "f941169065df455c8b4cd8b5c429820f",
       "version_major": 2,
       "version_minor": 0
      },
      "text/plain": [
       "interactive(children=(IntSlider(value=10, description='x', max=30, min=-10), Output()), _dom_classes=('widget-…"
      ]
     },
     "metadata": {},
     "output_type": "display_data"
    }
   ],
   "source": [
    "interact(f, x=10);"
   ]
  },
  {
   "cell_type": "markdown",
   "metadata": {},
   "source": [
    "* 10 is an abbreviation for an actual slider widget:"
   ]
  },
  {
   "cell_type": "code",
   "execution_count": 18,
   "metadata": {
    "tags": []
   },
   "outputs": [
    {
     "data": {
      "application/vnd.jupyter.widget-view+json": {
       "model_id": "b8eae0c15dc24767bc52e9b14ad927aa",
       "version_major": 2,
       "version_minor": 0
      },
      "text/plain": [
       "interactive(children=(IntSlider(value=10, description='x', max=30, min=-10), Output()), _dom_classes=('widget-…"
      ]
     },
     "metadata": {},
     "output_type": "display_data"
    }
   ],
   "source": [
    "interact(f, x=IntSlider(min=-10,max=30,step=1,value=10));"
   ]
  },
  {
   "cell_type": "markdown",
   "metadata": {},
   "source": [
    "#### 1.3. Tuning of arguments \n",
    "______________________"
   ]
  },
  {
   "cell_type": "code",
   "execution_count": 19,
   "metadata": {},
   "outputs": [
    {
     "data": {
      "application/vnd.jupyter.widget-view+json": {
       "model_id": "f5ef85384deb4617846e1b847c19e20e",
       "version_major": 2,
       "version_minor": 0
      },
      "text/plain": [
       "interactive(children=(Dropdown(description='x', options=('orange', 'apple'), value='orange'), Output()), _dom_…"
      ]
     },
     "metadata": {},
     "output_type": "display_data"
    }
   ],
   "source": [
    "interact(f, x=['orange','apple']);"
   ]
  },
  {
   "cell_type": "code",
   "execution_count": 20,
   "metadata": {},
   "outputs": [
    {
     "data": {
      "application/vnd.jupyter.widget-view+json": {
       "model_id": "a637f073fc984f459a26c3707536751f",
       "version_major": 2,
       "version_minor": 0
      },
      "text/plain": [
       "interactive(children=(Dropdown(description='x', options={'one': 1, 'two': 2, 'three': 3}, value=1), Output()),…"
      ]
     },
     "metadata": {},
     "output_type": "display_data"
    }
   ],
   "source": [
    "interact(f, x={'one':1,'two':2, 'three':3});"
   ]
  },
  {
   "cell_type": "code",
   "execution_count": 21,
   "metadata": {},
   "outputs": [
    {
     "data": {
      "application/vnd.jupyter.widget-view+json": {
       "model_id": "821d0e57833349caaff088ee1e21f066",
       "version_major": 2,
       "version_minor": 0
      },
      "text/plain": [
       "interactive(children=(IntSlider(value=2, description='x', max=4), Output()), _dom_classes=('widget-interact',)…"
      ]
     },
     "metadata": {},
     "output_type": "display_data"
    }
   ],
   "source": [
    "interact(f, x=(0,4));"
   ]
  },
  {
   "cell_type": "code",
   "execution_count": 22,
   "metadata": {},
   "outputs": [
    {
     "data": {
      "application/vnd.jupyter.widget-view+json": {
       "model_id": "e525532080564ba783cd2d010085657d",
       "version_major": 2,
       "version_minor": 0
      },
      "text/plain": [
       "interactive(children=(IntSlider(value=4, description='x', max=8, step=2), Output()), _dom_classes=('widget-int…"
      ]
     },
     "metadata": {},
     "output_type": "display_data"
    }
   ],
   "source": [
    "interact(f, x=(0,8,2));"
   ]
  },
  {
   "cell_type": "code",
   "execution_count": 23,
   "metadata": {},
   "outputs": [
    {
     "data": {
      "application/vnd.jupyter.widget-view+json": {
       "model_id": "bc9e9e1ccbfa428792b4d30e33ad3638",
       "version_major": 2,
       "version_minor": 0
      },
      "text/plain": [
       "interactive(children=(FloatSlider(value=5.0, description='x', max=10.0), Output()), _dom_classes=('widget-inte…"
      ]
     },
     "metadata": {},
     "output_type": "display_data"
    }
   ],
   "source": [
    "interact(f, x=(0.0,10.0));"
   ]
  },
  {
   "cell_type": "code",
   "execution_count": 24,
   "metadata": {},
   "outputs": [
    {
     "data": {
      "application/vnd.jupyter.widget-view+json": {
       "model_id": "1c8e84c1f40b4bdcbfde87e9bc1b90d5",
       "version_major": 2,
       "version_minor": 0
      },
      "text/plain": [
       "interactive(children=(FloatSlider(value=5.5, description='x', max=20.0, step=0.5), Output()), _dom_classes=('w…"
      ]
     },
     "metadata": {},
     "output_type": "display_data"
    }
   ],
   "source": [
    "@interact(x=(0.0,20.0,0.5))\n",
    "def h(x=5.5):\n",
    "    return x"
   ]
  },
  {
   "cell_type": "markdown",
   "metadata": {},
   "source": [
    "#### 1.4. [Widget properties](https://ipywidgets.readthedocs.io/en/latest/examples/Widget%20Basics.html)\n",
    "___________________"
   ]
  },
  {
   "cell_type": "markdown",
   "metadata": {},
   "source": [
    "* `value` -- manipulating (get\\set) of the value of a widget"
   ]
  },
  {
   "cell_type": "code",
   "execution_count": 25,
   "metadata": {},
   "outputs": [
    {
     "data": {
      "application/vnd.jupyter.widget-view+json": {
       "model_id": "e6a425bb2b1248b5869a79c8a481abf8",
       "version_major": 2,
       "version_minor": 0
      },
      "text/plain": [
       "IntSlider(value=0)"
      ]
     },
     "metadata": {},
     "output_type": "display_data"
    }
   ],
   "source": [
    "w = IntSlider()\n",
    "display(w)"
   ]
  },
  {
   "cell_type": "code",
   "execution_count": 26,
   "metadata": {},
   "outputs": [
    {
     "data": {
      "text/plain": [
       "0"
      ]
     },
     "execution_count": 26,
     "metadata": {},
     "output_type": "execute_result"
    }
   ],
   "source": [
    "w.value"
   ]
  },
  {
   "cell_type": "code",
   "execution_count": 27,
   "metadata": {},
   "outputs": [],
   "source": [
    "w.value=50"
   ]
  },
  {
   "cell_type": "code",
   "execution_count": 28,
   "metadata": {},
   "outputs": [
    {
     "data": {
      "text/plain": [
       "['_dom_classes',\n",
       " '_model_module',\n",
       " '_model_module_version',\n",
       " '_model_name',\n",
       " '_view_count',\n",
       " '_view_module',\n",
       " '_view_module_version',\n",
       " '_view_name',\n",
       " 'behavior',\n",
       " 'continuous_update',\n",
       " 'description',\n",
       " 'description_allow_html',\n",
       " 'disabled',\n",
       " 'layout',\n",
       " 'max',\n",
       " 'min',\n",
       " 'orientation',\n",
       " 'readout',\n",
       " 'readout_format',\n",
       " 'step',\n",
       " 'style',\n",
       " 'tabbable',\n",
       " 'tooltip',\n",
       " 'value']"
      ]
     },
     "execution_count": 28,
     "metadata": {},
     "output_type": "execute_result"
    }
   ],
   "source": [
    "w.keys"
   ]
  },
  {
   "cell_type": "code",
   "execution_count": 29,
   "metadata": {},
   "outputs": [
    {
     "data": {
      "application/vnd.jupyter.widget-view+json": {
       "model_id": "76364fd40779435aa2cadc71a214a1ac",
       "version_major": 2,
       "version_minor": 0
      },
      "text/plain": [
       "Text(value='Hello World!', disabled=True)"
      ]
     },
     "execution_count": 29,
     "metadata": {},
     "output_type": "execute_result"
    }
   ],
   "source": [
    "widgets.Text(value='Hello World!', disabled=True)"
   ]
  },
  {
   "cell_type": "markdown",
   "metadata": {},
   "source": [
    "#### 1.5. Arguments that are dependent on each other:  using `observe`\n",
    "___________________________"
   ]
  },
  {
   "cell_type": "code",
   "execution_count": 30,
   "metadata": {},
   "outputs": [],
   "source": [
    "x_widget =  widgets.FloatSlider(min=0.0, max=10.0, step=0.05)\n",
    "y_widget =  widgets.FloatSlider(min=0.5, max=10.0, step=0.05, value=5.0)\n",
    "\n",
    "def update_x_range(*args):\n",
    "    x_widget.value = 2.0 * y_widget.value\n",
    "    \n",
    "y_widget.observe(update_x_range, 'value')"
   ]
  },
  {
   "cell_type": "code",
   "execution_count": 31,
   "metadata": {},
   "outputs": [
    {
     "data": {
      "application/vnd.jupyter.widget-view+json": {
       "model_id": "2c5a381ce55a4df394359d3bf17af2e8",
       "version_major": 2,
       "version_minor": 0
      },
      "text/plain": [
       "interactive(children=(FloatSlider(value=0.0, description='x', max=10.0, step=0.05), FloatSlider(value=5.0, des…"
      ]
     },
     "metadata": {},
     "output_type": "display_data"
    }
   ],
   "source": [
    "def printer(x, y):\n",
    "    print(x, y)\n",
    "    \n",
    "interact(printer,x=x_widget, y=y_widget);"
   ]
  },
  {
   "cell_type": "code",
   "execution_count": 32,
   "metadata": {},
   "outputs": [
    {
     "data": {
      "application/vnd.jupyter.widget-view+json": {
       "model_id": "ef4e4667bec840a99918192f0615533b",
       "version_major": 2,
       "version_minor": 0
      },
      "text/plain": [
       "interactive(children=(FloatSlider(value=0.0, description='x', max=10.0, step=0.05), FloatSlider(value=5.0, des…"
      ]
     },
     "metadata": {},
     "output_type": "display_data"
    }
   ],
   "source": [
    "@interact (x=x_widget, y=y_widget)\n",
    "def printer(x, y):\n",
    "    print(x, y)"
   ]
  },
  {
   "cell_type": "markdown",
   "metadata": {},
   "source": [
    "## 2. `interactive` API\n",
    "___________________\n",
    "* returns ``Widget`` instance rather than immediately displaying widget; it can be displayed with `IPython.display.display()`\n",
    "* reusing widgets that are produced\n",
    "* accessing data that is bound to the UI controls"
   ]
  },
  {
   "cell_type": "markdown",
   "metadata": {},
   "source": [
    "```python\n",
    "class interactive(ipywidgets.widgets.widget_box.VBox)\n",
    "```"
   ]
  },
  {
   "cell_type": "code",
   "execution_count": 33,
   "metadata": {},
   "outputs": [
    {
     "name": "stdout",
     "output_type": "stream",
     "text": [
      "Help on class interactive in module ipywidgets.widgets.interaction:\n",
      "\n",
      "class interactive(ipywidgets.widgets.widget_box.VBox)\n",
      " |  interactive(_interactive__interact_f, _interactive__options={}, **kwargs)\n",
      " |\n",
      " |  A VBox container containing a group of interactive widgets tied to a\n",
      " |  function.\n",
      " |\n",
      " |  Parameters\n",
      " |  ----------\n",
      " |  __interact_f : function\n",
      " |      The function to which the interactive widgets are tied. The `**kwargs`\n",
      " |      should match the function signature.\n",
      " |  __options : dict\n",
      " |      A dict of options. Currently, the only supported keys are\n",
      " |      ``\"manual\"`` (defaults to ``False``), ``\"manual_name\"`` (defaults\n",
      " |      to ``\"Run Interact\"``) and ``\"auto_display\"`` (defaults to ``False``).\n",
      " |  **kwargs : various, optional\n",
      " |      An interactive widget is created for each keyword argument that is a\n",
      " |      valid widget abbreviation.\n",
      " |\n",
      " |  Note that the first two parameters intentionally start with a double\n",
      " |  underscore to avoid being mixed up with keyword arguments passed by\n",
      " |  ``**kwargs``.\n",
      " |\n",
      " |  Method resolution order:\n",
      " |      interactive\n",
      " |      ipywidgets.widgets.widget_box.VBox\n",
      " |      ipywidgets.widgets.widget_box.Box\n",
      " |      ipywidgets.widgets.domwidget.DOMWidget\n",
      " |      ipywidgets.widgets.widget_core.CoreWidget\n",
      " |      ipywidgets.widgets.widget.Widget\n",
      " |      ipywidgets.widgets.widget.LoggingHasTraits\n",
      " |      traitlets.traitlets.HasTraits\n",
      " |      traitlets.traitlets.HasDescriptors\n",
      " |      builtins.object\n",
      " |\n",
      " |  Methods defined here:\n",
      " |\n",
      " |  __init__(self, _interactive__interact_f, _interactive__options={}, **kwargs)\n",
      " |      Public constructor\n",
      " |\n",
      " |  find_abbreviations(self, kwargs)\n",
      " |      Find the abbreviations for the given function and kwargs.\n",
      " |      Return (name, abbrev, default) tuples.\n",
      " |\n",
      " |  signature(self)\n",
      " |      # Find abbreviations\n",
      " |\n",
      " |  update(self, *args)\n",
      " |      Call the interact function and update the output widget with\n",
      " |      the result of the function call.\n",
      " |\n",
      " |      Parameters\n",
      " |      ----------\n",
      " |      *args : ignored\n",
      " |          Required for this method to be used as traitlets callback.\n",
      " |\n",
      " |  widgets_from_abbreviations(self, seq)\n",
      " |      Given a sequence of (name, abbrev, default) tuples, return a sequence of Widgets.\n",
      " |\n",
      " |  ----------------------------------------------------------------------\n",
      " |  Class methods defined here:\n",
      " |\n",
      " |  factory() from traitlets.traitlets.MetaHasTraits\n",
      " |      # Return a factory for interactive functions\n",
      " |\n",
      " |  widget_from_abbrev(abbrev, default) from traitlets.traitlets.MetaHasTraits\n",
      " |      Build a ValueWidget instance given an abbreviation or Widget.\n",
      " |\n",
      " |  ----------------------------------------------------------------------\n",
      " |  Static methods defined here:\n",
      " |\n",
      " |  widget_from_iterable(o)\n",
      " |      Make widgets from an iterable. This should not be done for\n",
      " |      a string or tuple.\n",
      " |\n",
      " |  widget_from_single_value(o)\n",
      " |      Make widgets from single values, which can be used as parameter defaults.\n",
      " |\n",
      " |  widget_from_tuple(o)\n",
      " |      Make widgets from a tuple abbreviation.\n",
      " |\n",
      " |  ----------------------------------------------------------------------\n",
      " |  Data and other attributes defined here:\n",
      " |\n",
      " |  __annotations__ = {}\n",
      " |\n",
      " |  ----------------------------------------------------------------------\n",
      " |  Data descriptors inherited from ipywidgets.widgets.widget_box.Box:\n",
      " |\n",
      " |  box_style\n",
      " |      Use a predefined styling for the box.\n",
      " |\n",
      " |  children\n",
      " |      List of widget children\n",
      " |\n",
      " |  ----------------------------------------------------------------------\n",
      " |  Methods inherited from ipywidgets.widgets.domwidget.DOMWidget:\n",
      " |\n",
      " |  add_class(self, className)\n",
      " |      Adds a class to the top level element of the widget.\n",
      " |\n",
      " |      Doesn't add the class if it already exists.\n",
      " |\n",
      " |  blur(self)\n",
      " |      Blur the widget.\n",
      " |\n",
      " |  focus(self)\n",
      " |      Focus on the widget.\n",
      " |\n",
      " |  remove_class(self, className)\n",
      " |      Removes a class from the top level element of the widget.\n",
      " |\n",
      " |      Doesn't remove the class if it doesn't exist.\n",
      " |\n",
      " |  ----------------------------------------------------------------------\n",
      " |  Data descriptors inherited from ipywidgets.widgets.domwidget.DOMWidget:\n",
      " |\n",
      " |  layout\n",
      " |\n",
      " |  tabbable\n",
      " |      Is widget tabbable?\n",
      " |\n",
      " |  tooltip\n",
      " |      A tooltip caption.\n",
      " |\n",
      " |  ----------------------------------------------------------------------\n",
      " |  Methods inherited from ipywidgets.widgets.widget.Widget:\n",
      " |\n",
      " |  __copy__(self)\n",
      " |\n",
      " |  __deepcopy__(self, memo)\n",
      " |\n",
      " |  __del__(self)\n",
      " |      Object disposal\n",
      " |\n",
      " |  __repr__(self)\n",
      " |      Return repr(self).\n",
      " |\n",
      " |  add_traits(self, **traits)\n",
      " |      Dynamically add trait attributes to the Widget.\n",
      " |\n",
      " |  close(self)\n",
      " |      Close method.\n",
      " |\n",
      " |      Closes the underlying comm.\n",
      " |      When the comm is closed, all of the widget views are automatically\n",
      " |      removed from the front-end.\n",
      " |\n",
      " |  get_state(self, key=None, drop_defaults=False)\n",
      " |      Gets the widget state, or a piece of it.\n",
      " |\n",
      " |      Parameters\n",
      " |      ----------\n",
      " |      key : unicode or iterable (optional)\n",
      " |          A single property's name or iterable of property names to get.\n",
      " |\n",
      " |      Returns\n",
      " |      -------\n",
      " |      state : dict of states\n",
      " |      metadata : dict\n",
      " |          metadata for each field: {key: metadata}\n",
      " |\n",
      " |  get_view_spec(self)\n",
      " |\n",
      " |  hold_sync(self)\n",
      " |      Hold syncing any state until the outermost context manager exits\n",
      " |\n",
      " |  notify_change(self, change)\n",
      " |      Called when a property has changed.\n",
      " |\n",
      " |  on_msg(self, callback, remove=False)\n",
      " |      (Un)Register a custom msg receive callback.\n",
      " |\n",
      " |      Parameters\n",
      " |      ----------\n",
      " |      callback: callable\n",
      " |          callback will be passed three arguments when a message arrives::\n",
      " |\n",
      " |              callback(widget, content, buffers)\n",
      " |\n",
      " |      remove: bool\n",
      " |          True if the callback should be unregistered.\n",
      " |\n",
      " |  open(self)\n",
      " |      Open a comm to the frontend if one isn't already open.\n",
      " |\n",
      " |  send(self, content, buffers=None)\n",
      " |      Sends a custom msg to the widget model in the front-end.\n",
      " |\n",
      " |      Parameters\n",
      " |      ----------\n",
      " |      content : dict\n",
      " |          Content of the message to send.\n",
      " |      buffers : list of binary buffers\n",
      " |          Binary buffers to send with message\n",
      " |\n",
      " |  send_state(self, key=None)\n",
      " |      Sends the widget state, or a piece of it, to the front-end, if it exists.\n",
      " |\n",
      " |      Parameters\n",
      " |      ----------\n",
      " |      key : unicode, or iterable (optional)\n",
      " |          A single property's name or iterable of property names to sync with the front-end.\n",
      " |\n",
      " |  set_state(self, sync_data)\n",
      " |      Called when a state is received from the front-end.\n",
      " |\n",
      " |  ----------------------------------------------------------------------\n",
      " |  Class methods inherited from ipywidgets.widgets.widget.Widget:\n",
      " |\n",
      " |  close_all() from traitlets.traitlets.MetaHasTraits\n",
      " |\n",
      " |  handle_control_comm_opened(comm, msg) from traitlets.traitlets.MetaHasTraits\n",
      " |      Class method, called when the comm-open message on the\n",
      " |      \"jupyter.widget.control\" comm channel is received\n",
      " |\n",
      " |  ----------------------------------------------------------------------\n",
      " |  Static methods inherited from ipywidgets.widgets.widget.Widget:\n",
      " |\n",
      " |  get_manager_state(drop_defaults=False, widgets=None)\n",
      " |      Returns the full state for a widget manager for embedding\n",
      " |\n",
      " |      :param drop_defaults: when True, it will not include default value\n",
      " |      :param widgets: list with widgets to include in the state (or all widgets when None)\n",
      " |      :return:\n",
      " |\n",
      " |  handle_comm_opened(comm, msg)\n",
      " |      Static method, called when a widget is constructed.\n",
      " |\n",
      " |  on_widget_constructed(callback)\n",
      " |      Registers a callback to be called when a widget is constructed.\n",
      " |\n",
      " |      The callback must have the following signature:\n",
      " |      callback(widget)\n",
      " |\n",
      " |  ----------------------------------------------------------------------\n",
      " |  Readonly properties inherited from ipywidgets.widgets.widget.Widget:\n",
      " |\n",
      " |  model_id\n",
      " |      Gets the model id of this widget.\n",
      " |\n",
      " |      If a Comm doesn't exist yet, a Comm will be created automagically.\n",
      " |\n",
      " |  ----------------------------------------------------------------------\n",
      " |  Data descriptors inherited from ipywidgets.widgets.widget.Widget:\n",
      " |\n",
      " |  comm\n",
      " |\n",
      " |  keys\n",
      " |      The traits which are synced.\n",
      " |\n",
      " |  ----------------------------------------------------------------------\n",
      " |  Data and other attributes inherited from ipywidgets.widgets.widget.Widget:\n",
      " |\n",
      " |  widget_types = <ipywidgets.widgets.widget.WidgetRegistry object>\n",
      " |\n",
      " |  widgets = {'027f8da014ba41618b723e81e67e0daa': Layout(), '09a1817186a5...\n",
      " |\n",
      " |  ----------------------------------------------------------------------\n",
      " |  Data descriptors inherited from ipywidgets.widgets.widget.LoggingHasTraits:\n",
      " |\n",
      " |  log\n",
      " |\n",
      " |  ----------------------------------------------------------------------\n",
      " |  Methods inherited from traitlets.traitlets.HasTraits:\n",
      " |\n",
      " |  __getstate__(self) -> 'dict[str, t.Any]'\n",
      " |      Helper for pickle.\n",
      " |\n",
      " |  __setstate__(self, state: 'dict[str, t.Any]') -> 'None'\n",
      " |\n",
      " |  has_trait(self, name: 'str') -> 'bool'\n",
      " |      Returns True if the object has a trait with the specified name.\n",
      " |\n",
      " |  hold_trait_notifications(self) -> 't.Any'\n",
      " |      Context manager for bundling trait change notifications and cross\n",
      " |      validation.\n",
      " |\n",
      " |      Use this when doing multiple trait assignments (init, config), to avoid\n",
      " |      race conditions in trait notifiers requesting other trait values.\n",
      " |      All trait notifications will fire after all values have been assigned.\n",
      " |\n",
      " |  observe(self, handler: 't.Callable[..., t.Any]', names: 'Sentinel | str | t.Iterable[Sentinel | str]' = traitlets.All, type: 'Sentinel | str' = 'change') -> 'None'\n",
      " |      Setup a handler to be called when a trait changes.\n",
      " |\n",
      " |      This is used to setup dynamic notifications of trait changes.\n",
      " |\n",
      " |      Parameters\n",
      " |      ----------\n",
      " |      handler : callable\n",
      " |          A callable that is called when a trait changes. Its\n",
      " |          signature should be ``handler(change)``, where ``change`` is a\n",
      " |          dictionary. The change dictionary at least holds a 'type' key.\n",
      " |          * ``type``: the type of notification.\n",
      " |          Other keys may be passed depending on the value of 'type'. In the\n",
      " |          case where type is 'change', we also have the following keys:\n",
      " |          * ``owner`` : the HasTraits instance\n",
      " |          * ``old`` : the old value of the modified trait attribute\n",
      " |          * ``new`` : the new value of the modified trait attribute\n",
      " |          * ``name`` : the name of the modified trait attribute.\n",
      " |      names : list, str, All\n",
      " |          If names is All, the handler will apply to all traits.  If a list\n",
      " |          of str, handler will apply to all names in the list.  If a\n",
      " |          str, the handler will apply just to that name.\n",
      " |      type : str, All (default: 'change')\n",
      " |          The type of notification to filter by. If equal to All, then all\n",
      " |          notifications are passed to the observe handler.\n",
      " |\n",
      " |  on_trait_change(self, handler: 'EventHandler | None' = None, name: 'Sentinel | str | None' = None, remove: 'bool' = False) -> 'None'\n",
      " |      DEPRECATED: Setup a handler to be called when a trait changes.\n",
      " |\n",
      " |      This is used to setup dynamic notifications of trait changes.\n",
      " |\n",
      " |      Static handlers can be created by creating methods on a HasTraits\n",
      " |      subclass with the naming convention '_[traitname]_changed'.  Thus,\n",
      " |      to create static handler for the trait 'a', create the method\n",
      " |      _a_changed(self, name, old, new) (fewer arguments can be used, see\n",
      " |      below).\n",
      " |\n",
      " |      If `remove` is True and `handler` is not specified, all change\n",
      " |      handlers for the specified name are uninstalled.\n",
      " |\n",
      " |      Parameters\n",
      " |      ----------\n",
      " |      handler : callable, None\n",
      " |          A callable that is called when a trait changes.  Its\n",
      " |          signature can be handler(), handler(name), handler(name, new),\n",
      " |          handler(name, old, new), or handler(name, old, new, self).\n",
      " |      name : list, str, None\n",
      " |          If None, the handler will apply to all traits.  If a list\n",
      " |          of str, handler will apply to all names in the list.  If a\n",
      " |          str, the handler will apply just to that name.\n",
      " |      remove : bool\n",
      " |          If False (the default), then install the handler.  If True\n",
      " |          then unintall it.\n",
      " |\n",
      " |  set_trait(self, name: 'str', value: 't.Any') -> 'None'\n",
      " |      Forcibly sets trait attribute, including read-only attributes.\n",
      " |\n",
      " |  setup_instance(*args: 't.Any', **kwargs: 't.Any') -> 'None'\n",
      " |      This is called **before** self.__init__ is called.\n",
      " |\n",
      " |  trait_defaults(self, *names: 'str', **metadata: 't.Any') -> 'dict[str, t.Any] | Sentinel'\n",
      " |      Return a trait's default value or a dictionary of them\n",
      " |\n",
      " |      Notes\n",
      " |      -----\n",
      " |      Dynamically generated default values may\n",
      " |      depend on the current state of the object.\n",
      " |\n",
      " |  trait_has_value(self, name: 'str') -> 'bool'\n",
      " |      Returns True if the specified trait has a value.\n",
      " |\n",
      " |      This will return false even if ``getattr`` would return a\n",
      " |      dynamically generated default value. These default values\n",
      " |      will be recognized as existing only after they have been\n",
      " |      generated.\n",
      " |\n",
      " |      Example\n",
      " |\n",
      " |      .. code-block:: python\n",
      " |\n",
      " |          class MyClass(HasTraits):\n",
      " |              i = Int()\n",
      " |\n",
      " |\n",
      " |          mc = MyClass()\n",
      " |          assert not mc.trait_has_value(\"i\")\n",
      " |          mc.i  # generates a default value\n",
      " |          assert mc.trait_has_value(\"i\")\n",
      " |\n",
      " |  trait_metadata(self, traitname: 'str', key: 'str', default: 't.Any' = None) -> 't.Any'\n",
      " |      Get metadata values for trait by key.\n",
      " |\n",
      " |  trait_names(self, **metadata: 't.Any') -> 'list[str]'\n",
      " |      Get a list of all the names of this class' traits.\n",
      " |\n",
      " |  trait_values(self, **metadata: 't.Any') -> 'dict[str, t.Any]'\n",
      " |      A ``dict`` of trait names and their values.\n",
      " |\n",
      " |      The metadata kwargs allow functions to be passed in which\n",
      " |      filter traits based on metadata values.  The functions should\n",
      " |      take a single value as an argument and return a boolean.  If\n",
      " |      any function returns False, then the trait is not included in\n",
      " |      the output.  If a metadata key doesn't exist, None will be passed\n",
      " |      to the function.\n",
      " |\n",
      " |      Returns\n",
      " |      -------\n",
      " |      A ``dict`` of trait names and their values.\n",
      " |\n",
      " |      Notes\n",
      " |      -----\n",
      " |      Trait values are retrieved via ``getattr``, any exceptions raised\n",
      " |      by traits or the operations they may trigger will result in the\n",
      " |      absence of a trait value in the result ``dict``.\n",
      " |\n",
      " |  traits(self, **metadata: 't.Any') -> 'dict[str, TraitType[t.Any, t.Any]]'\n",
      " |      Get a ``dict`` of all the traits of this class.  The dictionary\n",
      " |      is keyed on the name and the values are the TraitType objects.\n",
      " |\n",
      " |      The TraitTypes returned don't know anything about the values\n",
      " |      that the various HasTrait's instances are holding.\n",
      " |\n",
      " |      The metadata kwargs allow functions to be passed in which\n",
      " |      filter traits based on metadata values.  The functions should\n",
      " |      take a single value as an argument and return a boolean.  If\n",
      " |      any function returns False, then the trait is not included in\n",
      " |      the output.  If a metadata key doesn't exist, None will be passed\n",
      " |      to the function.\n",
      " |\n",
      " |  unobserve(self, handler: 't.Callable[..., t.Any]', names: 'Sentinel | str | t.Iterable[Sentinel | str]' = traitlets.All, type: 'Sentinel | str' = 'change') -> 'None'\n",
      " |      Remove a trait change handler.\n",
      " |\n",
      " |      This is used to unregister handlers to trait change notifications.\n",
      " |\n",
      " |      Parameters\n",
      " |      ----------\n",
      " |      handler : callable\n",
      " |          The callable called when a trait attribute changes.\n",
      " |      names : list, str, All (default: All)\n",
      " |          The names of the traits for which the specified handler should be\n",
      " |          uninstalled. If names is All, the specified handler is uninstalled\n",
      " |          from the list of notifiers corresponding to all changes.\n",
      " |      type : str or All (default: 'change')\n",
      " |          The type of notification to filter by. If All, the specified handler\n",
      " |          is uninstalled from the list of notifiers corresponding to all types.\n",
      " |\n",
      " |  unobserve_all(self, name: 'str | t.Any' = traitlets.All) -> 'None'\n",
      " |      Remove trait change handlers of any type for the specified name.\n",
      " |      If name is not specified, removes all trait notifiers.\n",
      " |\n",
      " |  ----------------------------------------------------------------------\n",
      " |  Class methods inherited from traitlets.traitlets.HasTraits:\n",
      " |\n",
      " |  class_own_trait_events(name: 'str') -> 'dict[str, EventHandler]' from traitlets.traitlets.MetaHasTraits\n",
      " |      Get a dict of all event handlers defined on this class, not a parent.\n",
      " |\n",
      " |      Works like ``event_handlers``, except for excluding traits from parents.\n",
      " |\n",
      " |  class_own_traits(**metadata: 't.Any') -> 'dict[str, TraitType[t.Any, t.Any]]' from traitlets.traitlets.MetaHasTraits\n",
      " |      Get a dict of all the traitlets defined on this class, not a parent.\n",
      " |\n",
      " |      Works like `class_traits`, except for excluding traits from parents.\n",
      " |\n",
      " |  class_trait_names(**metadata: 't.Any') -> 'list[str]' from traitlets.traitlets.MetaHasTraits\n",
      " |      Get a list of all the names of this class' traits.\n",
      " |\n",
      " |      This method is just like the :meth:`trait_names` method,\n",
      " |      but is unbound.\n",
      " |\n",
      " |  class_traits(**metadata: 't.Any') -> 'dict[str, TraitType[t.Any, t.Any]]' from traitlets.traitlets.MetaHasTraits\n",
      " |      Get a ``dict`` of all the traits of this class.  The dictionary\n",
      " |      is keyed on the name and the values are the TraitType objects.\n",
      " |\n",
      " |      This method is just like the :meth:`traits` method, but is unbound.\n",
      " |\n",
      " |      The TraitTypes returned don't know anything about the values\n",
      " |      that the various HasTrait's instances are holding.\n",
      " |\n",
      " |      The metadata kwargs allow functions to be passed in which\n",
      " |      filter traits based on metadata values.  The functions should\n",
      " |      take a single value as an argument and return a boolean.  If\n",
      " |      any function returns False, then the trait is not included in\n",
      " |      the output.  If a metadata key doesn't exist, None will be passed\n",
      " |      to the function.\n",
      " |\n",
      " |  trait_events(name: 'str | None' = None) -> 'dict[str, EventHandler]' from traitlets.traitlets.MetaHasTraits\n",
      " |      Get a ``dict`` of all the event handlers of this class.\n",
      " |\n",
      " |      Parameters\n",
      " |      ----------\n",
      " |      name : str (default: None)\n",
      " |          The name of a trait of this class. If name is ``None`` then all\n",
      " |          the event handlers of this class will be returned instead.\n",
      " |\n",
      " |      Returns\n",
      " |      -------\n",
      " |      The event handlers associated with a trait name, or all event handlers.\n",
      " |\n",
      " |  ----------------------------------------------------------------------\n",
      " |  Readonly properties inherited from traitlets.traitlets.HasTraits:\n",
      " |\n",
      " |  cross_validation_lock\n",
      " |      A contextmanager for running a block with our cross validation lock set\n",
      " |      to True.\n",
      " |\n",
      " |      At the end of the block, the lock's value is restored to its value\n",
      " |      prior to entering the block.\n",
      " |\n",
      " |  ----------------------------------------------------------------------\n",
      " |  Static methods inherited from traitlets.traitlets.HasDescriptors:\n",
      " |\n",
      " |  __new__(*args: 't.Any', **kwargs: 't.Any') -> 't.Any'\n",
      " |      Create and return a new object.  See help(type) for accurate signature.\n",
      " |\n",
      " |  ----------------------------------------------------------------------\n",
      " |  Data descriptors inherited from traitlets.traitlets.HasDescriptors:\n",
      " |\n",
      " |  __dict__\n",
      " |      dictionary for instance variables (if defined)\n",
      " |\n",
      " |  __weakref__\n",
      " |      list of weak references to the object (if defined)\n",
      "\n"
     ]
    }
   ],
   "source": [
    "help(interactive)"
   ]
  },
  {
   "cell_type": "code",
   "execution_count": 34,
   "metadata": {},
   "outputs": [],
   "source": [
    "from IPython.display import display"
   ]
  },
  {
   "cell_type": "code",
   "execution_count": 35,
   "metadata": {},
   "outputs": [],
   "source": [
    "def f(a, b):\n",
    "    print(a+b)\n",
    "    return a+b"
   ]
  },
  {
   "cell_type": "code",
   "execution_count": 36,
   "metadata": {},
   "outputs": [],
   "source": [
    "w = interactive(f, a=10, b=20)"
   ]
  },
  {
   "cell_type": "code",
   "execution_count": 37,
   "metadata": {},
   "outputs": [
    {
     "data": {
      "application/vnd.jupyter.widget-view+json": {
       "model_id": "80c31c5054ce4621a8c7e59d576bd394",
       "version_major": 2,
       "version_minor": 0
      },
      "text/plain": [
       "interactive(children=(IntSlider(value=10, description='a', max=30, min=-10), IntSlider(value=20, description='…"
      ]
     },
     "metadata": {},
     "output_type": "display_data"
    }
   ],
   "source": [
    "display(w)"
   ]
  },
  {
   "cell_type": "markdown",
   "metadata": {},
   "source": [
    "* UI control works just like `interact` :\n",
    "   * it can be manipulated interactively \n",
    "   * the function will be called \n",
    "\n",
    "* Widget is an `interactive`, a subclass of `VBox`, which is a container for other widgets"
   ]
  },
  {
   "cell_type": "code",
   "execution_count": 38,
   "metadata": {},
   "outputs": [
    {
     "data": {
      "text/plain": [
       "ipywidgets.widgets.interaction.interactive"
      ]
     },
     "execution_count": 38,
     "metadata": {},
     "output_type": "execute_result"
    }
   ],
   "source": [
    "type(w)"
   ]
  },
  {
   "cell_type": "code",
   "execution_count": 39,
   "metadata": {
    "tags": []
   },
   "outputs": [
    {
     "data": {
      "text/plain": [
       "['__annotations__',\n",
       " '__class__',\n",
       " '__copy__',\n",
       " '__deepcopy__',\n",
       " '__del__',\n",
       " '__delattr__',\n",
       " '__dict__',\n",
       " '__dir__',\n",
       " '__doc__',\n",
       " '__eq__',\n",
       " '__format__',\n",
       " '__ge__',\n",
       " '__getattribute__',\n",
       " '__getstate__',\n",
       " '__gt__',\n",
       " '__hash__',\n",
       " '__init__',\n",
       " '__init_subclass__',\n",
       " '__le__',\n",
       " '__lt__',\n",
       " '__module__',\n",
       " '__ne__',\n",
       " '__new__',\n",
       " '__reduce__',\n",
       " '__reduce_ex__',\n",
       " '__repr__',\n",
       " '__setattr__',\n",
       " '__setstate__',\n",
       " '__sizeof__',\n",
       " '__str__',\n",
       " '__subclasshook__',\n",
       " '__weakref__',\n",
       " '_active_widgets',\n",
       " '_add_notifiers',\n",
       " '_all_trait_default_generators',\n",
       " '_call_widget_constructed',\n",
       " '_comm_changed',\n",
       " '_compare',\n",
       " '_control_comm',\n",
       " '_cross_validation_lock',\n",
       " '_default_keys',\n",
       " '_descriptors',\n",
       " '_dom_classes',\n",
       " '_gen_repr_from_keys',\n",
       " '_get_embed_state',\n",
       " '_get_trait_default_generator',\n",
       " '_handle_control_comm_msg',\n",
       " '_handle_custom_msg',\n",
       " '_handle_msg',\n",
       " '_holding_sync',\n",
       " '_instance_inits',\n",
       " '_is_numpy',\n",
       " '_lock_property',\n",
       " '_log_default',\n",
       " '_model_id',\n",
       " '_model_module',\n",
       " '_model_module_version',\n",
       " '_model_name',\n",
       " '_msg_callbacks',\n",
       " '_notify_observers',\n",
       " '_notify_trait',\n",
       " '_property_lock',\n",
       " '_register_validator',\n",
       " '_remove_notifiers',\n",
       " '_repr_keys',\n",
       " '_repr_mimebundle_',\n",
       " '_send',\n",
       " '_should_send_property',\n",
       " '_states_to_send',\n",
       " '_static_immutable_initial_values',\n",
       " '_trait_default_generators',\n",
       " '_trait_from_json',\n",
       " '_trait_notifiers',\n",
       " '_trait_to_json',\n",
       " '_trait_validators',\n",
       " '_trait_values',\n",
       " '_traits',\n",
       " '_view_count',\n",
       " '_view_module',\n",
       " '_view_module_version',\n",
       " '_view_name',\n",
       " '_widget_construction_callback',\n",
       " '_widget_types',\n",
       " 'add_class',\n",
       " 'add_traits',\n",
       " 'args',\n",
       " 'auto_display',\n",
       " 'blur',\n",
       " 'box_style',\n",
       " 'children',\n",
       " 'class_own_trait_events',\n",
       " 'class_own_traits',\n",
       " 'class_trait_names',\n",
       " 'class_traits',\n",
       " 'clear_output',\n",
       " 'close',\n",
       " 'close_all',\n",
       " 'comm',\n",
       " 'cross_validation_lock',\n",
       " 'f',\n",
       " 'factory',\n",
       " 'find_abbreviations',\n",
       " 'focus',\n",
       " 'get_manager_state',\n",
       " 'get_state',\n",
       " 'get_view_spec',\n",
       " 'handle_comm_opened',\n",
       " 'handle_control_comm_opened',\n",
       " 'has_trait',\n",
       " 'hold_sync',\n",
       " 'hold_trait_notifications',\n",
       " 'keys',\n",
       " 'kwargs',\n",
       " 'kwargs_widgets',\n",
       " 'layout',\n",
       " 'log',\n",
       " 'manual',\n",
       " 'manual_name',\n",
       " 'model_id',\n",
       " 'notify_change',\n",
       " 'observe',\n",
       " 'on_msg',\n",
       " 'on_trait_change',\n",
       " 'on_widget_constructed',\n",
       " 'open',\n",
       " 'out',\n",
       " 'remove_class',\n",
       " 'result',\n",
       " 'send',\n",
       " 'send_state',\n",
       " 'set_state',\n",
       " 'set_trait',\n",
       " 'setup_instance',\n",
       " 'signature',\n",
       " 'tabbable',\n",
       " 'tooltip',\n",
       " 'trait_defaults',\n",
       " 'trait_events',\n",
       " 'trait_has_value',\n",
       " 'trait_metadata',\n",
       " 'trait_names',\n",
       " 'trait_values',\n",
       " 'traits',\n",
       " 'unobserve',\n",
       " 'unobserve_all',\n",
       " 'update',\n",
       " 'widget_from_abbrev',\n",
       " 'widget_from_iterable',\n",
       " 'widget_from_single_value',\n",
       " 'widget_from_tuple',\n",
       " 'widget_types',\n",
       " 'widgets',\n",
       " 'widgets_from_abbreviations']"
      ]
     },
     "execution_count": 39,
     "metadata": {},
     "output_type": "execute_result"
    }
   ],
   "source": [
    "dir(w)"
   ]
  },
  {
   "cell_type": "code",
   "execution_count": 40,
   "metadata": {},
   "outputs": [
    {
     "data": {
      "text/plain": [
       "(IntSlider(value=10, description='a', max=30, min=-10),\n",
       " IntSlider(value=20, description='b', max=60, min=-20),\n",
       " Output(outputs=({'name': 'stdout', 'text': '30\\n', 'output_type': 'stream'},)))"
      ]
     },
     "execution_count": 40,
     "metadata": {},
     "output_type": "execute_result"
    }
   ],
   "source": [
    "w.children"
   ]
  },
  {
   "cell_type": "code",
   "execution_count": 41,
   "metadata": {},
   "outputs": [
    {
     "data": {
      "application/vnd.jupyter.widget-view+json": {
       "model_id": "89b2780618dd467a8c90e281a2f60d6b",
       "version_major": 2,
       "version_minor": 0
      },
      "text/plain": [
       "Output(outputs=({'name': 'stdout', 'text': '30\\n', 'output_type': 'stream'},))"
      ]
     },
     "execution_count": 41,
     "metadata": {},
     "output_type": "execute_result"
    }
   ],
   "source": [
    "w.children[2]"
   ]
  },
  {
   "cell_type": "markdown",
   "metadata": {},
   "source": [
    "* Widget instance returned by `interactive()` also gives access to the current keyword arguments and returns value of the underlying Python function"
   ]
  },
  {
   "cell_type": "code",
   "execution_count": 42,
   "metadata": {},
   "outputs": [
    {
     "data": {
      "text/plain": [
       "{'a': 10, 'b': 20}"
      ]
     },
     "execution_count": 42,
     "metadata": {},
     "output_type": "execute_result"
    }
   ],
   "source": [
    "w.kwargs"
   ]
  },
  {
   "cell_type": "code",
   "execution_count": 43,
   "metadata": {},
   "outputs": [
    {
     "data": {
      "text/plain": [
       "30"
      ]
     },
     "execution_count": 43,
     "metadata": {},
     "output_type": "execute_result"
    }
   ],
   "source": [
    "w.result"
   ]
  },
  {
   "cell_type": "markdown",
   "metadata": {},
   "source": [
    "## 3. `interact_manual` API\n",
    "___________________\n",
    "\n",
    "* A variant of interaction that allows to restrict execution so it is only done on demand\n",
    "* A button is added to the interact controls that allows  to trigger an execute event\n",
    "* ```python\n",
    "interact.options(manual=True)\n",
    "```"
   ]
  },
  {
   "cell_type": "code",
   "execution_count": 44,
   "metadata": {
    "tags": []
   },
   "outputs": [
    {
     "name": "stdout",
     "output_type": "stream",
     "text": [
      "Help on _InteractFactory in module ipywidgets.widgets.interaction object:\n",
      "\n",
      "class _InteractFactory(builtins.object)\n",
      " |  _InteractFactory(cls, options, kwargs={})\n",
      " |\n",
      " |  Factory for instances of :class:`interactive`.\n",
      " |\n",
      " |  This class is needed to support options like::\n",
      " |\n",
      " |      >>> @interact.options(manual=True)\n",
      " |      ... def greeting(text=\"World\"):\n",
      " |      ...     print(\"Hello {}\".format(text))\n",
      " |\n",
      " |  Parameters\n",
      " |  ----------\n",
      " |  cls : class\n",
      " |      The subclass of :class:`interactive` to construct.\n",
      " |  options : dict\n",
      " |      A dict of options used to construct the interactive\n",
      " |      function. By default, this is returned by\n",
      " |      ``cls.default_options()``.\n",
      " |  kwargs : dict\n",
      " |      A dict of **kwargs to use for widgets.\n",
      " |\n",
      " |  Methods defined here:\n",
      " |\n",
      " |  __call__(self, _InteractFactory__interact_f=None, **kwargs)\n",
      " |      Make the given function interactive by adding and displaying\n",
      " |      the corresponding :class:`interactive` widget.\n",
      " |\n",
      " |      Expects the first argument to be a function. Parameters to this\n",
      " |      function are widget abbreviations passed in as keyword arguments\n",
      " |      (``**kwargs``). Can be used as a decorator (see examples).\n",
      " |\n",
      " |      Returns\n",
      " |      -------\n",
      " |      f : __interact_f with interactive widget attached to it.\n",
      " |\n",
      " |      Parameters\n",
      " |      ----------\n",
      " |      __interact_f : function\n",
      " |          The function to which the interactive widgets are tied. The `**kwargs`\n",
      " |          should match the function signature. Passed to :func:`interactive()`\n",
      " |      **kwargs : various, optional\n",
      " |          An interactive widget is created for each keyword argument that is a\n",
      " |          valid widget abbreviation. Passed to :func:`interactive()`\n",
      " |\n",
      " |      Examples\n",
      " |      --------\n",
      " |      Render an interactive text field that shows the greeting with the passed in\n",
      " |      text::\n",
      " |\n",
      " |          # 1. Using interact as a function\n",
      " |          def greeting(text=\"World\"):\n",
      " |              print(\"Hello {}\".format(text))\n",
      " |          interact(greeting, text=\"Jupyter Widgets\")\n",
      " |\n",
      " |          # 2. Using interact as a decorator\n",
      " |          @interact\n",
      " |          def greeting(text=\"World\"):\n",
      " |              print(\"Hello {}\".format(text))\n",
      " |\n",
      " |          # 3. Using interact as a decorator with named parameters\n",
      " |          @interact(text=\"Jupyter Widgets\")\n",
      " |          def greeting(text=\"World\"):\n",
      " |              print(\"Hello {}\".format(text))\n",
      " |\n",
      " |      Render an interactive slider widget and prints square of number::\n",
      " |\n",
      " |          # 1. Using interact as a function\n",
      " |          def square(num=1):\n",
      " |              print(\"{} squared is {}\".format(num, num*num))\n",
      " |          interact(square, num=5)\n",
      " |\n",
      " |          # 2. Using interact as a decorator\n",
      " |          @interact\n",
      " |          def square(num=2):\n",
      " |              print(\"{} squared is {}\".format(num, num*num))\n",
      " |\n",
      " |          # 3. Using interact as a decorator with named parameters\n",
      " |          @interact(num=5)\n",
      " |          def square(num=2):\n",
      " |              print(\"{} squared is {}\".format(num, num*num))\n",
      " |\n",
      " |  __init__(self, cls, options, kwargs={})\n",
      " |      Initialize self.  See help(type(self)) for accurate signature.\n",
      " |\n",
      " |  options(self, **kwds)\n",
      " |      Change options for interactive functions.\n",
      " |\n",
      " |      Returns\n",
      " |      -------\n",
      " |      A new :class:`_InteractFactory` which will apply the\n",
      " |      options when called.\n",
      " |\n",
      " |  widget(self, f)\n",
      " |      Return an interactive function widget for the given function.\n",
      " |\n",
      " |      The widget is only constructed, not displayed nor attached to\n",
      " |      the function.\n",
      " |\n",
      " |      Returns\n",
      " |      -------\n",
      " |      An instance of ``self.cls`` (typically :class:`interactive`).\n",
      " |\n",
      " |      Parameters\n",
      " |      ----------\n",
      " |      f : function\n",
      " |          The function to which the interactive widgets are tied.\n",
      " |\n",
      " |  ----------------------------------------------------------------------\n",
      " |  Data descriptors defined here:\n",
      " |\n",
      " |  __dict__\n",
      " |      dictionary for instance variables (if defined)\n",
      " |\n",
      " |  __weakref__\n",
      " |      list of weak references to the object (if defined)\n",
      "\n"
     ]
    }
   ],
   "source": [
    "help (interact_manual())"
   ]
  },
  {
   "cell_type": "markdown",
   "metadata": {},
   "source": [
    "```python\n",
    "class _InteractFactory\n",
    "```\n",
    "* Defines\n",
    "```python\n",
    " options(self, **kwds)\n",
    "```\n",
    "* Change options for interactive functions\n",
    "* Returns a new `class _InteractFactory` which will apply the options when called     \n",
    "* Can be used as a decorator "
   ]
  },
  {
   "cell_type": "code",
   "execution_count": 45,
   "metadata": {},
   "outputs": [],
   "source": [
    "def slow_function(i):\n",
    "    print(int(i),list(x for x in range(int(i)) if\n",
    "                str(x)==str(x)[::-1] and\n",
    "                str(x**2)==str(x**2)[::-1]))\n",
    "    return"
   ]
  },
  {
   "cell_type": "code",
   "execution_count": 46,
   "metadata": {},
   "outputs": [
    {
     "name": "stdout",
     "output_type": "stream",
     "text": [
      "10000 [0, 1, 2, 3, 11, 22, 101, 111, 121, 202, 212, 1001, 1111, 2002]\n"
     ]
    }
   ],
   "source": [
    "slow_function(1e4)"
   ]
  },
  {
   "cell_type": "code",
   "execution_count": 47,
   "metadata": {},
   "outputs": [
    {
     "data": {
      "application/vnd.jupyter.widget-view+json": {
       "model_id": "00d25bf9ffd840218fc1f4f8f208c0f0",
       "version_major": 2,
       "version_minor": 0
      },
      "text/plain": [
       "interactive(children=(FloatSlider(value=10000.0, description='i', max=10000000.0, min=10000.0, step=10.0), Out…"
      ]
     },
     "metadata": {},
     "output_type": "display_data"
    }
   ],
   "source": [
    "from ipywidgets import FloatSlider\n",
    "interact(slow_function,i=FloatSlider(min=1e4, max=1e7, step=1e1));"
   ]
  },
  {
   "cell_type": "code",
   "execution_count": 48,
   "metadata": {},
   "outputs": [
    {
     "data": {
      "application/vnd.jupyter.widget-view+json": {
       "model_id": "7cd8bbdd04714873951f9a7cc269823c",
       "version_major": 2,
       "version_minor": 0
      },
      "text/plain": [
       "interactive(children=(FloatSlider(value=10000.0, description='i', max=10000000.0, min=10000.0, step=10.0), But…"
      ]
     },
     "metadata": {},
     "output_type": "display_data"
    }
   ],
   "source": [
    "interact_manual(slow_function,i=FloatSlider(min=1e4, max=1e7, step=1e1));"
   ]
  },
  {
   "cell_type": "code",
   "execution_count": 49,
   "metadata": {},
   "outputs": [
    {
     "data": {
      "application/vnd.jupyter.widget-view+json": {
       "model_id": "c2d8e8fdb7a543b7956f99971e872121",
       "version_major": 2,
       "version_minor": 0
      },
      "text/plain": [
       "interactive(children=(FloatSlider(value=10000.0, description='i', max=10000000.0, min=10000.0, step=10.0), But…"
      ]
     },
     "metadata": {},
     "output_type": "display_data"
    }
   ],
   "source": [
    "@interact_manual(i=FloatSlider(min=1e4, max=1e7, step=1e1))\n",
    "def slow_function(i):\n",
    "    print(int(i),list(x for x in range(int(i)) if\n",
    "                str(x)==str(x)[::-1] and\n",
    "                str(x**2)==str(x**2)[::-1]))\n",
    "    return"
   ]
  },
  {
   "cell_type": "code",
   "execution_count": 50,
   "metadata": {},
   "outputs": [
    {
     "data": {
      "application/vnd.jupyter.widget-view+json": {
       "model_id": "1e9aed77d51449618c05621b810e9bbe",
       "version_major": 2,
       "version_minor": 0
      },
      "text/plain": [
       "interactive(children=(IntSlider(value=100, description='i', max=300, min=-100), Button(description='Run Intera…"
      ]
     },
     "metadata": {},
     "output_type": "display_data"
    }
   ],
   "source": [
    "@interact.options(manual=True)\n",
    "def slow_function(i=100):\n",
    "    print(int(i),list(x for x in range(int(i)) if\n",
    "                str(x)==str(x)[::-1] and\n",
    "                str(x**2)==str(x**2)[::-1]))\n",
    "    return"
   ]
  },
  {
   "cell_type": "code",
   "execution_count": 51,
   "metadata": {},
   "outputs": [
    {
     "data": {
      "application/vnd.jupyter.widget-view+json": {
       "model_id": "49c35fc144224d4fb6ebba1ba075d735",
       "version_major": 2,
       "version_minor": 0
      },
      "text/plain": [
       "interactive(children=(Text(value='World', continuous_update=False, description='text'), Button(description='Ru…"
      ]
     },
     "metadata": {},
     "output_type": "display_data"
    }
   ],
   "source": [
    "@interact.options(manual=True)\n",
    "def greeting(text=\"World\"):\n",
    "    print(\"Hello {}\".format(text))"
   ]
  },
  {
   "cell_type": "markdown",
   "metadata": {
    "tags": []
   },
   "source": [
    "## 4. `interactive_output` API\n",
    "______________"
   ]
  },
  {
   "cell_type": "markdown",
   "metadata": {},
   "source": [
    "```python\n",
    "interactive_output(f, controls)  \n",
    "``` \n",
    "Connect widget controls to a function:\n",
    "* additional flexibility to control how the UI elements are laid out\n",
    "* does not generate a UI for the widgets (unlike `interact` and `interact_manual`)\n",
    "* using ``ipywidgets.widgets.widget_output.Output`` and ``IPython.display.display()`` for UI"
   ]
  },
  {
   "cell_type": "code",
   "execution_count": 52,
   "metadata": {},
   "outputs": [],
   "source": [
    "def f(a, b, c):\n",
    "    print((a, b, c))\n",
    "\n",
    "a = IntSlider()\n",
    "b = IntSlider()\n",
    "c = IntSlider()\n",
    "\n",
    "ui = widgets.HBox([a, b, c])\n",
    "\n",
    "out = interactive_output(f, {'a': a, 'b': b, 'c': c})"
   ]
  },
  {
   "cell_type": "code",
   "execution_count": 53,
   "metadata": {},
   "outputs": [
    {
     "data": {
      "application/vnd.jupyter.widget-view+json": {
       "model_id": "de7bc567a3c94ad085101228c086934f",
       "version_major": 2,
       "version_minor": 0
      },
      "text/plain": [
       "HBox(children=(IntSlider(value=0), IntSlider(value=0), IntSlider(value=0)))"
      ]
     },
     "metadata": {},
     "output_type": "display_data"
    },
    {
     "data": {
      "application/vnd.jupyter.widget-view+json": {
       "model_id": "89f71a951a10418a880525f5e03e6c71",
       "version_major": 2,
       "version_minor": 0
      },
      "text/plain": [
       "Output(outputs=({'name': 'stdout', 'text': '(0, 0, 0)\\n', 'output_type': 'stream'},))"
      ]
     },
     "metadata": {},
     "output_type": "display_data"
    }
   ],
   "source": [
    "display(ui, out)"
   ]
  },
  {
   "cell_type": "code",
   "execution_count": 54,
   "metadata": {},
   "outputs": [
    {
     "data": {
      "application/vnd.jupyter.widget-view+json": {
       "model_id": "57d346dcbc8b4ff1bdf412c0ce4c19df",
       "version_major": 2,
       "version_minor": 0
      },
      "text/plain": [
       "VBox(children=(IntSlider(value=0), IntSlider(value=0), IntSlider(value=0)))"
      ]
     },
     "metadata": {},
     "output_type": "display_data"
    },
    {
     "data": {
      "application/vnd.jupyter.widget-view+json": {
       "model_id": "89f71a951a10418a880525f5e03e6c71",
       "version_major": 2,
       "version_minor": 0
      },
      "text/plain": [
       "Output(outputs=({'name': 'stdout', 'text': '(0, 0, 0)\\n', 'output_type': 'stream'},))"
      ]
     },
     "metadata": {},
     "output_type": "display_data"
    }
   ],
   "source": [
    "ui1 = widgets.VBox([a, b, c])\n",
    "display(ui1, out)"
   ]
  },
  {
   "cell_type": "code",
   "execution_count": 55,
   "metadata": {},
   "outputs": [
    {
     "data": {
      "text/plain": [
       "ipywidgets.widgets.widget_output.Output"
      ]
     },
     "execution_count": 55,
     "metadata": {},
     "output_type": "execute_result"
    }
   ],
   "source": [
    "type(out)"
   ]
  },
  {
   "cell_type": "markdown",
   "metadata": {},
   "source": [
    "```python\n",
    "class Output(ipywidgets.widgets.domwidget.DOMWidget)\n",
    "```\n",
    "* Widget used as a context manager to display output"
   ]
  },
  {
   "cell_type": "code",
   "execution_count": 56,
   "metadata": {},
   "outputs": [
    {
     "name": "stdout",
     "output_type": "stream",
     "text": [
      "Help on class Output in module ipywidgets.widgets.widget_output:\n",
      "\n",
      "class Output(ipywidgets.widgets.domwidget.DOMWidget)\n",
      " |  Output(**kwargs)\n",
      " |\n",
      " |  Widget used as a context manager to display output.\n",
      " |\n",
      " |  This widget can capture and display stdout, stderr, and rich output.  To use\n",
      " |  it, create an instance of it and display it.\n",
      " |\n",
      " |  You can then use the widget as a context manager: any output produced while in the\n",
      " |  context will be captured and displayed in the widget instead of the standard output\n",
      " |  area.\n",
      " |\n",
      " |  You can also use the .capture() method to decorate a function or a method. Any output\n",
      " |  produced by the function will then go to the output widget. This is useful for\n",
      " |  debugging widget callbacks, for example.\n",
      " |\n",
      " |  Example::\n",
      " |      import ipywidgets as widgets\n",
      " |      from IPython.display import display\n",
      " |      out = widgets.Output()\n",
      " |      display(out)\n",
      " |\n",
      " |      print('prints to output area')\n",
      " |\n",
      " |      with out:\n",
      " |          print('prints to output widget')\n",
      " |\n",
      " |      @out.capture()\n",
      " |      def func():\n",
      " |          print('prints to output widget')\n",
      " |\n",
      " |  Method resolution order:\n",
      " |      Output\n",
      " |      ipywidgets.widgets.domwidget.DOMWidget\n",
      " |      ipywidgets.widgets.widget.Widget\n",
      " |      ipywidgets.widgets.widget.LoggingHasTraits\n",
      " |      traitlets.traitlets.HasTraits\n",
      " |      traitlets.traitlets.HasDescriptors\n",
      " |      builtins.object\n",
      " |\n",
      " |  Methods defined here:\n",
      " |\n",
      " |  __enter__(self)\n",
      " |      Called upon entering output widget context manager.\n",
      " |\n",
      " |  __exit__(self, etype, evalue, tb)\n",
      " |      Called upon exiting output widget context manager.\n",
      " |\n",
      " |  append_display_data(self, display_object)\n",
      " |      Append a display object as an output.\n",
      " |\n",
      " |      Parameters\n",
      " |      ----------\n",
      " |      display_object : IPython.core.display.DisplayObject\n",
      " |          The object to display (e.g., an instance of\n",
      " |          `IPython.display.Markdown` or `IPython.display.Image`).\n",
      " |\n",
      " |  append_stderr(self, text)\n",
      " |      Append text to the stderr stream.\n",
      " |\n",
      " |  append_stdout(self, text)\n",
      " |      Append text to the stdout stream.\n",
      " |\n",
      " |  capture(self, clear_output=False, *clear_args, **clear_kwargs)\n",
      " |      Decorator to capture the stdout and stderr of a function.\n",
      " |\n",
      " |      Parameters\n",
      " |      ----------\n",
      " |\n",
      " |      clear_output: bool\n",
      " |          If True, clear the content of the output widget at every\n",
      " |          new function call. Default: False\n",
      " |\n",
      " |      wait: bool\n",
      " |          If True, wait to clear the output until new output is\n",
      " |          available to replace it. This is only used if clear_output\n",
      " |          is also True.\n",
      " |          Default: False\n",
      " |\n",
      " |  clear_output(self, *pargs, **kwargs)\n",
      " |      Clear the content of the output widget.\n",
      " |\n",
      " |      Parameters\n",
      " |      ----------\n",
      " |\n",
      " |      wait: bool\n",
      " |          If True, wait to clear the output until new output is\n",
      " |          available to replace it. Default: False\n",
      " |\n",
      " |  ----------------------------------------------------------------------\n",
      " |  Data descriptors defined here:\n",
      " |\n",
      " |  msg_id\n",
      " |      Parent message id of messages to capture\n",
      " |\n",
      " |  outputs\n",
      " |      The output messages synced from the frontend.\n",
      " |\n",
      " |  ----------------------------------------------------------------------\n",
      " |  Data and other attributes defined here:\n",
      " |\n",
      " |  __annotations__ = {}\n",
      " |\n",
      " |  ----------------------------------------------------------------------\n",
      " |  Methods inherited from ipywidgets.widgets.domwidget.DOMWidget:\n",
      " |\n",
      " |  add_class(self, className)\n",
      " |      Adds a class to the top level element of the widget.\n",
      " |\n",
      " |      Doesn't add the class if it already exists.\n",
      " |\n",
      " |  blur(self)\n",
      " |      Blur the widget.\n",
      " |\n",
      " |  focus(self)\n",
      " |      Focus on the widget.\n",
      " |\n",
      " |  remove_class(self, className)\n",
      " |      Removes a class from the top level element of the widget.\n",
      " |\n",
      " |      Doesn't remove the class if it doesn't exist.\n",
      " |\n",
      " |  ----------------------------------------------------------------------\n",
      " |  Data descriptors inherited from ipywidgets.widgets.domwidget.DOMWidget:\n",
      " |\n",
      " |  layout\n",
      " |\n",
      " |  tabbable\n",
      " |      Is widget tabbable?\n",
      " |\n",
      " |  tooltip\n",
      " |      A tooltip caption.\n",
      " |\n",
      " |  ----------------------------------------------------------------------\n",
      " |  Methods inherited from ipywidgets.widgets.widget.Widget:\n",
      " |\n",
      " |  __copy__(self)\n",
      " |\n",
      " |  __deepcopy__(self, memo)\n",
      " |\n",
      " |  __del__(self)\n",
      " |      Object disposal\n",
      " |\n",
      " |  __init__(self, **kwargs)\n",
      " |      Public constructor\n",
      " |\n",
      " |  __repr__(self)\n",
      " |      Return repr(self).\n",
      " |\n",
      " |  add_traits(self, **traits)\n",
      " |      Dynamically add trait attributes to the Widget.\n",
      " |\n",
      " |  close(self)\n",
      " |      Close method.\n",
      " |\n",
      " |      Closes the underlying comm.\n",
      " |      When the comm is closed, all of the widget views are automatically\n",
      " |      removed from the front-end.\n",
      " |\n",
      " |  get_state(self, key=None, drop_defaults=False)\n",
      " |      Gets the widget state, or a piece of it.\n",
      " |\n",
      " |      Parameters\n",
      " |      ----------\n",
      " |      key : unicode or iterable (optional)\n",
      " |          A single property's name or iterable of property names to get.\n",
      " |\n",
      " |      Returns\n",
      " |      -------\n",
      " |      state : dict of states\n",
      " |      metadata : dict\n",
      " |          metadata for each field: {key: metadata}\n",
      " |\n",
      " |  get_view_spec(self)\n",
      " |\n",
      " |  hold_sync(self)\n",
      " |      Hold syncing any state until the outermost context manager exits\n",
      " |\n",
      " |  notify_change(self, change)\n",
      " |      Called when a property has changed.\n",
      " |\n",
      " |  on_msg(self, callback, remove=False)\n",
      " |      (Un)Register a custom msg receive callback.\n",
      " |\n",
      " |      Parameters\n",
      " |      ----------\n",
      " |      callback: callable\n",
      " |          callback will be passed three arguments when a message arrives::\n",
      " |\n",
      " |              callback(widget, content, buffers)\n",
      " |\n",
      " |      remove: bool\n",
      " |          True if the callback should be unregistered.\n",
      " |\n",
      " |  open(self)\n",
      " |      Open a comm to the frontend if one isn't already open.\n",
      " |\n",
      " |  send(self, content, buffers=None)\n",
      " |      Sends a custom msg to the widget model in the front-end.\n",
      " |\n",
      " |      Parameters\n",
      " |      ----------\n",
      " |      content : dict\n",
      " |          Content of the message to send.\n",
      " |      buffers : list of binary buffers\n",
      " |          Binary buffers to send with message\n",
      " |\n",
      " |  send_state(self, key=None)\n",
      " |      Sends the widget state, or a piece of it, to the front-end, if it exists.\n",
      " |\n",
      " |      Parameters\n",
      " |      ----------\n",
      " |      key : unicode, or iterable (optional)\n",
      " |          A single property's name or iterable of property names to sync with the front-end.\n",
      " |\n",
      " |  set_state(self, sync_data)\n",
      " |      Called when a state is received from the front-end.\n",
      " |\n",
      " |  ----------------------------------------------------------------------\n",
      " |  Class methods inherited from ipywidgets.widgets.widget.Widget:\n",
      " |\n",
      " |  close_all() from traitlets.traitlets.MetaHasTraits\n",
      " |\n",
      " |  handle_control_comm_opened(comm, msg) from traitlets.traitlets.MetaHasTraits\n",
      " |      Class method, called when the comm-open message on the\n",
      " |      \"jupyter.widget.control\" comm channel is received\n",
      " |\n",
      " |  ----------------------------------------------------------------------\n",
      " |  Static methods inherited from ipywidgets.widgets.widget.Widget:\n",
      " |\n",
      " |  get_manager_state(drop_defaults=False, widgets=None)\n",
      " |      Returns the full state for a widget manager for embedding\n",
      " |\n",
      " |      :param drop_defaults: when True, it will not include default value\n",
      " |      :param widgets: list with widgets to include in the state (or all widgets when None)\n",
      " |      :return:\n",
      " |\n",
      " |  handle_comm_opened(comm, msg)\n",
      " |      Static method, called when a widget is constructed.\n",
      " |\n",
      " |  on_widget_constructed(callback)\n",
      " |      Registers a callback to be called when a widget is constructed.\n",
      " |\n",
      " |      The callback must have the following signature:\n",
      " |      callback(widget)\n",
      " |\n",
      " |  ----------------------------------------------------------------------\n",
      " |  Readonly properties inherited from ipywidgets.widgets.widget.Widget:\n",
      " |\n",
      " |  model_id\n",
      " |      Gets the model id of this widget.\n",
      " |\n",
      " |      If a Comm doesn't exist yet, a Comm will be created automagically.\n",
      " |\n",
      " |  ----------------------------------------------------------------------\n",
      " |  Data descriptors inherited from ipywidgets.widgets.widget.Widget:\n",
      " |\n",
      " |  comm\n",
      " |\n",
      " |  keys\n",
      " |      The traits which are synced.\n",
      " |\n",
      " |  ----------------------------------------------------------------------\n",
      " |  Data and other attributes inherited from ipywidgets.widgets.widget.Widget:\n",
      " |\n",
      " |  widget_types = <ipywidgets.widgets.widget.WidgetRegistry object>\n",
      " |\n",
      " |  widgets = {'00d25bf9ffd840218fc1f4f8f208c0f0': interactive(children=(F...\n",
      " |\n",
      " |  ----------------------------------------------------------------------\n",
      " |  Data descriptors inherited from ipywidgets.widgets.widget.LoggingHasTraits:\n",
      " |\n",
      " |  log\n",
      " |\n",
      " |  ----------------------------------------------------------------------\n",
      " |  Methods inherited from traitlets.traitlets.HasTraits:\n",
      " |\n",
      " |  __getstate__(self) -> 'dict[str, t.Any]'\n",
      " |      Helper for pickle.\n",
      " |\n",
      " |  __setstate__(self, state: 'dict[str, t.Any]') -> 'None'\n",
      " |\n",
      " |  has_trait(self, name: 'str') -> 'bool'\n",
      " |      Returns True if the object has a trait with the specified name.\n",
      " |\n",
      " |  hold_trait_notifications(self) -> 't.Any'\n",
      " |      Context manager for bundling trait change notifications and cross\n",
      " |      validation.\n",
      " |\n",
      " |      Use this when doing multiple trait assignments (init, config), to avoid\n",
      " |      race conditions in trait notifiers requesting other trait values.\n",
      " |      All trait notifications will fire after all values have been assigned.\n",
      " |\n",
      " |  observe(self, handler: 't.Callable[..., t.Any]', names: 'Sentinel | str | t.Iterable[Sentinel | str]' = traitlets.All, type: 'Sentinel | str' = 'change') -> 'None'\n",
      " |      Setup a handler to be called when a trait changes.\n",
      " |\n",
      " |      This is used to setup dynamic notifications of trait changes.\n",
      " |\n",
      " |      Parameters\n",
      " |      ----------\n",
      " |      handler : callable\n",
      " |          A callable that is called when a trait changes. Its\n",
      " |          signature should be ``handler(change)``, where ``change`` is a\n",
      " |          dictionary. The change dictionary at least holds a 'type' key.\n",
      " |          * ``type``: the type of notification.\n",
      " |          Other keys may be passed depending on the value of 'type'. In the\n",
      " |          case where type is 'change', we also have the following keys:\n",
      " |          * ``owner`` : the HasTraits instance\n",
      " |          * ``old`` : the old value of the modified trait attribute\n",
      " |          * ``new`` : the new value of the modified trait attribute\n",
      " |          * ``name`` : the name of the modified trait attribute.\n",
      " |      names : list, str, All\n",
      " |          If names is All, the handler will apply to all traits.  If a list\n",
      " |          of str, handler will apply to all names in the list.  If a\n",
      " |          str, the handler will apply just to that name.\n",
      " |      type : str, All (default: 'change')\n",
      " |          The type of notification to filter by. If equal to All, then all\n",
      " |          notifications are passed to the observe handler.\n",
      " |\n",
      " |  on_trait_change(self, handler: 'EventHandler | None' = None, name: 'Sentinel | str | None' = None, remove: 'bool' = False) -> 'None'\n",
      " |      DEPRECATED: Setup a handler to be called when a trait changes.\n",
      " |\n",
      " |      This is used to setup dynamic notifications of trait changes.\n",
      " |\n",
      " |      Static handlers can be created by creating methods on a HasTraits\n",
      " |      subclass with the naming convention '_[traitname]_changed'.  Thus,\n",
      " |      to create static handler for the trait 'a', create the method\n",
      " |      _a_changed(self, name, old, new) (fewer arguments can be used, see\n",
      " |      below).\n",
      " |\n",
      " |      If `remove` is True and `handler` is not specified, all change\n",
      " |      handlers for the specified name are uninstalled.\n",
      " |\n",
      " |      Parameters\n",
      " |      ----------\n",
      " |      handler : callable, None\n",
      " |          A callable that is called when a trait changes.  Its\n",
      " |          signature can be handler(), handler(name), handler(name, new),\n",
      " |          handler(name, old, new), or handler(name, old, new, self).\n",
      " |      name : list, str, None\n",
      " |          If None, the handler will apply to all traits.  If a list\n",
      " |          of str, handler will apply to all names in the list.  If a\n",
      " |          str, the handler will apply just to that name.\n",
      " |      remove : bool\n",
      " |          If False (the default), then install the handler.  If True\n",
      " |          then unintall it.\n",
      " |\n",
      " |  set_trait(self, name: 'str', value: 't.Any') -> 'None'\n",
      " |      Forcibly sets trait attribute, including read-only attributes.\n",
      " |\n",
      " |  setup_instance(*args: 't.Any', **kwargs: 't.Any') -> 'None'\n",
      " |      This is called **before** self.__init__ is called.\n",
      " |\n",
      " |  trait_defaults(self, *names: 'str', **metadata: 't.Any') -> 'dict[str, t.Any] | Sentinel'\n",
      " |      Return a trait's default value or a dictionary of them\n",
      " |\n",
      " |      Notes\n",
      " |      -----\n",
      " |      Dynamically generated default values may\n",
      " |      depend on the current state of the object.\n",
      " |\n",
      " |  trait_has_value(self, name: 'str') -> 'bool'\n",
      " |      Returns True if the specified trait has a value.\n",
      " |\n",
      " |      This will return false even if ``getattr`` would return a\n",
      " |      dynamically generated default value. These default values\n",
      " |      will be recognized as existing only after they have been\n",
      " |      generated.\n",
      " |\n",
      " |      Example\n",
      " |\n",
      " |      .. code-block:: python\n",
      " |\n",
      " |          class MyClass(HasTraits):\n",
      " |              i = Int()\n",
      " |\n",
      " |\n",
      " |          mc = MyClass()\n",
      " |          assert not mc.trait_has_value(\"i\")\n",
      " |          mc.i  # generates a default value\n",
      " |          assert mc.trait_has_value(\"i\")\n",
      " |\n",
      " |  trait_metadata(self, traitname: 'str', key: 'str', default: 't.Any' = None) -> 't.Any'\n",
      " |      Get metadata values for trait by key.\n",
      " |\n",
      " |  trait_names(self, **metadata: 't.Any') -> 'list[str]'\n",
      " |      Get a list of all the names of this class' traits.\n",
      " |\n",
      " |  trait_values(self, **metadata: 't.Any') -> 'dict[str, t.Any]'\n",
      " |      A ``dict`` of trait names and their values.\n",
      " |\n",
      " |      The metadata kwargs allow functions to be passed in which\n",
      " |      filter traits based on metadata values.  The functions should\n",
      " |      take a single value as an argument and return a boolean.  If\n",
      " |      any function returns False, then the trait is not included in\n",
      " |      the output.  If a metadata key doesn't exist, None will be passed\n",
      " |      to the function.\n",
      " |\n",
      " |      Returns\n",
      " |      -------\n",
      " |      A ``dict`` of trait names and their values.\n",
      " |\n",
      " |      Notes\n",
      " |      -----\n",
      " |      Trait values are retrieved via ``getattr``, any exceptions raised\n",
      " |      by traits or the operations they may trigger will result in the\n",
      " |      absence of a trait value in the result ``dict``.\n",
      " |\n",
      " |  traits(self, **metadata: 't.Any') -> 'dict[str, TraitType[t.Any, t.Any]]'\n",
      " |      Get a ``dict`` of all the traits of this class.  The dictionary\n",
      " |      is keyed on the name and the values are the TraitType objects.\n",
      " |\n",
      " |      The TraitTypes returned don't know anything about the values\n",
      " |      that the various HasTrait's instances are holding.\n",
      " |\n",
      " |      The metadata kwargs allow functions to be passed in which\n",
      " |      filter traits based on metadata values.  The functions should\n",
      " |      take a single value as an argument and return a boolean.  If\n",
      " |      any function returns False, then the trait is not included in\n",
      " |      the output.  If a metadata key doesn't exist, None will be passed\n",
      " |      to the function.\n",
      " |\n",
      " |  unobserve(self, handler: 't.Callable[..., t.Any]', names: 'Sentinel | str | t.Iterable[Sentinel | str]' = traitlets.All, type: 'Sentinel | str' = 'change') -> 'None'\n",
      " |      Remove a trait change handler.\n",
      " |\n",
      " |      This is used to unregister handlers to trait change notifications.\n",
      " |\n",
      " |      Parameters\n",
      " |      ----------\n",
      " |      handler : callable\n",
      " |          The callable called when a trait attribute changes.\n",
      " |      names : list, str, All (default: All)\n",
      " |          The names of the traits for which the specified handler should be\n",
      " |          uninstalled. If names is All, the specified handler is uninstalled\n",
      " |          from the list of notifiers corresponding to all changes.\n",
      " |      type : str or All (default: 'change')\n",
      " |          The type of notification to filter by. If All, the specified handler\n",
      " |          is uninstalled from the list of notifiers corresponding to all types.\n",
      " |\n",
      " |  unobserve_all(self, name: 'str | t.Any' = traitlets.All) -> 'None'\n",
      " |      Remove trait change handlers of any type for the specified name.\n",
      " |      If name is not specified, removes all trait notifiers.\n",
      " |\n",
      " |  ----------------------------------------------------------------------\n",
      " |  Class methods inherited from traitlets.traitlets.HasTraits:\n",
      " |\n",
      " |  class_own_trait_events(name: 'str') -> 'dict[str, EventHandler]' from traitlets.traitlets.MetaHasTraits\n",
      " |      Get a dict of all event handlers defined on this class, not a parent.\n",
      " |\n",
      " |      Works like ``event_handlers``, except for excluding traits from parents.\n",
      " |\n",
      " |  class_own_traits(**metadata: 't.Any') -> 'dict[str, TraitType[t.Any, t.Any]]' from traitlets.traitlets.MetaHasTraits\n",
      " |      Get a dict of all the traitlets defined on this class, not a parent.\n",
      " |\n",
      " |      Works like `class_traits`, except for excluding traits from parents.\n",
      " |\n",
      " |  class_trait_names(**metadata: 't.Any') -> 'list[str]' from traitlets.traitlets.MetaHasTraits\n",
      " |      Get a list of all the names of this class' traits.\n",
      " |\n",
      " |      This method is just like the :meth:`trait_names` method,\n",
      " |      but is unbound.\n",
      " |\n",
      " |  class_traits(**metadata: 't.Any') -> 'dict[str, TraitType[t.Any, t.Any]]' from traitlets.traitlets.MetaHasTraits\n",
      " |      Get a ``dict`` of all the traits of this class.  The dictionary\n",
      " |      is keyed on the name and the values are the TraitType objects.\n",
      " |\n",
      " |      This method is just like the :meth:`traits` method, but is unbound.\n",
      " |\n",
      " |      The TraitTypes returned don't know anything about the values\n",
      " |      that the various HasTrait's instances are holding.\n",
      " |\n",
      " |      The metadata kwargs allow functions to be passed in which\n",
      " |      filter traits based on metadata values.  The functions should\n",
      " |      take a single value as an argument and return a boolean.  If\n",
      " |      any function returns False, then the trait is not included in\n",
      " |      the output.  If a metadata key doesn't exist, None will be passed\n",
      " |      to the function.\n",
      " |\n",
      " |  trait_events(name: 'str | None' = None) -> 'dict[str, EventHandler]' from traitlets.traitlets.MetaHasTraits\n",
      " |      Get a ``dict`` of all the event handlers of this class.\n",
      " |\n",
      " |      Parameters\n",
      " |      ----------\n",
      " |      name : str (default: None)\n",
      " |          The name of a trait of this class. If name is ``None`` then all\n",
      " |          the event handlers of this class will be returned instead.\n",
      " |\n",
      " |      Returns\n",
      " |      -------\n",
      " |      The event handlers associated with a trait name, or all event handlers.\n",
      " |\n",
      " |  ----------------------------------------------------------------------\n",
      " |  Readonly properties inherited from traitlets.traitlets.HasTraits:\n",
      " |\n",
      " |  cross_validation_lock\n",
      " |      A contextmanager for running a block with our cross validation lock set\n",
      " |      to True.\n",
      " |\n",
      " |      At the end of the block, the lock's value is restored to its value\n",
      " |      prior to entering the block.\n",
      " |\n",
      " |  ----------------------------------------------------------------------\n",
      " |  Static methods inherited from traitlets.traitlets.HasDescriptors:\n",
      " |\n",
      " |  __new__(*args: 't.Any', **kwargs: 't.Any') -> 't.Any'\n",
      " |      Create and return a new object.  See help(type) for accurate signature.\n",
      " |\n",
      " |  ----------------------------------------------------------------------\n",
      " |  Data descriptors inherited from traitlets.traitlets.HasDescriptors:\n",
      " |\n",
      " |  __dict__\n",
      " |      dictionary for instance variables (if defined)\n",
      " |\n",
      " |  __weakref__\n",
      " |      list of weak references to the object (if defined)\n",
      "\n"
     ]
    }
   ],
   "source": [
    "help(widgets.widgets.widget_output.Output)"
   ]
  },
  {
   "cell_type": "code",
   "execution_count": 57,
   "metadata": {},
   "outputs": [
    {
     "data": {
      "application/vnd.jupyter.widget-view+json": {
       "model_id": "de7bc567a3c94ad085101228c086934f",
       "version_major": 2,
       "version_minor": 0
      },
      "text/plain": [
       "HBox(children=(IntSlider(value=0), IntSlider(value=0), IntSlider(value=0)))"
      ]
     },
     "metadata": {},
     "output_type": "display_data"
    }
   ],
   "source": [
    "display(ui)"
   ]
  },
  {
   "cell_type": "code",
   "execution_count": 58,
   "metadata": {},
   "outputs": [],
   "source": [
    "import ipywidgets as widgets\n",
    "from IPython.display import display"
   ]
  },
  {
   "cell_type": "code",
   "execution_count": 59,
   "metadata": {},
   "outputs": [
    {
     "data": {
      "application/vnd.jupyter.widget-view+json": {
       "model_id": "c9007c9d62c749cfb25b9e27514fc620",
       "version_major": 2,
       "version_minor": 0
      },
      "text/plain": [
       "Output()"
      ]
     },
     "metadata": {},
     "output_type": "display_data"
    }
   ],
   "source": [
    "out = widgets.Output()\n",
    "display(out)"
   ]
  },
  {
   "cell_type": "code",
   "execution_count": 60,
   "metadata": {},
   "outputs": [
    {
     "name": "stdout",
     "output_type": "stream",
     "text": [
      "prints to output area\n"
     ]
    }
   ],
   "source": [
    "print('prints to output area')"
   ]
  },
  {
   "cell_type": "code",
   "execution_count": 61,
   "metadata": {},
   "outputs": [],
   "source": [
    "with out:\n",
    "    print('prints to output widget')   "
   ]
  },
  {
   "cell_type": "code",
   "execution_count": 62,
   "metadata": {},
   "outputs": [
    {
     "data": {
      "application/vnd.jupyter.widget-view+json": {
       "model_id": "c9007c9d62c749cfb25b9e27514fc620",
       "version_major": 2,
       "version_minor": 0
      },
      "text/plain": [
       "Output(outputs=({'name': 'stdout', 'text': 'prints to output widget\\n', 'output_type': 'stream'},))"
      ]
     },
     "metadata": {},
     "output_type": "display_data"
    }
   ],
   "source": [
    "display(out)"
   ]
  },
  {
   "cell_type": "code",
   "execution_count": 63,
   "metadata": {},
   "outputs": [],
   "source": [
    "@out.capture()\n",
    "def func():\n",
    "    print('prints to output widget')"
   ]
  },
  {
   "cell_type": "code",
   "execution_count": 64,
   "metadata": {},
   "outputs": [],
   "source": [
    "func()"
   ]
  },
  {
   "cell_type": "code",
   "execution_count": null,
   "metadata": {},
   "outputs": [],
   "source": []
  }
 ],
 "metadata": {
  "kernelspec": {
   "display_name": "Python 3 (ipykernel)",
   "language": "python",
   "name": "python3"
  },
  "language_info": {
   "codemirror_mode": {
    "name": "ipython",
    "version": 3
   },
   "file_extension": ".py",
   "mimetype": "text/x-python",
   "name": "python",
   "nbconvert_exporter": "python",
   "pygments_lexer": "ipython3",
   "version": "3.12.0"
  }
 },
 "nbformat": 4,
 "nbformat_minor": 4
}
