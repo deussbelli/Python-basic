{
 "cells": [
  {
   "cell_type": "markdown",
   "metadata": {},
   "source": [
    "## Widgets Introduction \n",
    "\n",
    "* widgets -- eventful python objects that have a representation in the browser, often as a control like a slider, textbox, etc.\n",
    "* widgets -- can be used  to build interactive UI for  notebooks"
   ]
  },
  {
   "cell_type": "markdown",
   "metadata": {},
   "source": [
    "#### Example: Investing\n",
    "The future value function  `fv` implements\n",
    "\n",
    "$Compound\\,Interest = p (1+\\frac{i}{n})^{nt} $\n",
    "\n",
    "where\n",
    "* p -- initial investment (i.e., present value)\n",
    "* i -- interest rate\n",
    "* n -- number of times investment is compounded per year\n",
    "* t -- total time (in years) of the investment"
   ]
  },
  {
   "cell_type": "code",
   "execution_count": null,
   "metadata": {
    "collapsed": true
   },
   "outputs": [],
   "source": [
    "def fv(p, i, n, t):\n",
    "    \"\"\"Returns the future value of an investment   \"\"\"\n",
    "    return p * (1 + float(i)/n)**(n * t)"
   ]
  },
  {
   "cell_type": "code",
   "execution_count": null,
   "metadata": {
    "collapsed": true
   },
   "outputs": [],
   "source": [
    "print (\"${:.2f}\".format(fv(10000, 0.08, 1, 10)))"
   ]
  },
  {
   "cell_type": "markdown",
   "metadata": {},
   "source": [
    "#### Plotting data onto static graphs\n",
    "\n",
    "`plot_fv` -- plots the value of investment for each year that the money is invested\n",
    "\n",
    "* takes the same set of parameters as our `fv` function \n",
    "* uses the `fv` function to calculate the return for every year\n",
    "* plots the future value for each year onto a simple line graph"
   ]
  },
  {
   "cell_type": "code",
   "execution_count": null,
   "metadata": {
    "collapsed": true
   },
   "outputs": [],
   "source": [
    "%matplotlib inline\n",
    "import matplotlib.pyplot as plt"
   ]
  },
  {
   "cell_type": "code",
   "execution_count": null,
   "metadata": {
    "collapsed": true
   },
   "outputs": [],
   "source": [
    "def plot_fv(p, i, n, t):\n",
    "    \"\"\"Plots the value of an investment over time\n",
    "    \"\"\"\n",
    "    fvs = [fv(p, i, n, year) for year in range(t+1)]\n",
    "    plt.plot(fvs)"
   ]
  },
  {
   "cell_type": "markdown",
   "metadata": {},
   "source": [
    "Now, let's give our `plot_fv` function a try with the same set of values that we used in the previous example for 10-year T-Bonds, but this time let's push the time period of our investment out to 30 years."
   ]
  },
  {
   "cell_type": "code",
   "execution_count": null,
   "metadata": {
    "collapsed": true
   },
   "outputs": [],
   "source": [
    "plot_fv(10000, 0.04, 1, 30)"
   ]
  },
  {
   "cell_type": "markdown",
   "metadata": {},
   "source": [
    "To find \"the best place to stash cash\" a handful of parameters can be changed"
   ]
  },
  {
   "cell_type": "code",
   "execution_count": null,
   "metadata": {
    "collapsed": true
   },
   "outputs": [],
   "source": [
    "plot_fv(10000, 0.05, 1, 30)"
   ]
  },
  {
   "cell_type": "markdown",
   "metadata": {},
   "source": [
    "### Adding Some Interactivity by `interact`\n",
    "\n",
    "* It is the easiest way to get started using IPython’s widgets\n",
    "* `ipywidgets.interact()` allows us to do just adjusting a few sliders"
   ]
  },
  {
   "cell_type": "markdown",
   "metadata": {},
   "source": [
    "#### `interact()` :\n",
    "\n",
    "* automatically creates simple graphical interface (**GUI, UI**) controls for exploring code and data interactively\n",
    "* is based on a set of keword arguments that are passed to it \n",
    "* the result will be a UI for interacting with to modify the input to the underlying function\n",
    "* for `plot_fv`  the output is a matplotlib plot which will be updated with each parameter change"
   ]
  },
  {
   "cell_type": "code",
   "execution_count": null,
   "metadata": {
    "collapsed": true
   },
   "outputs": [],
   "source": [
    "import ipywidgets\n",
    "\n",
    "ipywidgets.interact(plot_fv, p=10000, i=0.24, n=1, t=30);"
   ]
  },
  {
   "cell_type": "markdown",
   "metadata": {},
   "source": [
    "The `interact` call contains: \n",
    "\n",
    "1. `plot_fv` function\n",
    "2. a default values for each parameter in `plot_fv`"
   ]
  },
  {
   "cell_type": "markdown",
   "metadata": {},
   "source": [
    " `interact`  figures out a few things: \n",
    " \n",
    " * names of each of the parameters of the underlying function\n",
    " * the type of each parameter allowing to choose the correct widget to represent each one\n",
    " * the default value for each parameter and corresponding widget "
   ]
  },
  {
   "cell_type": "markdown",
   "metadata": {},
   "source": [
    "### A control `interact` using tuples:\n",
    "\n",
    "* passing in a tuple for each keyword argument with minimum and maximum values of each slider \n",
    "* passing in a step value (optionally)"
   ]
  },
  {
   "cell_type": "code",
   "execution_count": null,
   "metadata": {
    "collapsed": true
   },
   "outputs": [],
   "source": [
    "ipywidgets.interact(plot_fv, p=(0, 100000, 1000), i=(0.01, 0.2, 0.001), n=(1, 12), t=(1, 50));"
   ]
  },
  {
   "cell_type": "markdown",
   "metadata": {},
   "source": [
    "### A control `interact` using custom widget objects:\n",
    "* just call the constructor for each widget\n",
    "* pass in the options as keyword arguments"
   ]
  },
  {
   "cell_type": "code",
   "execution_count": null,
   "metadata": {
    "collapsed": true
   },
   "outputs": [],
   "source": [
    "present_value = ipywidgets.IntSlider(min=0, max=100000, step=1000, value=10000, \n",
    "                                     description='Present Value', continuous_update=False)\n",
    "interest_rate = ipywidgets.FloatSlider(min=0.01, max=0.2, step=0.001, value=0.047, \n",
    "                                       description='Interest Rate', continuous_update=False)\n",
    "compounds_per_year = ipywidgets.IntSlider(min=1, max=12, value=1, \n",
    "                                          description='Compounds/Year', continuous_update=False)\n",
    "years = ipywidgets.IntSlider(min=1, max=50, value=30, \n",
    "                             description='Years to Retirement', continuous_update=False)"
   ]
  },
  {
   "cell_type": "code",
   "execution_count": null,
   "metadata": {
    "collapsed": true
   },
   "outputs": [],
   "source": [
    "ipywidgets.interact(plot_fv, p=present_value, i=interest_rate, n=compounds_per_year, t=years);"
   ]
  },
  {
   "cell_type": "markdown",
   "metadata": {},
   "source": [
    "### Making Comparisons with `interactive()`"
   ]
  },
  {
   "cell_type": "code",
   "execution_count": null,
   "metadata": {
    "collapsed": true
   },
   "outputs": [],
   "source": [
    "# Create a global figure that we can update instead of creating a new figure \n",
    "# every time the plot_fv function is called.\n",
    "fig = plt.figure()"
   ]
  },
  {
   "cell_type": "code",
   "execution_count": null,
   "metadata": {
    "collapsed": true
   },
   "outputs": [],
   "source": [
    "def plot_fv(p, i, n, t):\n",
    "    \"\"\"Plots the value of an investment over time\n",
    "    \"\"\"\n",
    "    fvs = [fv(p, i, n, year) for year in range(t+1)]\n",
    "\n",
    "    ax = fig.gca()\n",
    "    ax.plot(fvs, label=\"p=%d, i=%2f, n=%d, t=%d\" % (p, i, n, t))\n",
    "    # Add a legend and make sure that it's outside of the plot\n",
    "    ax.legend(loc='center left', bbox_to_anchor=(1.0, 0.5))\n",
    "    display(fig)"
   ]
  },
  {
   "cell_type": "code",
   "execution_count": null,
   "metadata": {
    "collapsed": true
   },
   "outputs": [],
   "source": [
    "present_value = ipywidgets.IntSlider(min=0, max=100000, step=1000, value=10000, \n",
    "                                     description='Present Value:', continuous_update=False)\n",
    "interest_rate = ipywidgets.FloatSlider(min=0.01, max=0.2, step=0.001, value=0.047, \n",
    "                                       description='Interest Rate:', continuous_update=False)\n",
    "compounds_per_year = ipywidgets.IntSlider(min=1, max=12, value=1, \n",
    "                                          description='Compounds/Year:', continuous_update=False)"
   ]
  },
  {
   "cell_type": "code",
   "execution_count": null,
   "metadata": {
    "collapsed": true
   },
   "outputs": [],
   "source": [
    "w = ipywidgets.interactive(plot_fv, p=present_value, i=interest_rate, n=compounds_per_year, t=ipywidgets.fixed(30))"
   ]
  },
  {
   "cell_type": "markdown",
   "metadata": {},
   "source": [
    "* `interactive()`  returns a container object that wraps all of the widgets and provides a way for us to get the current values of each "
   ]
  },
  {
   "cell_type": "code",
   "execution_count": null,
   "metadata": {
    "collapsed": true
   },
   "outputs": [],
   "source": [
    "from IPython.display import clear_output\n",
    "\n",
    "# This function will 1.clear the global figure object, \n",
    "# 2. clear the outputof the current cell, and  \n",
    "# 3.display a new plot with the current set values from the interface\n",
    "def clf(*args, **kwargs):\n",
    "    fig.clf()\n",
    "    # If we don't call clear_output(), we end up with 2 plots\n",
    "    clear_output()\n",
    "    plot_fv(**w.kwargs)\n",
    "    \n",
    "button = ipywidgets.Button(description=\"Reset\")    \n",
    "button.on_click(clf)\n",
    "\n",
    "w.children += (button,)"
   ]
  },
  {
   "cell_type": "code",
   "execution_count": null,
   "metadata": {
    "collapsed": true
   },
   "outputs": [],
   "source": [
    "from IPython.display import display\n",
    "display(w)"
   ]
  },
  {
   "cell_type": "markdown",
   "metadata": {},
   "source": [
    "* using `continuous_update=True`"
   ]
  },
  {
   "cell_type": "code",
   "execution_count": null,
   "metadata": {
    "collapsed": true
   },
   "outputs": [],
   "source": [
    "present_value1 = ipywidgets.IntSlider(min=0, max=100000, step=1000, value=10000, \n",
    "                                     description='Present Value:', continuous_update=False)\n",
    "interest_rate1 = ipywidgets.FloatSlider(min=0.01, max=0.2, step=0.001, value=0.047, \n",
    "                                       description='Interest Rate:', continuous_update=True)\n",
    "compounds_per_year1 = ipywidgets.IntSlider(min=1, max=12, value=1, \n",
    "                                          description='Compounds/Year:', continuous_update=True)\n",
    "w1 = ipywidgets.interactive(plot_fv, p=present_value1, i=interest_rate1, n=compounds_per_year1, t=ipywidgets.fixed(30))"
   ]
  },
  {
   "cell_type": "code",
   "execution_count": null,
   "metadata": {
    "collapsed": true
   },
   "outputs": [],
   "source": [
    "w1.children += (button,)"
   ]
  },
  {
   "cell_type": "code",
   "execution_count": null,
   "metadata": {
    "collapsed": true,
    "scrolled": false
   },
   "outputs": [],
   "source": [
    "display(w1)"
   ]
  },
  {
   "cell_type": "code",
   "execution_count": null,
   "metadata": {
    "collapsed": true
   },
   "outputs": [],
   "source": []
  }
 ],
 "metadata": {
  "kernelspec": {
   "display_name": "Python 3",
   "language": "python",
   "name": "python3"
  },
  "language_info": {
   "codemirror_mode": {
    "name": "ipython",
    "version": 3
   },
   "file_extension": ".py",
   "mimetype": "text/x-python",
   "name": "python",
   "nbconvert_exporter": "python",
   "pygments_lexer": "ipython3",
   "version": "3.6.3"
  }
 },
 "nbformat": 4,
 "nbformat_minor": 1
}
