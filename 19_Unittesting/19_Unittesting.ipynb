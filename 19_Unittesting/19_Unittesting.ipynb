{
 "cells": [
  {
   "cell_type": "markdown",
   "metadata": {
    "tags": []
   },
   "source": [
    "## Unit Testing\n",
    "__________________________________"
   ]
  },
  {
   "cell_type": "markdown",
   "metadata": {},
   "source": [
    "[```unittest``` — Unit testing framework](https://docs.python.org/3/library/unittest.html#)\n",
    "\n",
    "[Corey Schafer. Python Tutorial: Unit Testing Your Code with the unittest Module](https://www.youtube.com/watch?v=6tNS--WetLI)\n",
    "\n",
    "[Ned Batchelder: Getting Started Testing](https://www.youtube.com/watch?v=FxSsnHeWQBY)\n",
    "\n",
    "[Hillel Wayne - Beyond Unit Tests: Taking Your Testing to the Next Level - PyCon 2018](https://www.youtube.com/watch?v=MYucYon2-lk)"
   ]
  },
  {
   "cell_type": "markdown",
   "metadata": {},
   "source": [
    "## 1. Testing fundamentals\n",
    "_________________________________\n",
    "\n",
    "*A program is a collection of opportunities for things to go wrong*"
   ]
  },
  {
   "cell_type": "markdown",
   "metadata": {},
   "source": [
    "#### 1.1. Leves of software testing\n",
    "__________________________________\n",
    "\n",
    "* Unit Testing            \n",
    "* Integration Testing\n",
    "* System Testing"
   ]
  },
  {
   "cell_type": "markdown",
   "metadata": {
    "tags": []
   },
   "source": [
    "#### 1.2 `` unittest`` -- unit testing framework \n",
    "__________________________"
   ]
  },
  {
   "cell_type": "code",
   "execution_count": null,
   "metadata": {
    "tags": []
   },
   "outputs": [],
   "source": [
    "import unittest"
   ]
  },
  {
   "cell_type": "markdown",
   "metadata": {
    "jp-MarkdownHeadingCollapsed": true,
    "tags": []
   },
   "source": [
    "* supports test automation \n",
    "* sharing of setup and shutdown code for tests \n",
    "* aggregation of tests into collections\n",
    "* independence of the tests from the reporting framework"
   ]
  },
  {
   "cell_type": "markdown",
   "metadata": {
    "tags": []
   },
   "source": [
    "#### 1.3 Concepts of `` unittest``\n",
    "_________________________\n",
    "\n",
    "* test fixture -- represents the preparation needed to perform one or more tests, and any associate cleanup actions (for example, creating temporary or proxy databases, directories, or starting a server process)\n",
    "\n",
    "* test case -- individual unit of testing -- checks for a specific response to a particular set of inputs;  ``unittest.TestCase`` may be used as a base class to create new test cases\n",
    "\n",
    "* test suite -- a collection of test cases, test suites, or both; it is used to aggregate tests that should be executed together\n",
    "\n",
    "* test runner -- a component which orchestrates the execution of tests and provides the outcome to the user; it may use a graphical interface, a textual interface, or return a special value to indicate the results of executing the tests"
   ]
  },
  {
   "cell_type": "code",
   "execution_count": null,
   "metadata": {
    "tags": []
   },
   "outputs": [],
   "source": [
    "help(unittest.main)"
   ]
  },
  {
   "cell_type": "markdown",
   "metadata": {},
   "source": [
    "* testcase contains a set of tests based on some kind of  assertion\n",
    "* command-line program that loads a set of tests from module and runs them"
   ]
  },
  {
   "cell_type": "markdown",
   "metadata": {},
   "source": [
    "```ipython\n",
    "unittest.main(module='__main__', defaultTest=None, argv=None, testRunner=None, testLoader=unittest.defaultTestLoader, exit=True, verbosity=1, failfast=None, catchbreak=None, buffer=None, warnings=None) \n",
    "```"
   ]
  },
  {
   "cell_type": "markdown",
   "metadata": {},
   "source": [
    "## 2. Testing of functions\n",
    "_______________________"
   ]
  },
  {
   "cell_type": "code",
   "execution_count": null,
   "metadata": {
    "tags": []
   },
   "outputs": [],
   "source": [
    "import calc"
   ]
  },
  {
   "cell_type": "code",
   "execution_count": null,
   "metadata": {},
   "outputs": [],
   "source": [
    "calc.add(0.5 , 1)"
   ]
  },
  {
   "cell_type": "code",
   "execution_count": null,
   "metadata": {},
   "outputs": [],
   "source": [
    "#add(0.5 , 1)"
   ]
  },
  {
   "cell_type": "code",
   "execution_count": null,
   "metadata": {
    "tags": []
   },
   "outputs": [],
   "source": [
    "class TestCalc(unittest.TestCase):\n",
    "\n",
    "    def test_add(self):\n",
    "        self.assertEqual(calc.add(10, 5), 15)\n",
    "        self.assertEqual(calc.add(-1, 1), 0)\n",
    "        self.assertEqual(calc.add(-1, -1), -2)\n",
    "\n",
    "    def test_subtract(self):\n",
    "        self.assertEqual(calc.subtract(10, 5), 5)\n",
    "        self.assertEqual(calc.subtract(-1, 1), -2)\n",
    "        self.assertEqual(calc.subtract(-1, -1), 0)\n",
    "\n",
    "    def test_multiply(self):\n",
    "        self.assertEqual(calc.multiply(10, 5), 50)\n",
    "        self.assertEqual(calc.multiply(-1, 1), -1)\n",
    "        self.assertEqual(calc.multiply(-1, -1), 1)\n",
    "\n",
    "    def test_divide(self):\n",
    "        self.assertEqual(calc.divide(10, 5), 2)\n",
    "        self.assertEqual(calc.divide(-1, 1), -1)\n",
    "        self.assertEqual(calc.divide(-1, -1), 1)\n",
    "        self.assertEqual(calc.divide(5, 2), 2.5)\n",
    "\n",
    "        with self.assertRaises(ValueError):\n",
    "            calc.divide(10, 0)"
   ]
  },
  {
   "cell_type": "code",
   "execution_count": null,
   "metadata": {},
   "outputs": [],
   "source": [
    "unittest.main(argv=[''], exit=False)"
   ]
  },
  {
   "cell_type": "markdown",
   "metadata": {
    "tags": []
   },
   "source": [
    "## 2. ``unittest`` API\n",
    "_____________________\n",
    "\n",
    "**``TestCase``** instances \n",
    "\n",
    "* represent the logical test units\n",
    "* provide implementation of interface needed by the test runner: \n",
    "\n",
    "   1) to run the test (``setUp(), tearDown(), run(), skipTest(), subTest()``)\n",
    "\n",
    "   2) assert methods -- used by the test implementation to check conditions and report failures\n",
    "\n",
    "   3) some inquiry methods allowing information about the test itself to be gathered"
   ]
  },
  {
   "cell_type": "code",
   "execution_count": null,
   "metadata": {},
   "outputs": [],
   "source": [
    "help(unittest.TestCase)\n"
   ]
  },
  {
   "cell_type": "markdown",
   "metadata": {
    "jp-MarkdownHeadingCollapsed": true,
    "tags": []
   },
   "source": [
    "#### 2.1. Class  level fixture \n",
    "___________________\n",
    "\n",
    "* ``setUpClass()`` -- a class method (hook) for **setting up class fixture** called before tests in an individual class are run \n",
    "* ``tearDownClass()`` -- a class method (hook) for **deconstructing the class fixture** called after tests in an individual class have run"
   ]
  },
  {
   "cell_type": "markdown",
   "metadata": {},
   "source": [
    "#### 2.2. General assert methods\n",
    "____________________"
   ]
  },
  {
   "cell_type": "markdown",
   "metadata": {},
   "source": [
    "|    Assert method\t     |Checks that      |\t\n",
    "|--------------------|----------------|\n",
    "|``assertEqual(a, b)`` |\t``a == b`` |\t \n",
    "|``assertNotEqual(a, b)``|``\ta != b``|\t \n",
    "|``assertTrue(x)\t``|``bool(x) is True``|\t \n",
    "|``assertFalse(x)\t``|``bool(x) is False``|\t \n",
    "|``assertIs(a, b)``|``\ta is b``|\t\n",
    "|``assertIsNot(a, b)``|``\ta is not b``|\t\n",
    "|``assertIsNone(x)``|``\tx is None\t``|\n",
    "|``assertIsNotNone(x)``|``\tx is not None\t``|\n",
    "|``assertIn(a, b)``|``\ta in b\t``|\n",
    "|``assertNotIn(a, b)``|``\ta not in b\t``|\n",
    "|``assertIsInstance(a, b)``|``\tisinstance(a, b)\t``|\n",
    "|``assertNotIsInstance(a, b)``|``\tnot isinstance(a, b)\t``|"
   ]
  },
  {
   "cell_type": "markdown",
   "metadata": {},
   "source": [
    "#### 2.3. Checking the production of exceptions and warnings\n",
    "_____________________"
   ]
  },
  {
   "cell_type": "markdown",
   "metadata": {},
   "source": [
    "|    Assert method\t     |Checks that      |\t\n",
    "|--------------------|----------------|\n",
    "|``assertRaises(exc, fun, *args, **kwds)``|``\tfun(*args, **kwds)`` raises exc\t \n",
    "|``assertWarns(warn, fun, *args, **kwds)``|``\tfun(*args, **kwds)`` raises warn\t"
   ]
  },
  {
   "cell_type": "markdown",
   "metadata": {},
   "source": [
    "#### 2.4. Performing specific checks\n",
    "________________________"
   ]
  },
  {
   "cell_type": "markdown",
   "metadata": {},
   "source": [
    "|    Assert method\t     |Checks that      |\t\n",
    "|--------------------|----------------|\n",
    "|``assertAlmostEqual(a, b)``|``\tround(a-b, 7) == 0\t ``\n",
    "|``assertNotAlmostEqual(a, b)``|``\tround(a-b, 7) != 0``\n",
    "|``assertGreater(a, b)``|``\ta > b``\t\n",
    "|``assertGreaterEqual(a, b)``|``\ta >= b``\n",
    "|``assertLess(a, b)\t``|``a < b``\n",
    "|``assertLessEqual(a, b)``|``\ta <= b``\n",
    "|``assertCountEqual(a, b)``|``\ta `` and ``b`` have the same elements in the same number, \n",
    "|`` ``|regardless of their order "
   ]
  },
  {
   "cell_type": "markdown",
   "metadata": {},
   "source": [
    "#### 2.5. Type-specific methods\n",
    "___________________________\n",
    "\n",
    "|    Assert method\t     |Checks that      |\t\n",
    "|--------------------|----------------|\n",
    "|``assertMultiLineEqual(a, b)``|``\tstrings``\n",
    "|``assertSequenceEqual(a, b)``|``\tsequences``\n",
    "|``assertListEqual(a, b)``|``\tlists``\n",
    "|``assertTupleEqual(a, b)``|``\ttuples\t``\n",
    "|``assertSetEqual(a, b)\t``|``sets ``\n",
    "|``assertDictEqual(a, b)``|``\tdicts``"
   ]
  },
  {
   "cell_type": "markdown",
   "metadata": {},
   "source": [
    "#### 2.6. Module level fixture\n",
    "____________________"
   ]
  },
  {
   "cell_type": "markdown",
   "metadata": {
    "tags": []
   },
   "source": [
    "* If a test is from a different module from the previous test then ``tearDownModule`` from the previous module is run, followed by ``setUpModule`` from the new module.\n",
    "\n",
    "* After all the tests have run the final ``tearDownClass`` and ``tearDownModule`` are run."
   ]
  },
  {
   "cell_type": "markdown",
   "metadata": {},
   "source": [
    "## 3. Testing of classes\n",
    "___________________"
   ]
  },
  {
   "cell_type": "code",
   "execution_count": null,
   "metadata": {},
   "outputs": [],
   "source": [
    "# context of employee.py module\n",
    "class Employee:\n",
    "    \"\"\"A sample Employee class\"\"\"\n",
    "\n",
    "    raise_amt = 1.05\n",
    "\n",
    "    def __init__(self, first, last, pay):\n",
    "        self.first = first\n",
    "        self.last = last\n",
    "        self.pay = pay\n",
    "\n",
    "    @property\n",
    "    def email(self):\n",
    "        return f'{self.first} .{self.last}@email.com'\n",
    "\n",
    "    @property\n",
    "    def fullname(self):\n",
    "        return f'{self.first} {self.last}'\n",
    "\n",
    "    def apply_raise(self):\n",
    "        self.pay = int(self.pay * self.raise_amt)"
   ]
  },
  {
   "cell_type": "code",
   "execution_count": null,
   "metadata": {},
   "outputs": [],
   "source": [
    "group= [Employee('Corey', 'Schafer', 50000), Employee('Sue', 'Smith', 60000), Employee('Bjarne ', 'Stroustrup', 10000)]"
   ]
  },
  {
   "cell_type": "code",
   "execution_count": null,
   "metadata": {},
   "outputs": [],
   "source": [
    "gr_full_names=(m.fullname+':'+str(m.pay) for m in group)"
   ]
  },
  {
   "cell_type": "code",
   "execution_count": null,
   "metadata": {},
   "outputs": [],
   "source": [
    "for i in gr_full_names:\n",
    "    print (i)"
   ]
  },
  {
   "cell_type": "code",
   "execution_count": null,
   "metadata": {},
   "outputs": [],
   "source": [
    "#import unittest\n",
    "from employee import Employee\n",
    "\n",
    "\n",
    "class TestEmployee(unittest.TestCase):\n",
    "\n",
    "    def test_email(self):\n",
    "        emp_1 = Employee('Corey', 'Schafer', 50000)\n",
    "        emp_2 = Employee('Sue', 'Smith', 60000)\n",
    "\n",
    "        self.assertEqual(emp_1.email, 'Corey.Schafer@email.com')\n",
    "        self.assertEqual(emp_2.email, 'Sue.Smith@email.com')\n",
    "\n",
    "        emp_1.first = 'John'\n",
    "        emp_2.first = 'Jane'\n",
    "\n",
    "        self.assertEqual(emp_1.email, 'John.Schafer@email.com')\n",
    "        self.assertEqual(emp_2.email, 'Jane.Smith@email.com')\n",
    "\n",
    "    def test_fullname(self):\n",
    "        emp_1 = Employee('Corey', 'Schafer', 50000)\n",
    "        emp_2 = Employee('Sue', 'Smith', 60000)\n",
    "\n",
    "        self.assertEqual(emp_1.fullname, 'Corey Schafer')\n",
    "        self.assertEqual(emp_2.fullname, 'Sue Smith')\n",
    "\n",
    "        emp_1.first = 'John'\n",
    "        emp_2.first = 'Jane'\n",
    "\n",
    "        self.assertEqual(emp_1.fullname, 'John Schafer')\n",
    "        self.assertEqual(emp_2.fullname, 'Jane Smith')\n",
    "\n",
    "    def test_apply_raise(self):\n",
    "        emp_1 = Employee('Corey', 'Schafer', 50000)\n",
    "        emp_2 = Employee('Sue', 'Smith', 60000)\n",
    "\n",
    "        emp_1.apply_raise()\n",
    "        emp_2.apply_raise()\n",
    "\n",
    "        self.assertEqual(emp_1.pay, 52500)\n",
    "        self.assertEqual(emp_2.pay, 63000)\n",
    "    \n",
    "#if __name__ == '__main__':\n",
    "    #unittest.main()\n"
   ]
  },
  {
   "cell_type": "code",
   "execution_count": null,
   "metadata": {},
   "outputs": [],
   "source": [
    "unittest.main(argv=[''], exit=False)"
   ]
  },
  {
   "cell_type": "markdown",
   "metadata": {},
   "source": [
    "To make code **DRY** (Don't Repeat Yourself):\n",
    "\n",
    "* ``setUp()`` --  to prepare the test fixture; is called immediately before calling every single  test method; \n",
    "\n",
    "* ``tearDown()`` -- called immediately after every single test method has been called and the result recorded; is called even if the test method raised an exception\n",
    "\n",
    "* ``tearDown()`` will only be called if  ``setUp()`` succeeds, regardless of the outcome of test method\n",
    "\n",
    "* other than ``AssertionError`` or ``SkipTest``, any exception raised by ``setUp()`` or ``tearDown()`` will be considered an error rather than a test failure\n",
    "\n"
   ]
  },
  {
   "cell_type": "code",
   "execution_count": null,
   "metadata": {},
   "outputs": [],
   "source": [
    "import unittest\n",
    "from employee import Employee\n",
    "\n",
    "\n",
    "class TestEmployee(unittest.TestCase):\n",
    "\n",
    "    @classmethod\n",
    "    def setUpClass(cls):\n",
    "        print('setupClass')\n",
    "\n",
    "    @classmethod\n",
    "    def tearDownClass(cls):\n",
    "        print('teardownClass')\n",
    "\n",
    "    def setUp(self):\n",
    "        print('setUp')\n",
    "        self.emp_1 = Employee('Corey', 'Schafer', 50000)\n",
    "        self.emp_2 = Employee('Sue', 'Smith', 60000)\n",
    "\n",
    "    def tearDown(self):\n",
    "        print('tearDown\\n')\n",
    "\n",
    "    def test_email(self):\n",
    "        print('test_email')\n",
    "        self.assertEqual(self.emp_1.email, 'Corey.Schafer@email.com')\n",
    "        self.assertEqual(self.emp_2.email, 'Sue.Smith@email.com')\n",
    "\n",
    "        self.emp_1.first = 'John'\n",
    "        self.emp_2.first = 'Jane'\n",
    "\n",
    "        self.assertEqual(self.emp_1.email, 'John.Schafer@email.com')\n",
    "        self.assertEqual(self.emp_2.email, 'Jane.Smith@email.com')\n",
    "\n",
    "    def test_fullname(self):\n",
    "        print('test_fullname')\n",
    "        self.assertEqual(self.emp_1.fullname, 'Corey Schafer')\n",
    "        self.assertEqual(self.emp_2.fullname, 'Sue Smith')\n",
    "\n",
    "        self.emp_1.first = 'John'\n",
    "        self.emp_2.first = 'Jane'\n",
    "\n",
    "        self.assertEqual(self.emp_1.fullname, 'John Schafer')\n",
    "        self.assertEqual(self.emp_2.fullname, 'Jane Smith')\n",
    "\n",
    "    def test_apply_raise(self):\n",
    "        print('test_apply_raise')\n",
    "        self.emp_1.apply_raise()\n",
    "        self.emp_2.apply_raise()\n",
    "\n",
    "        self.assertEqual(self.emp_1.pay, 52500)\n",
    "        self.assertEqual(self.emp_2.pay, 63000)\n",
    "\n",
    "#if __name__ == '__main__':\n",
    "    #unittest.main()\n"
   ]
  },
  {
   "cell_type": "code",
   "execution_count": null,
   "metadata": {},
   "outputs": [],
   "source": [
    "unittest.main(argv=[''], exit=False)"
   ]
  },
  {
   "cell_type": "code",
   "execution_count": null,
   "metadata": {},
   "outputs": [],
   "source": []
  },
  {
   "cell_type": "code",
   "execution_count": null,
   "metadata": {},
   "outputs": [],
   "source": []
  },
  {
   "cell_type": "code",
   "execution_count": null,
   "metadata": {},
   "outputs": [],
   "source": []
  }
 ],
 "metadata": {
  "kernelspec": {
   "display_name": "Python 3 (ipykernel)",
   "language": "python",
   "name": "python3"
  },
  "language_info": {
   "codemirror_mode": {
    "name": "ipython",
    "version": 3
   },
   "file_extension": ".py",
   "mimetype": "text/x-python",
   "name": "python",
   "nbconvert_exporter": "python",
   "pygments_lexer": "ipython3",
   "version": "3.9.7"
  }
 },
 "nbformat": 4,
 "nbformat_minor": 4
}
