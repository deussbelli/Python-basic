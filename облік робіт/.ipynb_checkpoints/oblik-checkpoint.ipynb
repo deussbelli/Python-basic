{
 "cells": [
  {
   "cell_type": "markdown",
   "id": "9648d88a-b87c-4bd8-9d42-783b2ef5bcb8",
   "metadata": {
    "tags": []
   },
   "source": [
    "Виконувати у форматі ноутбуків. Розробити вказані типи 1. Розробити засоби для обліку робіт, які виконують бригади стосовно побудови та обслуговування автотраси. Бригада характеризується власним числовим ідентифікатором, назвою і кількістю працівників. Робота характеризується назвою, числовим ідентифікатором, і тарифом оплати праці за виконання роботи на 1 км траси. Наряд на роботу містить дату, ідентифікатор бригади, ідентифікатор роботи і довжину ділянки траси, на якій була виконана робота. Наряди подані кількома (не менше 2) окремими csv-файлами, також окремими файлами подано дані про бригади та види робіт. 2.\n",
    " Вивести: \n",
    " \n",
    "(а) таблицю, в якій для кожного виду робіт пораховано зароблені кошти за весь час; результати впорядкувати за спаданням коштів; \n",
    "\n",
    "(б) діаграму до попереднього пункту; \n",
    "\n",
    "(в) для бригади, назва якої вибирається з випадаючого списку, зна- йти заробіток одного працівника за весь час; \n",
    "\n",
    "(г) таблицю, в якій для кожної бригади пораховано загальну довжину траси для кожного виду робіт, за період часу, визначений віджетами для задання дат."
   ]
  },
  {
   "cell_type": "code",
   "execution_count": 52,
   "id": "0b698688-e515-440c-aba7-28bb2c38ffd8",
   "metadata": {
    "tags": []
   },
   "outputs": [],
   "source": [
    "import pandas as pd\n",
    "import matplotlib.pyplot as plt\n",
    "from ipywidgets import widgets"
   ]
  },
  {
   "cell_type": "code",
   "execution_count": 53,
   "id": "94a61fb8-40c3-4fd1-8372-0fd41ecf9773",
   "metadata": {
    "tags": []
   },
   "outputs": [],
   "source": [
    "brygada_df = pd.read_csv('brygada.csv')\n",
    "work_df = pd.read_csv('work.csv')\n",
    "naryad1 = pd.read_csv('naryad1.csv')\n",
    "naryad2 = pd.read_csv('naryad2.csv')"
   ]
  },
  {
   "cell_type": "code",
   "execution_count": 54,
   "id": "17cb3cfa-c284-409c-b98c-744cd0f3038a",
   "metadata": {
    "tags": []
   },
   "outputs": [],
   "source": [
    "naryad_df = pd.concat([naryad1,naryad2], ignore_index= True)"
   ]
  },
  {
   "cell_type": "markdown",
   "id": "91cceec5-cac5-408f-937d-e672748e3069",
   "metadata": {},
   "source": [
    "\n",
    "(а) таблицю, в якій для кожного виду робіт пораховано зароблені кошти за весь час; результати впорядкувати за спаданням коштів; \n"
   ]
  },
  {
   "cell_type": "code",
   "execution_count": 55,
   "id": "bc7f8996-047a-47ff-ad25-0e8f867399c7",
   "metadata": {
    "tags": []
   },
   "outputs": [
    {
     "data": {
      "text/html": [
       "<div>\n",
       "<style scoped>\n",
       "    .dataframe tbody tr th:only-of-type {\n",
       "        vertical-align: middle;\n",
       "    }\n",
       "\n",
       "    .dataframe tbody tr th {\n",
       "        vertical-align: top;\n",
       "    }\n",
       "\n",
       "    .dataframe thead th {\n",
       "        text-align: right;\n",
       "    }\n",
       "</style>\n",
       "<table border=\"1\" class=\"dataframe\">\n",
       "  <thead>\n",
       "    <tr style=\"text-align: right;\">\n",
       "      <th></th>\n",
       "      <th>date</th>\n",
       "      <th>id_brygada</th>\n",
       "      <th>id_work</th>\n",
       "      <th>km</th>\n",
       "      <th>name_brygada</th>\n",
       "      <th>count_workers</th>\n",
       "      <th>work_name</th>\n",
       "      <th>taryf_km</th>\n",
       "    </tr>\n",
       "  </thead>\n",
       "  <tbody>\n",
       "    <tr>\n",
       "      <th>0</th>\n",
       "      <td>15.09.2023</td>\n",
       "      <td>11</td>\n",
       "      <td>3030</td>\n",
       "      <td>56</td>\n",
       "      <td>litchuk</td>\n",
       "      <td>6</td>\n",
       "      <td>kolotchykkk</td>\n",
       "      <td>12</td>\n",
       "    </tr>\n",
       "    <tr>\n",
       "      <th>1</th>\n",
       "      <td>12.09.2023</td>\n",
       "      <td>11</td>\n",
       "      <td>1111</td>\n",
       "      <td>90</td>\n",
       "      <td>litchuk</td>\n",
       "      <td>6</td>\n",
       "      <td>brukivka</td>\n",
       "      <td>6</td>\n",
       "    </tr>\n",
       "    <tr>\n",
       "      <th>2</th>\n",
       "      <td>22.12.2023</td>\n",
       "      <td>33</td>\n",
       "      <td>2020</td>\n",
       "      <td>23</td>\n",
       "      <td>plutoniska</td>\n",
       "      <td>8</td>\n",
       "      <td>litannya</td>\n",
       "      <td>3</td>\n",
       "    </tr>\n",
       "    <tr>\n",
       "      <th>3</th>\n",
       "      <td>12.09.2023</td>\n",
       "      <td>22</td>\n",
       "      <td>2020</td>\n",
       "      <td>45</td>\n",
       "      <td>verstalwsk</td>\n",
       "      <td>12</td>\n",
       "      <td>litannya</td>\n",
       "      <td>3</td>\n",
       "    </tr>\n",
       "  </tbody>\n",
       "</table>\n",
       "</div>"
      ],
      "text/plain": [
       "         date  id_brygada  id_work  km name_brygada  count_workers  \\\n",
       "0  15.09.2023          11     3030  56      litchuk              6   \n",
       "1  12.09.2023          11     1111  90      litchuk              6   \n",
       "2  22.12.2023          33     2020  23   plutoniska              8   \n",
       "3  12.09.2023          22     2020  45   verstalwsk             12   \n",
       "\n",
       "     work_name  taryf_km  \n",
       "0  kolotchykkk        12  \n",
       "1     brukivka         6  \n",
       "2     litannya         3  \n",
       "3     litannya         3  "
      ]
     },
     "execution_count": 55,
     "metadata": {},
     "output_type": "execute_result"
    }
   ],
   "source": [
    "df = naryad_df.merge(brygada_df, on = 'id_brygada')\n",
    "df = df.merge(work_df, on = 'id_work')\n",
    "df"
   ]
  },
  {
   "cell_type": "code",
   "execution_count": 56,
   "id": "f667f0b4-007a-4be5-9ff4-6a738e05e1f8",
   "metadata": {
    "tags": []
   },
   "outputs": [
    {
     "data": {
      "text/html": [
       "<div>\n",
       "<style scoped>\n",
       "    .dataframe tbody tr th:only-of-type {\n",
       "        vertical-align: middle;\n",
       "    }\n",
       "\n",
       "    .dataframe tbody tr th {\n",
       "        vertical-align: top;\n",
       "    }\n",
       "\n",
       "    .dataframe thead th {\n",
       "        text-align: right;\n",
       "    }\n",
       "</style>\n",
       "<table border=\"1\" class=\"dataframe\">\n",
       "  <thead>\n",
       "    <tr style=\"text-align: right;\">\n",
       "      <th></th>\n",
       "      <th>date</th>\n",
       "      <th>id_brygada</th>\n",
       "      <th>id_work</th>\n",
       "      <th>km</th>\n",
       "      <th>name_brygada</th>\n",
       "      <th>count_workers</th>\n",
       "      <th>work_name</th>\n",
       "      <th>taryf_km</th>\n",
       "      <th>all_money</th>\n",
       "    </tr>\n",
       "  </thead>\n",
       "  <tbody>\n",
       "    <tr>\n",
       "      <th>0</th>\n",
       "      <td>15.09.2023</td>\n",
       "      <td>11</td>\n",
       "      <td>3030</td>\n",
       "      <td>56</td>\n",
       "      <td>litchuk</td>\n",
       "      <td>6</td>\n",
       "      <td>kolotchykkk</td>\n",
       "      <td>12</td>\n",
       "      <td>672</td>\n",
       "    </tr>\n",
       "    <tr>\n",
       "      <th>1</th>\n",
       "      <td>12.09.2023</td>\n",
       "      <td>11</td>\n",
       "      <td>1111</td>\n",
       "      <td>90</td>\n",
       "      <td>litchuk</td>\n",
       "      <td>6</td>\n",
       "      <td>brukivka</td>\n",
       "      <td>6</td>\n",
       "      <td>540</td>\n",
       "    </tr>\n",
       "    <tr>\n",
       "      <th>2</th>\n",
       "      <td>22.12.2023</td>\n",
       "      <td>33</td>\n",
       "      <td>2020</td>\n",
       "      <td>23</td>\n",
       "      <td>plutoniska</td>\n",
       "      <td>8</td>\n",
       "      <td>litannya</td>\n",
       "      <td>3</td>\n",
       "      <td>69</td>\n",
       "    </tr>\n",
       "    <tr>\n",
       "      <th>3</th>\n",
       "      <td>12.09.2023</td>\n",
       "      <td>22</td>\n",
       "      <td>2020</td>\n",
       "      <td>45</td>\n",
       "      <td>verstalwsk</td>\n",
       "      <td>12</td>\n",
       "      <td>litannya</td>\n",
       "      <td>3</td>\n",
       "      <td>135</td>\n",
       "    </tr>\n",
       "  </tbody>\n",
       "</table>\n",
       "</div>"
      ],
      "text/plain": [
       "         date  id_brygada  id_work  km name_brygada  count_workers  \\\n",
       "0  15.09.2023          11     3030  56      litchuk              6   \n",
       "1  12.09.2023          11     1111  90      litchuk              6   \n",
       "2  22.12.2023          33     2020  23   plutoniska              8   \n",
       "3  12.09.2023          22     2020  45   verstalwsk             12   \n",
       "\n",
       "     work_name  taryf_km  all_money  \n",
       "0  kolotchykkk        12        672  \n",
       "1     brukivka         6        540  \n",
       "2     litannya         3         69  \n",
       "3     litannya         3        135  "
      ]
     },
     "execution_count": 56,
     "metadata": {},
     "output_type": "execute_result"
    }
   ],
   "source": [
    "df['all_money'] = df['km'] * df['taryf_km']\n",
    "df"
   ]
  },
  {
   "cell_type": "code",
   "execution_count": 57,
   "id": "e603a276-eb4e-4e17-b854-7521d423f53f",
   "metadata": {
    "tags": []
   },
   "outputs": [
    {
     "data": {
      "text/plain": [
       "work_name\n",
       "kolotchykkk    672\n",
       "brukivka       540\n",
       "litannya       204\n",
       "Name: all_money, dtype: int64"
      ]
     },
     "execution_count": 57,
     "metadata": {},
     "output_type": "execute_result"
    }
   ],
   "source": [
    "group_work = df.groupby('work_name')['all_money'].sum()\n",
    "group_work = group_work.sort_values(ascending = False)\n",
    "group_work"
   ]
  },
  {
   "cell_type": "markdown",
   "id": "fe531572-89e9-4647-b15e-4e8fa01f84a4",
   "metadata": {},
   "source": [
    "(б) діаграму до попереднього пункту; "
   ]
  },
  {
   "cell_type": "code",
   "execution_count": 58,
   "id": "ad477e6f-f2a4-4e9e-ba4c-ea63888d7d8c",
   "metadata": {
    "tags": []
   },
   "outputs": [
    {
     "data": {
      "image/png": "[encoded data removed]",
      "text/plain": [
       "<Figure size 640x480 with 1 Axes>"
      ]
     },
     "metadata": {},
     "output_type": "display_data"
    }
   ],
   "source": [
    "plt.bar(group_work.index, group_work.values)\n",
    "plt.title(\"Заробіток по видах робіт\")\n",
    "plt.show()"
   ]
  },
  {
   "cell_type": "markdown",
   "id": "299125c8-f645-4b33-bc64-5c885fe33f9a",
   "metadata": {},
   "source": [
    "для бригади, назва якої вибирається з випадаючого списку, зна- йти заробіток одного працівника за весь час; "
   ]
  },
  {
   "cell_type": "code",
   "execution_count": 59,
   "id": "866a9af3-7415-4294-b874-e752a4781d4a",
   "metadata": {
    "tags": []
   },
   "outputs": [],
   "source": [
    "def salary_worker(brigade):\n",
    "    salary_df = df[df['name_brygada'] == brigade]\n",
    "    sal_0 = salary_df.groupby('work_name')['all_money'].sum()\n",
    "    sal_1 = sal_0.values / salary_df['count_workers']\n",
    "    sal_1 = sal_1.values.mean()\n",
    "    print(sal_1)"
   ]
  },
  {
   "cell_type": "code",
   "execution_count": 60,
   "id": "24f905c7-ac55-4527-96ab-b9fbcab16605",
   "metadata": {
    "tags": []
   },
   "outputs": [
    {
     "data": {
      "application/vnd.jupyter.widget-view+json": {
       "model_id": "9c738b9ca4ae4138a4276b31eb464c2c",
       "version_major": 2,
       "version_minor": 0
      },
      "text/plain": [
       "interactive(children=(Dropdown(description='brigade', options=('litchuk', 'verstalwsk', 'plutoniska'), value='…"
      ]
     },
     "metadata": {},
     "output_type": "display_data"
    },
    {
     "name": "stdout",
     "output_type": "stream",
     "text": [
      "\n"
     ]
    }
   ],
   "source": [
    "widgets.interact(salary_worker, brigade = brygada_df['name_brygada'])\n",
    "print()"
   ]
  },
  {
   "cell_type": "markdown",
   "id": "0c65aabe-197d-41d4-88ca-7265ad143b3a",
   "metadata": {},
   "source": [
    "\n",
    "(г) таблицю, в якій для кожної бригади пораховано загальну довжину траси для кожного виду робіт, за період часу, визначений віджетами для задання дат."
   ]
  },
  {
   "cell_type": "code",
   "execution_count": 64,
   "id": "68b8226a-c012-460b-b2bf-8c101a95575e",
   "metadata": {
    "tags": []
   },
   "outputs": [],
   "source": [
    "def brigade_km(date1, date2):\n",
    "    date1 = pd.to_datetime(date1, format = '%d.%m.%Y')\n",
    "    date2 = pd.to_datetime(date2, format = '%d.%m.%Y')\n",
    "    df['date'] = pd.to_datetime(df['date'], format = '%d.%m.%Y')\n",
    "    km_df = df[(df['date'] >= date1) & (df['date'] <= date2)]\n",
    "    group1 = km_df.groupby('work_name')['km'].sum()\n",
    "    print(group1)\n",
    "    "
   ]
  },
  {
   "cell_type": "code",
   "execution_count": 65,
   "id": "0bade2d2-fd92-47a1-9d32-f54a9b8efd65",
   "metadata": {
    "tags": []
   },
   "outputs": [
    {
     "data": {
      "application/vnd.jupyter.widget-view+json": {
       "model_id": "faf4bbd51c95451092074379dab7eeb8",
       "version_major": 2,
       "version_minor": 0
      },
      "text/plain": [
       "interactive(children=(Dropdown(description='date1', options=('15.09.2023', '22.12.2023', '12.09.2023'), value=…"
      ]
     },
     "metadata": {},
     "output_type": "display_data"
    },
    {
     "name": "stdout",
     "output_type": "stream",
     "text": [
      "\n"
     ]
    }
   ],
   "source": [
    "widgets.interact(brigade_km, date1 = naryad_df['date'].unique(), date2 = naryad_df['date'].unique())\n",
    "print()"
   ]
  },
  {
   "cell_type": "markdown",
   "id": "19b2de26-56a5-4718-a760-33adad43bd7f",
   "metadata": {},
   "source": [
    " Робота характеризується назвою, числовим ідентифікатором, і тарифом оплати праці за виконання роботи на 1 км траси."
   ]
  },
  {
   "cell_type": "code",
   "execution_count": 63,
   "id": "0fafe3fb-352d-407a-bb08-57d853fcc74c",
   "metadata": {
    "tags": []
   },
   "outputs": [
    {
     "name": "stdout",
     "output_type": "stream",
     "text": [
      "Work name: lyttya\n",
      "ID: 122\n",
      "Taryf: 80\n"
     ]
    }
   ],
   "source": [
    "class Work():\n",
    "    def __init__(self, name, id, taryf):\n",
    "        self.__name = name\n",
    "        self.__id = id\n",
    "        self.__taryf = taryf\n",
    "        \n",
    "    @property\n",
    "    def name():\n",
    "        return self.__name\n",
    "    \n",
    "    @name.setter\n",
    "    def name(n):\n",
    "        self.__name = n\n",
    "        \n",
    "    @property\n",
    "    def id():\n",
    "        return self.__id\n",
    "    \n",
    "    @id.setter\n",
    "    def id(n):\n",
    "        self.__id = n\n",
    "        \n",
    "    @property\n",
    "    def taryf():\n",
    "        return self.__taryf\n",
    "    \n",
    "    @taryf.setter\n",
    "    def taryf(n):\n",
    "        self.__taryf = n\n",
    "        \n",
    "    def __str__(self):\n",
    "        return f\"Work name: {self.__name}\\nID: {self.__id}\\nTaryf: {self.__taryf}\"\n",
    "        \n",
    "c = Work('lyttya', 122, 80)\n",
    "print(c)\n",
    "        \n",
    "        "
   ]
  },
  {
   "cell_type": "code",
   "execution_count": null,
   "id": "f2dd9d6b-38e3-4e47-b7cc-2119bd6eecb2",
   "metadata": {},
   "outputs": [],
   "source": []
  }
 ],
 "metadata": {
  "kernelspec": {
   "display_name": "Python 3 (ipykernel)",
   "language": "python",
   "name": "python3"
  },
  "language_info": {
   "codemirror_mode": {
    "name": "ipython",
    "version": 3
   },
   "file_extension": ".py",
   "mimetype": "text/x-python",
   "name": "python",
   "nbconvert_exporter": "python",
   "pygments_lexer": "ipython3",
   "version": "3.11.4"
  }
 },
 "nbformat": 4,
 "nbformat_minor": 5
}
