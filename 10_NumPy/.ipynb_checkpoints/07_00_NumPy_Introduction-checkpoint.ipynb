{
 "cells": [
  {
   "cell_type": "markdown",
   "metadata": {},
   "source": [
    "# Introduction to NumPy"
   ]
  },
  {
   "cell_type": "markdown",
   "metadata": {},
   "source": [
    "NumPy ([*Numerical Python*](http://www.numpy.org/)) is one of the specialized tools that Python has for handling efficient storage and manipulation of numerical arrays in the process of doing data science.\n",
    "* NumPy provides an efficient interface to store and operate on dense data buffers.\n",
    "* NumPy arrays provide much more efficient storage and data operations as the arrays grow larger in size.\n",
    "* NumPy arrays form the core of nearly the entire ecosystem of data science tools in Python."
   ]
  },
  {
   "cell_type": "markdown",
   "metadata": {},
   "source": [
    "Import numpy resources:\n",
    "```ipython\n",
    "In [2]: import numpy as np\n",
    "```\n",
    "To display: \n",
    "* all the contents of the numpy namespace:\n",
    "```ipython\n",
    "In [3]: np.<TAB>\n",
    "```\n",
    "* NumPy's built-in documentation:\n",
    "```ipython\n",
    "In [4]: np?\n",
    "```"
   ]
  },
  {
   "cell_type": "code",
   "execution_count": 7,
   "metadata": {
    "collapsed": true
   },
   "outputs": [],
   "source": [
    "import numpy as np"
   ]
  },
  {
   "cell_type": "markdown",
   "metadata": {},
   "source": [
    "[1 Understanding Data Types](07_01-Understanding-Data-Types.ipynb)\n",
    "\n",
    "[2 NumPy Arrays Basics](07_02-The-Basics-Of-NumPy-Arrays.ipynb)\n",
    "\n",
    "[3 Universal Functions](07_03-Computation-on-arrays-ufuncs.ipynb)\n",
    "\n",
    "[4 Aggregations](07_04-Computation-on-arrays-aggregates.ipynb)\n",
    "\n",
    "[5 Broadcasting](07_05-Computation-on-arrays-broadcasting.ipynb)"
   ]
  },
  {
   "cell_type": "markdown",
   "metadata": {
    "collapsed": true
   },
   "source": [
    " [Python Data Science Handbook](https://github.com/jakevdp/PythonDataScienceHandbook) by Jake VanderPlas"
   ]
  },
  {
   "cell_type": "code",
   "execution_count": null,
   "metadata": {
    "collapsed": true
   },
   "outputs": [],
   "source": []
  }
 ],
 "metadata": {
  "anaconda-cloud": {},
  "kernelspec": {
   "display_name": "Python 3",
   "language": "python",
   "name": "python3"
  },
  "language_info": {
   "codemirror_mode": {
    "name": "ipython",
    "version": 3
   },
   "file_extension": ".py",
   "mimetype": "text/x-python",
   "name": "python",
   "nbconvert_exporter": "python",
   "pygments_lexer": "ipython3",
   "version": "3.6.3"
  }
 },
 "nbformat": 4,
 "nbformat_minor": 1
}
