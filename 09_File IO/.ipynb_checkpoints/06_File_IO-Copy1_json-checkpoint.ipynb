{
 "cells": [
  {
   "cell_type": "markdown",
   "metadata": {},
   "source": [
    "# Storing data. CSV and JSON formats"
   ]
  },
  {
   "cell_type": "markdown",
   "metadata": {},
   "source": [
    "## File IO\n",
    "[Corey Schafer. File Objects - Reading and Writing to Files](https://www.youtube.com/watch?v=Uh2ebFW8OYM&t=515s)"
   ]
  },
  {
   "cell_type": "markdown",
   "metadata": {},
   "source": [
    "### File Objects: The Basics\n",
    "open(file, mode='r', buffering=-1, encoding=None, errors=None, newline=None, closefd=True, opener=None)\n",
    "\n",
    "Open file and return **a stream**.  Raise IOError upon failure.\n",
    "\n",
    "#### Opening modes:\n",
    "* ```r``` -- open for reading (default)\n",
    "* ```w``` -- open for writing, truncating the file first\n",
    "* ```x``` -- create a new file and open it for writing (an `FileExistsError` if the file already exists)\n",
    "* ```+``` -- open a disk file for updating (reading and writing)\n",
    "* ```a``` -- open for writing, appending to the end of the file if it exists\n",
    "* ```b``` -- binary mode\n",
    "* ```t``` -- text mode (default)\n",
    "\n",
    "Files opened in binary mode return contents as bytes objects without any decoding. \n",
    "In text mode the contents of the file are returned as strings, the bytes having been first decoded using a platform-dependent encoding or using the specified encoding if given.\n",
    "\n",
    "It is possible to use a string or bytearray as a file for both reading and writing:\n",
    "* ```StringIO``` for string (in a text mode)\n",
    "* ```BytesIO``` for bytes (in a binary mode)"
   ]
  },
  {
   "cell_type": "code",
   "execution_count": 45,
   "metadata": {},
   "outputs": [
    {
     "name": "stdout",
     "output_type": "stream",
     "text": [
      "<class '_io.TextIOWrapper'>\n",
      " test.txt\n",
      " r\n"
     ]
    }
   ],
   "source": [
    "f = open(\"test.txt\", \"r\")\n",
    "# f = open?\n",
    "print('{}\\n {}\\n {}'.format(type(f), f.name, f.mode))\n",
    "f.close()"
   ]
  },
  {
   "cell_type": "markdown",
   "metadata": {},
   "source": [
    "#### Reading Small Files:"
   ]
  },
  {
   "cell_type": "code",
   "execution_count": 47,
   "metadata": {},
   "outputs": [
    {
     "name": "stdout",
     "output_type": "stream",
     "text": [
      "<class 'str'>\n",
      "1) This is a test file\n",
      "2) With multiple lines of data...\n",
      "3) Third line\n",
      "4) Fourth line\n",
      "5) Fifth line\n",
      "6) Sixth line\n",
      "7) Seventh line\n",
      "8) Eighth line\n",
      "9) Ninth line\n",
      "10) Tenth line\n"
     ]
    }
   ],
   "source": [
    "with open(\"test.txt\", \"r\") as f:\n",
    "    f_contents = f.read()\n",
    "    print('{}\\n{}'.format(type(f_contents), f_contents))"
   ]
  },
  {
   "cell_type": "markdown",
   "metadata": {},
   "source": [
    "#### Reading Big Files:"
   ]
  },
  {
   "cell_type": "code",
   "execution_count": 49,
   "metadata": {
    "scrolled": false
   },
   "outputs": [
    {
     "name": "stdout",
     "output_type": "stream",
     "text": [
      "<class 'list'>\n",
      "['1) This is a test file\\n', '2) With multiple lines of data...\\n', '3) Third line\\n', '4) Fourth line\\n', '5) Fifth line\\n', '6) Sixth line\\n', '7) Seventh line\\n', '8) Eighth line\\n', '9) Ninth line\\n', '10) Tenth line']\n"
     ]
    }
   ],
   "source": [
    "with open(\"test.txt\", \"r\") as f:\n",
    "    f_contents = f.readlines()\n",
    "    print('{}\\n{}'.format(type(f_contents), f_contents))"
   ]
  },
  {
   "cell_type": "code",
   "execution_count": 25,
   "metadata": {},
   "outputs": [
    {
     "data": {
      "text/plain": [
       "'4) Fourth line\\n'"
      ]
     },
     "execution_count": 25,
     "metadata": {},
     "output_type": "execute_result"
    }
   ],
   "source": [
    "f_contents[3] "
   ]
  },
  {
   "cell_type": "code",
   "execution_count": 20,
   "metadata": {},
   "outputs": [
    {
     "name": "stdout",
     "output_type": "stream",
     "text": [
      "['1) This is a test file\\n', '2) With multiple lines of data...\\n']\n"
     ]
    }
   ],
   "source": [
    "with open(\"test.txt\", \"r\") as f:\n",
    "    f_contents = f.readlines(30)\n",
    "    print(f_contents)"
   ]
  },
  {
   "cell_type": "markdown",
   "metadata": {},
   "source": [
    "#### With the extra lines"
   ]
  },
  {
   "cell_type": "code",
   "execution_count": 28,
   "metadata": {},
   "outputs": [
    {
     "name": "stdout",
     "output_type": "stream",
     "text": [
      "1) This is a test file\n",
      "\n",
      "2) With multiple lines of data...\n",
      "\n"
     ]
    }
   ],
   "source": [
    "with open(\"test.txt\", \"r\") as f:\n",
    "    f_contents = f.readline()\n",
    "    print(f_contents)\n",
    "    f_contents = f.readline()\n",
    "    print(f_contents)"
   ]
  },
  {
   "cell_type": "code",
   "execution_count": 29,
   "metadata": {},
   "outputs": [
    {
     "data": {
      "text/plain": [
       "'2) With multiple lines of data...\\n'"
      ]
     },
     "execution_count": 29,
     "metadata": {},
     "output_type": "execute_result"
    }
   ],
   "source": [
    "f_contents"
   ]
  },
  {
   "cell_type": "markdown",
   "metadata": {},
   "source": [
    "#### Without the extra lines"
   ]
  },
  {
   "cell_type": "code",
   "execution_count": 30,
   "metadata": {},
   "outputs": [
    {
     "name": "stdout",
     "output_type": "stream",
     "text": [
      "1) This is a test file\n",
      "2) With multiple lines of data...\n"
     ]
    }
   ],
   "source": [
    "with open(\"test.txt\", \"r\") as f:\n",
    "    f_contents = f.readline()\n",
    "    print(f_contents, end = '')\n",
    "    f_contents = f.readline()\n",
    "    print(f_contents, end = '')"
   ]
  },
  {
   "cell_type": "markdown",
   "metadata": {},
   "source": [
    "#### Iterating through the file"
   ]
  },
  {
   "cell_type": "code",
   "execution_count": 42,
   "metadata": {},
   "outputs": [
    {
     "name": "stdout",
     "output_type": "stream",
     "text": [
      "1) This is a test file\n",
      "2) With multiple lines of data...\n",
      "3) Third line\n",
      "4) Fourth line\n",
      "5) Fifth line\n",
      "6) Sixth line\n",
      "7) Seventh line\n",
      "8) Eighth line\n",
      "9) Ninth line\n",
      "10) Tenth line\n",
      " <class 'str'>\n"
     ]
    }
   ],
   "source": [
    "with open(\"test.txt\", \"r\") as f:\n",
    "    for line in f:\n",
    "        print(line, end = '')\n",
    "    else: print('\\n', type(line))"
   ]
  },
  {
   "cell_type": "markdown",
   "metadata": {},
   "source": [
    "### Iterating through small chunks, with ```size_to_read``` characters:"
   ]
  },
  {
   "cell_type": "code",
   "execution_count": 50,
   "metadata": {},
   "outputs": [
    {
     "name": "stdout",
     "output_type": "stream",
     "text": [
      "1) This is1) This is\n",
      "Current position=10\n",
      "1) This is* a test fi*le\n",
      "2) With* multiple *lines of d*ata...\n",
      "3) *Third line*\n",
      "4) Fourth* line\n",
      "5) F*ifth line\n",
      "*6) Sixth l*ine\n",
      "7) Sev*enth line\n",
      "*8) Eighth *line\n",
      "9) Ni*nth line\n",
      "1*0) Tenth l*ine*"
     ]
    }
   ],
   "source": [
    "with open(\"test.txt\", \"r\") as f:\n",
    "    size_to_read = 10\n",
    "    f_contents = f.read(size_to_read)\n",
    "    print(f_contents, end = '')\n",
    "    \n",
    "    f.seek(0)\n",
    "    \n",
    "    f_contents = f.read(size_to_read)\n",
    "    print(f_contents)\n",
    "    \n",
    "    print('Current position={}'.format(f.tell()))\n",
    "    while len(f_contents) > 0:\n",
    "        print(f_contents, end = '*')\n",
    "        f_contents = f.read(size_to_read)"
   ]
  },
  {
   "cell_type": "markdown",
   "metadata": {},
   "source": [
    "## Writing Files"
   ]
  },
  {
   "cell_type": "code",
   "execution_count": null,
   "metadata": {
    "collapsed": true
   },
   "outputs": [],
   "source": [
    "with open(\"test2.txt\", \"w\") as f:\n",
    "    f.write(\"Test\")\n",
    "    f.seek(1)\n",
    "    f.write(\"Test\")"
   ]
  },
  {
   "cell_type": "markdown",
   "metadata": {},
   "source": [
    "#### Copying Files"
   ]
  },
  {
   "cell_type": "code",
   "execution_count": 54,
   "metadata": {},
   "outputs": [],
   "source": [
    "with open(\"test.txt\", \"r\") as rf:\n",
    "    with open(\"test_copy.txt\", \"w\") as wf:\n",
    "        for line in rf:\n",
    "            wf.write(line)"
   ]
  },
  {
   "cell_type": "markdown",
   "metadata": {},
   "source": [
    "#### Copying the image without chunks"
   ]
  },
  {
   "cell_type": "code",
   "execution_count": 56,
   "metadata": {
    "collapsed": true
   },
   "outputs": [],
   "source": [
    "with open(\"IMAG1225.jpg\", \"rb\") as rf:\n",
    "    with open(\"spring_2017.jpg\", \"wb\") as wf:\n",
    "        for line in rf:\n",
    "            wf.write(line)"
   ]
  },
  {
   "cell_type": "markdown",
   "metadata": {},
   "source": [
    "## Working with CSV Files"
   ]
  },
  {
   "cell_type": "code",
   "execution_count": null,
   "metadata": {
    "collapsed": true
   },
   "outputs": [],
   "source": [
    "import csv"
   ]
  },
  {
   "cell_type": "markdown",
   "metadata": {},
   "source": [
    "### Description of CSV format \n",
    "\n",
    "1.  Each record is located on a separate line, delimited by a line break (CRLF):\n",
    "\n",
    "       aaa,bbb,ccc CRLF\n",
    "       zzz,yyy,xxx CRLF\n",
    "\n",
    "2.  The last record in the file may or may not have an ending line break:\n",
    "\n",
    "       aaa,bbb,ccc CRLF\n",
    "       zzz,yyy,xxx\n",
    "\n",
    "3.  There maybe an optional header line appearing as the first line of the file with the same format as normal record lines. This header will contain names corresponding to the fields in the file        and should contain the same number of fields as the records in the rest of the file:\n",
    "\n",
    "       field_name,field_name,field_name CRLF\n",
    "       aaa,bbb,ccc CRLF\n",
    "       zzz,yyy,xxx CRLF\n",
    "\n",
    "4.  Each field may or may not be enclosed in double quotes:\n",
    "\n",
    "       \"aaa\",\"bbb\",\"ccc\" CRLF\n",
    "       zzz,yyy,xxx"
   ]
  },
  {
   "cell_type": "markdown",
   "metadata": {},
   "source": [
    "* that seems to be followed by most implementations\n",
    "* programmers can also define their own special-purpose CSV formats"
   ]
  },
  {
   "cell_type": "markdown",
   "metadata": {},
   "source": [
    "### ```csv``` module\n",
    "* The ```csv``` module’s ```reader``` and ```writer``` objects read and write sequences \n",
    "* Programmers can also read and write data in dictionary form using the ```DictReader``` and ```DictWriter``` classes\n",
    "\n",
    "[CSV File Reading and Writing](https://docs.python.org/3/library/csv.html)\n",
    "\n",
    "[ CSV Module - How to Read, Parse, and Write CSV Files](https://www.youtube.com/watch?v=q5uM4VKywbA)"
   ]
  },
  {
   "cell_type": "markdown",
   "metadata": {},
   "source": [
    "**Reader objects** are responsible for reading and parsing tabular data in CSV format"
   ]
  },
  {
   "cell_type": "code",
   "execution_count": null,
   "metadata": {
    "collapsed": true
   },
   "outputs": [],
   "source": [
    "csv.reader(csvfile, dialect='excel', **fmtparams)"
   ]
  },
  {
   "cell_type": "markdown",
   "metadata": {},
   "source": [
    "* Return a reader object which will iterate over **lines** in the given csvfile\n",
    "* ```csvfile``` can be any object which supports the iterator protocol and returns a string each time its ```__next__()``` method is called — file objects and list objects are both suitable\n",
    "* An optional dialect parameter can be given which is used to define a set of parameters specific to a particular CSV dialect."
   ]
  },
  {
   "cell_type": "code",
   "execution_count": 74,
   "metadata": {
    "scrolled": true
   },
   "outputs": [
    {
     "name": "stdout",
     "output_type": "stream",
     "text": [
      "\"type of csv_file: \"<class '_io.TextIOWrapper'>, \"type of csv_reader: \"<class '_csv.reader'>\n",
      "['first_name', 'last_name', 'email']\n",
      "['John', 'Doe', 'john-doe@bogusemail.com']\n",
      "['Mary', 'Smith-Robinson', 'maryjacobs@bogusemail.com']\n",
      "['Dave', 'Smith', 'davesmith@bogusemail.com']\n",
      "['Jane', 'Stuart', 'janestuart@bogusemail.com']\n",
      "['Tom', 'Wright', 'tomwright@bogusemail.com']\n",
      "['Steve', 'Robinson', 'steverobinson@bogusemail.com']\n",
      "['Nicole', 'Jacobs', 'nicolejacobs@bogusemail.com']\n",
      "['Jane', 'Wright', 'janewright@bogusemail.com']\n",
      "['Jane', 'Doe', 'janedoe@bogusemail.com']\n",
      "['Kurt', 'Wright', 'kurtwright@bogusemail.com']\n",
      "['Kurt', 'Robinson', 'kurtrobinson@bogusemail.com']\n",
      "['Jane', 'Jenkins', 'janejenkins@bogusemail.com']\n",
      "['Neil', 'Robinson', 'neilrobinson@bogusemail.com']\n",
      "['Tom', 'Patterson', 'tompatterson@bogusemail.com']\n",
      "['Sam', 'Jenkins', 'samjenkins@bogusemail.com']\n",
      "['Steve', 'Stuart', 'stevestuart@bogusemail.com']\n",
      "['Maggie', 'Patterson', 'maggiepatterson@bogusemail.com']\n",
      "['Maggie', 'Stuart', 'maggiestuart@bogusemail.com']\n",
      "['Jane', 'Doe', 'janedoe@bogusemail.com']\n",
      "['Steve', 'Patterson', 'stevepatterson@bogusemail.com']\n",
      "['Dave', 'Smith', 'davesmith@bogusemail.com']\n",
      "['Sam', 'Wilks', 'samwilks@bogusemail.com']\n",
      "['Kurt', 'Jefferson', 'kurtjefferson@bogusemail.com']\n",
      "['Sam', 'Stuart', 'samstuart@bogusemail.com']\n",
      "['Jane', 'Stuart', 'janestuart@bogusemail.com']\n",
      "['Dave', 'Davis', 'davedavis@bogusemail.com']\n",
      "['Sam', 'Patterson', 'sampatterson@bogusemail.com']\n",
      "['Tom', 'Jefferson', 'tomjefferson@bogusemail.com']\n",
      "['Jane', 'Stuart', 'janestuart@bogusemail.com']\n",
      "['Maggie', 'Jefferson', 'maggiejefferson@bogusemail.com']\n",
      "['Mary', 'Wilks', 'marywilks@bogusemail.com']\n",
      "['Neil', 'Patterson', 'neilpatterson@bogusemail.com']\n",
      "['Corey', 'Davis', 'coreydavis@bogusemail.com']\n",
      "['Steve', 'Jacobs', 'stevejacobs@bogusemail.com']\n",
      "['Jane', 'Jenkins', 'janejenkins@bogusemail.com']\n",
      "['John', 'Jacobs', 'johnjacobs@bogusemail.com']\n",
      "['Neil', 'Smith', 'neilsmith@bogusemail.com']\n",
      "['Corey', 'Wilks', 'coreywilks@bogusemail.com']\n",
      "['Corey', 'Smith', 'coreysmith@bogusemail.com']\n",
      "['Mary', 'Patterson', 'marypatterson@bogusemail.com']\n",
      "['Jane', 'Stuart', 'janestuart@bogusemail.com']\n",
      "['Travis', 'Arnold', 'travisarnold@bogusemail.com']\n",
      "['John', 'Robinson', 'johnrobinson@bogusemail.com']\n",
      "['Travis', 'Arnold', 'travisarnold@bogusemail.com']\n"
     ]
    }
   ],
   "source": [
    "with open('names.csv', 'r') as csv_file:\n",
    "    csv_reader = csv.reader(csv_file)\n",
    "    print('\"type of csv_file: \"{}, \"type of csv_reader: \"{}'.format(type(csv_file), type(csv_reader)))\n",
    "    \n",
    "#     next(csv_reader) #to skip over the field name headers\n",
    "    for line in csv_reader:\n",
    "        print(line)"
   ]
  },
  {
   "cell_type": "code",
   "execution_count": 86,
   "metadata": {
    "scrolled": false
   },
   "outputs": [
    {
     "name": "stdout",
     "output_type": "stream",
     "text": [
      "john-doe@bogusemail.com\n",
      "maryjacobs@bogusemail.com\n",
      "davesmith@bogusemail.com\n",
      "janestuart@bogusemail.com\n",
      "tomwright@bogusemail.com\n",
      "steverobinson@bogusemail.com\n",
      "nicolejacobs@bogusemail.com\n",
      "janewright@bogusemail.com\n",
      "janedoe@bogusemail.com\n",
      "kurtwright@bogusemail.com\n",
      "kurtrobinson@bogusemail.com\n",
      "janejenkins@bogusemail.com\n",
      "neilrobinson@bogusemail.com\n",
      "tompatterson@bogusemail.com\n",
      "samjenkins@bogusemail.com\n",
      "stevestuart@bogusemail.com\n",
      "maggiepatterson@bogusemail.com\n",
      "maggiestuart@bogusemail.com\n",
      "janedoe@bogusemail.com\n",
      "stevepatterson@bogusemail.com\n",
      "davesmith@bogusemail.com\n",
      "samwilks@bogusemail.com\n",
      "kurtjefferson@bogusemail.com\n",
      "samstuart@bogusemail.com\n",
      "janestuart@bogusemail.com\n",
      "davedavis@bogusemail.com\n",
      "sampatterson@bogusemail.com\n",
      "tomjefferson@bogusemail.com\n",
      "janestuart@bogusemail.com\n",
      "maggiejefferson@bogusemail.com\n",
      "marywilks@bogusemail.com\n",
      "neilpatterson@bogusemail.com\n",
      "coreydavis@bogusemail.com\n",
      "stevejacobs@bogusemail.com\n",
      "janejenkins@bogusemail.com\n",
      "johnjacobs@bogusemail.com\n",
      "neilsmith@bogusemail.com\n",
      "coreywilks@bogusemail.com\n",
      "coreysmith@bogusemail.com\n",
      "marypatterson@bogusemail.com\n",
      "janestuart@bogusemail.com\n",
      "travisarnold@bogusemail.com\n",
      "johnrobinson@bogusemail.com\n",
      "travisarnold@bogusemail.com\n"
     ]
    }
   ],
   "source": [
    "with open('names.csv', 'r') as csv_file:\n",
    "    csv_reader = csv.reader(csv_file)\n",
    "    \n",
    "    next(csv_reader) #to skip over the field name headers\n",
    "    for line in csv_reader:\n",
    "        print(line[2])"
   ]
  },
  {
   "cell_type": "markdown",
   "metadata": {},
   "source": [
    "### Writer objects \n",
    "are responsible for writing tabular data in CSV format"
   ]
  },
  {
   "cell_type": "code",
   "execution_count": null,
   "metadata": {
    "collapsed": true
   },
   "outputs": [],
   "source": [
    "csv.writer(csvfile, dialect='excel', **fmtparams)"
   ]
  },
  {
   "cell_type": "markdown",
   "metadata": {},
   "source": [
    "* Return a writer object responsible for converting the user’s data into delimited strings on the given file-like object\n",
    "* ```csvfile``` can be any object with a ```write()``` method \n",
    "* If ```csvfile``` is a file object, it should be opened with ```newline=''```"
   ]
  },
  {
   "cell_type": "code",
   "execution_count": 95,
   "metadata": {},
   "outputs": [],
   "source": [
    "with open('names.csv',  'r', newline='') as csv_file:\n",
    "    csv_reader = csv.reader(csv_file)\n",
    "    \n",
    "    with open('new_names.csv', 'w', newline='') as new_file:\n",
    "        csv_writer = csv.writer(new_file, delimiter='\\t') #delimiter='\\t'\n",
    "\n",
    "        for line in csv_reader:\n",
    "            csv_writer.writerow(line)"
   ]
  },
  {
   "cell_type": "code",
   "execution_count": 97,
   "metadata": {
    "scrolled": false
   },
   "outputs": [
    {
     "name": "stdout",
     "output_type": "stream",
     "text": [
      "['first_name\\tlast_name\\temail']\n",
      "['John\\tDoe\\tjohn', 'doe@bogusemail.com']\n",
      "['Mary\\tSmith', 'Robinson\\tmaryjacobs@bogusemail.com']\n",
      "['Dave\\tSmith\\tdavesmith@bogusemail.com']\n",
      "['Jane\\tStuart\\tjanestuart@bogusemail.com']\n",
      "['Tom\\tWright\\ttomwright@bogusemail.com']\n",
      "['Steve\\tRobinson\\tsteverobinson@bogusemail.com']\n",
      "['Nicole\\tJacobs\\tnicolejacobs@bogusemail.com']\n",
      "['Jane\\tWright\\tjanewright@bogusemail.com']\n",
      "['Jane\\tDoe\\tjanedoe@bogusemail.com']\n",
      "['Kurt\\tWright\\tkurtwright@bogusemail.com']\n",
      "['Kurt\\tRobinson\\tkurtrobinson@bogusemail.com']\n",
      "['Jane\\tJenkins\\tjanejenkins@bogusemail.com']\n",
      "['Neil\\tRobinson\\tneilrobinson@bogusemail.com']\n",
      "['Tom\\tPatterson\\ttompatterson@bogusemail.com']\n",
      "['Sam\\tJenkins\\tsamjenkins@bogusemail.com']\n",
      "['Steve\\tStuart\\tstevestuart@bogusemail.com']\n",
      "['Maggie\\tPatterson\\tmaggiepatterson@bogusemail.com']\n",
      "['Maggie\\tStuart\\tmaggiestuart@bogusemail.com']\n",
      "['Jane\\tDoe\\tjanedoe@bogusemail.com']\n",
      "['Steve\\tPatterson\\tstevepatterson@bogusemail.com']\n",
      "['Dave\\tSmith\\tdavesmith@bogusemail.com']\n",
      "['Sam\\tWilks\\tsamwilks@bogusemail.com']\n",
      "['Kurt\\tJefferson\\tkurtjefferson@bogusemail.com']\n",
      "['Sam\\tStuart\\tsamstuart@bogusemail.com']\n",
      "['Jane\\tStuart\\tjanestuart@bogusemail.com']\n",
      "['Dave\\tDavis\\tdavedavis@bogusemail.com']\n",
      "['Sam\\tPatterson\\tsampatterson@bogusemail.com']\n",
      "['Tom\\tJefferson\\ttomjefferson@bogusemail.com']\n",
      "['Jane\\tStuart\\tjanestuart@bogusemail.com']\n",
      "['Maggie\\tJefferson\\tmaggiejefferson@bogusemail.com']\n",
      "['Mary\\tWilks\\tmarywilks@bogusemail.com']\n",
      "['Neil\\tPatterson\\tneilpatterson@bogusemail.com']\n",
      "['Corey\\tDavis\\tcoreydavis@bogusemail.com']\n",
      "['Steve\\tJacobs\\tstevejacobs@bogusemail.com']\n",
      "['Jane\\tJenkins\\tjanejenkins@bogusemail.com']\n",
      "['John\\tJacobs\\tjohnjacobs@bogusemail.com']\n",
      "['Neil\\tSmith\\tneilsmith@bogusemail.com']\n",
      "['Corey\\tWilks\\tcoreywilks@bogusemail.com']\n",
      "['Corey\\tSmith\\tcoreysmith@bogusemail.com']\n",
      "['Mary\\tPatterson\\tmarypatterson@bogusemail.com']\n",
      "['Jane\\tStuart\\tjanestuart@bogusemail.com']\n",
      "['Travis\\tArnold\\ttravisarnold@bogusemail.com']\n",
      "['John\\tRobinson\\tjohnrobinson@bogusemail.com']\n",
      "['Travis\\tArnold\\ttravisarnold@bogusemail.com']\n"
     ]
    }
   ],
   "source": [
    "with open('new_names.csv', 'r', newline='') as csv_file:\n",
    "    csv_reader = csv.reader(csv_file, delimiter='-')\n",
    "#     csv_reader = csv.reader(csv_file, delimiter='\\t')\n",
    "    for line in csv_reader:\n",
    "        print(line)"
   ]
  },
  {
   "cell_type": "markdown",
   "metadata": {},
   "source": [
    "### DictReader & DictWriter"
   ]
  },
  {
   "cell_type": "code",
   "execution_count": null,
   "metadata": {
    "collapsed": true
   },
   "outputs": [],
   "source": [
    "class csv.DictReader(f, fieldnames=None, restkey=None, restval=None, dialect='excel', *args, **kwds)"
   ]
  },
  {
   "cell_type": "markdown",
   "metadata": {},
   "source": [
    "* Create an object that operates like a regular reader but maps the information in each row to an ```OrderedDict``` whose keys are given by the optional fieldnames parameter\n",
    "* The fieldnames parameter is a sequence. If fieldnames is omitted, the values in the first row of file ```f``` will be used as the fieldnames. Regardless of how the fieldnames are determined, the ordered dictionary preserves their original ordering\n",
    "* If a row has more fields than fieldnames, the remaining data is put in a list and stored with the fieldname specified by ```restkey```. If a non-blank row has fewer fields than fieldnames, the missing values are filled-in with ```None```\n",
    "* Key access to the values in the row  "
   ]
  },
  {
   "cell_type": "code",
   "execution_count": 100,
   "metadata": {},
   "outputs": [
    {
     "name": "stdout",
     "output_type": "stream",
     "text": [
      "OrderedDict([('first_name', 'John'), ('last_name', 'Doe'), ('email', 'john-doe@bogusemail.com')])\n",
      "OrderedDict([('first_name', 'Mary'), ('last_name', 'Smith-Robinson'), ('email', 'maryjacobs@bogusemail.com')])\n",
      "OrderedDict([('first_name', 'Dave'), ('last_name', 'Smith'), ('email', 'davesmith@bogusemail.com')])\n",
      "OrderedDict([('first_name', 'Jane'), ('last_name', 'Stuart'), ('email', 'janestuart@bogusemail.com')])\n",
      "OrderedDict([('first_name', 'Tom'), ('last_name', 'Wright'), ('email', 'tomwright@bogusemail.com')])\n",
      "OrderedDict([('first_name', 'Steve'), ('last_name', 'Robinson'), ('email', 'steverobinson@bogusemail.com')])\n",
      "OrderedDict([('first_name', 'Nicole'), ('last_name', 'Jacobs'), ('email', 'nicolejacobs@bogusemail.com')])\n",
      "OrderedDict([('first_name', 'Jane'), ('last_name', 'Wright'), ('email', 'janewright@bogusemail.com')])\n",
      "OrderedDict([('first_name', 'Jane'), ('last_name', 'Doe'), ('email', 'janedoe@bogusemail.com')])\n",
      "OrderedDict([('first_name', 'Kurt'), ('last_name', 'Wright'), ('email', 'kurtwright@bogusemail.com')])\n",
      "OrderedDict([('first_name', 'Kurt'), ('last_name', 'Robinson'), ('email', 'kurtrobinson@bogusemail.com')])\n",
      "OrderedDict([('first_name', 'Jane'), ('last_name', 'Jenkins'), ('email', 'janejenkins@bogusemail.com')])\n",
      "OrderedDict([('first_name', 'Neil'), ('last_name', 'Robinson'), ('email', 'neilrobinson@bogusemail.com')])\n",
      "OrderedDict([('first_name', 'Tom'), ('last_name', 'Patterson'), ('email', 'tompatterson@bogusemail.com')])\n",
      "OrderedDict([('first_name', 'Sam'), ('last_name', 'Jenkins'), ('email', 'samjenkins@bogusemail.com')])\n",
      "OrderedDict([('first_name', 'Steve'), ('last_name', 'Stuart'), ('email', 'stevestuart@bogusemail.com')])\n",
      "OrderedDict([('first_name', 'Maggie'), ('last_name', 'Patterson'), ('email', 'maggiepatterson@bogusemail.com')])\n",
      "OrderedDict([('first_name', 'Maggie'), ('last_name', 'Stuart'), ('email', 'maggiestuart@bogusemail.com')])\n",
      "OrderedDict([('first_name', 'Jane'), ('last_name', 'Doe'), ('email', 'janedoe@bogusemail.com')])\n",
      "OrderedDict([('first_name', 'Steve'), ('last_name', 'Patterson'), ('email', 'stevepatterson@bogusemail.com')])\n",
      "OrderedDict([('first_name', 'Dave'), ('last_name', 'Smith'), ('email', 'davesmith@bogusemail.com')])\n",
      "OrderedDict([('first_name', 'Sam'), ('last_name', 'Wilks'), ('email', 'samwilks@bogusemail.com')])\n",
      "OrderedDict([('first_name', 'Kurt'), ('last_name', 'Jefferson'), ('email', 'kurtjefferson@bogusemail.com')])\n",
      "OrderedDict([('first_name', 'Sam'), ('last_name', 'Stuart'), ('email', 'samstuart@bogusemail.com')])\n",
      "OrderedDict([('first_name', 'Jane'), ('last_name', 'Stuart'), ('email', 'janestuart@bogusemail.com')])\n",
      "OrderedDict([('first_name', 'Dave'), ('last_name', 'Davis'), ('email', 'davedavis@bogusemail.com')])\n",
      "OrderedDict([('first_name', 'Sam'), ('last_name', 'Patterson'), ('email', 'sampatterson@bogusemail.com')])\n",
      "OrderedDict([('first_name', 'Tom'), ('last_name', 'Jefferson'), ('email', 'tomjefferson@bogusemail.com')])\n",
      "OrderedDict([('first_name', 'Jane'), ('last_name', 'Stuart'), ('email', 'janestuart@bogusemail.com')])\n",
      "OrderedDict([('first_name', 'Maggie'), ('last_name', 'Jefferson'), ('email', 'maggiejefferson@bogusemail.com')])\n",
      "OrderedDict([('first_name', 'Mary'), ('last_name', 'Wilks'), ('email', 'marywilks@bogusemail.com')])\n",
      "OrderedDict([('first_name', 'Neil'), ('last_name', 'Patterson'), ('email', 'neilpatterson@bogusemail.com')])\n",
      "OrderedDict([('first_name', 'Corey'), ('last_name', 'Davis'), ('email', 'coreydavis@bogusemail.com')])\n",
      "OrderedDict([('first_name', 'Steve'), ('last_name', 'Jacobs'), ('email', 'stevejacobs@bogusemail.com')])\n",
      "OrderedDict([('first_name', 'Jane'), ('last_name', 'Jenkins'), ('email', 'janejenkins@bogusemail.com')])\n",
      "OrderedDict([('first_name', 'John'), ('last_name', 'Jacobs'), ('email', 'johnjacobs@bogusemail.com')])\n",
      "OrderedDict([('first_name', 'Neil'), ('last_name', 'Smith'), ('email', 'neilsmith@bogusemail.com')])\n",
      "OrderedDict([('first_name', 'Corey'), ('last_name', 'Wilks'), ('email', 'coreywilks@bogusemail.com')])\n",
      "OrderedDict([('first_name', 'Corey'), ('last_name', 'Smith'), ('email', 'coreysmith@bogusemail.com')])\n",
      "OrderedDict([('first_name', 'Mary'), ('last_name', 'Patterson'), ('email', 'marypatterson@bogusemail.com')])\n",
      "OrderedDict([('first_name', 'Jane'), ('last_name', 'Stuart'), ('email', 'janestuart@bogusemail.com')])\n",
      "OrderedDict([('first_name', 'Travis'), ('last_name', 'Arnold'), ('email', 'travisarnold@bogusemail.com')])\n",
      "OrderedDict([('first_name', 'John'), ('last_name', 'Robinson'), ('email', 'johnrobinson@bogusemail.com')])\n",
      "OrderedDict([('first_name', 'Travis'), ('last_name', 'Arnold'), ('email', 'travisarnold@bogusemail.com')])\n"
     ]
    }
   ],
   "source": [
    "with open('names.csv', 'r') as csv_file:\n",
    "    csv_reader = csv.DictReader(csv_file)\n",
    "\n",
    "    for line in csv_reader: \n",
    "         print(line)"
   ]
  },
  {
   "cell_type": "code",
   "execution_count": 101,
   "metadata": {},
   "outputs": [
    {
     "name": "stdout",
     "output_type": "stream",
     "text": [
      "john-doe@bogusemail.com\n",
      "maryjacobs@bogusemail.com\n",
      "davesmith@bogusemail.com\n",
      "janestuart@bogusemail.com\n",
      "tomwright@bogusemail.com\n",
      "steverobinson@bogusemail.com\n",
      "nicolejacobs@bogusemail.com\n",
      "janewright@bogusemail.com\n",
      "janedoe@bogusemail.com\n",
      "kurtwright@bogusemail.com\n",
      "kurtrobinson@bogusemail.com\n",
      "janejenkins@bogusemail.com\n",
      "neilrobinson@bogusemail.com\n",
      "tompatterson@bogusemail.com\n",
      "samjenkins@bogusemail.com\n",
      "stevestuart@bogusemail.com\n",
      "maggiepatterson@bogusemail.com\n",
      "maggiestuart@bogusemail.com\n",
      "janedoe@bogusemail.com\n",
      "stevepatterson@bogusemail.com\n",
      "davesmith@bogusemail.com\n",
      "samwilks@bogusemail.com\n",
      "kurtjefferson@bogusemail.com\n",
      "samstuart@bogusemail.com\n",
      "janestuart@bogusemail.com\n",
      "davedavis@bogusemail.com\n",
      "sampatterson@bogusemail.com\n",
      "tomjefferson@bogusemail.com\n",
      "janestuart@bogusemail.com\n",
      "maggiejefferson@bogusemail.com\n",
      "marywilks@bogusemail.com\n",
      "neilpatterson@bogusemail.com\n",
      "coreydavis@bogusemail.com\n",
      "stevejacobs@bogusemail.com\n",
      "janejenkins@bogusemail.com\n",
      "johnjacobs@bogusemail.com\n",
      "neilsmith@bogusemail.com\n",
      "coreywilks@bogusemail.com\n",
      "coreysmith@bogusemail.com\n",
      "marypatterson@bogusemail.com\n",
      "janestuart@bogusemail.com\n",
      "travisarnold@bogusemail.com\n",
      "johnrobinson@bogusemail.com\n",
      "travisarnold@bogusemail.com\n"
     ]
    }
   ],
   "source": [
    "with open('names.csv', 'r') as csv_file:\n",
    "    csv_reader = csv.DictReader(csv_file)\n",
    "\n",
    "    for line in csv_reader: \n",
    "         print(line['email'])"
   ]
  },
  {
   "cell_type": "code",
   "execution_count": 102,
   "metadata": {
    "collapsed": true
   },
   "outputs": [],
   "source": [
    "with open('names.csv', 'r') as csv_file:\n",
    "    csv_reader = csv.DictReader(csv_file)\n",
    "    \n",
    "    with open('new_names.csv', 'w') as new_file:\n",
    "        fieldnames = ['first_name', 'last_name', 'email']\n",
    "\n",
    "        csv_writer = csv.DictWriter(new_file, fieldnames=fieldnames, delimiter='\\t')\n",
    "\n",
    "        csv_writer.writeheader()\n",
    "\n",
    "        for line in csv_reader:\n",
    "            #del line['email']\n",
    "            csv_writer.writerow(line)"
   ]
  },
  {
   "cell_type": "code",
   "execution_count": 103,
   "metadata": {
    "collapsed": true
   },
   "outputs": [],
   "source": [
    "with open('names.csv', 'r') as csv_file:\n",
    "    csv_reader = csv.DictReader(csv_file)\n",
    "    \n",
    "    with open('new_names.csv', 'w') as new_file:\n",
    "        fieldnames = ['first_name', 'last_name']\n",
    "\n",
    "        csv_writer = csv.DictWriter(new_file, fieldnames=fieldnames, delimiter='\\t')\n",
    "\n",
    "        csv_writer.writeheader()\n",
    "\n",
    "        for line in csv_reader:\n",
    "            del line['email']\n",
    "            csv_writer.writerow(line)"
   ]
  },
  {
   "cell_type": "code",
   "execution_count": 49,
   "metadata": {},
   "outputs": [
    {
     "name": "stdout",
     "output_type": "stream",
     "text": [
      "<class 'dict'>\n"
     ]
    }
   ],
   "source": [
    "import datetime\n",
    "import json\n",
    "data = {\n",
    "    \"president\": {\n",
    "        \"name\": \"Zaphod Beeblebrox\",\n",
    "        \"species\": \"Betelgeusian\"\n",
    "    },\n",
    "    \"dan\": {\n",
    "        \"name\": \"Zaphod Beeblebrox\",\n",
    "        \"species\": \"Betelgeusian\"\n",
    "    }\n",
    "}\n",
    "print(type(data))"
   ]
  },
  {
   "cell_type": "code",
   "execution_count": 21,
   "metadata": {
    "collapsed": true
   },
   "outputs": [],
   "source": [
    "with open(\"data_file.json\", \"w\") as write_file:\n",
    "    json.dump(data, write_file)"
   ]
  },
  {
   "cell_type": "code",
   "execution_count": 54,
   "metadata": {},
   "outputs": [
    {
     "data": {
      "text/plain": [
       "datetime.date(2018, 9, 24)"
      ]
     },
     "execution_count": 54,
     "metadata": {},
     "output_type": "execute_result"
    }
   ],
   "source": [
    "today = datetime.date.today()\n",
    "today"
   ]
  },
  {
   "cell_type": "code",
   "execution_count": 55,
   "metadata": {},
   "outputs": [
    {
     "data": {
      "text/plain": [
       "'2018-09-24'"
      ]
     },
     "execution_count": 55,
     "metadata": {},
     "output_type": "execute_result"
    }
   ],
   "source": [
    "str(today)"
   ]
  },
  {
   "cell_type": "code",
   "execution_count": 53,
   "metadata": {},
   "outputs": [
    {
     "name": "stdout",
     "output_type": "stream",
     "text": [
      "2018 9 24\n",
      "<class 'int'>\n"
     ]
    }
   ],
   "source": [
    "print(today.year, today.month, today.day)\n",
    "print(type(today.day))"
   ]
  },
  {
   "cell_type": "code",
   "execution_count": 56,
   "metadata": {},
   "outputs": [
    {
     "name": "stdout",
     "output_type": "stream",
     "text": [
      "2018-09-24\n"
     ]
    }
   ],
   "source": [
    "print(today)"
   ]
  },
  {
   "cell_type": "code",
   "execution_count": 57,
   "metadata": {
    "collapsed": true
   },
   "outputs": [],
   "source": [
    "s='2018-09-24'"
   ]
  },
  {
   "cell_type": "code",
   "execution_count": 60,
   "metadata": {
    "collapsed": true
   },
   "outputs": [],
   "source": [
    "ymd=s.split('-')"
   ]
  },
  {
   "cell_type": "code",
   "execution_count": 61,
   "metadata": {},
   "outputs": [
    {
     "name": "stdout",
     "output_type": "stream",
     "text": [
      "['2018', '09', '24']\n"
     ]
    }
   ],
   "source": [
    "print(ymd)"
   ]
  },
  {
   "cell_type": "code",
   "execution_count": 72,
   "metadata": {
    "collapsed": true
   },
   "outputs": [],
   "source": [
    "class DateEncoder(json.JSONEncoder):\n",
    "    def default(self, d):\n",
    "        if isinstance(d, datetime.date):\n",
    "            return d.year, d.month, d.day\n",
    "            #return (str(d.year), str(d.month), str(d.day))\n",
    "        else:\n",
    "            super().default(self, d)"
   ]
  },
  {
   "cell_type": "code",
   "execution_count": 73,
   "metadata": {
    "collapsed": true
   },
   "outputs": [],
   "source": [
    "json_date=json.dumps(today, cls=DateEncoder, indent=4)"
   ]
  },
  {
   "cell_type": "code",
   "execution_count": 74,
   "metadata": {},
   "outputs": [
    {
     "name": "stdout",
     "output_type": "stream",
     "text": [
      "[\n",
      "    2018,\n",
      "    9,\n",
      "    24\n",
      "]\n"
     ]
    }
   ],
   "source": [
    "print(json_date)"
   ]
  },
  {
   "cell_type": "code",
   "execution_count": 76,
   "metadata": {
    "collapsed": true
   },
   "outputs": [],
   "source": [
    "blackjack_hand = (8, \"Q\")\n",
    "encoded_hand = json.dumps(blackjack_hand)"
   ]
  },
  {
   "cell_type": "code",
   "execution_count": 77,
   "metadata": {},
   "outputs": [
    {
     "data": {
      "text/plain": [
       "'[8, \"Q\"]'"
      ]
     },
     "execution_count": 77,
     "metadata": {},
     "output_type": "execute_result"
    }
   ],
   "source": [
    "encoded_hand"
   ]
  },
  {
   "cell_type": "code",
   "execution_count": 22,
   "metadata": {},
   "outputs": [
    {
     "name": "stdout",
     "output_type": "stream",
     "text": [
      "{\n",
      "    \"president\": {\n",
      "        \"name\": \"Zaphod Beeblebrox\",\n",
      "        \"species\": \"Betelgeusian\"\n",
      "    },\n",
      "    \"dan\": {\n",
      "        \"name\": \"Zaphod Beeblebrox\",\n",
      "        \"species\": \"Betelgeusian\"\n",
      "    }\n",
      "}\n"
     ]
    }
   ],
   "source": [
    "json_string = json.dumps(data, indent=4)\n",
    "print(json_string)"
   ]
  },
  {
   "cell_type": "code",
   "execution_count": 7,
   "metadata": {},
   "outputs": [
    {
     "data": {
      "text/plain": [
       "'{\\n    \"president\": {\\n        \"name\": \"Zaphod Beeblebrox\",\\n        \"species\": \"Betelgeusian\"\\n    }\\n}'"
      ]
     },
     "execution_count": 7,
     "metadata": {},
     "output_type": "execute_result"
    }
   ],
   "source": [
    "json.dumps(data, indent=4)"
   ]
  },
  {
   "cell_type": "code",
   "execution_count": 15,
   "metadata": {},
   "outputs": [
    {
     "name": "stdout",
     "output_type": "stream",
     "text": [
      "data: \n"
     ]
    }
   ],
   "source": [
    "data=\"\"\n",
    "print(\"data:\",data)"
   ]
  },
  {
   "cell_type": "code",
   "execution_count": 16,
   "metadata": {
    "collapsed": true
   },
   "outputs": [],
   "source": [
    "with open(\"data_file.json\", \"r\") as read_file:\n",
    "    data = json.load(read_file)"
   ]
  },
  {
   "cell_type": "code",
   "execution_count": 17,
   "metadata": {},
   "outputs": [
    {
     "name": "stdout",
     "output_type": "stream",
     "text": [
      "{'president': {'name': 'Zaphod Beeblebrox', 'species': 'Betelgeusian'}}\n"
     ]
    }
   ],
   "source": [
    "print(data)"
   ]
  },
  {
   "cell_type": "code",
   "execution_count": 28,
   "metadata": {},
   "outputs": [
    {
     "name": "stdout",
     "output_type": "stream",
     "text": [
      "\"\\n{\\n    \\\"researcher\\\": {\\n        \\\"name\\\": \\\"Ford Prefect\\\",\\n        \\\"species\\\": \\\"Betelgeusian\\\",\\n        \\\"relatives\\\": [\\n            {\\n                \\\"name\\\": \\\"Zaphod Beeblebrox\\\",\\n                \\\"species\\\": \\\"Betelgeusian\\\"\\n            }\\n        ]\\n    }\\n}\\n\"\n"
     ]
    }
   ],
   "source": [
    "data = \"\"\"\n",
    "{\n",
    "    \"researcher\": {\n",
    "        \"name\": \"Ford Prefect\",\n",
    "        \"species\": \"Betelgeusian\",\n",
    "        \"relatives\": [\n",
    "            {\n",
    "                \"name\": \"Zaphod Beeblebrox\",\n",
    "                \"species\": \"Betelgeusian\"\n",
    "            }\n",
    "        ]\n",
    "    }\n",
    "}\n",
    "\"\"\"\n",
    "json_string = json.dumps(data, indent=4)\n",
    "print(json_string)"
   ]
  },
  {
   "cell_type": "code",
   "execution_count": 26,
   "metadata": {},
   "outputs": [
    {
     "data": {
      "text/plain": [
       "'{\\n    \"researcher\": {\\n        \"name\": \"Ford Prefect\",\\n        \"species\": \"Betelgeusian\",\\n        \"relatives\": [\\n            {\\n                \"name\": \"Zaphod Beeblebrox\",\\n                \"species\": \"Betelgeusian\"\\n            }\\n        ]\\n    }\\n}'"
      ]
     },
     "execution_count": 26,
     "metadata": {},
     "output_type": "execute_result"
    }
   ],
   "source": [
    "json.dumps(data, indent=4)"
   ]
  },
  {
   "cell_type": "code",
   "execution_count": 29,
   "metadata": {
    "collapsed": true
   },
   "outputs": [],
   "source": [
    "import json\n",
    "import requests"
   ]
  },
  {
   "cell_type": "code",
   "execution_count": 30,
   "metadata": {
    "collapsed": true
   },
   "outputs": [],
   "source": [
    "response = requests.get(\"https://jsonplaceholder.typicode.com/todos\")\n",
    "todos = json.loads(response.text)"
   ]
  },
  {
   "cell_type": "code",
   "execution_count": 31,
   "metadata": {},
   "outputs": [
    {
     "name": "stdout",
     "output_type": "stream",
     "text": [
      "[{'userId': 1, 'id': 1, 'title': 'delectus aut autem', 'completed': False}, {'userId': 1, 'id': 2, 'title': 'quis ut nam facilis et officia qui', 'completed': False}, {'userId': 1, 'id': 3, 'title': 'fugiat veniam minus', 'completed': False}, {'userId': 1, 'id': 4, 'title': 'et porro tempora', 'completed': True}, {'userId': 1, 'id': 5, 'title': 'laboriosam mollitia et enim quasi adipisci quia provident illum', 'completed': False}, {'userId': 1, 'id': 6, 'title': 'qui ullam ratione quibusdam voluptatem quia omnis', 'completed': False}, {'userId': 1, 'id': 7, 'title': 'illo expedita consequatur quia in', 'completed': False}, {'userId': 1, 'id': 8, 'title': 'quo adipisci enim quam ut ab', 'completed': True}, {'userId': 1, 'id': 9, 'title': 'molestiae perspiciatis ipsa', 'completed': False}, {'userId': 1, 'id': 10, 'title': 'illo est ratione doloremque quia maiores aut', 'completed': True}, {'userId': 1, 'id': 11, 'title': 'vero rerum temporibus dolor', 'completed': True}, {'userId': 1, 'id': 12, 'title': 'ipsa repellendus fugit nisi', 'completed': True}, {'userId': 1, 'id': 13, 'title': 'et doloremque nulla', 'completed': False}, {'userId': 1, 'id': 14, 'title': 'repellendus sunt dolores architecto voluptatum', 'completed': True}, {'userId': 1, 'id': 15, 'title': 'ab voluptatum amet voluptas', 'completed': True}, {'userId': 1, 'id': 16, 'title': 'accusamus eos facilis sint et aut voluptatem', 'completed': True}, {'userId': 1, 'id': 17, 'title': 'quo laboriosam deleniti aut qui', 'completed': True}, {'userId': 1, 'id': 18, 'title': 'dolorum est consequatur ea mollitia in culpa', 'completed': False}, {'userId': 1, 'id': 19, 'title': 'molestiae ipsa aut voluptatibus pariatur dolor nihil', 'completed': True}, {'userId': 1, 'id': 20, 'title': 'ullam nobis libero sapiente ad optio sint', 'completed': True}, {'userId': 2, 'id': 21, 'title': 'suscipit repellat esse quibusdam voluptatem incidunt', 'completed': False}, {'userId': 2, 'id': 22, 'title': 'distinctio vitae autem nihil ut molestias quo', 'completed': True}, {'userId': 2, 'id': 23, 'title': 'et itaque necessitatibus maxime molestiae qui quas velit', 'completed': False}, {'userId': 2, 'id': 24, 'title': 'adipisci non ad dicta qui amet quaerat doloribus ea', 'completed': False}, {'userId': 2, 'id': 25, 'title': 'voluptas quo tenetur perspiciatis explicabo natus', 'completed': True}, {'userId': 2, 'id': 26, 'title': 'aliquam aut quasi', 'completed': True}, {'userId': 2, 'id': 27, 'title': 'veritatis pariatur delectus', 'completed': True}, {'userId': 2, 'id': 28, 'title': 'nesciunt totam sit blanditiis sit', 'completed': False}, {'userId': 2, 'id': 29, 'title': 'laborum aut in quam', 'completed': False}, {'userId': 2, 'id': 30, 'title': 'nemo perspiciatis repellat ut dolor libero commodi blanditiis omnis', 'completed': True}, {'userId': 2, 'id': 31, 'title': 'repudiandae totam in est sint facere fuga', 'completed': False}, {'userId': 2, 'id': 32, 'title': 'earum doloribus ea doloremque quis', 'completed': False}, {'userId': 2, 'id': 33, 'title': 'sint sit aut vero', 'completed': False}, {'userId': 2, 'id': 34, 'title': 'porro aut necessitatibus eaque distinctio', 'completed': False}, {'userId': 2, 'id': 35, 'title': 'repellendus veritatis molestias dicta incidunt', 'completed': True}, {'userId': 2, 'id': 36, 'title': 'excepturi deleniti adipisci voluptatem et neque optio illum ad', 'completed': True}, {'userId': 2, 'id': 37, 'title': 'sunt cum tempora', 'completed': False}, {'userId': 2, 'id': 38, 'title': 'totam quia non', 'completed': False}, {'userId': 2, 'id': 39, 'title': 'doloremque quibusdam asperiores libero corrupti illum qui omnis', 'completed': False}, {'userId': 2, 'id': 40, 'title': 'totam atque quo nesciunt', 'completed': True}, {'userId': 3, 'id': 41, 'title': 'aliquid amet impedit consequatur aspernatur placeat eaque fugiat suscipit', 'completed': False}, {'userId': 3, 'id': 42, 'title': 'rerum perferendis error quia ut eveniet', 'completed': False}, {'userId': 3, 'id': 43, 'title': 'tempore ut sint quis recusandae', 'completed': True}, {'userId': 3, 'id': 44, 'title': 'cum debitis quis accusamus doloremque ipsa natus sapiente omnis', 'completed': True}, {'userId': 3, 'id': 45, 'title': 'velit soluta adipisci molestias reiciendis harum', 'completed': False}, {'userId': 3, 'id': 46, 'title': 'vel voluptatem repellat nihil placeat corporis', 'completed': False}, {'userId': 3, 'id': 47, 'title': 'nam qui rerum fugiat accusamus', 'completed': False}, {'userId': 3, 'id': 48, 'title': 'sit reprehenderit omnis quia', 'completed': False}, {'userId': 3, 'id': 49, 'title': 'ut necessitatibus aut maiores debitis officia blanditiis velit et', 'completed': False}, {'userId': 3, 'id': 50, 'title': 'cupiditate necessitatibus ullam aut quis dolor voluptate', 'completed': True}, {'userId': 3, 'id': 51, 'title': 'distinctio exercitationem ab doloribus', 'completed': False}, {'userId': 3, 'id': 52, 'title': 'nesciunt dolorum quis recusandae ad pariatur ratione', 'completed': False}, {'userId': 3, 'id': 53, 'title': 'qui labore est occaecati recusandae aliquid quam', 'completed': False}, {'userId': 3, 'id': 54, 'title': 'quis et est ut voluptate quam dolor', 'completed': True}, {'userId': 3, 'id': 55, 'title': 'voluptatum omnis minima qui occaecati provident nulla voluptatem ratione', 'completed': True}, {'userId': 3, 'id': 56, 'title': 'deleniti ea temporibus enim', 'completed': True}, {'userId': 3, 'id': 57, 'title': 'pariatur et magnam ea doloribus similique voluptatem rerum quia', 'completed': False}, {'userId': 3, 'id': 58, 'title': 'est dicta totam qui explicabo doloribus qui dignissimos', 'completed': False}, {'userId': 3, 'id': 59, 'title': 'perspiciatis velit id laborum placeat iusto et aliquam odio', 'completed': False}, {'userId': 3, 'id': 60, 'title': 'et sequi qui architecto ut adipisci', 'completed': True}, {'userId': 4, 'id': 61, 'title': 'odit optio omnis qui sunt', 'completed': True}, {'userId': 4, 'id': 62, 'title': 'et placeat et tempore aspernatur sint numquam', 'completed': False}, {'userId': 4, 'id': 63, 'title': 'doloremque aut dolores quidem fuga qui nulla', 'completed': True}, {'userId': 4, 'id': 64, 'title': 'voluptas consequatur qui ut quia magnam nemo esse', 'completed': False}, {'userId': 4, 'id': 65, 'title': 'fugiat pariatur ratione ut asperiores necessitatibus magni', 'completed': False}, {'userId': 4, 'id': 66, 'title': 'rerum eum molestias autem voluptatum sit optio', 'completed': False}, {'userId': 4, 'id': 67, 'title': 'quia voluptatibus voluptatem quos similique maiores repellat', 'completed': False}, {'userId': 4, 'id': 68, 'title': 'aut id perspiciatis voluptatem iusto', 'completed': False}, {'userId': 4, 'id': 69, 'title': 'doloribus sint dolorum ab adipisci itaque dignissimos aliquam suscipit', 'completed': False}, {'userId': 4, 'id': 70, 'title': 'ut sequi accusantium et mollitia delectus sunt', 'completed': False}, {'userId': 4, 'id': 71, 'title': 'aut velit saepe ullam', 'completed': False}, {'userId': 4, 'id': 72, 'title': 'praesentium facilis facere quis harum voluptatibus voluptatem eum', 'completed': False}, {'userId': 4, 'id': 73, 'title': 'sint amet quia totam corporis qui exercitationem commodi', 'completed': True}, {'userId': 4, 'id': 74, 'title': 'expedita tempore nobis eveniet laborum maiores', 'completed': False}, {'userId': 4, 'id': 75, 'title': 'occaecati adipisci est possimus totam', 'completed': False}, {'userId': 4, 'id': 76, 'title': 'sequi dolorem sed', 'completed': True}, {'userId': 4, 'id': 77, 'title': 'maiores aut nesciunt delectus exercitationem vel assumenda eligendi at', 'completed': False}, {'userId': 4, 'id': 78, 'title': 'reiciendis est magnam amet nemo iste recusandae impedit quaerat', 'completed': False}, {'userId': 4, 'id': 79, 'title': 'eum ipsa maxime ut', 'completed': True}, {'userId': 4, 'id': 80, 'title': 'tempore molestias dolores rerum sequi voluptates ipsum consequatur', 'completed': True}, {'userId': 5, 'id': 81, 'title': 'suscipit qui totam', 'completed': True}, {'userId': 5, 'id': 82, 'title': 'voluptates eum voluptas et dicta', 'completed': False}, {'userId': 5, 'id': 83, 'title': 'quidem at rerum quis ex aut sit quam', 'completed': True}, {'userId': 5, 'id': 84, 'title': 'sunt veritatis ut voluptate', 'completed': False}, {'userId': 5, 'id': 85, 'title': 'et quia ad iste a', 'completed': True}, {'userId': 5, 'id': 86, 'title': 'incidunt ut saepe autem', 'completed': True}, {'userId': 5, 'id': 87, 'title': 'laudantium quae eligendi consequatur quia et vero autem', 'completed': True}, {'userId': 5, 'id': 88, 'title': 'vitae aut excepturi laboriosam sint aliquam et et accusantium', 'completed': False}, {'userId': 5, 'id': 89, 'title': 'sequi ut omnis et', 'completed': True}, {'userId': 5, 'id': 90, 'title': 'molestiae nisi accusantium tenetur dolorem et', 'completed': True}, {'userId': 5, 'id': 91, 'title': 'nulla quis consequatur saepe qui id expedita', 'completed': True}, {'userId': 5, 'id': 92, 'title': 'in omnis laboriosam', 'completed': True}, {'userId': 5, 'id': 93, 'title': 'odio iure consequatur molestiae quibusdam necessitatibus quia sint', 'completed': True}, {'userId': 5, 'id': 94, 'title': 'facilis modi saepe mollitia', 'completed': False}, {'userId': 5, 'id': 95, 'title': 'vel nihil et molestiae iusto assumenda nemo quo ut', 'completed': True}, {'userId': 5, 'id': 96, 'title': 'nobis suscipit ducimus enim asperiores voluptas', 'completed': False}, {'userId': 5, 'id': 97, 'title': 'dolorum laboriosam eos qui iure aliquam', 'completed': False}, {'userId': 5, 'id': 98, 'title': 'debitis accusantium ut quo facilis nihil quis sapiente necessitatibus', 'completed': True}, {'userId': 5, 'id': 99, 'title': 'neque voluptates ratione', 'completed': False}, {'userId': 5, 'id': 100, 'title': 'excepturi a et neque qui expedita vel voluptate', 'completed': False}, {'userId': 6, 'id': 101, 'title': 'explicabo enim cumque porro aperiam occaecati minima', 'completed': False}, {'userId': 6, 'id': 102, 'title': 'sed ab consequatur', 'completed': False}, {'userId': 6, 'id': 103, 'title': 'non sunt delectus illo nulla tenetur enim omnis', 'completed': False}, {'userId': 6, 'id': 104, 'title': 'excepturi non laudantium quo', 'completed': False}, {'userId': 6, 'id': 105, 'title': 'totam quia dolorem et illum repellat voluptas optio', 'completed': True}, {'userId': 6, 'id': 106, 'title': 'ad illo quis voluptatem temporibus', 'completed': True}, {'userId': 6, 'id': 107, 'title': 'praesentium facilis omnis laudantium fugit ad iusto nihil nesciunt', 'completed': False}, {'userId': 6, 'id': 108, 'title': 'a eos eaque nihil et exercitationem incidunt delectus', 'completed': True}, {'userId': 6, 'id': 109, 'title': 'autem temporibus harum quisquam in culpa', 'completed': True}, {'userId': 6, 'id': 110, 'title': 'aut aut ea corporis', 'completed': True}, {'userId': 6, 'id': 111, 'title': 'magni accusantium labore et id quis provident', 'completed': False}, {'userId': 6, 'id': 112, 'title': 'consectetur impedit quisquam qui deserunt non rerum consequuntur eius', 'completed': False}, {'userId': 6, 'id': 113, 'title': 'quia atque aliquam sunt impedit voluptatum rerum assumenda nisi', 'completed': False}, {'userId': 6, 'id': 114, 'title': 'cupiditate quos possimus corporis quisquam exercitationem beatae', 'completed': False}, {'userId': 6, 'id': 115, 'title': 'sed et ea eum', 'completed': False}, {'userId': 6, 'id': 116, 'title': 'ipsa dolores vel facilis ut', 'completed': True}, {'userId': 6, 'id': 117, 'title': 'sequi quae est et qui qui eveniet asperiores', 'completed': False}, {'userId': 6, 'id': 118, 'title': 'quia modi consequatur vero fugiat', 'completed': False}, {'userId': 6, 'id': 119, 'title': 'corporis ducimus ea perspiciatis iste', 'completed': False}, {'userId': 6, 'id': 120, 'title': 'dolorem laboriosam vel voluptas et aliquam quasi', 'completed': False}, {'userId': 7, 'id': 121, 'title': 'inventore aut nihil minima laudantium hic qui omnis', 'completed': True}, {'userId': 7, 'id': 122, 'title': 'provident aut nobis culpa', 'completed': True}, {'userId': 7, 'id': 123, 'title': 'esse et quis iste est earum aut impedit', 'completed': False}, {'userId': 7, 'id': 124, 'title': 'qui consectetur id', 'completed': False}, {'userId': 7, 'id': 125, 'title': 'aut quasi autem iste tempore illum possimus', 'completed': False}, {'userId': 7, 'id': 126, 'title': 'ut asperiores perspiciatis veniam ipsum rerum saepe', 'completed': True}, {'userId': 7, 'id': 127, 'title': 'voluptatem libero consectetur rerum ut', 'completed': True}, {'userId': 7, 'id': 128, 'title': 'eius omnis est qui voluptatem autem', 'completed': False}, {'userId': 7, 'id': 129, 'title': 'rerum culpa quis harum', 'completed': False}, {'userId': 7, 'id': 130, 'title': 'nulla aliquid eveniet harum laborum libero alias ut unde', 'completed': True}, {'userId': 7, 'id': 131, 'title': 'qui ea incidunt quis', 'completed': False}, {'userId': 7, 'id': 132, 'title': 'qui molestiae voluptatibus velit iure harum quisquam', 'completed': True}, {'userId': 7, 'id': 133, 'title': 'et labore eos enim rerum consequatur sunt', 'completed': True}, {'userId': 7, 'id': 134, 'title': 'molestiae doloribus et laborum quod ea', 'completed': False}, {'userId': 7, 'id': 135, 'title': 'facere ipsa nam eum voluptates reiciendis vero qui', 'completed': False}, {'userId': 7, 'id': 136, 'title': 'asperiores illo tempora fuga sed ut quasi adipisci', 'completed': False}, {'userId': 7, 'id': 137, 'title': 'qui sit non', 'completed': False}, {'userId': 7, 'id': 138, 'title': 'placeat minima consequatur rem qui ut', 'completed': True}, {'userId': 7, 'id': 139, 'title': 'consequatur doloribus id possimus voluptas a voluptatem', 'completed': False}, {'userId': 7, 'id': 140, 'title': 'aut consectetur in blanditiis deserunt quia sed laboriosam', 'completed': True}, {'userId': 8, 'id': 141, 'title': 'explicabo consectetur debitis voluptates quas quae culpa rerum non', 'completed': True}, {'userId': 8, 'id': 142, 'title': 'maiores accusantium architecto necessitatibus reiciendis ea aut', 'completed': True}, {'userId': 8, 'id': 143, 'title': 'eum non recusandae cupiditate animi', 'completed': False}, {'userId': 8, 'id': 144, 'title': 'ut eum exercitationem sint', 'completed': False}, {'userId': 8, 'id': 145, 'title': 'beatae qui ullam incidunt voluptatem non nisi aliquam', 'completed': False}, {'userId': 8, 'id': 146, 'title': 'molestiae suscipit ratione nihil odio libero impedit vero totam', 'completed': True}, {'userId': 8, 'id': 147, 'title': 'eum itaque quod reprehenderit et facilis dolor autem ut', 'completed': True}, {'userId': 8, 'id': 148, 'title': 'esse quas et quo quasi exercitationem', 'completed': False}, {'userId': 8, 'id': 149, 'title': 'animi voluptas quod perferendis est', 'completed': False}, {'userId': 8, 'id': 150, 'title': 'eos amet tempore laudantium fugit a', 'completed': False}, {'userId': 8, 'id': 151, 'title': 'accusamus adipisci dicta qui quo ea explicabo sed vero', 'completed': True}, {'userId': 8, 'id': 152, 'title': 'odit eligendi recusandae doloremque cumque non', 'completed': False}, {'userId': 8, 'id': 153, 'title': 'ea aperiam consequatur qui repellat eos', 'completed': False}, {'userId': 8, 'id': 154, 'title': 'rerum non ex sapiente', 'completed': True}, {'userId': 8, 'id': 155, 'title': 'voluptatem nobis consequatur et assumenda magnam', 'completed': True}, {'userId': 8, 'id': 156, 'title': 'nam quia quia nulla repellat assumenda quibusdam sit nobis', 'completed': True}, {'userId': 8, 'id': 157, 'title': 'dolorem veniam quisquam deserunt repellendus', 'completed': True}, {'userId': 8, 'id': 158, 'title': 'debitis vitae delectus et harum accusamus aut deleniti a', 'completed': True}, {'userId': 8, 'id': 159, 'title': 'debitis adipisci quibusdam aliquam sed dolore ea praesentium nobis', 'completed': True}, {'userId': 8, 'id': 160, 'title': 'et praesentium aliquam est', 'completed': False}, {'userId': 9, 'id': 161, 'title': 'ex hic consequuntur earum omnis alias ut occaecati culpa', 'completed': True}, {'userId': 9, 'id': 162, 'title': 'omnis laboriosam molestias animi sunt dolore', 'completed': True}, {'userId': 9, 'id': 163, 'title': 'natus corrupti maxime laudantium et voluptatem laboriosam odit', 'completed': False}, {'userId': 9, 'id': 164, 'title': 'reprehenderit quos aut aut consequatur est sed', 'completed': False}, {'userId': 9, 'id': 165, 'title': 'fugiat perferendis sed aut quidem', 'completed': False}, {'userId': 9, 'id': 166, 'title': 'quos quo possimus suscipit minima ut', 'completed': False}, {'userId': 9, 'id': 167, 'title': 'et quis minus quo a asperiores molestiae', 'completed': False}, {'userId': 9, 'id': 168, 'title': 'recusandae quia qui sunt libero', 'completed': False}, {'userId': 9, 'id': 169, 'title': 'ea odio perferendis officiis', 'completed': True}, {'userId': 9, 'id': 170, 'title': 'quisquam aliquam quia doloribus aut', 'completed': False}, {'userId': 9, 'id': 171, 'title': 'fugiat aut voluptatibus corrupti deleniti velit iste odio', 'completed': True}, {'userId': 9, 'id': 172, 'title': 'et provident amet rerum consectetur et voluptatum', 'completed': False}, {'userId': 9, 'id': 173, 'title': 'harum ad aperiam quis', 'completed': False}, {'userId': 9, 'id': 174, 'title': 'similique aut quo', 'completed': False}, {'userId': 9, 'id': 175, 'title': 'laudantium eius officia perferendis provident perspiciatis asperiores', 'completed': True}, {'userId': 9, 'id': 176, 'title': 'magni soluta corrupti ut maiores rem quidem', 'completed': False}, {'userId': 9, 'id': 177, 'title': 'et placeat temporibus voluptas est tempora quos quibusdam', 'completed': False}, {'userId': 9, 'id': 178, 'title': 'nesciunt itaque commodi tempore', 'completed': True}, {'userId': 9, 'id': 179, 'title': 'omnis consequuntur cupiditate impedit itaque ipsam quo', 'completed': True}, {'userId': 9, 'id': 180, 'title': 'debitis nisi et dolorem repellat et', 'completed': True}, {'userId': 10, 'id': 181, 'title': 'ut cupiditate sequi aliquam fuga maiores', 'completed': False}, {'userId': 10, 'id': 182, 'title': 'inventore saepe cumque et aut illum enim', 'completed': True}, {'userId': 10, 'id': 183, 'title': 'omnis nulla eum aliquam distinctio', 'completed': True}, {'userId': 10, 'id': 184, 'title': 'molestias modi perferendis perspiciatis', 'completed': False}, {'userId': 10, 'id': 185, 'title': 'voluptates dignissimos sed doloribus animi quaerat aut', 'completed': False}, {'userId': 10, 'id': 186, 'title': 'explicabo odio est et', 'completed': False}, {'userId': 10, 'id': 187, 'title': 'consequuntur animi possimus', 'completed': False}, {'userId': 10, 'id': 188, 'title': 'vel non beatae est', 'completed': True}, {'userId': 10, 'id': 189, 'title': 'culpa eius et voluptatem et', 'completed': True}, {'userId': 10, 'id': 190, 'title': 'accusamus sint iusto et voluptatem exercitationem', 'completed': True}, {'userId': 10, 'id': 191, 'title': 'temporibus atque distinctio omnis eius impedit tempore molestias pariatur', 'completed': True}, {'userId': 10, 'id': 192, 'title': 'ut quas possimus exercitationem sint voluptates', 'completed': False}, {'userId': 10, 'id': 193, 'title': 'rerum debitis voluptatem qui eveniet tempora distinctio a', 'completed': True}, {'userId': 10, 'id': 194, 'title': 'sed ut vero sit molestiae', 'completed': False}, {'userId': 10, 'id': 195, 'title': 'rerum ex veniam mollitia voluptatibus pariatur', 'completed': True}, {'userId': 10, 'id': 196, 'title': 'consequuntur aut ut fugit similique', 'completed': True}, {'userId': 10, 'id': 197, 'title': 'dignissimos quo nobis earum saepe', 'completed': True}, {'userId': 10, 'id': 198, 'title': 'quis eius est sint explicabo', 'completed': True}, {'userId': 10, 'id': 199, 'title': 'numquam repellendus a magnam', 'completed': True}, {'userId': 10, 'id': 200, 'title': 'ipsam aperiam voluptates qui', 'completed': False}]\n"
     ]
    }
   ],
   "source": [
    "print(todos)"
   ]
  },
  {
   "cell_type": "code",
   "execution_count": 32,
   "metadata": {},
   "outputs": [
    {
     "data": {
      "text/plain": [
       "True"
      ]
     },
     "execution_count": 32,
     "metadata": {},
     "output_type": "execute_result"
    }
   ],
   "source": [
    "todos == response.json()"
   ]
  },
  {
   "cell_type": "code",
   "execution_count": 33,
   "metadata": {},
   "outputs": [
    {
     "data": {
      "text/plain": [
       "list"
      ]
     },
     "execution_count": 33,
     "metadata": {},
     "output_type": "execute_result"
    }
   ],
   "source": [
    "type(todos)"
   ]
  },
  {
   "cell_type": "code",
   "execution_count": 34,
   "metadata": {
    "collapsed": true
   },
   "outputs": [],
   "source": [
    "def encode_complex(z):\n",
    "    if isinstance(z, complex):\n",
    "        return (z.real, z.imag)\n",
    "    else:\n",
    "        type_name = z.__class__.__name__\n",
    "        raise TypeError(f\"Object of type '{type_name}' is not JSON serializable\")"
   ]
  },
  {
   "cell_type": "code",
   "execution_count": 46,
   "metadata": {},
   "outputs": [
    {
     "ename": "SyntaxError",
     "evalue": "invalid syntax (<ipython-input-46-235d9fca278c>, line 1)",
     "output_type": "error",
     "traceback": [
      "\u001b[1;36m  File \u001b[1;32m\"<ipython-input-46-235d9fca278c>\"\u001b[1;36m, line \u001b[1;32m1\u001b[0m\n\u001b[1;33m    json.codecs? dumps(9 + 5j, default=encode_complex)\u001b[0m\n\u001b[1;37m               ^\u001b[0m\n\u001b[1;31mSyntaxError\u001b[0m\u001b[1;31m:\u001b[0m invalid syntax\n"
     ]
    }
   ],
   "source": [
    "json.codecs? dumps(9 + 5j, default=encode_complex)"
   ]
  },
  {
   "cell_type": "code",
   "execution_count": 36,
   "metadata": {
    "collapsed": true
   },
   "outputs": [],
   "source": [
    "class ComplexEncoder(json.JSONEncoder):\n",
    "    def default(self, z):\n",
    "        if isinstance(z, complex):\n",
    "            return (z.real, z.imag)\n",
    "        else:\n",
    "            super().default(self, z)"
   ]
  },
  {
   "cell_type": "code",
   "execution_count": 37,
   "metadata": {},
   "outputs": [
    {
     "data": {
      "text/plain": [
       "'[2.0, 5.0]'"
      ]
     },
     "execution_count": 37,
     "metadata": {},
     "output_type": "execute_result"
    }
   ],
   "source": [
    "json.dumps(2 + 5j, cls=ComplexEncoder)"
   ]
  },
  {
   "cell_type": "code",
   "execution_count": 38,
   "metadata": {
    "collapsed": true
   },
   "outputs": [],
   "source": [
    " complex_json = json.dumps(4 + 17j, cls=ComplexEncoder)"
   ]
  },
  {
   "cell_type": "code",
   "execution_count": 42,
   "metadata": {
    "collapsed": true
   },
   "outputs": [],
   "source": [
    "s=json.loads(complex_json)\n"
   ]
  },
  {
   "cell_type": "code",
   "execution_count": 45,
   "metadata": {},
   "outputs": [
    {
     "data": {
      "text/plain": [
       "(4+17j)"
      ]
     },
     "execution_count": 45,
     "metadata": {},
     "output_type": "execute_result"
    }
   ],
   "source": [
    "complex(*s)"
   ]
  }
 ],
 "metadata": {
  "kernelspec": {
   "display_name": "Python 3",
   "language": "python",
   "name": "python3"
  },
  "language_info": {
   "codemirror_mode": {
    "name": "ipython",
    "version": 3
   },
   "file_extension": ".py",
   "mimetype": "text/x-python",
   "name": "python",
   "nbconvert_exporter": "python",
   "pygments_lexer": "ipython3",
   "version": "3.6.3"
  }
 },
 "nbformat": 4,
 "nbformat_minor": 1
}
