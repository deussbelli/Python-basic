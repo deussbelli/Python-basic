{
 "cells": [
  {
   "cell_type": "markdown",
   "metadata": {},
   "source": [
    "# Iterators and generators\n",
    "------------------"
   ]
  },
  {
   "cell_type": "markdown",
   "metadata": {},
   "source": [
    "[Corey Schafer. Python Tutorial: Iterators and Iterables](https://www.youtube.com/watch?v=jTYiNjvnHZY)\n",
    "\n",
    "[Corey Schafer. Python Coding Problem: Creating Your Own Iterators](https://www.youtube.com/watch?v=C3Z9lJXI6Qw)\n",
    "\n",
    "Fluent Python by Luciano Ramalho, CHAPTER 14"
   ]
  },
  {
   "cell_type": "markdown",
   "metadata": {},
   "source": [
    "## 1. Iterators\n",
    "--------------"
   ]
  },
  {
   "cell_type": "markdown",
   "metadata": {},
   "source": [
    "* Iteration is fundamental to data processing\n",
    "* Scanning datasets that don’t fit in memory, we need a way to fetch the items **lazily** --  one at a time and on demand -- this is what the Iterator pattern is about"
   ]
  },
  {
   "cell_type": "markdown",
   "metadata": {},
   "source": [
    "### 1.1. Using iterators:\n",
    "-----------------\n",
    "* for loops\n",
    "* collection types construction and extension\n",
    "* looping over text files line by line\n",
    "* list, dict and set comprehensions\n",
    "* tuple unpacking\n",
    "* unpacking actual parameters with * in function calls"
   ]
  },
  {
   "cell_type": "markdown",
   "metadata": {},
   "source": [
    "### 1.2. Iterability based on built-in ``iter()``\n",
    "---------------"
   ]
  },
  {
   "cell_type": "markdown",
   "metadata": {},
   "source": [
    "* Executing of the  built-in ``iter(x)`` for iterable object ``x``:\n",
    "    1. Checks whether the object implements ``__iter__`` and calls that to obtain an iterator;\n",
    "    2. If ``__iter__`` is not implemented, but ``__getitem__`` is implemented, Python creates an iterator that attempts to fetch items in order, starting from index 0 ;\n",
    "    3. If that fails, Python raises ``TypeError``, usually saying ```\"'C' object is not iterable\"```, where ``C`` is the class of the target object."
   ]
  },
  {
   "cell_type": "code",
   "execution_count": null,
   "metadata": {},
   "outputs": [],
   "source": [
    "import reprlib"
   ]
  },
  {
   "cell_type": "code",
   "execution_count": null,
   "metadata": {},
   "outputs": [],
   "source": [
    "class Sentence:\n",
    "    \"\"\"v.1.0 --  A simple class with standard set of the operators including\n",
    "       __len__ and __getitem__\n",
    "    \"\"\"\n",
    "\n",
    "    def __init__(self, text):\n",
    "        self.text = text\n",
    "        self.words = self.text.split()  \n",
    "    def __repr__(self):\n",
    "        return f'Sentence({reprlib.repr(self.text)})' \n",
    "    \n",
    "    #---------------------------\n",
    "    def __getitem__(self, index):\n",
    "        return self.words[index]  \n",
    "\n",
    "    def __len__(self, index):  \n",
    "        return len(self.words)\n",
    "\n",
    "    "
   ]
  },
  {
   "cell_type": "code",
   "execution_count": null,
   "metadata": {},
   "outputs": [],
   "source": [
    "s = Sentence('The time has come')"
   ]
  },
  {
   "cell_type": "code",
   "execution_count": null,
   "metadata": {},
   "outputs": [],
   "source": [
    "for word in s: # s must be Iterable\n",
    "    print(type(word),word)"
   ]
  },
  {
   "cell_type": "code",
   "execution_count": null,
   "metadata": {},
   "outputs": [],
   "source": [
    "dir(s) # there isn't __iter__"
   ]
  },
  {
   "cell_type": "code",
   "execution_count": null,
   "metadata": {},
   "outputs": [],
   "source": [
    "ls=list(s)\n",
    "dir(ls) #there is __iter__ in buit-in sequences"
   ]
  },
  {
   "cell_type": "markdown",
   "metadata": {},
   "source": [
    "* Any Python sequence is iterable: they all implement ``__getitem__``\n",
    "* Standard sequences also implement ``__iter__`` ( yours should too), because the special handling of ``__getitem__`` exists for backward compatibility reasons\n",
    "* When the iteration is attempted on a non-iterable, the exception is clear enough: ``TypeError: 'C' object is not iterable``"
   ]
  },
  {
   "attachments": {
    "Iterable.png": {
     "image/png": "[encoded data removed]"
    }
   },
   "cell_type": "markdown",
   "metadata": {},
   "source": [
    "### 1.3. GoF: Iterable & Iterator\n",
    "--------------\n",
    "\n",
    "![Iterable.png](attachment:Iterable.png)"
   ]
  },
  {
   "cell_type": "markdown",
   "metadata": {},
   "source": [
    "Design Pattern (DP) definition:\n",
    "\n",
    "1) a **description** of the interaction of objects and classes \n",
    "\n",
    "2) designed to solve the **general** design problem\n",
    "\n",
    "3) in a **specific** context."
   ]
  },
  {
   "cell_type": "markdown",
   "metadata": {},
   "source": [
    "**Applicability of Iterator**:\n",
    "* to access an aggregate object’s contents without exposing its internal representation\n",
    "* to support multiple traversals of aggregate objects\n",
    "* to provide a uniform interface for traversing different aggregate structures (to support polymorphic iteration)"
   ]
  },
  {
   "cell_type": "code",
   "execution_count": null,
   "metadata": {},
   "outputs": [],
   "source": [
    "s = 'ABC' # the sequence -- there is __iter__"
   ]
  },
  {
   "cell_type": "markdown",
   "metadata": {},
   "source": [
    "### 1.4. Explicit iteration with ``iter()`` and ``next()``\n",
    "-----------------"
   ]
  },
  {
   "cell_type": "code",
   "execution_count": null,
   "metadata": {},
   "outputs": [],
   "source": [
    "it = iter(s) \n",
    "print(it)"
   ]
  },
  {
   "cell_type": "code",
   "execution_count": null,
   "metadata": {},
   "outputs": [],
   "source": [
    "next(it)"
   ]
  },
  {
   "cell_type": "code",
   "execution_count": null,
   "metadata": {},
   "outputs": [],
   "source": [
    "next(it)"
   ]
  },
  {
   "cell_type": "code",
   "execution_count": null,
   "metadata": {},
   "outputs": [],
   "source": [
    "next(it)"
   ]
  },
  {
   "cell_type": "code",
   "execution_count": null,
   "metadata": {},
   "outputs": [],
   "source": [
    "next(it)"
   ]
  },
  {
   "cell_type": "markdown",
   "metadata": {},
   "source": [
    "### 1.5. Explicit loop iteration with ``iter()`` and ``next()``\n",
    "----------------"
   ]
  },
  {
   "cell_type": "code",
   "execution_count": null,
   "metadata": {},
   "outputs": [],
   "source": [
    "it = iter(s) # explicit loop iteration with iter() and next()\n",
    "print(it)\n",
    "while True:\n",
    "    try:\n",
    "        print(next(it)) \n",
    "    except StopIteration: \n",
    "        del it \n",
    "        break"
   ]
  },
  {
   "cell_type": "markdown",
   "metadata": {},
   "source": [
    "### 1.6. Implicit loop iteration ( implicit ``iter()`` and ``next()`` calls )\n",
    "--------------"
   ]
  },
  {
   "cell_type": "code",
   "execution_count": null,
   "metadata": {},
   "outputs": [],
   "source": [
    "for char in s:\n",
    "    print(char)"
   ]
  },
  {
   "cell_type": "markdown",
   "metadata": {},
   "source": [
    "#### Iterable\n",
    "* Any object from which  built-in ``iter()`` can obtain an **iterator** \n",
    "* Objects, which implement an ``__iter__`` returning an iterator, are iterable\n",
    "* Sequences are always iterable; so as are objects implementing a ``__getitem__`` method which takes 0-based indexes.\n",
    "\n",
    "#### Iterator\n",
    "\n",
    "* Any object that implements the ``__next__`` no-argument method which returns the next item in a series or raises ``StopIteration`` when there are no more items \n",
    "* Iterators also implement the ``__iter__`` method so they are iterable as well"
   ]
  },
  {
   "cell_type": "markdown",
   "metadata": {},
   "source": [
    "### 1.7. Example of Iterator implementation\n",
    "--------------"
   ]
  },
  {
   "cell_type": "code",
   "execution_count": null,
   "metadata": {},
   "outputs": [],
   "source": [
    "import reprlib\n",
    "\n",
    "class Sentence:\n",
    "    \"\"\"v.2.0 --  A simple class with standard set of the operators including\n",
    "       __iter__\n",
    "    \"\"\"\n",
    "\n",
    "    def __init__(self, text):\n",
    "        self.text = text\n",
    "\n",
    "    def __repr__(self):\n",
    "        return f'Sentence({reprlib.repr(self.text)})'\n",
    "    \n",
    "    #-------------------------\n",
    "\n",
    "    def __iter__(self):  \n",
    "        return SentenceIterator(self.text.split())  \n"
   ]
  },
  {
   "cell_type": "code",
   "execution_count": null,
   "metadata": {},
   "outputs": [],
   "source": [
    "class SentenceIterator:\n",
    "    \"\"\"v.2.0 --  A simple Iterator implementation\n",
    "    \"\"\"\n",
    "\n",
    "    def __init__(self, words):\n",
    "        self.words = words   \n",
    "        self.index = 0   \n",
    "    # ---------------------------\n",
    "    def __next__(self):\n",
    "        try:\n",
    "            word = self.words[self.index]   \n",
    "        except IndexError:\n",
    "            raise StopIteration()   \n",
    "        self.index += 1   \n",
    "        return word  \n",
    "\n",
    "    def __iter__(self):   \n",
    "        return self"
   ]
  },
  {
   "cell_type": "code",
   "execution_count": null,
   "metadata": {},
   "outputs": [],
   "source": [
    "s = Sentence('The time has come')"
   ]
  },
  {
   "cell_type": "code",
   "execution_count": null,
   "metadata": {},
   "outputs": [],
   "source": [
    "it = iter(s) \n",
    "print(it)"
   ]
  },
  {
   "cell_type": "code",
   "execution_count": null,
   "metadata": {},
   "outputs": [],
   "source": [
    "dir(it) #there is  __iter__"
   ]
  },
  {
   "cell_type": "code",
   "execution_count": null,
   "metadata": {},
   "outputs": [],
   "source": [
    "while True:\n",
    "    try:\n",
    "        print(next(it))  \n",
    "    except StopIteration:  \n",
    "        del it  \n",
    "        break"
   ]
  },
  {
   "cell_type": "code",
   "execution_count": null,
   "metadata": {},
   "outputs": [],
   "source": [
    "for char in s:\n",
    "    print(char)"
   ]
  },
  {
   "cell_type": "markdown",
   "metadata": {},
   "source": [
    "## 2. Generator function\n",
    "----------------\n",
    "[Corey Schafer.Python Tutorial: Generators](https://www.youtube.com/watch?v=bD05uGo_sVI)"
   ]
  },
  {
   "cell_type": "markdown",
   "metadata": {},
   "source": [
    "### 2.1. Simple generator object\n",
    "-------------"
   ]
  },
  {
   "cell_type": "code",
   "execution_count": null,
   "metadata": {},
   "outputs": [],
   "source": [
    "def gen_123():\n",
    "    yield 1\n",
    "    yield 2\n",
    "    yield 3"
   ]
  },
  {
   "cell_type": "markdown",
   "metadata": {},
   "source": [
    "\"yield\" ==  \"produce or provide (a natural, agricultural, or industrial product)\""
   ]
  },
  {
   "cell_type": "code",
   "execution_count": null,
   "metadata": {},
   "outputs": [],
   "source": [
    "print(gen_123)"
   ]
  },
  {
   "cell_type": "code",
   "execution_count": null,
   "metadata": {},
   "outputs": [],
   "source": [
    "g = gen_123()\n",
    "print(g)"
   ]
  },
  {
   "cell_type": "code",
   "execution_count": null,
   "metadata": {},
   "outputs": [],
   "source": [
    "dir(gen_123())"
   ]
  },
  {
   "cell_type": "markdown",
   "metadata": {},
   "source": [
    "* When invoked, gen_123() returns a **generator** object, wich implemets pattern **Iterator**:"
   ]
  },
  {
   "cell_type": "code",
   "execution_count": null,
   "metadata": {},
   "outputs": [],
   "source": [
    "for i in gen_123(): \n",
    "    print(i)"
   ]
  },
  {
   "cell_type": "markdown",
   "metadata": {},
   "source": [
    "* Generators are iterators that on ``next()`` produce the values of the expressions passed to ``yield``"
   ]
  },
  {
   "cell_type": "code",
   "execution_count": null,
   "metadata": {},
   "outputs": [],
   "source": [
    "g= gen_123()"
   ]
  },
  {
   "cell_type": "code",
   "execution_count": null,
   "metadata": {},
   "outputs": [],
   "source": [
    "next(g)"
   ]
  },
  {
   "cell_type": "markdown",
   "metadata": {},
   "source": [
    "* Since g is an iterator ``next(g)`` fetches the next item produced by ``yield``"
   ]
  },
  {
   "cell_type": "code",
   "execution_count": null,
   "metadata": {},
   "outputs": [],
   "source": [
    "next(g)"
   ]
  },
  {
   "cell_type": "code",
   "execution_count": null,
   "metadata": {},
   "outputs": [],
   "source": [
    "g1= gen_123()"
   ]
  },
  {
   "cell_type": "code",
   "execution_count": null,
   "metadata": {},
   "outputs": [],
   "source": [
    "next(g1)"
   ]
  },
  {
   "cell_type": "code",
   "execution_count": null,
   "metadata": {},
   "outputs": [],
   "source": [
    "next(g)"
   ]
  },
  {
   "cell_type": "code",
   "execution_count": null,
   "metadata": {},
   "outputs": [],
   "source": [
    "next(g)"
   ]
  },
  {
   "cell_type": "markdown",
   "metadata": {},
   "source": [
    "* When the body of the function completes, according to the pattern **Iterator** the generator object raises a ``StopIteration``"
   ]
  },
  {
   "cell_type": "markdown",
   "metadata": {},
   "source": [
    "* Interaction between a loop and the body of the function:"
   ]
  },
  {
   "cell_type": "code",
   "execution_count": null,
   "metadata": {},
   "outputs": [],
   "source": [
    "def gen_AB():\n",
    "    print('start')\n",
    "    yield 'A' \n",
    "    print('continue')\n",
    "    yield 'B' \n",
    "    print('end.')"
   ]
  },
  {
   "cell_type": "markdown",
   "metadata": {},
   "source": [
    "* ``for`` does the equivalent of ``g = iter(gen_AB())`` to get a generator object, and then ``next(g)`` at each iteration"
   ]
  },
  {
   "cell_type": "code",
   "execution_count": null,
   "metadata": {},
   "outputs": [],
   "source": [
    "for c in gen_AB(): \n",
    "    print('-->', c)"
   ]
  },
  {
   "cell_type": "code",
   "execution_count": null,
   "metadata": {},
   "outputs": [],
   "source": [
    "import random\n",
    "import time\n",
    "\n",
    "names = ['John', 'Corey', 'Adam', 'Steve', 'Rick', 'Thomas']\n",
    "majors = ['Math', 'Engineering', 'CompSci', 'Arts', 'Business']"
   ]
  },
  {
   "cell_type": "code",
   "execution_count": null,
   "metadata": {},
   "outputs": [],
   "source": [
    "def people_list(num_people):\n",
    "    result = []\n",
    "    for i in range(num_people):\n",
    "        person = {\n",
    "                    'id': i,\n",
    "                    'name': random.choice(names),\n",
    "                    'major': random.choice(majors)\n",
    "                }\n",
    "        result.append(person)\n",
    "    return result"
   ]
  },
  {
   "cell_type": "code",
   "execution_count": null,
   "metadata": {},
   "outputs": [],
   "source": [
    "%timeit people_list(1000000)"
   ]
  },
  {
   "cell_type": "code",
   "execution_count": null,
   "metadata": {},
   "outputs": [],
   "source": [
    "def people_generator(num_people):\n",
    "    for i in range(num_people):\n",
    "        person = {\n",
    "                    'id': i,\n",
    "                    'name': random.choice(names),\n",
    "                    'major': random.choice(majors)\n",
    "                }\n",
    "        yield person"
   ]
  },
  {
   "cell_type": "code",
   "execution_count": null,
   "metadata": {},
   "outputs": [],
   "source": [
    "%timeit people_generator(1000000)"
   ]
  },
  {
   "cell_type": "code",
   "execution_count": null,
   "metadata": {},
   "outputs": [],
   "source": [
    "%timeit list(people_generator(1000000))"
   ]
  },
  {
   "cell_type": "markdown",
   "metadata": {},
   "source": [
    "### 2.2. An implementation of lazy iterations \n",
    "--------------"
   ]
  },
  {
   "cell_type": "code",
   "execution_count": null,
   "metadata": {},
   "outputs": [],
   "source": [
    "import reprlib\n",
    "\n",
    "class Sentence:\n",
    "    \"\"\"v.3.0 --  A simple class with __iter__ by generator\n",
    "    \"\"\"\n",
    "\n",
    "    def __init__(self, text):\n",
    "        self.text = text\n",
    "        self.words = self.text.split()\n",
    "\n",
    "    def __repr__(self):\n",
    "        return f'Sentence({reprlib.repr(self.text)})'\n",
    "\n",
    "    def __iter__(self):\n",
    "        for word in self.words: \n",
    "            yield word  "
   ]
  },
  {
   "cell_type": "code",
   "execution_count": null,
   "metadata": {},
   "outputs": [],
   "source": [
    "s = Sentence('The time has come')"
   ]
  },
  {
   "cell_type": "code",
   "execution_count": null,
   "metadata": {
    "scrolled": true
   },
   "outputs": [],
   "source": [
    "it = iter(s) \n",
    "print(it)\n",
    "\n",
    "i=0\n",
    "while True:\n",
    "    try:\n",
    "        print(i, next(it))\n",
    "        i+=1\n",
    "    except StopIteration:\n",
    "        del it \n",
    "        break"
   ]
  },
  {
   "cell_type": "code",
   "execution_count": null,
   "metadata": {},
   "outputs": [],
   "source": [
    "for w in s:\n",
    "    print(w)"
   ]
  },
  {
   "cell_type": "markdown",
   "metadata": {},
   "source": [
    "* ``Sentence.__iter__`` is generator function which, when called, builds a generator object which implements the iterator interface, so ``SentenceIterator`` class is no longer needed.\n",
    "\n",
    "* Second version of ``Sentence`` is much shorter than the first, but **it’s not as lazy as it could be**, because the ``__init__`` builds a list of all words in the text to the ``self.words``. A lazy implementation postpones producing values to the last possible moment; this saves memory and may avoid useless processing as well. "
   ]
  },
  {
   "cell_type": "code",
   "execution_count": null,
   "metadata": {},
   "outputs": [],
   "source": [
    "import re\n",
    "import reprlib\n",
    "\n",
    "RE_WORD = re.compile('\\w+')\n",
    "#help(re.compile('\\w+'))\n",
    "\n",
    "class Sentence:\n",
    "    \"\"\"v.3.1 --  A simple class with  \n",
    "            __iter__ by generator without list\n",
    "    \"\"\"\n",
    "\n",
    "    def __init__(self, text):\n",
    "        self.text = text  \n",
    "\n",
    "    def __repr__(self):\n",
    "        return f'Sentence({reprlib.repr(self.text)})' \n",
    "        \n",
    "    def __iter__(self):\n",
    "        for match in RE_WORD.finditer(self.text):  \n",
    "            yield match.group()  "
   ]
  },
  {
   "cell_type": "markdown",
   "metadata": {},
   "source": [
    "[Corey Schafer. Python Tutorial: re Module](https://www.youtube.com/watch?v=K8L6KVGG-7o)\n",
    "\n",
    "* eager evaluation -- ``re.findall()`` returns a list with all non-overlapping matches of the **regular expression**, as a list of strings\n",
    "* lazy evaluation : \n",
    "    * ``re.finditer()`` returns a generator producing ``re.MatchObject`` instances on demand\n",
    "    * ``match.group()`` extracts the actual matched text from ``MatchObject`` instance \n",
    "\n",
    "If there are many matches, ``re.finditer`` saves a lot of memory. Using it, this version of ``Sentence`` is lazy: it only produces the next word when it is needed.\n"
   ]
  },
  {
   "cell_type": "code",
   "execution_count": null,
   "metadata": {},
   "outputs": [],
   "source": [
    "s = Sentence('\"The time has come,\" the Walrus said,')"
   ]
  },
  {
   "cell_type": "code",
   "execution_count": null,
   "metadata": {},
   "outputs": [],
   "source": [
    "it = iter(s) \n",
    "print(type(it),it)\n",
    "\n",
    "i=0\n",
    "while True:\n",
    "    try:\n",
    "        print(i, next(it))\n",
    "        i+=1\n",
    "    except StopIteration: \n",
    "        del it \n",
    "        break"
   ]
  },
  {
   "cell_type": "code",
   "execution_count": null,
   "metadata": {},
   "outputs": [],
   "source": [
    "for char in s:\n",
    "    print(char)"
   ]
  },
  {
   "cell_type": "markdown",
   "metadata": {},
   "source": [
    "## 3. Using of generator expressions in sequence comprehensions \n",
    "--------------\n",
    "[Corey Schafer. Python Tutorial: Comprehensions](https://www.youtube.com/watch?v=3dt4OGnU5sM&t=904s)"
   ]
  },
  {
   "cell_type": "markdown",
   "metadata": {},
   "source": [
    "#### 3.1. Advantages of generator over a list\n",
    "--------------"
   ]
  },
  {
   "cell_type": "code",
   "execution_count": null,
   "metadata": {},
   "outputs": [],
   "source": [
    "def square_numbers(nums):\n",
    "    for i in nums:\n",
    "        yield (i*i)"
   ]
  },
  {
   "cell_type": "code",
   "execution_count": null,
   "metadata": {},
   "outputs": [],
   "source": [
    "square_nums = square_numbers([1,2,3,4,5])"
   ]
  },
  {
   "cell_type": "code",
   "execution_count": null,
   "metadata": {},
   "outputs": [],
   "source": [
    "for i in square_nums:\n",
    "    print(type(i),i)\n",
    "    #print (i)"
   ]
  },
  {
   "cell_type": "code",
   "execution_count": null,
   "metadata": {},
   "outputs": [],
   "source": [
    "print(square_nums)"
   ]
  },
  {
   "cell_type": "code",
   "execution_count": null,
   "metadata": {},
   "outputs": [],
   "source": [
    "type(square_nums)"
   ]
  },
  {
   "cell_type": "code",
   "execution_count": null,
   "metadata": {},
   "outputs": [],
   "source": [
    "len(square_nums)"
   ]
  },
  {
   "cell_type": "code",
   "execution_count": null,
   "metadata": {},
   "outputs": [],
   "source": [
    "square_nums = ( x*x for x in [1,2,3,4,5]) # x*x <-- generator expression"
   ]
  },
  {
   "cell_type": "code",
   "execution_count": null,
   "metadata": {},
   "outputs": [],
   "source": [
    "print(square_nums)"
   ]
  },
  {
   "cell_type": "markdown",
   "metadata": {},
   "source": [
    "Immediate **advantage** of generator over a list : \n",
    "* don't hold the entire result in memory (in the case of tens of thousands or even millions of items)\n",
    "* yields one result at a time\n",
    "* is much more readable\n",
    "* can be used in list comprehension"
   ]
  },
  {
   "cell_type": "code",
   "execution_count": null,
   "metadata": {},
   "outputs": [],
   "source": [
    "square_nums = [x*x for x in [1,2,3,4,5]]"
   ]
  },
  {
   "cell_type": "code",
   "execution_count": null,
   "metadata": {},
   "outputs": [],
   "source": [
    "print(square_nums)"
   ]
  },
  {
   "cell_type": "code",
   "execution_count": null,
   "metadata": {},
   "outputs": [],
   "source": [
    "square_nums = list([x*x for x in [1,2,3,4,5]])"
   ]
  },
  {
   "cell_type": "code",
   "execution_count": null,
   "metadata": {},
   "outputs": [],
   "source": [
    "square_even_nums = [x*x for x in [1,2,3,4,5] if x%2 == 0]\n",
    "print(square_even_nums)"
   ]
  },
  {
   "cell_type": "code",
   "execution_count": null,
   "metadata": {},
   "outputs": [],
   "source": [
    "square_even_nums = ( x*x for x in [1,2,3,4,5]if x%2 == 0) # x*x <-- generator expression"
   ]
  },
  {
   "cell_type": "code",
   "execution_count": null,
   "metadata": {},
   "outputs": [],
   "source": [
    "type(square_even_nums)"
   ]
  },
  {
   "cell_type": "code",
   "execution_count": null,
   "metadata": {},
   "outputs": [],
   "source": [
    "for i in square_even_nums:\n",
    "    print (i)"
   ]
  },
  {
   "cell_type": "markdown",
   "metadata": {},
   "source": [
    "#### 3.2. List comprehension\n",
    "_______________________________"
   ]
  },
  {
   "cell_type": "code",
   "execution_count": null,
   "metadata": {},
   "outputs": [],
   "source": [
    "# a (letter, num) pair for each letter in 'abcd' and each number in '0123'\n",
    "\n",
    "# v.0 --nested loops\n",
    "my_list = []\n",
    "for letter in 'abcd':\n",
    "    for num in range(4):\n",
    "        my_list.append((letter,num))"
   ]
  },
  {
   "cell_type": "code",
   "execution_count": null,
   "metadata": {},
   "outputs": [],
   "source": [
    "print (my_list)"
   ]
  },
  {
   "cell_type": "code",
   "execution_count": null,
   "metadata": {},
   "outputs": [],
   "source": [
    "# v.1 --list comprehension\n",
    "my_list= [(letter, num)for letter in 'abcd'  for num in range(4)]"
   ]
  },
  {
   "cell_type": "code",
   "execution_count": null,
   "metadata": {},
   "outputs": [],
   "source": [
    "print (my_list)"
   ]
  },
  {
   "cell_type": "markdown",
   "metadata": {},
   "source": [
    "#### 3.3. Dictionary comprehension\n",
    "____________________"
   ]
  },
  {
   "cell_type": "code",
   "execution_count": null,
   "metadata": {},
   "outputs": [],
   "source": [
    "names = ['Bruce', 'Clark', 'Peter', 'Logan', 'Wade']\n",
    "heros = ['Batman', 'Superman', 'Spiderman', 'Wolverine', 'Deadpool']\n",
    "\n",
    "print (zip(names, heros)) # zip returns a list of tuples"
   ]
  },
  {
   "cell_type": "code",
   "execution_count": null,
   "metadata": {},
   "outputs": [],
   "source": [
    "# I want a dict{'name': 'hero'} for each (name,hero) in zip(names, heros)\n",
    "\n",
    "# v.0 --nested loops\n",
    "my_dict = {}\n",
    "for name, hero in zip(names, heros):\n",
    "    my_dict[name] = hero\n",
    "    \n",
    "print (my_dict)"
   ]
  },
  {
   "cell_type": "code",
   "execution_count": null,
   "metadata": {},
   "outputs": [],
   "source": [
    "# v.1 -- dictionary comprehension\n",
    "my_dict = {name: hero for name, hero in zip(names, heros)}"
   ]
  },
  {
   "cell_type": "code",
   "execution_count": null,
   "metadata": {},
   "outputs": [],
   "source": [
    "print (my_dict)"
   ]
  },
  {
   "cell_type": "code",
   "execution_count": null,
   "metadata": {},
   "outputs": [],
   "source": [
    "my_dict = {name: hero for name, hero in zip(names, heros) if name !='Peter'}"
   ]
  },
  {
   "cell_type": "code",
   "execution_count": null,
   "metadata": {},
   "outputs": [],
   "source": [
    "print (my_dict)"
   ]
  },
  {
   "cell_type": "markdown",
   "metadata": {},
   "source": [
    "#### 3.4. Set comprehension\n",
    "_________________"
   ]
  },
  {
   "cell_type": "code",
   "execution_count": null,
   "metadata": {},
   "outputs": [],
   "source": [
    "nums = [1,1,2,1,3,4,3,4,5,5,6,7,8,7,9,9]\n",
    "\n",
    "# v.0 --using loop\n",
    "my_set = set()\n",
    "for n in nums:\n",
    "    my_set.add(n)\n",
    "    \n",
    "print (my_set)"
   ]
  },
  {
   "cell_type": "code",
   "execution_count": null,
   "metadata": {},
   "outputs": [],
   "source": [
    "# v.1 --set comprehension\n",
    "my_set ={n for n in nums}"
   ]
  },
  {
   "cell_type": "code",
   "execution_count": null,
   "metadata": {},
   "outputs": [],
   "source": [
    "print (my_set)"
   ]
  },
  {
   "cell_type": "code",
   "execution_count": null,
   "metadata": {},
   "outputs": [],
   "source": []
  }
 ],
 "metadata": {
  "kernelspec": {
   "display_name": "Python 3 (ipykernel)",
   "language": "python",
   "name": "python3"
  },
  "language_info": {
   "codemirror_mode": {
    "name": "ipython",
    "version": 3
   },
   "file_extension": ".py",
   "mimetype": "text/x-python",
   "name": "python",
   "nbconvert_exporter": "python",
   "pygments_lexer": "ipython3",
   "version": "3.9.7"
  }
 },
 "nbformat": 4,
 "nbformat_minor": 4
}
