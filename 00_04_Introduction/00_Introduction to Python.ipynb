{
 "cells": [
  {
   "cell_type": "markdown",
   "metadata": {},
   "source": [
    "[Elon Musk Neuralink demonstration](https://www.youtube.com/watch?v=iOWFXqT5MZ4&feature=youtu.be&t=1068)\n",
    "\n",
    "[The 2021 Neuralink Update](https://www.youtube.com/watch?v=PbbaVH8wpeU&ab_channel=TheTeslaSpace)\n",
    "\n",
    "[Neuralink Update – August 2022](https://www.youtube.com/watch?v=6PPsNYAVbrA&ab_channel=NeuraPod%E2%80%93Neuralink)\n",
    "\n",
    "[Neuralink Update – August 2023](https://www.youtube.com/watch?v=Abj8LJvrl-4&ab_channel=NeuraPod%E2%80%93Neuralink)"
   ]
  },
  {
   "cell_type": "markdown",
   "metadata": {},
   "source": [
    "# Introduction to Python\n",
    "-----------------------"
   ]
  },
  {
   "cell_type": "markdown",
   "metadata": {},
   "source": [
    "### 1.  [Guido van Rossum](https://en.wikipedia.org/wiki/Guido_van_Rossum) (born 31 January 1956) \n",
    "\n",
    "-----------------\n",
    "\n",
    "![435px-Guido-portrait-2014](Guido_portrait_2014.jpg)\n",
    "\n",
    "- a Dutch programmer \n",
    "- best known as the author of the Python programming language, for which he was the \"Benevolent Dictator For Life\" (BDFL) until July 2018. \n"
   ]
  },
  {
   "cell_type": "markdown",
   "metadata": {
    "tags": []
   },
   "source": [
    "Van Rossum has worked for various research institutes:\n",
    "* Google (2005 -- 2012), where he spent half of his time developing the Python language\n",
    "* Dropbox (2013-2020)\n",
    "* Distinguished Engineer at Microsoft (Developer Division) from November 2020 "
   ]
  },
  {
   "cell_type": "markdown",
   "metadata": {
    "tags": []
   },
   "source": [
    "### 2. Van Rossum : Goals for Python\n",
    "----------------------\n",
    "A funding proposal **Computer Programming for Everybody** (submitted to DARPA in 1999): \n",
    "- An easy and intuitive language just as powerful as major competitors\n",
    "- Open source, so anyone can contribute to its development\n",
    "- Code that is as understandable as **plain English**\n",
    "- Suitability for everyday tasks, allowing for short development times\n",
    "\n",
    "In **December 1989**, Van Rossum had been looking for a 'hobby' programming project that would keep [him] occupied during the week around Christmas. "
   ]
  },
  {
   "cell_type": "markdown",
   "metadata": {},
   "source": [
    "Python has grown to become a popular programming language. As of October 2017, it was the second most popular language **on GitHub**, behind Javascript and ahead of Java. \n",
    "\n",
    "According to a programming language popularity survey it is consistently amongst the top 10 most mentioned languages in job postings. \n",
    "\n",
    "Python is on the top of [ TIOBE Programming Community index](https://www.tiobe.com/tiobe-index/) -- an indicator of the popularity of programming languages.\n",
    "\n",
    "[Computer Languages History](https://www.levenez.com/lang/)\n",
    "\n",
    "[Languages timeline](languages_timeline_2023.pdf)"
   ]
  },
  {
   "cell_type": "markdown",
   "metadata": {},
   "source": [
    "**Van Rossum :**\n",
    "\n",
    "> _In reality, programming languages are how programmers express and communicate ideas — and the audience for those ideas is other programmers, not computers._\n",
    "\n",
    "> _The reason: the computer can take care of itself, but programmers are always working with other programmers, and poorly communicated ideas can cause expensive flops._\n",
    "\n",
    "> _In fact, ideas expressed in a programming language also often reach the end users of the program — people who will never read or even know about the program, but who nevertheless are affected by it._"
   ]
  },
  {
   "cell_type": "markdown",
   "metadata": {
    "tags": []
   },
   "source": [
    "### 3. Code speed comparison (examples)"
   ]
  },
  {
   "cell_type": "markdown",
   "metadata": {
    "jp-MarkdownHeadingCollapsed": true,
    "tags": []
   },
   "source": [
    "-----------------\n",
    "\n",
    "#### 3.1\n",
    "$sum(a)=\\sum_{i=1}^{n}a_i,\\quad a=rand(10**7)$ \n",
    "\n",
    "![sum_a.png](sum_a.png)"
   ]
  },
  {
   "cell_type": "markdown",
   "metadata": {},
   "source": [
    "#### 3.2 Reciprocals"
   ]
  },
  {
   "cell_type": "code",
   "execution_count": 23,
   "metadata": {},
   "outputs": [],
   "source": [
    "import numpy as np\n",
    "np.random.seed(0)"
   ]
  },
  {
   "cell_type": "code",
   "execution_count": 24,
   "metadata": {},
   "outputs": [],
   "source": [
    "def compute_reciprocals(values):\n",
    "    output = np.empty(len(values))\n",
    "    for i in range(len(values)):\n",
    "        output[i] = 1.0 / values[i]\n",
    "    return output"
   ]
  },
  {
   "cell_type": "code",
   "execution_count": 25,
   "metadata": {
    "tags": []
   },
   "outputs": [
    {
     "name": "stdout",
     "output_type": "stream",
     "text": [
      "[0.16666667 1.         0.25       0.25       0.125     ]\n",
      "7.89 µs ± 255 ns per loop (mean ± std. dev. of 7 runs, 100000 loops each)\n"
     ]
    }
   ],
   "source": [
    "values = np.random.randint(1, 10, size=5)\n",
    "\n",
    "print(compute_reciprocals(values))\n",
    "\n",
    "%timeit compute_reciprocals(values)"
   ]
  },
  {
   "cell_type": "code",
   "execution_count": 26,
   "metadata": {},
   "outputs": [
    {
     "name": "stdout",
     "output_type": "stream",
     "text": [
      "[0.16666667 1.         0.25       0.25       0.125     ]\n",
      "861 ns ± 19 ns per loop (mean ± std. dev. of 7 runs, 1000000 loops each)\n"
     ]
    }
   ],
   "source": [
    "print(1.0 / values)\n",
    "%timeit (1.0 / values)"
   ]
  },
  {
   "cell_type": "markdown",
   "metadata": {},
   "source": [
    "For a large input this operation is very slow:"
   ]
  },
  {
   "cell_type": "code",
   "execution_count": 27,
   "metadata": {},
   "outputs": [
    {
     "name": "stdout",
     "output_type": "stream",
     "text": [
      "1.43 s ± 8.73 ms per loop (mean ± std. dev. of 7 runs, 1 loop each)\n"
     ]
    }
   ],
   "source": [
    "big_array = np.random.randint(1, 100, size=1000000)\n",
    "%timeit compute_reciprocals(big_array)"
   ]
  },
  {
   "cell_type": "code",
   "execution_count": 28,
   "metadata": {},
   "outputs": [
    {
     "name": "stdout",
     "output_type": "stream",
     "text": [
      "3.02 ms ± 215 µs per loop (mean ± std. dev. of 7 runs, 100 loops each)\n"
     ]
    }
   ],
   "source": [
    "%timeit (1.0 / big_array)"
   ]
  },
  {
   "cell_type": "markdown",
   "metadata": {},
   "source": [
    "The appeal of Python is in its simplicity and beauty, as well as the **convenience of the large ecosystem of domain-specific tools** that have been built on top of it.\n",
    "For example, most of the Python code in scientific computing and data science is built around a group of mature and useful packages:\n",
    "\n",
    "- [NumPy](http://numpy.org) provides efficient storage and computation for multi-dimensional data arrays.\n",
    "- [SciPy](http://scipy.org) contains a wide array of numerical tools such as numerical integration and interpolation.\n",
    "- [Pandas](http://pandas.pydata.org) provides a DataFrame object along with a powerful set of methods to manipulate, filter, group, and transform data.\n",
    "- [Matplotlib](http://matplotlib.org) provides a useful interface for creation of publication-quality plots and figures.\n",
    "- [Scikit-Learn](http://scikit-learn.org) provides a uniform toolkit for applying common machine learning algorithms to data.\n",
    "- [IPython/Jupyter](http://jupyter.org) provides an enhanced terminal and an interactive notebook environment that is useful for exploratory analysis, as well as creation of interactive, executable documents. For example, the manuscript for this report was composed entirely in Jupyter notebooks."
   ]
  },
  {
   "cell_type": "code",
   "execution_count": 29,
   "metadata": {},
   "outputs": [],
   "source": [
    "import this"
   ]
  },
  {
   "cell_type": "markdown",
   "metadata": {},
   "source": [
    "### 4. [How to Run Python Code](../WhirlwindTourOfPython-master/01-How-to-Run-Python-Code.ipynb)\n",
    "\n",
    "----------------------"
   ]
  },
  {
   "cell_type": "markdown",
   "metadata": {},
   "source": [
    "#### Jupyter Notebook == IPuthon Notebook 3.X\n",
    "\n",
    "Ju(lia)-py(thon)-ter(end R) \n",
    "\n",
    "[Fernando Pérez](https://en.wikipedia.org/wiki/Fernando_P%C3%A9rez_(software_developer))   began working on **IPython** as a side project in 2001, and is a co-founder of **Project Jupyter**, which evolved from IPython in 2014.\n",
    "\n",
    "Project Jupyter's **operating philosophy:** \n",
    "- to support interactive data science and scientific computing across all programming languages \n",
    "- via the development of open-source software.\n",
    "\n",
    "[Jupyter notebook](https://jupyter-notebook.readthedocs.io/en/latest/notebook.html) extends the console-based approach to interactive computing in a qualitatively new direction, providing a web-based application suitable for capturing the whole computation process: developing, documenting, and executing code, as well as communicating the results. \n",
    "\n",
    "The idea of the notebook is based on **Mathematica notebooks** and **Maple worksheets**. The Mathematica notebooks were created as a front end or GUI in 1988 by Theodore Gray. \n",
    "\n",
    "The Jupyter notebook combines **two components**:\n",
    "- Notebook documents: a representation of all content visible in the web application, including inputs and outputs of the computations, explanatory text, mathematics, images, and rich media representations of objects.\n",
    "\n",
    "- A web application: a browser-based tool for interactive authoring of documents which combine explanatory text, mathematics, computations and their rich media output.\n",
    "\n"
   ]
  },
  {
   "cell_type": "markdown",
   "metadata": {
    "tags": []
   },
   "source": [
    " ### 5. Python Data Model\n",
    " ------------------------\n",
    "* formalizes the interfaces of the building blocks of the language itself, such as sequences, iterators, functions, classes, context managers ...\n",
    "* describes Python as a framework: using ``` len(collection) ``` instead of ``` collection.len() ```\n",
    "* describes the API that can be used to make custom objects play with the most idiomatic language features"
   ]
  },
  {
   "cell_type": "markdown",
   "metadata": {},
   "source": [
    "#### 5.1 Data Types\n",
    "* Common types are built into Python       \n",
    "       – primitive built-in -- integers, floating-point numbers,  strings ... \n",
    "       – built-in data structure -- lists, tuples, dictionary ...\n",
    "* Users also define their own types using classes\n",
    "* Everything in Python is an object – an instance of some class (including lists and functions)"
   ]
  },
  {
   "cell_type": "markdown",
   "metadata": {},
   "source": [
    "#### 5.2 Python is a dynamically and strongly typed language\n",
    "* user doesn’t have to specify a type for a variable \n",
    "* the same variable can be used to store values of different types \n",
    "* at any given time a variable has a definite type"
   ]
  },
  {
   "cell_type": "markdown",
   "metadata": {},
   "source": [
    "#### 5.3 Objects\n",
    "* In Python everything is an object -- every entity has some metadata (*attributes*) and associated functionality (*methods*)\n",
    "* *object* is an entity that contains data along with associated *metadata* and/or functionality\n",
    "* Types are linked not to the variable names but *to the objects themselves*\n",
    " \n",
    "The function ```type()``` can be used to determine the type of an object:"
   ]
  },
  {
   "cell_type": "code",
   "execution_count": 30,
   "metadata": {},
   "outputs": [
    {
     "data": {
      "text/plain": [
       "int"
      ]
     },
     "execution_count": 30,
     "metadata": {},
     "output_type": "execute_result"
    }
   ],
   "source": [
    "type(1)"
   ]
  },
  {
   "cell_type": "code",
   "execution_count": 31,
   "metadata": {},
   "outputs": [
    {
     "data": {
      "text/plain": [
       "str"
      ]
     },
     "execution_count": 31,
     "metadata": {},
     "output_type": "execute_result"
    }
   ],
   "source": [
    "type('a')"
   ]
  },
  {
   "cell_type": "code",
   "execution_count": 32,
   "metadata": {},
   "outputs": [
    {
     "name": "stdout",
     "output_type": "stream",
     "text": [
      "<class 'int'>\n",
      "<class 'str'>\n"
     ]
    }
   ],
   "source": [
    "print(type(1))\n",
    "print(type(\"a\"))"
   ]
  },
  {
   "cell_type": "markdown",
   "metadata": {},
   "source": [
    "### 6. Comments\n",
    "---------------\n",
    "* start with  ``` # ``` (hash character) and extend to the end of the physical line\n",
    "* may appear at the start of a line or following whitespace or code\n",
    "* a hash character within a string literal is just a hash character "
   ]
  },
  {
   "cell_type": "code",
   "execution_count": 33,
   "metadata": {},
   "outputs": [],
   "source": [
    "# This is the first comment\n",
    "spam = 1  # and this is the second comment\n",
    "          # ... and now a third!\n",
    "text = \"# This is not a comment because it's inside quotes.\""
   ]
  },
  {
   "cell_type": "markdown",
   "metadata": {},
   "source": [
    "### Resources for Learning\n",
    "----------------------\n",
    "\n",
    "#### 0. [The Python Tutorial](https://docs.python.org/3/tutorial/index.html)\n",
    "#### 1. Jake VanderPlas\n",
    "[A Whirlwind Tour of Python](https://github.com/jakevdp/WhirlwindTourOfPython/tree/6f1daf714fe52a8dde6a288674ba46a7feed8816)\n",
    "\n",
    "[Python Data Science Handbook](https://github.com/jakevdp/PythonDataScienceHandbook)\n",
    "\n",
    "[Keynote - PyCon 2017](https://www.youtube.com/watch?v=ZyjCqQEUa8o) -> 19:00\n",
    "\n",
    "#### 3. [Resources for Further Learning](https://github.com/jakevdp/WhirlwindTourOfPython/blob/master/16-Further-Resources.ipynb)"
   ]
  },
  {
   "cell_type": "code",
   "execution_count": null,
   "metadata": {},
   "outputs": [],
   "source": []
  }
 ],
 "metadata": {
  "kernelspec": {
   "display_name": "Python 3 (ipykernel)",
   "language": "python",
   "name": "python3"
  },
  "language_info": {
   "codemirror_mode": {
    "name": "ipython",
    "version": 3
   },
   "file_extension": ".py",
   "mimetype": "text/x-python",
   "name": "python",
   "nbconvert_exporter": "python",
   "pygments_lexer": "ipython3",
   "version": "3.9.7"
  }
 },
 "nbformat": 4,
 "nbformat_minor": 4
}
